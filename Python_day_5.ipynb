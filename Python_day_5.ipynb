{
 "cells": [
  {
   "cell_type": "markdown",
   "id": "deb0d70e",
   "metadata": {},
   "source": [
    "# Python loops\n",
    "\n",
    "## Python has two primitive loop commands:\n",
    "\n",
    "### while loops\n",
    "### for loops\n",
    "\n",
    "# While loops\n",
    "\n",
    "in the while loop we can executed a set of statement as long as a condition is true.\n",
    "\n",
    "while loop is usually used whne the number of iterations is unknown.\n",
    "\n",
    "example:\n",
    " "
   ]
  },
  {
   "cell_type": "code",
   "execution_count": null,
   "id": "c22e504c",
   "metadata": {},
   "outputs": [],
   "source": [
    "#print a number 1 to 5\n",
    "i = 1\n",
    "while(i<=5):\n",
    "    print(i)\n",
    "    i+=1\n",
    "    \n",
    "    \n",
    "#The while loop requires relevant variables to be ready, in this example we need to define an indexing variable, i, which we set to 1"
   ]
  },
  {
   "cell_type": "markdown",
   "id": "22b9ddab",
   "metadata": {},
   "source": [
    "# The break Statement\n",
    "With the break statement we can stop the loop even if the while condition is true:"
   ]
  },
  {
   "cell_type": "code",
   "execution_count": 7,
   "id": "d9230a48",
   "metadata": {},
   "outputs": [
    {
     "name": "stdout",
     "output_type": "stream",
     "text": [
      "0\n",
      "1\n",
      "2\n",
      "3\n",
      "4\n",
      "5\n"
     ]
    }
   ],
   "source": [
    "# break the while condition if the while condition is true \n",
    "\n",
    "i = 0\n",
    "while i >= 0:\n",
    "    print(i)\n",
    "    if i == 5:\n",
    "        break\n",
    "    i+=1\n",
    "    \n",
    "# in this break statement if the while condition is true also we have given break in if condition so the while condition will stop break statement is used to stop the while if it is true the if condition is true"
   ]
  },
  {
   "cell_type": "markdown",
   "id": "295f5c82",
   "metadata": {},
   "source": [
    "# The continue Statement\n",
    "With the continue statement we can stop the current iteration, and continue with the next:\n",
    "\n",
    "the continue statement we be continue if the if statement is true it stop when the while condition is false"
   ]
  },
  {
   "cell_type": "code",
   "execution_count": 8,
   "id": "5d2f191f",
   "metadata": {},
   "outputs": [
    {
     "name": "stdout",
     "output_type": "stream",
     "text": [
      "1\n",
      "2\n",
      "4\n",
      "5\n",
      "6\n"
     ]
    }
   ],
   "source": [
    "i = 0\n",
    "while i < 6:\n",
    "  i += 1\n",
    "  if i == 3:\n",
    "    continue\n",
    "  print(i)"
   ]
  },
  {
   "cell_type": "markdown",
   "id": "8e8ae868",
   "metadata": {},
   "source": [
    "\n",
    "# The else Statement\n",
    "With the else statement we can run a block of code once when the condition no longer is true:\n",
    "\n",
    "the else statement is print when the while condition is false."
   ]
  },
  {
   "cell_type": "code",
   "execution_count": 9,
   "id": "e6623e06",
   "metadata": {},
   "outputs": [
    {
     "name": "stdout",
     "output_type": "stream",
     "text": [
      "1\n",
      "2\n",
      "3\n",
      "4\n",
      "5\n",
      "i is no longer less than 6\n"
     ]
    }
   ],
   "source": [
    "i = 1\n",
    "while i < 6:\n",
    "  print(i)\n",
    "  i += 1\n",
    "else:\n",
    "  print(\"i is no longer less than 6\")"
   ]
  },
  {
   "cell_type": "code",
   "execution_count": 2,
   "id": "809a7dc4",
   "metadata": {},
   "outputs": [
    {
     "name": "stdout",
     "output_type": "stream",
     "text": [
      "10 , 20 , 30 , 40 , 50 , 60 , 70 , 80 , 90 , 100 , 110 , 120 , 130 , 140 , 150 , 160 , 170 , 180 , 190 , 200 , "
     ]
    }
   ],
   "source": [
    "#write a loop statement to print the following series 10 ,20,.....200:\n",
    "i = 10\n",
    "while (i <= 200):\n",
    "    print(i, end = \" , \")\n",
    "    i+=10"
   ]
  },
  {
   "cell_type": "code",
   "execution_count": 3,
   "id": "fae05f57",
   "metadata": {},
   "outputs": [
    {
     "name": "stdout",
     "output_type": "stream",
     "text": [
      "10 , 9 , 8 , 7 , 6 , 5 , 4 , 3 , 2 , 1 , "
     ]
    }
   ],
   "source": [
    "#write a program to print first 10 natural numbers in reverse order\n",
    "i = 10\n",
    "while(i>0):\n",
    "    print(i, end = \" , \")\n",
    "    i-=1"
   ]
  },
  {
   "cell_type": "code",
   "execution_count": 7,
   "id": "c6709db5",
   "metadata": {},
   "outputs": [
    {
     "name": "stdout",
     "output_type": "stream",
     "text": [
      "120\n",
      "5040\n"
     ]
    }
   ],
   "source": [
    "#write a program to find the factorial of a number\n",
    "i = 5\n",
    "fact = 1\n",
    "while(i>0):#first the condition will check\n",
    "    fact*=i#fact = 1 fact multiply by i = 5 then go through increment i = 4 angain checking condition if true means fact 5*5 will run aging loop the loop will stop when i is lesser then 5\n",
    "    i-=1\n",
    "print(fact)\n",
    "\n",
    "j = 7\n",
    "fat = 1\n",
    "while(j>0):\n",
    "    fat*=j\n",
    "    j-=1\n",
    "print(fat)\n"
   ]
  },
  {
   "cell_type": "code",
   "execution_count": 5,
   "id": "6ab3e0a8",
   "metadata": {},
   "outputs": [
    {
     "name": "stdout",
     "output_type": "stream",
     "text": [
      "Type any name or  'exit' to exit from loop :elango\n",
      "elango\n",
      "Type any name or 'exit' to exit from loopharish\n",
      "harish\n",
      "Type any name or 'exit' to exit from loopsheyam\n",
      "sheyam\n",
      "Type any name or 'exit' to exit from loopexit\n",
      "you exit from loop\n"
     ]
    }
   ],
   "source": [
    "name = input(\"Type any name or  'exit' to exit from loop :\")\n",
    "while name != \"exit\":\n",
    "    print(name)\n",
    "    name = input(\"Type any name or 'exit' to exit from loop : \")\n",
    "print(\"you exit from loop\")\n",
    "    "
   ]
  },
  {
   "cell_type": "code",
   "execution_count": 10,
   "id": "0ae57a28",
   "metadata": {},
   "outputs": [
    {
     "name": "stdout",
     "output_type": "stream",
     "text": [
      "enter 0 is quit from loop: 5\n",
      "enter 0 is quit from loop: 8\n",
      "enter 0 is quit from loop: 9\n",
      "enter 0 is quit from loop: 12\n",
      "enter 0 is quit from loop: -32\n",
      "enter 0 is quit from loop: -78\n",
      "enter 0 is quit from loop: 100\n",
      "enter 0 is quit from loop: 0\n",
      "the total is : 24\n"
     ]
    }
   ],
   "source": [
    "total = 0\n",
    "number = int(input(\"enter 0 is quit from loop: \"))\n",
    "while number!=0:\n",
    "    total+=number\n",
    "    number = int(input(\"enter 0 is quit from loop: \"))\n",
    "print(\"the total is :\" ,total)\n",
    "    "
   ]
  },
  {
   "cell_type": "markdown",
   "id": "849d91d3",
   "metadata": {},
   "source": [
    "# Nested while loop\n",
    " the structure of while loop is \n",
    " \n",
    "   while____:\n",
    "   \n",
    "       while____:\n",
    "       \n",
    "       while____:\n",
    "       \n",
    "while inside while is called while loop\n",
    "\n",
    "if the first while condition is true only this will go to nested while then will only nested while will be run if the first while is false then the inside while will not run"
   ]
  },
  {
   "cell_type": "code",
   "execution_count": 1,
   "id": "289f927a",
   "metadata": {},
   "outputs": [
    {
     "name": "stdout",
     "output_type": "stream",
     "text": [
      "elango\n",
      "elango\n",
      "elango\n",
      "elango\n",
      "elango\n",
      "elango\n",
      "elango\n",
      "elango\n",
      "elango\n",
      "elango\n",
      "elango\n",
      "elango\n",
      "elango\n",
      "elango\n",
      "elango\n"
     ]
    }
   ],
   "source": [
    "i = 0\n",
    "while i < 5:\n",
    "    a = 0\n",
    "    while a < 3:\n",
    "        print(\"elango\")\n",
    "        a+=1\n",
    "    i+=1\n",
    "    "
   ]
  },
  {
   "cell_type": "code",
   "execution_count": 2,
   "id": "b7e1eed1",
   "metadata": {},
   "outputs": [
    {
     "name": "stdout",
     "output_type": "stream",
     "text": [
      "Elango harish harish harish harish harish harish harish \n",
      "Elango harish harish harish harish harish harish harish \n",
      "Elango harish harish harish harish harish harish harish \n",
      "Elango harish harish harish harish harish harish harish \n",
      "Elango harish harish harish harish harish harish harish \n",
      "Elango harish harish harish harish harish harish harish \n",
      "Elango harish harish harish harish harish harish harish \n"
     ]
    }
   ],
   "source": [
    "i = 0 \n",
    "while i <= 6:\n",
    "    print(\"Elango \" , end=\"\")\n",
    "    j = 0\n",
    "    while j <= 6:\n",
    "        print(\"harish \" , end=\"\")\n",
    "        j+=1\n",
    "    i+=1\n",
    "    print()"
   ]
  },
  {
   "cell_type": "code",
   "execution_count": 3,
   "id": "8ee67379",
   "metadata": {},
   "outputs": [
    {
     "name": "stdout",
     "output_type": "stream",
     "text": [
      "enter number row 15\n",
      "*\n",
      "**\n",
      "***\n",
      "****\n",
      "*****\n",
      "******\n",
      "*******\n",
      "********\n",
      "*********\n",
      "**********\n",
      "***********\n",
      "************\n",
      "*************\n",
      "**************\n",
      "***************\n"
     ]
    }
   ],
   "source": [
    " num = int(input(\"enter number row \"))\n",
    "row = 0 \n",
    "\n",
    "while row<num:\n",
    "    star = row+1\n",
    "    while star>0:\n",
    "        print(\"*\",end=\"\")\n",
    "        star-=1\n",
    "    row+=1\n",
    "    print()"
   ]
  },
  {
   "cell_type": "markdown",
   "id": "0538d5ab",
   "metadata": {},
   "source": [
    "# for loops\n",
    "## Python For Loops\n",
    "A for loop is used for iterating over a sequence (that is either a list, a tuple, a dictionary, a set, or a string).\n",
    "\n",
    "This is less like the for keyword in other programming languages, and works more like an iterator method as found in other object-orientated programming languages.\n",
    "\n",
    "With the for loop we can execute a set of statements, once for each item in a list, tuple, set etc."
   ]
  },
  {
   "cell_type": "code",
   "execution_count": 4,
   "id": "ede4f79d",
   "metadata": {},
   "outputs": [
    {
     "name": "stdout",
     "output_type": "stream",
     "text": [
      "a\n",
      "p\n",
      "p\n",
      "l\n",
      "e\n"
     ]
    }
   ],
   "source": [
    "for x in \"apple\":\n",
    "    print(x)"
   ]
  },
  {
   "cell_type": "markdown",
   "id": "da08b754",
   "metadata": {},
   "source": [
    "# The break Statement\n",
    "With the break statement we can stop the loop before it has looped through all the items:"
   ]
  },
  {
   "cell_type": "code",
   "execution_count": 37,
   "id": "99f12b26",
   "metadata": {},
   "outputs": [
    {
     "name": "stdout",
     "output_type": "stream",
     "text": [
      "apple\n",
      "banana\n",
      "apple\n"
     ]
    }
   ],
   "source": [
    "#Exit the loop when x is \"banana\":\n",
    "fruits = [\"apple\", \"banana\", \"cherry\"]\n",
    "for x in fruits:\n",
    "  print(x)\n",
    "  if x == \"banana\":\n",
    "    break\n",
    "    \n",
    "#Exit the loop when x is \"banana\", but this time the break comes before the print:\n",
    "\n",
    "fruits = [\"apple\", \"banana\", \"cherry\"]\n",
    "for x in fruits:\n",
    "  if x == \"banana\":\n",
    "    break\n",
    "  print(x)"
   ]
  },
  {
   "cell_type": "markdown",
   "id": "e3506af5",
   "metadata": {},
   "source": [
    "# The continue Statement\n",
    "With the continue statement we can stop the current iteration of the loop, and continue with the next:"
   ]
  },
  {
   "cell_type": "code",
   "execution_count": 39,
   "id": "9164f0d8",
   "metadata": {},
   "outputs": [
    {
     "name": "stdout",
     "output_type": "stream",
     "text": [
      "apple\n",
      "cherry\n"
     ]
    }
   ],
   "source": [
    "#do not print banana\n",
    "fruits = [\"apple\", \"banana\", \"cherry\"]\n",
    "for x in fruits:\n",
    "  if x == \"banana\":\n",
    "    continue\n",
    "  print(x)"
   ]
  },
  {
   "cell_type": "markdown",
   "id": "76aa9afb",
   "metadata": {},
   "source": [
    "# The range() Function\n",
    "To loop through a set of code a specified number of times, we can use the range() function,\n",
    "The range() function returns a sequence of numbers, starting from 0 by default, and increments by 1 (by default), and ends at a specified number."
   ]
  },
  {
   "cell_type": "code",
   "execution_count": 40,
   "id": "f8fcd7b4",
   "metadata": {},
   "outputs": [
    {
     "name": "stdout",
     "output_type": "stream",
     "text": [
      "0\n",
      "1\n",
      "2\n",
      "3\n",
      "4\n",
      "5\n",
      "1\n",
      "2\n",
      "3\n",
      "4\n",
      "5\n",
      "6\n",
      "7\n",
      "8\n",
      "9\n",
      "10\n",
      "11\n",
      "12\n",
      "13\n",
      "14\n",
      "15\n",
      "16\n",
      "17\n",
      "18\n",
      "19\n",
      "1\n",
      "3\n",
      "5\n",
      "7\n",
      "9\n",
      "11\n",
      "13\n",
      "15\n",
      "17\n",
      "19\n"
     ]
    }
   ],
   "source": [
    "#initial range\n",
    "for x in range(6):\n",
    "   print(x) #this will print  0 to 6\n",
    "\n",
    "#giving initial and final range    \n",
    "for y in range(1,20):\n",
    "     print(y)#this will print 1 to 19\n",
    "\n",
    "#increment the range by 2 \n",
    "for z in range(1,20,2):\n",
    "    print(z)# this will print increment by 2"
   ]
  },
  {
   "cell_type": "markdown",
   "id": "981c3d66",
   "metadata": {},
   "source": [
    "# Else in For Loop\n",
    "The else keyword in a for loop specifies a block of code to be executed when the loop is finished:"
   ]
  },
  {
   "cell_type": "code",
   "execution_count": 42,
   "id": "58b51dbc",
   "metadata": {},
   "outputs": [
    {
     "name": "stdout",
     "output_type": "stream",
     "text": [
      "0\n",
      "1\n",
      "2\n",
      "3\n",
      "4\n",
      "5\n",
      "Finally finished!\n",
      "0\n",
      "1\n",
      "2\n"
     ]
    }
   ],
   "source": [
    "for x in range(6):\n",
    "  print(x)\n",
    "else:\n",
    "  print(\"Finally finished!\")\n",
    "\n",
    "#the else block will Not be executed if the loop is stopped by a break statement\n",
    "\n",
    "\n",
    "for x in range(6):\n",
    "  if x == 3: break\n",
    "  print(x)\n",
    "else:\n",
    "  print(\"Finally finished!\")"
   ]
  },
  {
   "cell_type": "markdown",
   "id": "d72d3e95",
   "metadata": {},
   "source": [
    "# Nested Loops\n",
    "A nested loop is a loop inside a loop.\n",
    "\n",
    "The \"inner loop\" will be executed one time for each iteration of the \"outer loop\":"
   ]
  },
  {
   "cell_type": "code",
   "execution_count": 45,
   "id": "23ebbc5c",
   "metadata": {},
   "outputs": [
    {
     "name": "stdout",
     "output_type": "stream",
     "text": [
      "red apple\n",
      "red banana\n",
      "red cherry\n",
      "big apple\n",
      "big banana\n",
      "big cherry\n",
      "tasty apple\n",
      "tasty banana\n",
      "tasty cherry\n",
      "e H\n",
      "e a\n",
      "e r\n",
      "e i\n",
      "e s\n",
      "e h\n",
      "l H\n",
      "l a\n",
      "l r\n",
      "l i\n",
      "l s\n",
      "l h\n",
      "a H\n",
      "a a\n",
      "a r\n",
      "a i\n",
      "a s\n",
      "a h\n",
      "n H\n",
      "n a\n",
      "n r\n",
      "n i\n",
      "n s\n",
      "n h\n",
      "g H\n",
      "g a\n",
      "g r\n",
      "g i\n",
      "g s\n",
      "g h\n",
      "o H\n",
      "o a\n",
      "o r\n",
      "o i\n",
      "o s\n",
      "o h\n"
     ]
    }
   ],
   "source": [
    "adj = [\"red\", \"big\", \"tasty\"]\n",
    "fruits = [\"apple\", \"banana\", \"cherry\"]\n",
    "\n",
    "for x in adj:\n",
    "  for y in fruits:\n",
    "    print(x, y)\n",
    "    \n",
    "\n",
    "\n",
    "for x in \"elango\":\n",
    "    for y in \"Harish\":\n",
    "        print(x,y)"
   ]
  },
  {
   "cell_type": "markdown",
   "id": "0da66444",
   "metadata": {},
   "source": [
    "# The pass Statement\n",
    "for loops cannot be empty, but if you for some reason have a for loop with no content, put in the pass statement to avoid getting an error.\n",
    "\n"
   ]
  },
  {
   "cell_type": "code",
   "execution_count": 48,
   "id": "888c5e57",
   "metadata": {},
   "outputs": [
    {
     "ename": "SyntaxError",
     "evalue": "unexpected EOF while parsing (<ipython-input-48-f228878cbf1b>, line 4)",
     "output_type": "error",
     "traceback": [
      "\u001b[1;36m  File \u001b[1;32m\"<ipython-input-48-f228878cbf1b>\"\u001b[1;36m, line \u001b[1;32m4\u001b[0m\n\u001b[1;33m    for x in \"elango\":\u001b[0m\n\u001b[1;37m                      ^\u001b[0m\n\u001b[1;31mSyntaxError\u001b[0m\u001b[1;31m:\u001b[0m unexpected EOF while parsing\n"
     ]
    }
   ],
   "source": [
    "for x in [0, 1, 2]:\n",
    "  pass\n",
    "\n",
    "for x in \"elango\":"
   ]
  },
  {
   "cell_type": "code",
   "execution_count": 46,
   "id": "503e6ca5",
   "metadata": {},
   "outputs": [
    {
     "name": "stdout",
     "output_type": "stream",
     "text": [
      "1 x2= 2\n",
      "2 x2= 4\n",
      "3 x2= 6\n",
      "4 x2= 8\n",
      "5 x2= 10\n",
      "6 x2= 12\n",
      "7 x2= 14\n",
      "8 x2= 16\n",
      "9 x2= 18\n",
      "10 x2= 20\n"
     ]
    }
   ],
   "source": [
    "for i in range(1,11):\n",
    "    print(i , \"x2=\" , i * 2)\n",
    "   "
   ]
  },
  {
   "cell_type": "code",
   "execution_count": 15,
   "id": "e1c79d20",
   "metadata": {},
   "outputs": [
    {
     "name": "stdout",
     "output_type": "stream",
     "text": [
      "enter a: 8\n",
      "enter b: 15\n",
      "9\n",
      "10\n",
      "11\n",
      "12\n",
      "13\n",
      "14\n"
     ]
    }
   ],
   "source": [
    "a = int(input(\"enter a: \"))\n",
    "b = int(input(\"enter b: \"))\n",
    "for x in range(a + 1,b):\n",
    "    print(x)"
   ]
  },
  {
   "cell_type": "code",
   "execution_count": 21,
   "id": "e8eefe0b",
   "metadata": {},
   "outputs": [
    {
     "name": "stdout",
     "output_type": "stream",
     "text": [
      "2\n",
      "4\n",
      "6\n",
      "8\n",
      "10\n"
     ]
    }
   ],
   "source": [
    "# printing even numbers\n",
    "for x in range(1,11):\n",
    "    if x % 2 == 0:\n",
    "        print(x)"
   ]
  },
  {
   "cell_type": "code",
   "execution_count": 29,
   "id": "44ca1763",
   "metadata": {},
   "outputs": [
    {
     "name": "stdout",
     "output_type": "stream",
     "text": [
      "5\n",
      "5\n"
     ]
    }
   ],
   "source": [
    "# printing how many even numbers between 1 to 10\n",
    "count=0\n",
    "for x in range(1,11):\n",
    "    if x%2==0:\n",
    "        count+=1\n",
    "print(count)\n",
    "\n",
    "#printing how many odd numbers between 1 to 10\n",
    "cont=0\n",
    "for x in range(1,11):\n",
    "    if x%2!=0:\n",
    "        cont+=1\n",
    "print(cont)\n",
    "    "
   ]
  },
  {
   "cell_type": "code",
   "execution_count": 31,
   "id": "3c9c4765",
   "metadata": {},
   "outputs": [
    {
     "name": "stdout",
     "output_type": "stream",
     "text": [
      "5\n",
      "5\n"
     ]
    }
   ],
   "source": [
    "#print how even and odd numbers between 1 to 10\n",
    "e_count = 0\n",
    "o_count = 0\n",
    "for x in range(1,11):\n",
    "    if x%2==0 :\n",
    "        e_count+=1\n",
    "    if x%2!=0 :\n",
    "        o_count+=1\n",
    "        \n",
    "print(e_count)\n",
    "print(o_count)"
   ]
  },
  {
   "cell_type": "code",
   "execution_count": 35,
   "id": "017e1d61",
   "metadata": {},
   "outputs": [
    {
     "name": "stdout",
     "output_type": "stream",
     "text": [
      "no. of count is divisible by 3 and 5:  6\n",
      "no. of count is not divisible :  94\n"
     ]
    }
   ],
   "source": [
    "#count the number which are divisible by 3 and 5 range 1 - 100\n",
    "count = 0\n",
    "nodiv = 0\n",
    "for x in range(1,101):\n",
    "    if (x%3==0 and x%5==0):\n",
    "        count+=1\n",
    "    else:\n",
    "        nodiv+=1\n",
    "        \n",
    "\n",
    "print(\"no. of count is divisible by 3 and 5: \",count)\n",
    "print(\"no. of count is not divisible : \",nodiv)"
   ]
  },
  {
   "cell_type": "code",
   "execution_count": 49,
   "id": "58d51234",
   "metadata": {},
   "outputs": [
    {
     "name": "stdout",
     "output_type": "stream",
     "text": [
      "15\n"
     ]
    }
   ],
   "source": [
    "#write a program to compute the sum of the first 5 natural numbers\n",
    "sum = 0\n",
    "for x in range(1,6):\n",
    "    sum+=x\n",
    "print(sum)"
   ]
  },
  {
   "cell_type": "code",
   "execution_count": 5,
   "id": "8f1518be",
   "metadata": {},
   "outputs": [
    {
     "name": "stdout",
     "output_type": "stream",
     "text": [
      "enter num 045\n",
      "enter num 168\n",
      "enter num 278\n",
      "enter num 366\n",
      "enter num 498\n",
      "enter num 545\n",
      "enter num 634\n",
      "enter num 734\n",
      "enter num 823\n",
      "enter num 946\n",
      "[45, 68, 78, 66, 98, 45, 34, 34, 23, 46]\n",
      "537\n"
     ]
    }
   ],
   "source": [
    "# write a program to read 10 number from the keyword and find their sum and average.\n",
    "a=[]\n",
    "\n",
    "for x in range(10):\n",
    "    num=int(input(\"enter num \" + str(x)))\n",
    "    a.append(num)\n",
    "\n",
    "print(a)\n",
    "\n",
    "sum = 0\n",
    "for x in a:\n",
    "    sum+=x\n",
    "  \n",
    "print(sum)\n",
    "    "
   ]
  },
  {
   "cell_type": "code",
   "execution_count": 1,
   "id": "bff3b091",
   "metadata": {},
   "outputs": [
    {
     "name": "stdout",
     "output_type": "stream",
     "text": [
      "enter the n natural numbers :8\n",
      "36\n"
     ]
    }
   ],
   "source": [
    "#write a program to display n terms of natural numbers and their sum \n",
    "a = int(input(\"enter the n natural numbers :\"))\n",
    "for x in range(1,a):\n",
    "    a+=x\n",
    "print(a)"
   ]
  },
  {
   "cell_type": "code",
   "execution_count": 2,
   "id": "b779eccf",
   "metadata": {},
   "outputs": [
    {
     "name": "stdout",
     "output_type": "stream",
     "text": [
      "1\n",
      "2\n",
      "3\n",
      "4\n",
      "5\n",
      "6\n",
      "7\n"
     ]
    }
   ],
   "source": [
    "# the first 7 natural number is\n",
    "for x in range(1,8):\n",
    "    print(x)"
   ]
  },
  {
   "cell_type": "code",
   "execution_count": 13,
   "id": "1ef9f4fc",
   "metadata": {},
   "outputs": [
    {
     "name": "stdout",
     "output_type": "stream",
     "text": [
      "enter num 8\n",
      "the cude of 1 is  1\n",
      "the cude of 2 is  8\n",
      "the cude of 3 is  27\n",
      "the cude of 4 is  64\n",
      "the cude of 5 is  125\n",
      "the cude of 6 is  216\n",
      "the cude of 7 is  343\n"
     ]
    }
   ],
   "source": [
    "#write a porgram to display the cube of the number up to an interger.\n",
    "a =int(input(\"enter num \" ))\n",
    "\n",
    "for x in range(1,a):\n",
    "        print(f\"the cude of {x} is \", x*x*x)\n",
    "    \n",
    "\n",
    "   \n",
    "\n",
    "\n"
   ]
  },
  {
   "cell_type": "code",
   "execution_count": 16,
   "id": "5b13d18b",
   "metadata": {},
   "outputs": [
    {
     "name": "stdout",
     "output_type": "stream",
     "text": [
      "week:  1\n",
      "day : 1\n",
      "day : 2\n",
      "day : 3\n",
      "week:  2\n",
      "day : 1\n",
      "day : 2\n",
      "day : 3\n"
     ]
    }
   ],
   "source": [
    "for x in range(1,3):\n",
    "    print(\"week: \", x)\n",
    "    for y in range(1,4):\n",
    "        print(\"day :\", y)"
   ]
  },
  {
   "cell_type": "code",
   "execution_count": 22,
   "id": "3935a99d",
   "metadata": {},
   "outputs": [
    {
     "name": "stdout",
     "output_type": "stream",
     "text": [
      "\n",
      "1\n",
      "12\n",
      "123\n",
      "1234"
     ]
    }
   ],
   "source": [
    "for x in range(1,5):\n",
    "    print()\n",
    "    for y in range(1,x+1):\n",
    "        print(y,   end=\"\")"
   ]
  },
  {
   "cell_type": "code",
   "execution_count": null,
   "id": "6a300176",
   "metadata": {},
   "outputs": [],
   "source": []
  }
 ],
 "metadata": {
  "kernelspec": {
   "display_name": "Python 3",
   "language": "python",
   "name": "python3"
  },
  "language_info": {
   "codemirror_mode": {
    "name": "ipython",
    "version": 3
   },
   "file_extension": ".py",
   "mimetype": "text/x-python",
   "name": "python",
   "nbconvert_exporter": "python",
   "pygments_lexer": "ipython3",
   "version": "3.8.8"
  }
 },
 "nbformat": 4,
 "nbformat_minor": 5
}
