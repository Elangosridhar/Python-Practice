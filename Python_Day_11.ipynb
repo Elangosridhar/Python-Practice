{
 "cells": [
  {
   "cell_type": "markdown",
   "id": "fa50392a",
   "metadata": {},
   "source": [
    "# Day_11\n",
    "\n",
    "# Numpy Array Reshaping\n",
    "\n",
    "# Reshaping arrays\n",
    "\n",
    "Reshaping means changing the shape of an array>\n",
    "\n",
    "the shape of an array is the nuber of elements in each dimension.\n",
    "\n",
    "By reshaping we can add or remove dimenisons or change number of elements in each dimension\n",
    "\n",
    "# Reshape from 1-D to 2-D"
   ]
  },
  {
   "cell_type": "code",
   "execution_count": 1,
   "id": "112acb07",
   "metadata": {},
   "outputs": [
    {
     "name": "stdout",
     "output_type": "stream",
     "text": [
      "[[ 1  2  3]\n",
      " [ 4  5  6]\n",
      " [ 7  8  9]\n",
      " [10 11 12]]\n"
     ]
    }
   ],
   "source": [
    "#converting the following 1-D array with 12 element into a 2-D array.\n",
    "# The outermost dimension will have 4 arrays each with 3 elements.\n",
    "\n",
    "import numpy as np\n",
    "\n",
    "arr = np.array([1,2,3,4,5,6,7,8,9,10,11,12])\n",
    "\n",
    "print(arr.reshape(4,3))"
   ]
  },
  {
   "cell_type": "markdown",
   "id": "efc61e7b",
   "metadata": {},
   "source": [
    "# Reshape form 1-D to 3-D\n"
   ]
  },
  {
   "cell_type": "code",
   "execution_count": 2,
   "id": "fc5de632",
   "metadata": {},
   "outputs": [
    {
     "name": "stdout",
     "output_type": "stream",
     "text": [
      "[[[ 1  2  3]\n",
      "  [ 4  5  6]\n",
      "  [ 7  8  9]\n",
      "  [10 11 12]]\n",
      "\n",
      " [[13 14 15]\n",
      "  [16 17 18]\n",
      "  [19 20 21]\n",
      "  [22 23 24]]]\n"
     ]
    }
   ],
   "source": [
    "# Reshape from 1-D to 3-D\n",
    "\n",
    "import numpy as np\n",
    "\n",
    "arr = np.array([1,2,3,4,5,6,7,8,9,10,11,12,13,14,15,16,17,18,19,20,21,22,23,24])\n",
    "\n",
    "x = arr.reshape(2,4,3)\n",
    "\n",
    "print(x)"
   ]
  },
  {
   "cell_type": "markdown",
   "id": "b714411e",
   "metadata": {},
   "source": [
    "# can we reshape into any shape?\n",
    "\n",
    "yes,as long as the elements required for reshaping are equal in both shapes.\n",
    "\n",
    "We can reshape an 8 elements 1D array into 4 elements in 2 rows 2D array but we cannot reshape it into a 3 elements 3 rows 2D array as that would require 3 X 3=9 elements."
   ]
  },
  {
   "cell_type": "code",
   "execution_count": 5,
   "id": "976d0139",
   "metadata": {},
   "outputs": [
    {
     "name": "stdout",
     "output_type": "stream",
     "text": [
      "[[1 2]\n",
      " [3 4]\n",
      " [5 6]\n",
      " [7 8]]\n"
     ]
    }
   ],
   "source": [
    "import numpy as np \n",
    "\n",
    "arr = np.array([1,2,3,4,5,6,7,8])\n",
    "\n",
    "#x = arr.reshape(3,3) # it will raise an error \n",
    "\n",
    "y = arr.reshape(4,2)\n",
    "\n",
    "#print(x)\n",
    "print(y)"
   ]
  },
  {
   "cell_type": "markdown",
   "id": "885abe44",
   "metadata": {},
   "source": [
    "# Return copy or view\n"
   ]
  },
  {
   "cell_type": "code",
   "execution_count": 7,
   "id": "d5a17606",
   "metadata": {},
   "outputs": [
    {
     "name": "stdout",
     "output_type": "stream",
     "text": [
      "[1 2 3 4 5 6 7 8]\n"
     ]
    }
   ],
   "source": [
    "\n",
    "import numpy as np\n",
    "\n",
    "arr = np.array([1,2,3,4,5,6,7,8])\n",
    "\n",
    "print(arr.reshape(2,4).base)\n",
    "\n",
    "# it return original array so it is view"
   ]
  },
  {
   "cell_type": "markdown",
   "id": "23fd4f2d",
   "metadata": {},
   "source": [
    "# Unknown Dimension\n",
    "\n",
    "you are allowed to have one \"unknow\" dimension.\n",
    "\n",
    "Meaning that you do not have to specify an exact number for one of the dimensions in reshape method.\n",
    "\n",
    "Pass -1 as the value and Numpy will calculate this number for you."
   ]
  },
  {
   "cell_type": "code",
   "execution_count": 8,
   "id": "3ef920f1",
   "metadata": {},
   "outputs": [
    {
     "name": "stdout",
     "output_type": "stream",
     "text": [
      "[[[1 2]\n",
      "  [3 4]]\n",
      "\n",
      " [[5 6]\n",
      "  [7 8]]]\n"
     ]
    }
   ],
   "source": [
    "# Convert 1D array with 8 element to 3D array with 2x2 elements:\n",
    "\n",
    "import numpy as np\n",
    "\n",
    "arr = np.array([1,2,3,4,5,6,7,8])\n",
    "\n",
    "x = arr.reshape(2,2,-1)\n",
    "\n",
    "print(x)\n",
    "\n",
    "# we cannot pass -1 to more than one dimension"
   ]
  },
  {
   "cell_type": "markdown",
   "id": "59de0022",
   "metadata": {},
   "source": [
    "# Flattening the arrays\n",
    "\n",
    "Flattening array means converting a multidimensional array into a 1D array.\n",
    "\n",
    "we can use reshape(-1) to do this."
   ]
  },
  {
   "cell_type": "code",
   "execution_count": 10,
   "id": "df513869",
   "metadata": {},
   "outputs": [
    {
     "name": "stdout",
     "output_type": "stream",
     "text": [
      "[[1 2 3]\n",
      " [4 5 6]\n",
      " [7 8 9]]\n",
      "[1 2 3 4 5 6 7 8 9]\n"
     ]
    }
   ],
   "source": [
    "import numpy as np\n",
    "\n",
    "arr = np.array([[1,2,3],[4,5,6],[7,8,9]])\n",
    "\n",
    "\n",
    "print(arr)\n",
    "print(arr.reshape(-1))"
   ]
  },
  {
   "cell_type": "markdown",
   "id": "8b07169c",
   "metadata": {},
   "source": [
    "____ There are a lot of function for changing the shapes of arrays in numpy flatten,ravel and also for rearranging the elements rot90,flip,fliplr,flipud etc.  These fall under Intermediate to Advanced section of numpy ____"
   ]
  },
  {
   "cell_type": "markdown",
   "id": "dc7b607c",
   "metadata": {},
   "source": [
    "# NumPy Array Iterating\n",
    "\n",
    "\n",
    "# iterating Arrays\n",
    "\n",
    "Iterating means going through elements one by one.\n",
    "\n",
    "As we deal with multi-dimenstional arrays in numpy we can do this using basic for loop for python>\n",
    "\n",
    "If we iterate on a 1-d arry  it go through each element one bye one>"
   ]
  },
  {
   "cell_type": "code",
   "execution_count": 18,
   "id": "e808cb65",
   "metadata": {},
   "outputs": [
    {
     "name": "stdout",
     "output_type": "stream",
     "text": [
      "1\n",
      "2\n",
      "3\n",
      "4\n",
      "5\n"
     ]
    }
   ],
   "source": [
    "# Numpy Iterating\n",
    "\n",
    "import numpy as np\n",
    "\n",
    "x = np.array([1,2,3,4,5])\n",
    "\n",
    "for y in x :\n",
    "    \n",
    "    print(y)\n"
   ]
  },
  {
   "cell_type": "markdown",
   "id": "321cfeea",
   "metadata": {},
   "source": [
    "# iterating 2-d arrays\n",
    "\n",
    "In a 2-D array it will go through all the rows."
   ]
  },
  {
   "cell_type": "code",
   "execution_count": 31,
   "id": "0e485abb",
   "metadata": {},
   "outputs": [
    {
     "name": "stdout",
     "output_type": "stream",
     "text": [
      "[1 2 3]\n",
      "[4 5 6]\n"
     ]
    }
   ],
   "source": [
    "# iterate on the element of the following 2-D array\n",
    "\n",
    "import numpy as np\n",
    "\n",
    "arr = np.array([[1,2,3],[4,5,6]])\n",
    "\n",
    "\n",
    "for x in arr:\n",
    "    print(x)"
   ]
  },
  {
   "cell_type": "code",
   "execution_count": 19,
   "id": "2d446336",
   "metadata": {},
   "outputs": [
    {
     "name": "stdout",
     "output_type": "stream",
     "text": [
      "1\n",
      "2\n",
      "3\n",
      "4\n",
      "5\n",
      "6\n",
      "7\n",
      "8\n",
      "9\n",
      "10\n"
     ]
    }
   ],
   "source": [
    "# 2d array iterate on each scalar element of the 2-d array:\n",
    "import numpy as np\n",
    "\n",
    "arr = np.array([[1,2,3,4,5],[6,7,8,9,10]])\n",
    "\n",
    "for x in arr:\n",
    "    for y in x:\n",
    "        print(y)"
   ]
  },
  {
   "cell_type": "code",
   "execution_count": 24,
   "id": "6dd7b150",
   "metadata": {},
   "outputs": [
    {
     "name": "stdout",
     "output_type": "stream",
     "text": [
      "1\n",
      "2\n",
      "3\n",
      "4\n",
      "5\n",
      "6\n",
      "7\n",
      "8\n",
      "9\n",
      "10\n",
      "11\n",
      "12\n",
      "13\n",
      "14\n",
      "15\n",
      "16\n",
      "1\n",
      "2\n",
      "3\n",
      "4\n",
      "5\n",
      "6\n",
      "7\n",
      "8\n",
      "9\n",
      "10\n",
      "11\n",
      "12\n",
      "13\n",
      "14\n",
      "15\n",
      "16\n"
     ]
    }
   ],
   "source": [
    "# 3d \n",
    "\n",
    "import numpy as np\n",
    "\n",
    "arr = np.array([[[1,2,3,4],[5,6,7,8],[9,10,11,12],[13,14,15,16]],[[1,2,3,4],[5,6,7,8],[9,10,11,12],[13,14,15,16]]])\n",
    "\n",
    "for x in arr:\n",
    "    for y in x:\n",
    "        for z in y:\n",
    "            print(z)"
   ]
  },
  {
   "cell_type": "markdown",
   "id": "da7ad551",
   "metadata": {},
   "source": [
    "# Iterating Arrays Using nditer()\n",
    "The function nditer() is a helping function that can be used from very basic to very advanced iterations. It solves some basic issues which we face in iteration, lets go through it with examples.\n",
    "\n",
    "## Iterating on Each Scalar Element\n",
    "In basic for loops, iterating through each scalar of an array we need to use n for loops which can be difficult to write for arrays with very high dimensionality.\n",
    "\n"
   ]
  },
  {
   "cell_type": "code",
   "execution_count": 25,
   "id": "0f5d1b8c",
   "metadata": {},
   "outputs": [
    {
     "name": "stdout",
     "output_type": "stream",
     "text": [
      "1\n",
      "2\n",
      "3\n",
      "4\n",
      "5\n",
      "6\n",
      "7\n",
      "8\n",
      "9\n",
      "10\n",
      "11\n",
      "12\n",
      "13\n",
      "14\n",
      "15\n",
      "16\n"
     ]
    }
   ],
   "source": [
    "# nditer()\n",
    "\n",
    "import numpy as np\n",
    "\n",
    "arr = np.array([[[1,2,3,4],[5,6,7,8],[9,10,11,12],[13,14,15,16]]])\n",
    "\n",
    "for x in np.nditer(arr):\n",
    "    print(x)"
   ]
  },
  {
   "cell_type": "markdown",
   "id": "25bad308",
   "metadata": {},
   "source": [
    "# Iterating Array With Different Data Types\n",
    "We can use op_dtypes argument and pass it the expected datatype to change the datatype of elements while iterating.\n",
    "\n",
    "NumPy does not change the data type of the element in-place (where the element is in array) so it needs some other space to perform this action, that extra space is called buffer, and in order to enable it in nditer() we pass flags=['buffered'].\n",
    "\n"
   ]
  },
  {
   "cell_type": "code",
   "execution_count": 37,
   "id": "0ae78405",
   "metadata": {},
   "outputs": [
    {
     "name": "stdout",
     "output_type": "stream",
     "text": [
      "int32\n",
      "b'1'\n",
      "b'2'\n",
      "b'3'\n",
      "|S11\n"
     ]
    }
   ],
   "source": [
    "import numpy as np\n",
    "\n",
    "arr = np.array([1, 2, 3])\n",
    "print(arr.dtype)\n",
    "for x in np.nditer(arr, flags=['buffered'], op_dtypes=['S']):\n",
    "    print(x)\n",
    "    \n",
    "print(x.dtype)\n"
   ]
  },
  {
   "cell_type": "markdown",
   "id": "d475b444",
   "metadata": {},
   "source": [
    "# iterating with different step size\n",
    "\n",
    "We can use filtering and followed by iteration."
   ]
  },
  {
   "cell_type": "code",
   "execution_count": 38,
   "id": "6b8631b5",
   "metadata": {},
   "outputs": [
    {
     "name": "stdout",
     "output_type": "stream",
     "text": [
      "1\n",
      "3\n",
      "5\n",
      "7\n"
     ]
    }
   ],
   "source": [
    "# Iterate through every scalar element of the 2D array skipping 1 element\n",
    "import numpy as np\n",
    "\n",
    "arr = np.array([[1, 2, 3, 4], [5, 6, 7, 8]])\n",
    "\n",
    "for x in np.nditer(arr[:, ::2]):\n",
    "     print(x)\n"
   ]
  },
  {
   "cell_type": "markdown",
   "id": "bc7080f7",
   "metadata": {},
   "source": [
    "# Enumerated Iteration Using ndenumerate()\n",
    "Enumeration means mentioning sequence number of somethings one by one.\n",
    "\n",
    "Sometimes we require corresponding index of the element while iterating, the ndenumerate() method can be used for those usecases"
   ]
  },
  {
   "cell_type": "code",
   "execution_count": 39,
   "id": "ab2302fb",
   "metadata": {},
   "outputs": [
    {
     "name": "stdout",
     "output_type": "stream",
     "text": [
      "(0,) 1\n",
      "(1,) 2\n",
      "(2,) 3\n"
     ]
    }
   ],
   "source": [
    "# enumerate on following 1d arrays elements:\n",
    "\n",
    "import numpy as np\n",
    "\n",
    "arr = np.array([1, 2, 3])\n",
    "\n",
    "for idx, x in np.ndenumerate(arr):\n",
    "     print(idx, x)"
   ]
  },
  {
   "cell_type": "code",
   "execution_count": 40,
   "id": "3cbc16c7",
   "metadata": {},
   "outputs": [
    {
     "name": "stdout",
     "output_type": "stream",
     "text": [
      "(0, 0) 1\n",
      "(0, 1) 2\n",
      "(0, 2) 3\n",
      "(0, 3) 4\n",
      "(1, 0) 5\n",
      "(1, 1) 6\n",
      "(1, 2) 7\n",
      "(1, 3) 8\n"
     ]
    }
   ],
   "source": [
    "# enumerate on 2-D arrays element\n",
    "\n",
    "import numpy as np\n",
    "\n",
    "arr = np.array([[1, 2, 3, 4], [5, 6, 7, 8]])\n",
    "\n",
    "for idx, x in np.ndenumerate(arr):\n",
    "    print(idx, x)\n",
    "\n"
   ]
  },
  {
   "cell_type": "code",
   "execution_count": 35,
   "id": "31669536",
   "metadata": {},
   "outputs": [
    {
     "name": "stdout",
     "output_type": "stream",
     "text": [
      "(0, 0, 0) 1\n",
      "(0, 0, 1) 2\n",
      "(0, 0, 2) 3\n",
      "(0, 0, 3) 4\n",
      "(0, 1, 0) 5\n",
      "(0, 1, 1) 6\n",
      "(0, 1, 2) 7\n",
      "(0, 1, 3) 8\n",
      "(0, 2, 0) 9\n",
      "(0, 2, 1) 10\n",
      "(0, 2, 2) 11\n",
      "(0, 2, 3) 12\n",
      "(0, 3, 0) 13\n",
      "(0, 3, 1) 14\n",
      "(0, 3, 2) 15\n",
      "(0, 3, 3) 16\n"
     ]
    }
   ],
   "source": [
    "# 3-D array element ndenumerate()\n",
    "\n",
    "import numpy as np\n",
    "\n",
    "arr = np.array([[[1,2,3,4],[5,6,7,8],[9,10,11,12],[13,14,15,16]]])\n",
    "                \n",
    "for idx,x in np.ndenumerate(arr):\n",
    "                print(idx,x)"
   ]
  },
  {
   "cell_type": "markdown",
   "id": "75a3f434",
   "metadata": {},
   "source": [
    "# Numpy joining Array\n",
    "\n",
    "## joining Numpy Arrays\n",
    "\n",
    "joining means putting contents of two or more arrays in a single array.\n",
    "\n",
    "In sql we join tables based on a key, whereas in Numpy we join arrays by axes.\n",
    "\n",
    "we pass a sequence of arrays that we want to join to the ____concatenate()____\n",
    "function along with the axis. If axis is not explicitly passed it is taken as 0."
   ]
  },
  {
   "cell_type": "code",
   "execution_count": 41,
   "id": "26062cc5",
   "metadata": {},
   "outputs": [
    {
     "name": "stdout",
     "output_type": "stream",
     "text": [
      "[1 2 3 4 5 6 7 8]\n"
     ]
    }
   ],
   "source": [
    "import numpy as np\n",
    "\n",
    "arr1 = np.array([1,2,3,4])\n",
    "\n",
    "arr2 = np.array([5,6,7,8])\n",
    "\n",
    "arr = np.concatenate((arr1,arr2))\n",
    "\n",
    "print(arr)"
   ]
  },
  {
   "cell_type": "code",
   "execution_count": 19,
   "id": "6d668bd9",
   "metadata": {},
   "outputs": [
    {
     "name": "stdout",
     "output_type": "stream",
     "text": [
      "[[ 1  2  3  7  8  9]\n",
      " [ 4  5  6 10 11 12]]\n"
     ]
    }
   ],
   "source": [
    "# join two 2-D arrays along rows (axis=1)\n",
    "\n",
    "arr1 = np.array([[1,2,3],[4,5,6]])\n",
    "\n",
    "arr2 = np.array([[7,8,9],[10,11,12]])\n",
    "\n",
    "arr = np.concatenate((arr1,arr2), axis=1)\n",
    "\n",
    "print(arr)"
   ]
  },
  {
   "cell_type": "code",
   "execution_count": 43,
   "id": "c2a181ac",
   "metadata": {},
   "outputs": [
    {
     "name": "stdout",
     "output_type": "stream",
     "text": [
      "[[[1 2 3 1 2 3]\n",
      "  [4 5 6 4 5 6]\n",
      "  [7 8 9 7 8 9]]]\n"
     ]
    }
   ],
   "source": [
    "# 3-D array\n",
    "\n",
    "arr1 = np.array([[[1,2,3],[4,5,6],[7,8,9]]])\n",
    "\n",
    "arr2 = np.array([[[1,2,3],[4,5,6],[7,8,9]]])\n",
    "\n",
    "arr = np.concatenate((arr1,arr2),axis=2)\n",
    "\n",
    "print(arr)"
   ]
  },
  {
   "cell_type": "markdown",
   "id": "2688594a",
   "metadata": {},
   "source": [
    "# joining arrays Using Stack Functions\n",
    "\n",
    "Stacking is same as concatenation, the only difference is that stacking is done along a new axis.\n",
    "\n",
    "We can concatenate two 1-D arrays along the second axis which would result in putting them one over the other,ie. stacking\n",
    "\n",
    "We pass a sequence of arrays that we want to join to the ___stack()___ method along with the axis. if axis is not explicitly it is taken as 0. "
   ]
  },
  {
   "cell_type": "code",
   "execution_count": 21,
   "id": "3302c8c1",
   "metadata": {},
   "outputs": [
    {
     "name": "stdout",
     "output_type": "stream",
     "text": [
      "[[1 2 3 4]\n",
      " [5 6 7 8]]\n"
     ]
    }
   ],
   "source": [
    "import numpy as np\n",
    "\n",
    "arr1 = np.array([1,2,3,4])\n",
    "\n",
    "arr2 = np.array([5,6,7,8])\n",
    "\n",
    "arr = np.stack((arr1,arr2),axis=0)\n",
    "\n",
    "print(arr)"
   ]
  },
  {
   "cell_type": "code",
   "execution_count": 54,
   "id": "30b2a72e",
   "metadata": {},
   "outputs": [
    {
     "name": "stdout",
     "output_type": "stream",
     "text": [
      "[[[[1 2 3]\n",
      "   [4 5 6]\n",
      "   [7 8 9]]\n",
      "\n",
      "  [[1 2 3]\n",
      "   [4 5 6]\n",
      "   [7 8 9]]]]\n"
     ]
    }
   ],
   "source": [
    "import numpy as np\n",
    "\n",
    "arr1 = np.array([[[1,2,3],[4,5,6],[7,8,9]]])\n",
    "\n",
    "arr2 = np.array([[[1,2,3],[4,5,6],[7,8,9]]])\n",
    "\n",
    "arr = np.stack((arr1,arr2),axis=1)\n",
    "\n",
    "print(arr)"
   ]
  },
  {
   "cell_type": "markdown",
   "id": "d25db915",
   "metadata": {},
   "source": [
    "# Stacking Along Rows\n",
    "NumPy provides a helper function: hstack() to stack along rows.\n",
    "\n"
   ]
  },
  {
   "cell_type": "code",
   "execution_count": 48,
   "id": "45d6de3c",
   "metadata": {},
   "outputs": [
    {
     "name": "stdout",
     "output_type": "stream",
     "text": [
      "[1 2 3 4 5 6]\n"
     ]
    }
   ],
   "source": [
    "import numpy as np\n",
    "\n",
    "arr1 = np.array([1, 2, 3])\n",
    "\n",
    "arr2 = np.array([4, 5, 6])\n",
    "\n",
    "arr = np.hstack((arr1, arr2))\n",
    "\n",
    "print(arr)\n"
   ]
  },
  {
   "cell_type": "code",
   "execution_count": 55,
   "id": "abcbec51",
   "metadata": {},
   "outputs": [
    {
     "name": "stdout",
     "output_type": "stream",
     "text": [
      "[[[1 2 3]\n",
      "  [4 5 6]\n",
      "  [7 8 9]\n",
      "  [1 2 3]\n",
      "  [4 5 6]\n",
      "  [7 8 9]]]\n"
     ]
    }
   ],
   "source": [
    "import numpy as np\n",
    "\n",
    "arr1 = np.array([[[1,2,3],[4,5,6],[7,8,9]]])\n",
    "\n",
    "arr2 = np.array([[[1,2,3],[4,5,6],[7,8,9]]])\n",
    "\n",
    "arr = np.hstack((arr1,arr2))\n",
    "\n",
    "print(arr)"
   ]
  },
  {
   "cell_type": "markdown",
   "id": "b42ef740",
   "metadata": {},
   "source": [
    "# Stacking Along Columns\n",
    "NumPy provides a helper function: vstack()  to stack along columns.\n",
    "\n"
   ]
  },
  {
   "cell_type": "code",
   "execution_count": 47,
   "id": "a6ba7dbe",
   "metadata": {},
   "outputs": [
    {
     "name": "stdout",
     "output_type": "stream",
     "text": [
      "[[1 2 3]\n",
      " [4 5 6]]\n"
     ]
    }
   ],
   "source": [
    "import numpy as np\n",
    "\n",
    "arr1 = np.array([1, 2, 3])\n",
    "\n",
    "arr2 = np.array([4, 5, 6])\n",
    "\n",
    "arr = np.vstack((arr1, arr2))\n",
    "\n",
    "print(arr)\n"
   ]
  },
  {
   "cell_type": "code",
   "execution_count": 56,
   "id": "61c1f5e2",
   "metadata": {},
   "outputs": [
    {
     "name": "stdout",
     "output_type": "stream",
     "text": [
      "[[[1 2 3]\n",
      "  [4 5 6]\n",
      "  [7 8 9]]\n",
      "\n",
      " [[1 2 3]\n",
      "  [4 5 6]\n",
      "  [7 8 9]]]\n"
     ]
    }
   ],
   "source": [
    "import numpy as np\n",
    "\n",
    "arr1 = np.array([[[1,2,3],[4,5,6],[7,8,9]]])\n",
    "\n",
    "arr2 = np.array([[[1,2,3],[4,5,6],[7,8,9]]])\n",
    "\n",
    "arr = np.vstack((arr1,arr2))\n",
    "\n",
    "print(arr)"
   ]
  },
  {
   "cell_type": "markdown",
   "id": "f337d597",
   "metadata": {},
   "source": [
    "# Stacking Along Height (depth)\n",
    "NumPy provides a helper function: dstack() to stack along height, which is the same as depth."
   ]
  },
  {
   "cell_type": "code",
   "execution_count": 49,
   "id": "50dfa127",
   "metadata": {},
   "outputs": [
    {
     "name": "stdout",
     "output_type": "stream",
     "text": [
      "[[[1 4]\n",
      "  [2 5]\n",
      "  [3 6]]]\n"
     ]
    }
   ],
   "source": [
    "import numpy as np\n",
    "\n",
    "arr1 = np.array([1, 2, 3])\n",
    "\n",
    "arr2 = np.array([4, 5, 6])\n",
    "\n",
    "arr = np.dstack((arr1, arr2))\n",
    "\n",
    "print(arr)\n"
   ]
  },
  {
   "cell_type": "code",
   "execution_count": 57,
   "id": "b0aba61f",
   "metadata": {},
   "outputs": [
    {
     "name": "stdout",
     "output_type": "stream",
     "text": [
      "[[[1 2 3 1 2 3]\n",
      "  [4 5 6 4 5 6]\n",
      "  [7 8 9 7 8 9]]]\n"
     ]
    }
   ],
   "source": [
    "import numpy as np\n",
    "\n",
    "arr1 = np.array([[[1,2,3],[4,5,6],[7,8,9]]])\n",
    "\n",
    "arr2 = np.array([[[1,2,3],[4,5,6],[7,8,9]]])\n",
    "\n",
    "arr = np.dstack((arr1,arr2))\n",
    "\n",
    "print(arr)"
   ]
  },
  {
   "cell_type": "markdown",
   "id": "479d4535",
   "metadata": {},
   "source": [
    "# Numpy splitting Array\n",
    "\n",
    "## splitting Numpy Arrays\n",
    "\n",
    "Splitting is reverse operation of joining.\n",
    "\n",
    "joining merges multiple array into one and splitting breaks one array into multiple.\n",
    "\n",
    "We use array_split() for splitting arrays we pass it the array we want to split and the number of splits."
   ]
  },
  {
   "cell_type": "code",
   "execution_count": 60,
   "id": "520acdcf",
   "metadata": {},
   "outputs": [
    {
     "name": "stdout",
     "output_type": "stream",
     "text": [
      "[array([1, 2]), array([3, 4]), array([5, 6])]\n"
     ]
    }
   ],
   "source": [
    "# split the array in 3 parts:\n",
    "\n",
    "import numpy as np\n",
    "\n",
    "arr = np.array([1,2,3,4,5,6])\n",
    "\n",
    "x = np.array_split(arr,3)\n",
    "\n",
    "print(x)"
   ]
  },
  {
   "cell_type": "code",
   "execution_count": 62,
   "id": "fe82ecab",
   "metadata": {},
   "outputs": [
    {
     "name": "stdout",
     "output_type": "stream",
     "text": [
      "[1]\n",
      "[2]\n",
      "[3]\n",
      "[4]\n",
      "[5]\n",
      "[6]\n",
      "[]\n",
      "[]\n"
     ]
    }
   ],
   "source": [
    "import numpy as np\n",
    "\n",
    "arr = np.array([1,2,3,4,5,6])\n",
    "\n",
    "x = np.array_split(arr,8)\n",
    "\n",
    "print(x[0])\n",
    "print(x[1])\n",
    "print(x[2])\n",
    "print(x[3])\n",
    "print(x[4])\n",
    "print(x[5])\n",
    "print(x[6])\n",
    "print(x[7])"
   ]
  },
  {
   "cell_type": "markdown",
   "id": "429171e1",
   "metadata": {},
   "source": [
    "____ if the array has less elements than required it will adjust from the end accordingly____"
   ]
  },
  {
   "cell_type": "code",
   "execution_count": 64,
   "id": "403a176d",
   "metadata": {},
   "outputs": [
    {
     "name": "stdout",
     "output_type": "stream",
     "text": [
      "[array([1, 2]), array([3]), array([4]), array([5]), array([6])]\n"
     ]
    }
   ],
   "source": [
    "# split the array in 4 parts:\n",
    "\n",
    "import numpy as np\n",
    "\n",
    "arr = np.array([1,2,3,4,5,6])\n",
    "\n",
    "print(np.array_split(arr,5))"
   ]
  },
  {
   "cell_type": "markdown",
   "id": "f5296be0",
   "metadata": {},
   "source": [
    "# Split Into Arrays\n",
    "The return value of the array_split() method is an array containing each of the split as an array.\n",
    "\n",
    "If you split an array into 3 arrays, you can access them from the result just like any array element:\n",
    "\n"
   ]
  },
  {
   "cell_type": "code",
   "execution_count": 65,
   "id": "83a3ea60",
   "metadata": {},
   "outputs": [
    {
     "name": "stdout",
     "output_type": "stream",
     "text": [
      "[1 2]\n",
      "[3 4]\n",
      "[5 6]\n"
     ]
    }
   ],
   "source": [
    "# Access the splitted arrays\n",
    "import numpy as np\n",
    "\n",
    "arr = np.array([1,2,3,4,5,6])\n",
    "\n",
    "x = np.array_split(arr,3)\n",
    "\n",
    "print(x[0])\n",
    "print(x[1])\n",
    "print(x[2])\n",
    "\n"
   ]
  },
  {
   "cell_type": "markdown",
   "id": "4aafe35b",
   "metadata": {},
   "source": [
    "# splitting 2-D Arrays \n",
    "\n",
    "\n",
    "Use the same syntax when splitting 2-D arrays.\n",
    "\n",
    "Use the array_split() method, pass in the array you want to split and the number of splits you want to do."
   ]
  },
  {
   "cell_type": "code",
   "execution_count": 67,
   "id": "7780343d",
   "metadata": {},
   "outputs": [
    {
     "name": "stdout",
     "output_type": "stream",
     "text": [
      "[array([[1, 2],\n",
      "       [3, 4]]), array([[5, 6],\n",
      "       [7, 8]]), array([[ 9, 10],\n",
      "       [11, 12]])]\n",
      "[[1 2]\n",
      " [3 4]]\n"
     ]
    }
   ],
   "source": [
    "# split the 2-D array into three 2-D arrays.\n",
    "\n",
    "import numpy as np\n",
    "\n",
    "arr = np.array([[1, 2], [3, 4], [5, 6], [7, 8], [9, 10], [11, 12]])\n",
    "\n",
    "x = np.array_split(arr,3)\n",
    "\n",
    "print(x)\n",
    "#print(x[0])"
   ]
  },
  {
   "cell_type": "code",
   "execution_count": 68,
   "id": "bc544d29",
   "metadata": {},
   "outputs": [
    {
     "name": "stdout",
     "output_type": "stream",
     "text": [
      "[array([[1, 2, 3],\n",
      "       [4, 5, 6]]), array([[ 7,  8,  9],\n",
      "       [10, 11, 12]]), array([[13, 14, 15],\n",
      "       [16, 17, 18]])]\n"
     ]
    }
   ],
   "source": [
    "import numpy as np\n",
    "\n",
    "arr = np.array([[1, 2, 3], [4, 5, 6], [7, 8, 9], [10, 11, 12], [13, 14, 15], [16, 17, 18]])\n",
    "\n",
    "newarr = np.array_split(arr, 3)\n",
    "\n",
    "print(newarr)\n"
   ]
  },
  {
   "cell_type": "code",
   "execution_count": 69,
   "id": "fa02e93a",
   "metadata": {},
   "outputs": [
    {
     "name": "stdout",
     "output_type": "stream",
     "text": [
      "[array([[ 1],\n",
      "       [ 4],\n",
      "       [ 7],\n",
      "       [10],\n",
      "       [13],\n",
      "       [16]]), array([[ 2],\n",
      "       [ 5],\n",
      "       [ 8],\n",
      "       [11],\n",
      "       [14],\n",
      "       [17]]), array([[ 3],\n",
      "       [ 6],\n",
      "       [ 9],\n",
      "       [12],\n",
      "       [15],\n",
      "       [18]])]\n"
     ]
    }
   ],
   "source": [
    "# split the 2-D array into three 2-D arrays along rows.\n",
    "\n",
    "import numpy as np\n",
    "\n",
    "arr = np.array([[1, 2, 3], [4, 5, 6], [7, 8, 9], [10, 11, 12], [13, 14, 15], [16, 17, 18]])\n",
    "\n",
    "newarr = np.array_split(arr, 3 , axis=1)\n",
    "\n",
    "print(newarr)\n"
   ]
  },
  {
   "cell_type": "code",
   "execution_count": 70,
   "id": "81e06ca2",
   "metadata": {},
   "outputs": [
    {
     "name": "stdout",
     "output_type": "stream",
     "text": [
      "[array([[ 1],\n",
      "       [ 4],\n",
      "       [ 7],\n",
      "       [10],\n",
      "       [13],\n",
      "       [16]]), array([[ 2],\n",
      "       [ 5],\n",
      "       [ 8],\n",
      "       [11],\n",
      "       [14],\n",
      "       [17]]), array([[ 3],\n",
      "       [ 6],\n",
      "       [ 9],\n",
      "       [12],\n",
      "       [15],\n",
      "       [18]])]\n"
     ]
    }
   ],
   "source": [
    "# hsplit\n",
    "\n",
    "import numpy as np\n",
    "\n",
    "arr = np.array([[1, 2, 3], [4, 5, 6], [7, 8, 9], [10, 11, 12], [13, 14, 15], [16, 17, 18]])\n",
    "\n",
    "newarr = np.hsplit(arr, 3)\n",
    "\n",
    "print(newarr)\n"
   ]
  },
  {
   "cell_type": "code",
   "execution_count": 71,
   "id": "bf25347e",
   "metadata": {},
   "outputs": [
    {
     "name": "stdout",
     "output_type": "stream",
     "text": [
      "[array([[1, 2, 3],\n",
      "       [4, 5, 6]]), array([[ 7,  8,  9],\n",
      "       [10, 11, 12]]), array([[13, 14, 15],\n",
      "       [16, 17, 18]])]\n"
     ]
    }
   ],
   "source": [
    "#vsplit\n",
    "import numpy as np\n",
    "\n",
    "arr = np.array([[1, 2, 3], [4, 5, 6], [7, 8, 9], [10, 11, 12], [13, 14, 15], [16, 17, 18]])\n",
    "\n",
    "newarr = np.vsplit(arr, 3)\n",
    "\n",
    "print(newarr)\n"
   ]
  },
  {
   "cell_type": "code",
   "execution_count": 74,
   "id": "0e91eeed",
   "metadata": {},
   "outputs": [
    {
     "name": "stdout",
     "output_type": "stream",
     "text": [
      "[array([[[ 1],\n",
      "        [ 4],\n",
      "        [ 7],\n",
      "        [10],\n",
      "        [13],\n",
      "        [16]]]), array([[[ 2],\n",
      "        [ 5],\n",
      "        [ 8],\n",
      "        [11],\n",
      "        [14],\n",
      "        [17]]]), array([[[ 3],\n",
      "        [ 6],\n",
      "        [ 9],\n",
      "        [12],\n",
      "        [15],\n",
      "        [18]]])]\n"
     ]
    }
   ],
   "source": [
    "#dsplit\n",
    "import numpy as np\n",
    "\n",
    "arr = np.array([[[1, 2, 3], [4, 5, 6], [7, 8, 9], [10, 11, 12], [13, 14, 15], [16, 17, 18]]])\n",
    "\n",
    "newarr = np.dsplit(arr, 3)\n",
    "\n",
    "print(newarr)\n"
   ]
  },
  {
   "cell_type": "markdown",
   "id": "7db25666",
   "metadata": {},
   "source": [
    "# Numpy Searching Arrays \n",
    "\n",
    "## Searching Arrays \n",
    "\n",
    "you can search an array for a certain value, and return the indexes that get a match.\n",
    "\n",
    "to search an array, use  the where() method."
   ]
  },
  {
   "cell_type": "code",
   "execution_count": 75,
   "id": "fc064fc0",
   "metadata": {},
   "outputs": [
    {
     "name": "stdout",
     "output_type": "stream",
     "text": [
      "(array([3, 4, 5, 8, 9], dtype=int64),)\n",
      "(array([ 2, 10], dtype=int64),)\n"
     ]
    }
   ],
   "source": [
    "# find the indexes where the value is 4:\n",
    "\n",
    "import numpy as np\n",
    "\n",
    "arr = np.array([1,2,3,4,4,4,6,5,4,4,3])\n",
    "\n",
    "x = np.where(arr == 4)\n",
    "y = np.where(arr == 3)\n",
    "\n",
    "print(x)\n",
    "print(y)\n"
   ]
  },
  {
   "cell_type": "code",
   "execution_count": 76,
   "id": "e4e64cd7",
   "metadata": {},
   "outputs": [
    {
     "name": "stdout",
     "output_type": "stream",
     "text": [
      "(array([1, 3, 5, 7, 9], dtype=int64),)\n"
     ]
    }
   ],
   "source": [
    "# find the even number index\n",
    "\n",
    "import numpy as np\n",
    "\n",
    "arr = np.array([1,2,3,4,5,6,7,8,9,10])\n",
    "\n",
    "x = np.where(arr%2 == 0)\n",
    "\n",
    "print(x)"
   ]
  },
  {
   "cell_type": "code",
   "execution_count": 77,
   "id": "153f0900",
   "metadata": {},
   "outputs": [
    {
     "name": "stdout",
     "output_type": "stream",
     "text": [
      "(array([0, 2, 4, 6, 8], dtype=int64),)\n"
     ]
    }
   ],
   "source": [
    "# find the odd number index\n",
    "\n",
    "import numpy as np\n",
    "\n",
    "arr = np.array([1,2,3,4,5,6,7,8,9,10])\n",
    "\n",
    "x = np.where(arr%2 == 1)\n",
    "\n",
    "print(x)"
   ]
  },
  {
   "cell_type": "markdown",
   "id": "d91c140d",
   "metadata": {},
   "source": [
    "# Search Sorted\n",
    "There is a method called searchsorted() which performs a binary search in the array, and returns the index where the specified value would be inserted to maintain the search order.\n",
    "\n",
    "The searchsorted() method is assumed to be used on sorted arrays."
   ]
  },
  {
   "cell_type": "code",
   "execution_count": 78,
   "id": "7a735781",
   "metadata": {},
   "outputs": [
    {
     "name": "stdout",
     "output_type": "stream",
     "text": [
      "1\n"
     ]
    }
   ],
   "source": [
    "# finding the indexes of the given value using searchsorted method\n",
    "\n",
    "import numpy as np\n",
    "\n",
    "arr = np.array([6, 7, 8, 9])\n",
    "\n",
    "x = np.searchsorted(arr, 7)\n",
    "\n",
    "print(x)\n"
   ]
  },
  {
   "cell_type": "markdown",
   "id": "bd525aa4",
   "metadata": {},
   "source": [
    "#### search form the right side\n",
    "\n",
    "by default the left most index is returned, but we can give side=\"right\" to return the right most index instead ."
   ]
  },
  {
   "cell_type": "code",
   "execution_count": 82,
   "id": "6a43fdfb",
   "metadata": {},
   "outputs": [
    {
     "name": "stdout",
     "output_type": "stream",
     "text": [
      "2\n"
     ]
    }
   ],
   "source": [
    "import numpy as np\n",
    "\n",
    "arr = np.array([6, 7, 8, 9])\n",
    "\n",
    "x = np.searchsorted(arr, 7,side='right')\n",
    "\n",
    "print(x)\n"
   ]
  },
  {
   "cell_type": "markdown",
   "id": "8537ea18",
   "metadata": {},
   "source": [
    "##### Multiple Values\n",
    "To search for more than one value, use an array with the specified values.\n",
    "\n"
   ]
  },
  {
   "cell_type": "code",
   "execution_count": 83,
   "id": "f9916cb2",
   "metadata": {},
   "outputs": [
    {
     "name": "stdout",
     "output_type": "stream",
     "text": [
      "[1 2 3]\n"
     ]
    }
   ],
   "source": [
    "import numpy as np\n",
    "\n",
    "arr = np.array([1, 3, 5, 7])\n",
    "\n",
    "x = np.searchsorted(arr, [2, 4, 6])\n",
    "\n",
    "print(x)\n"
   ]
  },
  {
   "cell_type": "markdown",
   "id": "0ddf217a",
   "metadata": {},
   "source": [
    "# Numpy sorting Arrays\n",
    "\n",
    "## Sorting Arrays \n",
    "\n",
    "sorting means putting elements in an ordered sequence.\n",
    "\n",
    "Ordered sequence is any sequence that has an order corresponding to elements, like numeric or alphabetical, ascending or descending\n",
    "\n",
    "The numpy ndarray object has a function called sort() that will sort a specified array."
   ]
  },
  {
   "cell_type": "code",
   "execution_count": 84,
   "id": "9425d464",
   "metadata": {},
   "outputs": [
    {
     "name": "stdout",
     "output_type": "stream",
     "text": [
      "[0 1 2 3 4 5]\n"
     ]
    }
   ],
   "source": [
    "# sort the array:\n",
    "\n",
    "import numpy as np\n",
    "\n",
    "arr = np.array([4,2,5,3,0,1])\n",
    "\n",
    "x = np.sort(arr)\n",
    "\n",
    "print(x)"
   ]
  },
  {
   "cell_type": "code",
   "execution_count": 85,
   "id": "04290ac7",
   "metadata": {},
   "outputs": [
    {
     "name": "stdout",
     "output_type": "stream",
     "text": [
      "['apple' 'banana' 'cherry']\n"
     ]
    }
   ],
   "source": [
    "# you can also sort arrays of strings or any other data type:\n",
    "\n",
    "# sort the array alphabetically:\n",
    "\n",
    "import numpy as np\n",
    "\n",
    "arr = np.array(['banana','cherry','apple'])\n",
    "\n",
    "print(np.sort(arr))"
   ]
  },
  {
   "cell_type": "code",
   "execution_count": 86,
   "id": "4f920dfd",
   "metadata": {},
   "outputs": [
    {
     "name": "stdout",
     "output_type": "stream",
     "text": [
      "[False  True  True]\n"
     ]
    }
   ],
   "source": [
    "# sort boolean array\n",
    "\n",
    "import numpy as np\n",
    "\n",
    "arr = np.array([True,True,False])\n",
    "\n",
    "print(np.sort(arr))"
   ]
  },
  {
   "cell_type": "markdown",
   "id": "f9361f88",
   "metadata": {},
   "source": [
    "#  Sorting a 2-D Array\n",
    "If you use the sort() method on a 2-D array, both arrays will be sorted:"
   ]
  },
  {
   "cell_type": "code",
   "execution_count": 87,
   "id": "30c850b3",
   "metadata": {},
   "outputs": [
    {
     "name": "stdout",
     "output_type": "stream",
     "text": [
      "[[2 3 4]\n",
      " [0 1 5]]\n"
     ]
    }
   ],
   "source": [
    "# sort a 2-D array:\n",
    "\n",
    "import numpy as np\n",
    "\n",
    "arr = np.array([[3, 2, 4], [5, 0, 1]])\n",
    "\n",
    "print(np.sort(arr))\n",
    "\n"
   ]
  },
  {
   "cell_type": "markdown",
   "id": "5f5dff9b",
   "metadata": {},
   "source": [
    "# Numpy filter array\n",
    "\n",
    "## filtering Arrays\n",
    "\n",
    "Getting some elements out of an existing array and creating a new array out of them is called filtering.\n",
    "\n",
    "in Numpy, you filter an array using a boolean index list.\n",
    "\n",
    "A boolean index list is a list of booleans corresponding to indexes in the array.\n",
    "\n",
    "if the value at an indexes is True that element is contained in the filtered array, if the value at the index is False that element is excluded from the filtered array."
   ]
  },
  {
   "cell_type": "code",
   "execution_count": 91,
   "id": "bb7ba1f0",
   "metadata": {},
   "outputs": [
    {
     "name": "stdout",
     "output_type": "stream",
     "text": [
      "[41 43]\n"
     ]
    }
   ],
   "source": [
    "import numpy as np\n",
    "\n",
    "arr = np.array([41,42,43,44])\n",
    "\n",
    "x = [True,False,True,False]\n",
    "\n",
    "y = arr[x]\n",
    "\n",
    "print(y)"
   ]
  },
  {
   "cell_type": "markdown",
   "id": "3fe6df4f",
   "metadata": {},
   "source": [
    "# creating the filter array\n",
    "\n",
    "In the example above we hard-coded the True and False values, but the common use is to create a filter array based on conditions"
   ]
  },
  {
   "cell_type": "code",
   "execution_count": 92,
   "id": "b3e5603f",
   "metadata": {},
   "outputs": [
    {
     "name": "stdout",
     "output_type": "stream",
     "text": [
      "[False, False, False, True, True, True]\n",
      "[44 45 46]\n"
     ]
    }
   ],
   "source": [
    "# create a filter array that will return only values higher than 42:\n",
    "\n",
    "import numpy as np\n",
    "\n",
    "arr = np.array([41,42,43,44,45,46])\n",
    "\n",
    "#create an empty list\n",
    "\n",
    "filter_arr = []\n",
    "\n",
    "# go through each element in arr \n",
    "\n",
    "for element in arr:\n",
    "    #if the element is higher than 42,set the value to True, otherwise False:\n",
    "    \n",
    "    if element > 43:\n",
    "        filter_arr.append(True)\n",
    "    else:\n",
    "        filter_arr.append(False)\n",
    "        \n",
    "new = arr[filter_arr]\n",
    "\n",
    "print(filter_arr)\n",
    "print(new)\n",
    "    "
   ]
  },
  {
   "cell_type": "code",
   "execution_count": 93,
   "id": "438b583e",
   "metadata": {},
   "outputs": [
    {
     "name": "stdout",
     "output_type": "stream",
     "text": [
      "[False, True, False, True, False, True, False, True, False, True, False, True, False, True]\n",
      "[ 2  4  6  8 10 12 14]\n"
     ]
    }
   ],
   "source": [
    "import numpy as np\n",
    "\n",
    "arr = np.array([1,2,3,4,5,6,7,8,9,10,11,12,13,14])\n",
    "\n",
    "filter_arr =[]\n",
    "\n",
    "for x in arr:\n",
    "    if x%2 == 0:\n",
    "        filter_arr.append(True)\n",
    "    else:\n",
    "        filter_arr.append(False)\n",
    "        \n",
    "new = arr[filter_arr]\n",
    "\n",
    "print(filter_arr)\n",
    "print(new)"
   ]
  },
  {
   "cell_type": "markdown",
   "id": "04aa35d5",
   "metadata": {},
   "source": [
    "# Creating Filter Directly From Array\n",
    "The above example is quite a common task in NumPy and NumPy provides a nice way to tackle it.\n",
    "\n",
    "We can directly substitute the array instead of the iterable variable in our condition and it will work just as we expect it to.\n",
    "\n"
   ]
  },
  {
   "cell_type": "code",
   "execution_count": 94,
   "id": "9759bb6d",
   "metadata": {},
   "outputs": [
    {
     "name": "stdout",
     "output_type": "stream",
     "text": [
      "[44 45 46]\n",
      "[False False False  True  True  True]\n"
     ]
    }
   ],
   "source": [
    "import numpy as np\n",
    "\n",
    "arr = np.array([41,42,43,44,45,46])\n",
    "\n",
    "filter_arr = arr > 43\n",
    "\n",
    "new = arr[filter_arr]\n",
    "\n",
    "print(new)\n",
    "print(filter_arr)"
   ]
  },
  {
   "cell_type": "markdown",
   "id": "25744679",
   "metadata": {},
   "source": [
    "# Random numbers in Numpy\n",
    "\n",
    "## what is a Random Number?\n",
    "\n",
    "Random number doesnot mean a different number every time. Random means something that can not be predicted logically\n",
    "\n",
    "# Pseudo Random and True Random.\n",
    "\n",
    "Computers work on programs, and programs are definitives set of instructions. so it means there must be some algorithm \n",
    "\n",
    "If there is a program to generate random number it can be predicted, thus it is not truly random\n",
    "\n",
    "Random numbers generated through a generation algorithm are called pseudo random.\n",
    "\n",
    "Can we make truly random numbers?\n",
    "\n",
    "Yes. In order to generate a truly random number on our computer we need to get the random data from some outside source is generally our keystrokes, mouse movements,data on network etc.\n",
    "\n",
    "We do not need truly random numbers,unless it is related to security (e.g. encryption keys) or the basis of application is the randomness (e.g. Digital roulette wheels).\n",
    "\n",
    "In this  tutorial we will be using pseudo random numbers.\n",
    "\n",
    "\n",
    "# Generate random Number\n",
    "\n",
    "numpu offers the random module to work with random numbers.\n"
   ]
  },
  {
   "cell_type": "code",
   "execution_count": 100,
   "id": "f84e7e36",
   "metadata": {},
   "outputs": [
    {
     "name": "stdout",
     "output_type": "stream",
     "text": [
      "41\n"
     ]
    }
   ],
   "source": [
    "from numpy import random\n",
    "\n",
    "x = random.randint(50)\n",
    "\n",
    "print(x)"
   ]
  },
  {
   "cell_type": "code",
   "execution_count": 103,
   "id": "a1c0ed2a",
   "metadata": {},
   "outputs": [
    {
     "name": "stdout",
     "output_type": "stream",
     "text": [
      "86\n"
     ]
    }
   ],
   "source": [
    "from numpy import random\n",
    "\n",
    "x = random.randint(87)\n",
    "\n",
    "print(x)"
   ]
  },
  {
   "cell_type": "markdown",
   "id": "c0b9739c",
   "metadata": {},
   "source": [
    "# Generate Random float\n",
    "\n",
    "The random module's rand() method returns a random float between 0 and 1."
   ]
  },
  {
   "cell_type": "code",
   "execution_count": 105,
   "id": "e435dba1",
   "metadata": {},
   "outputs": [
    {
     "name": "stdout",
     "output_type": "stream",
     "text": [
      "0.9318444333502227\n"
     ]
    }
   ],
   "source": [
    "# generate a random float from 0 to 1:\n",
    "\n",
    "from numpy import random\n",
    "\n",
    "y = random.rand()\n",
    "\n",
    "print(y)"
   ]
  },
  {
   "cell_type": "markdown",
   "id": "8a929f38",
   "metadata": {},
   "source": [
    "# Generate Random Array\n",
    "In NumPy we work with arrays, and you can use the two methods from the above examples to make random arrays.\n",
    "\n",
    "Integers\n",
    "The randint() method takes a size parameter where you can specify the shape of an array.\n",
    "\n"
   ]
  },
  {
   "cell_type": "code",
   "execution_count": 107,
   "id": "d859cf53",
   "metadata": {},
   "outputs": [
    {
     "name": "stdout",
     "output_type": "stream",
     "text": [
      "[42 60 99 43 60]\n"
     ]
    }
   ],
   "source": [
    "#Generate a 1-D array containing 5 random integers from 0 t0 100:\n",
    "\n",
    "from numpy import random\n",
    "\n",
    "x = random.randint(100, size=(5))\n",
    "\n",
    "print(x)"
   ]
  },
  {
   "cell_type": "code",
   "execution_count": 110,
   "id": "70f6be8e",
   "metadata": {},
   "outputs": [
    {
     "name": "stdout",
     "output_type": "stream",
     "text": [
      "[[93 65 57 30 55]\n",
      " [82 54 42 91 97]\n",
      " [ 1 42  3 87  7]]\n"
     ]
    }
   ],
   "source": [
    "#Generate a 2-D array with 3 rows, each row containing 5 random integers from 0 to 100:\n",
    "\n",
    "from numpy import random\n",
    "\n",
    "x = random.randint(100, size=(3, 5))\n",
    "\n",
    "print(x)\n"
   ]
  },
  {
   "cell_type": "code",
   "execution_count": 114,
   "id": "db545fa4",
   "metadata": {},
   "outputs": [
    {
     "name": "stdout",
     "output_type": "stream",
     "text": [
      "[[[28 19 70 35 43]\n",
      "  [14 65 79 27 63]\n",
      "  [68 40 13 39  3]]\n",
      "\n",
      " [[79 39  0 10 89]\n",
      "  [88 30 10 85 48]\n",
      "  [81 31 77 75 31]]]\n"
     ]
    }
   ],
   "source": [
    "# Generate a 3-D array with 3 rows, each row containing 5 random integers from 0 to 100:\n",
    "\n",
    "from numpy import random\n",
    "\n",
    "x = random.randint(100, size=(2,3, 5))\n",
    "\n",
    "print(x)\n"
   ]
  },
  {
   "cell_type": "markdown",
   "id": "e1ea9c49",
   "metadata": {},
   "source": [
    "# Floats \n",
    "\n",
    "The rand() method also allows you to specify the shape of the array.\n",
    "\n"
   ]
  },
  {
   "cell_type": "code",
   "execution_count": 116,
   "id": "63f803e1",
   "metadata": {},
   "outputs": [
    {
     "name": "stdout",
     "output_type": "stream",
     "text": [
      "[0.14981747 0.90652983 0.84522124 0.49929421 0.23102179]\n"
     ]
    }
   ],
   "source": [
    "#Generate a 1- D array containing 5 random floats:\n",
    "\n",
    "from numpy import random\n",
    "\n",
    "x = random.rand(5)\n",
    "\n",
    "print(x)\n"
   ]
  },
  {
   "cell_type": "code",
   "execution_count": 117,
   "id": "30239a3b",
   "metadata": {},
   "outputs": [
    {
     "name": "stdout",
     "output_type": "stream",
     "text": [
      "[[0.07054246 0.70264709 0.94443829 0.56179066 0.3177968 ]\n",
      " [0.8643818  0.92327042 0.33046378 0.48595848 0.79648851]\n",
      " [0.63578125 0.08357554 0.45688194 0.64821545 0.59255057]]\n"
     ]
    }
   ],
   "source": [
    "#Generate a 2- D array containing 5 random floats:\n",
    "\n",
    "from numpy import random\n",
    "\n",
    "x = random.rand(3,5)\n",
    "\n",
    "print(x)\n"
   ]
  },
  {
   "cell_type": "markdown",
   "id": "d452b0c3",
   "metadata": {},
   "source": [
    "# Generate Random Number From Array\n",
    "The choice() method allows you to generate a random value based on an array of values.\n",
    "\n",
    "The choice() method takes an array as a parameter and randomly returns one of the values.\n",
    "\n"
   ]
  },
  {
   "cell_type": "code",
   "execution_count": 120,
   "id": "17d1f2fe",
   "metadata": {},
   "outputs": [
    {
     "name": "stdout",
     "output_type": "stream",
     "text": [
      "3\n"
     ]
    }
   ],
   "source": [
    "# return one of the values in an array:\n",
    "\n",
    "from numpy import random\n",
    "\n",
    "x =random.choice([2,3,4,5,6,7,1])\n",
    "\n",
    "print(x)"
   ]
  },
  {
   "cell_type": "code",
   "execution_count": 123,
   "id": "c4c78d03",
   "metadata": {},
   "outputs": [
    {
     "name": "stdout",
     "output_type": "stream",
     "text": [
      "[[7 4 1 3 3]\n",
      " [2 1 1 3 1]\n",
      " [7 4 7 5 1]]\n"
     ]
    }
   ],
   "source": [
    "# return one of the values in an array:2-D\n",
    "\n",
    "from numpy import random\n",
    "\n",
    "x =random.choice([2,3,4,5,6,7,1] , size=(3,5))\n",
    "\n",
    "print(x)"
   ]
  },
  {
   "cell_type": "code",
   "execution_count": 124,
   "id": "58c34ff5",
   "metadata": {},
   "outputs": [
    {
     "name": "stdout",
     "output_type": "stream",
     "text": [
      "[[[7 1 6 2 6]\n",
      "  [3 2 7 2 2]\n",
      "  [1 6 2 6 3]]\n",
      "\n",
      " [[6 5 3 3 3]\n",
      "  [7 1 4 4 3]\n",
      "  [1 5 5 4 1]]]\n"
     ]
    }
   ],
   "source": [
    "# return one of the values in an array:3-D\n",
    "\n",
    "from numpy import random\n",
    "\n",
    "x =random.choice([2,3,4,5,6,7,1], size=(2,3,5))\n",
    "\n",
    "print(x)"
   ]
  },
  {
   "cell_type": "markdown",
   "id": "2e112d1b",
   "metadata": {},
   "source": [
    "# Random Data Distribution \n",
    "\n",
    "# what is Data Distribution?\n",
    "\n",
    "Data Distribution is a list of all possible values, and how often each value occurs.\n",
    "\n",
    "Such lists are important when working with statistics and data science.\n",
    "\n",
    "The random module offer methods that returns randomly generated data distributions.\n",
    "\n",
    "# Random Distribution\n",
    "A random distribution is a set of random numbers that follow a certain probability density function.\n",
    "\n",
    "__Probability Density__ Function: A function that describes a continuous probability. i.e. probability of all values in an array.\n",
    "\n",
    "We can generate random numbers based on defined probabilities using the choice() method of the random module.\n",
    "\n",
    "The choice() method allows us to specify the probability for each value.\n",
    "\n",
    "The probability is set by a number between 0 and 1, where 0 means that the value will never occur and 1 means that the value will always occur.\n",
    "\n"
   ]
  },
  {
   "cell_type": "code",
   "execution_count": 1,
   "id": "684c4827",
   "metadata": {},
   "outputs": [
    {
     "name": "stdout",
     "output_type": "stream",
     "text": [
      "[0 6 0 5 0 0 0 6 0 0 5 0 4 0 0 6 5 6 0 0 0 5 0 0 0 0 0 0 0 4 0 0 6 0 4 6 5\n",
      " 0 0 4 4 0 0 4 6 5 6 4 0 0 0 5 6 0 4 5 6 0 5 6 0 0 4 0 4 4 4 0 4 0 5 6 5 0\n",
      " 0 0 4 0 5 0 4 0 5 0 5 0 0 0 6 6 5 6 4 0 0 0 0 0 4 6 0 4 0 4 0 0 0 0 0 0 4\n",
      " 0 5 0 5 0 4 0 4 0 0 0 0 4 5 0 4 0 0 5 6 0 0 0 0 0 0 6 0 0 0 6 4 0 0 4 5 5\n",
      " 6 0 6 5 0 4 5 6 0 5 6 0 0 0 0 5 5 5 0 6 0 0 0 0 4 4 0 0 0 0 0 5 5 5 5 0 0\n",
      " 0 6 4 0 6 0 4 4 4 5 6 6 4 0 5 0 4 4 0 5 5 0 5 5 5 0 0 5 5 6 4 0 5 0 4 0 0\n",
      " 5 0 5 0 0 0 5 6 5 0 0 5 0 0 0 5 6 5 5 0 4 0 4 5 4 4 5 0 5 0 6 5 0 0 5 5 0\n",
      " 5 5 0 5 0 0 5 0 4 4 0 4 5 0 0 4 0 0 0 6 5 4 6 4 6 4 6 4 0 0 4 4 0 0 0 0 0\n",
      " 5 4 0 0 0 6 6 6 0 5 0 4 4 0 0 5 6 0 0 5 4 0 0 5 0 5 4 4 0 5 0 4 0 6 0 0 0\n",
      " 4 6 4 6 4 0 5 5 0 6 5 0 5 0 4 0 0 0 0 0 5 4 5 6 0 4 6 0 4 4 0 0 0 4 5 0 6\n",
      " 0 4 0 0 0 0 0 0 0 0 4 0 5 6 4 5 6 4 0 0 0 5 0 5 4 0 5 0 0 0 0 0 6 0 0 0 5\n",
      " 5 0 0 4 6 0 6 0 6 0 0 4 5 0 0 4 5 4 0 0 4 4 0 0 0 4 0 0 0 0 4 0 5 0 0 0 0\n",
      " 0 0 5 6 6 4 0 4 0 4 0 0 0 0 0 0 0 0 5 5 0 5 0 4 4 0 0 0 0 6 0 6 0 0 4 6 4\n",
      " 4 0 5 0 4 4 0 6 4 4 5 5 4 0 0 0 6 5 0 0 4 4 6 4 0 0 0 4 0 0 0 0 4 0 0 6 5\n",
      " 0 5 0 0 4 0 6 0 0 5 0 4 5 4 5 5 4 0 0 5 4 0 4 0 0 4 4 0 0 0 5 4 0 6 6 0 4\n",
      " 6 6 4 0 0 6 0 5 0 5 0 0 0 0 0 4 0 4 0 5 0 0 4 0 0 5 6 6 0 0 0 0 5 4 0 4 5\n",
      " 0 5 4 0 0 4 0 0 0 4 0 0 0 0 5 0 4 4 6 0 5 0 5 5 0 4 0 0 0 0 4 5 0 0 0 5 5\n",
      " 0 4 0 0 0 5 0 0 6 4 5 5 4 5 5 4 0 0 5 0 0 0 0 5 4 0 0 6 0 0 0 5 5 0 5 6 5\n",
      " 4 0 0 4 4 0 4 4 4 0 5 4 0 0 0 6 6 4 0 0 0 5 4 5 4 0 4 0 0 4 4 0 5 6 5 0 0\n",
      " 0 0 5 5 0 0 0 0 6 4 0 0 5 0 6 4 5 0 0 0 0 0 0 4 0 0 4 4 0 5 0 5 5 5 4 0 5\n",
      " 0 0 0 6 0 4 0 0 5 6 0 5 0 0 5 0 5 0 5 0 0 5 0 5 0 4 0 0 5 5 5 6 0 0 5 4 6\n",
      " 0 6 4 6 0 4 4 5 5 4 4 0 0 0 0 6 4 5 0 0 0 0 0 0 6 4 0 6 0 0 0 0 0 0 4 5 0\n",
      " 6 4 0 0 0 0 6 4 6 4 0 0 0 5 4 0 0 5 6 0 0 5 4 4 0 4 0 0 0 4 5 4 0 0 5 0 4\n",
      " 0 5 0 0 6 0 4 4 0 0 0 6 5 0 5 0 0 0 0 0 4 4 5 4 5 5 0 4 0 4 4 0 0 0 5 0 0\n",
      " 5 4 4 0 0 6 0 0 5 6 4 0 5 5 0 0 4 0 5 0 0 0 4 5 5 5 6 0 6 0 0 0 0 0 5 4 0\n",
      " 4 6 0 5 0 5 0 4 4 5 5 0 0 0 6 0 0 0 0 0 5 5 6 5 4 0 6 0 0 0 0 0 0 0 5 0 4\n",
      " 5 5 0 5 0 0 0 5 5 5 5 0 5 0 4 0 0 0 4 4 0 0 5 0 4 5 5 0 4 0 5 5 4 0 0 0 5\n",
      " 0]\n"
     ]
    }
   ],
   "source": [
    "from numpy import random\n",
    "\n",
    "x = random.choice([4,5,6,0,1], p=[0.2,0.2,0.1,0.5,0.0] , size = (1000))\n",
    "\n",
    "print(x)"
   ]
  },
  {
   "cell_type": "markdown",
   "id": "4cee70dc",
   "metadata": {},
   "source": [
    "__The sum of all probability numbers should be 1.__\n",
    "\n",
    "\n",
    "You can return arrays of any shape and size by specifying the shape in the size parameter.\n",
    "\n"
   ]
  },
  {
   "cell_type": "code",
   "execution_count": 140,
   "id": "4237b53a",
   "metadata": {},
   "outputs": [
    {
     "name": "stdout",
     "output_type": "stream",
     "text": [
      "[[7 9 7 5 5]\n",
      " [5 5 5 7 3]\n",
      " [5 7 5 9 7]]\n"
     ]
    }
   ],
   "source": [
    "# same example as above, but return a 2-D array with 3 row ,each containing 5 values.\n",
    "\n",
    "from numpy import random\n",
    "\n",
    "x = random.choice([3, 5, 7, 9], p=[0.1, 0.3, 0.5, 0.1], size=(3, 5))\n",
    "\n",
    "print(x)\n"
   ]
  },
  {
   "cell_type": "markdown",
   "id": "2eafad7d",
   "metadata": {},
   "source": [
    "# Random permutations\n",
    "\n",
    "# Random permutations of elements\n",
    "\n",
    "A permutation refers to an arrangement of elements.\n",
    "e.g.[3,2,1] is a permutation of [1,2,3] and vice-versa.\n",
    "\n",
    "the NUmpy random module provides two methods for this:\n",
    "\n",
    "shuffle() and permutation()\n",
    "\n",
    "# Shuffling Arrays\n",
    "\n",
    "Shuffle means changing arrangment  of elements in-place i.e. in the array itself"
   ]
  },
  {
   "cell_type": "code",
   "execution_count": 147,
   "id": "0bd13b05",
   "metadata": {},
   "outputs": [
    {
     "name": "stdout",
     "output_type": "stream",
     "text": [
      "[3 1 5 4 2]\n"
     ]
    }
   ],
   "source": [
    "import numpy as np\n",
    "from numpy import random\n",
    "\n",
    "arr = np.array([1,2,3,4,5])\n",
    "\n",
    "random.shuffle(arr)\n",
    "\n",
    "print(arr)\n",
    "\n",
    "# The shuffle () method makes changes to the original array."
   ]
  },
  {
   "cell_type": "markdown",
   "id": "3821e2d0",
   "metadata": {},
   "source": [
    "# generating permutation of arrays\n"
   ]
  },
  {
   "cell_type": "code",
   "execution_count": 150,
   "id": "c0ef5250",
   "metadata": {},
   "outputs": [
    {
     "name": "stdout",
     "output_type": "stream",
     "text": [
      "[4 3 1 5 2]\n",
      "[1 2 3 4 5]\n"
     ]
    }
   ],
   "source": [
    "# generate a random permutation of elements of following array:\n",
    "from numpy import random\n",
    "import numpy as np\n",
    "\n",
    "arr = np.array([1, 2, 3, 4, 5])\n",
    "\n",
    "x=random.permutation(arr)\n",
    "print(x)\n",
    "print(arr)\n",
    "\n",
    "\n",
    "# the permutation() method returns a re-arranged array(and leaves the original array un-changed)"
   ]
  },
  {
   "cell_type": "markdown",
   "id": "00afc2a3",
   "metadata": {},
   "source": [
    "# seaborn\n",
    "\n",
    "# visualize Distributions with seaborn\n",
    "\n",
    "seaborn is a library that uses matplotlib underneath to plot graphs.  It will be used to visualize random distributions."
   ]
  },
  {
   "cell_type": "code",
   "execution_count": 1,
   "id": "e62eef9e",
   "metadata": {},
   "outputs": [
    {
     "name": "stdout",
     "output_type": "stream",
     "text": [
      "Requirement already satisfied: matplotlib in c:\\users\\office\\anaconda3\\lib\\site-packages (3.3.4)\n",
      "Requirement already satisfied: numpy>=1.15 in c:\\users\\office\\anaconda3\\lib\\site-packages (from matplotlib) (1.20.1)\n",
      "Requirement already satisfied: pyparsing!=2.0.4,!=2.1.2,!=2.1.6,>=2.0.3 in c:\\users\\office\\anaconda3\\lib\\site-packages (from matplotlib) (2.4.7)\n",
      "Requirement already satisfied: kiwisolver>=1.0.1 in c:\\users\\office\\anaconda3\\lib\\site-packages (from matplotlib) (1.3.1)\n",
      "Requirement already satisfied: pillow>=6.2.0 in c:\\users\\office\\anaconda3\\lib\\site-packages (from matplotlib) (8.2.0)\n",
      "Requirement already satisfied: python-dateutil>=2.1 in c:\\users\\office\\anaconda3\\lib\\site-packages (from matplotlib) (2.8.1)\n",
      "Requirement already satisfied: cycler>=0.10 in c:\\users\\office\\anaconda3\\lib\\site-packages (from matplotlib) (0.10.0)\n",
      "Requirement already satisfied: six in c:\\users\\office\\anaconda3\\lib\\site-packages (from cycler>=0.10->matplotlib) (1.15.0)\n",
      "Note: you may need to restart the kernel to use updated packages.\n"
     ]
    }
   ],
   "source": [
    "pip install matplotlib"
   ]
  },
  {
   "cell_type": "code",
   "execution_count": 2,
   "id": "95953c28",
   "metadata": {},
   "outputs": [
    {
     "name": "stdout",
     "output_type": "stream",
     "text": [
      "3.3.4\n"
     ]
    }
   ],
   "source": [
    "import matplotlib\n",
    "\n",
    "print(matplotlib.__version__)\n"
   ]
  },
  {
   "cell_type": "code",
   "execution_count": 9,
   "id": "f47ff23f",
   "metadata": {},
   "outputs": [
    {
     "name": "stderr",
     "output_type": "stream",
     "text": [
      "C:\\Users\\OFFICE\\anaconda3\\lib\\site-packages\\seaborn\\distributions.py:2557: FutureWarning: `distplot` is a deprecated function and will be removed in a future version. Please adapt your code to use either `displot` (a figure-level function with similar flexibility) or `kdeplot` (an axes-level function for kernel density plots).\n",
      "  warnings.warn(msg, FutureWarning)\n"
     ]
    },
    {
     "data": {
      "image/png": "[encoded data removed]",
      "text/plain": [
       "<Figure size 432x288 with 1 Axes>"
      ]
     },
     "metadata": {
      "needs_background": "light"
     },
     "output_type": "display_data"
    }
   ],
   "source": [
    "import matplotlib.pyplot as plt\n",
    "import seaborn as sns\n",
    "\n",
    "sns.distplot([0, 1, 2, 3, 4], hist=False)\n",
    "\n",
    "plt.show()\n"
   ]
  },
  {
   "cell_type": "code",
   "execution_count": 11,
   "id": "c0b364ed",
   "metadata": {},
   "outputs": [
    {
     "name": "stderr",
     "output_type": "stream",
     "text": [
      "C:\\Users\\OFFICE\\anaconda3\\lib\\site-packages\\seaborn\\distributions.py:2557: FutureWarning: `distplot` is a deprecated function and will be removed in a future version. Please adapt your code to use either `displot` (a figure-level function with similar flexibility) or `histplot` (an axes-level function for histograms).\n",
      "  warnings.warn(msg, FutureWarning)\n"
     ]
    },
    {
     "data": {
      "image/png": "[encoded data removed]",
      "text/plain": [
       "<Figure size 432x288 with 1 Axes>"
      ]
     },
     "metadata": {
      "needs_background": "light"
     },
     "output_type": "display_data"
    }
   ],
   "source": [
    "import matplotlib.pyplot as plt\n",
    "import seaborn as sns\n",
    "\n",
    "sns.distplot([0, 1, 2, 3, 4])\n",
    "\n",
    "plt.show()"
   ]
  },
  {
   "cell_type": "code",
   "execution_count": 2,
   "id": "d15017ff",
   "metadata": {},
   "outputs": [
    {
     "name": "stdout",
     "output_type": "stream",
     "text": [
      "[ 5  6  7  8 19]\n"
     ]
    }
   ],
   "source": [
    "import numpy as np\n",
    "\n",
    "x = np.array([1,2,3,4,5,6,7,8,19])\n",
    "\n",
    "print(x[4:20])"
   ]
  },
  {
   "cell_type": "code",
   "execution_count": null,
   "id": "44a1139c",
   "metadata": {},
   "outputs": [],
   "source": []
  },
  {
   "cell_type": "code",
   "execution_count": null,
   "id": "ce551a33",
   "metadata": {},
   "outputs": [],
   "source": []
  }
 ],
 "metadata": {
  "kernelspec": {
   "display_name": "Python 3",
   "language": "python",
   "name": "python3"
  },
  "language_info": {
   "codemirror_mode": {
    "name": "ipython",
    "version": 3
   },
   "file_extension": ".py",
   "mimetype": "text/x-python",
   "name": "python",
   "nbconvert_exporter": "python",
   "pygments_lexer": "ipython3",
   "version": "3.8.8"
  }
 },
 "nbformat": 4,
 "nbformat_minor": 5
}
