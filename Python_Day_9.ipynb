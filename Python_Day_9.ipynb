{
 "cells": [
  {
   "cell_type": "markdown",
   "id": "0a5cb36a",
   "metadata": {},
   "source": [
    "# Day_8\n",
    "\n",
    "# Python Datetime\n",
    "\n",
    "# Python dates\n",
    "\n",
    "A date in python is not a data type of its own,but we can import a module named datetime to work with dates as date objects"
   ]
  },
  {
   "cell_type": "code",
   "execution_count": 125,
   "id": "fd920be1",
   "metadata": {},
   "outputs": [
    {
     "name": "stdout",
     "output_type": "stream",
     "text": [
      "2024-03-07 17:38:46.343054\n"
     ]
    }
   ],
   "source": [
    "# import the datetime module and display the current date:\n",
    "import datetime\n",
    "\n",
    "x = datetime.datetime.now()\n",
    "print(x)"
   ]
  },
  {
   "cell_type": "markdown",
   "id": "b16cb004",
   "metadata": {},
   "source": [
    "# Date Output\n",
    "When we execute the code from the example above the result will be:\n",
    "\n",
    "2024-03-07 10:25:24.010150\n",
    "The date contains year, month, day, hour, minute, second, and microsecond.\n",
    "\n",
    "The datetime module has many methods to return information about the date object.\n",
    "\n",
    "Here are a few examples, you will learn more about them later in this chapter:\n",
    "\n"
   ]
  },
  {
   "cell_type": "code",
   "execution_count": 7,
   "id": "ba0f0f38",
   "metadata": {},
   "outputs": [
    {
     "name": "stdout",
     "output_type": "stream",
     "text": [
      "2024\n",
      "Thursday\n"
     ]
    }
   ],
   "source": [
    "import datetime\n",
    "\n",
    "x = datetime.datetime.now()\n",
    "\n",
    "print(x.year)\n",
    "\n",
    "print(x.strftime(\"%A\"))\n"
   ]
  },
  {
   "cell_type": "markdown",
   "id": "7c115790",
   "metadata": {},
   "source": [
    "# Creating Date Objects\n",
    "To create a date, we can use the datetime() class (constructor) of the datetime module.\n",
    "\n",
    "The datetime() class requires three parameters to create a date: year, month, day.\n",
    "\n"
   ]
  },
  {
   "cell_type": "code",
   "execution_count": 8,
   "id": "47811be5",
   "metadata": {},
   "outputs": [
    {
     "name": "stdout",
     "output_type": "stream",
     "text": [
      "2021-08-18 00:00:00\n"
     ]
    }
   ],
   "source": [
    "import datetime\n",
    "\n",
    "x = datetime.datetime(2021,8,18)\n",
    "\n",
    "print(x)"
   ]
  },
  {
   "cell_type": "markdown",
   "id": "85be3bd0",
   "metadata": {},
   "source": [
    "# The strftime() Method\n",
    "The datetime object has a method for formatting date objects into readable strings.\n",
    "\n",
    "The method is called strftime(), and takes one parameter, format, to specify the format of the returned string:\n",
    "\n"
   ]
  },
  {
   "cell_type": "code",
   "execution_count": 9,
   "id": "55dc57a6",
   "metadata": {},
   "outputs": [
    {
     "name": "stdout",
     "output_type": "stream",
     "text": [
      "August\n",
      "Wednesday\n"
     ]
    }
   ],
   "source": [
    "import datetime\n",
    "\n",
    "x = datetime.datetime(2021,8,18)\n",
    "\n",
    "print(x.strftime(\"%B\"))\n",
    "print(x.strftime(\"%A\"))"
   ]
  },
  {
   "cell_type": "code",
   "execution_count": 105,
   "id": "7883348e",
   "metadata": {},
   "outputs": [
    {
     "name": "stdout",
     "output_type": "stream",
     "text": [
      "4\n",
      "16\n",
      "04\n"
     ]
    }
   ],
   "source": [
    "import datetime\n",
    "\n",
    "x = datetime.datetime.now()\n",
    "# %w is weekday as a number 0-6 ,0 is sunday\n",
    "print(x.strftime(\"%w\"))\n",
    "\n",
    "# %H is hour 00-23 \n",
    "print(x.strftime(\"%H\"))\n",
    "\n",
    "# %I is hour 00-12\n",
    "print(x.strftime(\"%I\"))"
   ]
  },
  {
   "cell_type": "markdown",
   "id": "dd44dd52",
   "metadata": {},
   "source": [
    "# Python Math\n",
    "\n",
    "python has a set of built-in math function including an extensiv math module that allows you to perform mathematical tasks on numbers.\n",
    "\n",
    "# Built in math functions \n",
    "\n",
    "the min() and max() functions can be used to find the lowest or highest value in an iterable."
   ]
  },
  {
   "cell_type": "code",
   "execution_count": 14,
   "id": "e31fe388",
   "metadata": {},
   "outputs": [
    {
     "name": "stdout",
     "output_type": "stream",
     "text": [
      "5\n",
      "20\n"
     ]
    }
   ],
   "source": [
    "x = min(5,10,20)#this will print minimum value\n",
    "y = max(5,10,20)#this will print maximum value\n",
    "\n",
    "print(x)\n",
    "print(y)"
   ]
  },
  {
   "cell_type": "markdown",
   "id": "a2447f25",
   "metadata": {},
   "source": [
    "##### The abs() function returns the absolute (positive) value of the specified number:\n",
    "\n"
   ]
  },
  {
   "cell_type": "code",
   "execution_count": 15,
   "id": "30131a29",
   "metadata": {},
   "outputs": [
    {
     "name": "stdout",
     "output_type": "stream",
     "text": [
      "18.78\n"
     ]
    }
   ],
   "source": [
    "x = abs(-18.78)# this will return it in positive value \n",
    "\n",
    "\n",
    "print(x)"
   ]
  },
  {
   "cell_type": "markdown",
   "id": "071508e1",
   "metadata": {},
   "source": [
    "##### the pow(x,y) function return the value of x to the power of y (x^Y) "
   ]
  },
  {
   "cell_type": "code",
   "execution_count": 16,
   "id": "d034a343",
   "metadata": {},
   "outputs": [
    {
     "name": "stdout",
     "output_type": "stream",
     "text": [
      "7776\n"
     ]
    }
   ],
   "source": [
    "# return the value of 6 to power of 5(same as 6*6*6*6*6*6)\n",
    "\n",
    "x = pow(6,5)\n",
    "\n",
    "print(x)"
   ]
  },
  {
   "cell_type": "markdown",
   "id": "897d73ba",
   "metadata": {},
   "source": [
    "# The Math Module\n",
    "\n",
    "Python has also a built-in module called math, which extends the list of mathematical functions.\n",
    "\n",
    "to use it,you must import the math module:\n"
   ]
  },
  {
   "cell_type": "code",
   "execution_count": 17,
   "id": "77d84e68",
   "metadata": {},
   "outputs": [
    {
     "name": "stdout",
     "output_type": "stream",
     "text": [
      "8.831760866327848\n"
     ]
    }
   ],
   "source": [
    "import math\n",
    "\n",
    "x = math.sqrt(78)\n",
    "\n",
    "print(x)"
   ]
  },
  {
   "cell_type": "code",
   "execution_count": 18,
   "id": "10a2c57a",
   "metadata": {},
   "outputs": [
    {
     "name": "stdout",
     "output_type": "stream",
     "text": [
      "4\n",
      "3\n"
     ]
    }
   ],
   "source": [
    "# the math.celi() method round a number upward to its nearest interger, and the math.floor() method rounds a number downwards to its nearest integer and return the result\n",
    "\n",
    "import math\n",
    "\n",
    "x = math.ceil(3.4)\n",
    "y = math.floor(3.4)\n",
    "\n",
    "print(x)\n",
    "print(y)"
   ]
  },
  {
   "cell_type": "code",
   "execution_count": 19,
   "id": "315264df",
   "metadata": {},
   "outputs": [
    {
     "name": "stdout",
     "output_type": "stream",
     "text": [
      "3.141592653589793\n"
     ]
    }
   ],
   "source": [
    "# the math.pi constant return the value of pi(3.14...):\n",
    "\n",
    "import math \n",
    "\n",
    "x = math.pi\n",
    "\n",
    "print(x)"
   ]
  },
  {
   "cell_type": "markdown",
   "id": "5a4e1bc2",
   "metadata": {},
   "source": [
    "# Python json\n",
    "\n",
    "json is a syntax for storing and exchanging data.\n",
    "\n",
    "json is text, written with javascript object notation\n",
    "\n",
    "# json in python\n",
    "\n",
    "python has a built-in package called json which can be used to work with json data"
   ]
  },
  {
   "cell_type": "code",
   "execution_count": 20,
   "id": "19150fde",
   "metadata": {},
   "outputs": [],
   "source": [
    "import json"
   ]
  },
  {
   "cell_type": "markdown",
   "id": "41b423cc",
   "metadata": {},
   "source": [
    "# parse JSON - convert from json to python\n",
    "\n",
    "If you have a json string you can parse it by using the json.loads() method."
   ]
  },
  {
   "cell_type": "code",
   "execution_count": 21,
   "id": "1dd2c27f",
   "metadata": {},
   "outputs": [
    {
     "name": "stdout",
     "output_type": "stream",
     "text": [
      "30\n"
     ]
    }
   ],
   "source": [
    "import json\n",
    "\n",
    "#some JSON\n",
    "\n",
    "x = '{\"name\" : \"Elango\", \"age\" : 30 , \"city\":\"New York\"}'\n",
    "\n",
    "#parse x:\n",
    "y= json.loads(x)\n",
    "\n",
    "# the result is a Python dictionary\n",
    "\n",
    "print(y[\"age\"])\n",
    "\n"
   ]
  },
  {
   "cell_type": "markdown",
   "id": "0b60fda6",
   "metadata": {},
   "source": [
    "# convert from Python to json\n",
    "\n",
    "If you have a python object you can convert to into a JSON string by using the json.dumps() method."
   ]
  },
  {
   "cell_type": "code",
   "execution_count": 24,
   "id": "aa139231",
   "metadata": {},
   "outputs": [
    {
     "name": "stdout",
     "output_type": "stream",
     "text": [
      "{\"name\": \"elango\", \"age\": 20, \"city\": \"New york\"}\n",
      "<class 'str'>\n"
     ]
    }
   ],
   "source": [
    "import json\n",
    "\n",
    "# a python object (dict)\n",
    "\n",
    "x = {\n",
    "    \"name\" : \"elango\",\n",
    "    \"age\"  : 20,\n",
    "    \"city\" : \"New york\"\n",
    "}\n",
    "# convert into Json\n",
    "y=json.dumps(x)\n",
    "\n",
    "#the result is a json string:\n",
    "print(y)\n",
    "print(type(y))"
   ]
  },
  {
   "cell_type": "markdown",
   "id": "0ef38a80",
   "metadata": {},
   "source": [
    "# you can convert python objects of the following types into Json strings:\n",
    "\n",
    "dict\n",
    "\n",
    "list\n",
    "\n",
    "tuple\n",
    "\n",
    "string\n",
    "\n",
    "int\n",
    "\n",
    "float\n",
    "\n",
    "True\n",
    "\n",
    "False\n",
    "\n",
    "none"
   ]
  },
  {
   "cell_type": "code",
   "execution_count": 25,
   "id": "834d3d64",
   "metadata": {},
   "outputs": [
    {
     "name": "stdout",
     "output_type": "stream",
     "text": [
      "{\"name\": \"John\", \"age\": 30}\n",
      "[\"apple\", \"bananas\"]\n",
      "[\"apple\", \"bananas\"]\n",
      "\"hello\"\n",
      "42\n",
      "31.76\n",
      "true\n",
      "false\n",
      "null\n"
     ]
    }
   ],
   "source": [
    "import json\n",
    "\n",
    "print(json.dumps({\"name\": \"John\", \"age\": 30}))#dict convert into object\n",
    "print(json.dumps([\"apple\", \"bananas\"]))#list convert into array\n",
    "print(json.dumps((\"apple\", \"bananas\")))#tuple convert into array\n",
    "print(json.dumps(\"hello\"))#str convert into string\n",
    "print(json.dumps(42))#int convert into number\n",
    "print(json.dumps(31.76))#int convert into number\n",
    "print(json.dumps(True))#True convert into true\n",
    "print(json.dumps(False))#False convert into false\n",
    "print(json.dumps(None))#None convert into null\n"
   ]
  },
  {
   "cell_type": "code",
   "execution_count": 26,
   "id": "d01e1264",
   "metadata": {},
   "outputs": [
    {
     "name": "stdout",
     "output_type": "stream",
     "text": [
      "{\"name\": \"Elango\", \"age\": 20, \"married\": false, \"divorced\": false, \"children\": null, \"pets\": \"dog\", \"cars\": [{\"model\": \"BMW 230\", \"mpg\": 27.5}, {\"model\": \"Ford Edge\", \"mpg\": 24.1}]}\n"
     ]
    }
   ],
   "source": [
    "# conver a python object containing all the legal data types:\n",
    "\n",
    "import json\n",
    "\n",
    "\n",
    "x = {\n",
    "  \"name\": \"Elango\",\n",
    "  \"age\": 20,\n",
    "  \"married\": False,\n",
    "  \"divorced\": False,\n",
    "  \"children\": None,\n",
    "  \"pets\": \"dog\",\n",
    "  \"cars\": [\n",
    "    {\"model\": \"BMW 230\", \"mpg\": 27.5},\n",
    "    {\"model\": \"Ford Edge\", \"mpg\": 24.1}\n",
    "  ]\n",
    "}\n",
    "\n",
    "print(json.dumps(x))\n"
   ]
  },
  {
   "cell_type": "markdown",
   "id": "f242211f",
   "metadata": {},
   "source": [
    "# Format the result\n",
    "\n",
    "the example above prints a Json string but it is not very easy to read with no indentations and line breaks.\n",
    "\n",
    "the json.dumps() method has parameters to make it easier to read the result:"
   ]
  },
  {
   "cell_type": "code",
   "execution_count": 30,
   "id": "a5d676eb",
   "metadata": {},
   "outputs": [
    {
     "name": "stdout",
     "output_type": "stream",
     "text": [
      "{\n",
      "     \"name\": \"Elango\",\n",
      "     \"age\": 20,\n",
      "     \"married\": false,\n",
      "     \"divorced\": false,\n",
      "     \"children\": null,\n",
      "     \"pets\": \"dog\",\n",
      "     \"cars\": [\n",
      "          {\n",
      "               \"model\": \"BMW 230\",\n",
      "               \"mpg\": 27.5\n",
      "          },\n",
      "          {\n",
      "               \"model\": \"Ford Edge\",\n",
      "               \"mpg\": 24.1\n",
      "          }\n",
      "     ]\n",
      "}\n"
     ]
    }
   ],
   "source": [
    "# Use the indent parameter to define the numbers of indents:\n",
    "\n",
    "# Use four indents to make it easier to read the result:\n",
    "print(json.dumps(x, indent = 5))"
   ]
  },
  {
   "cell_type": "code",
   "execution_count": 31,
   "id": "345e28a8",
   "metadata": {},
   "outputs": [
    {
     "name": "stdout",
     "output_type": "stream",
     "text": [
      "{\n",
      "    \"name\"=\"Elango\".\n",
      "    \"age\"=20.\n",
      "    \"married\"=false.\n",
      "    \"divorced\"=false.\n",
      "    \"children\"=null.\n",
      "    \"pets\"=\"dog\".\n",
      "    \"cars\"=[\n",
      "        {\n",
      "            \"model\"=\"BMW 230\".\n",
      "            \"mpg\"=27.5\n",
      "        }.\n",
      "        {\n",
      "            \"model\"=\"Ford Edge\".\n",
      "            \"mpg\"=24.1\n",
      "        }\n",
      "    ]\n",
      "}\n"
     ]
    }
   ],
   "source": [
    "# Use the separators parameter to change the default separator\n",
    "\n",
    "z = json.dumps(x, indent=4, separators=(\".\",\"=\"))\n",
    "\n",
    "print(z)"
   ]
  },
  {
   "cell_type": "markdown",
   "id": "c45b8b23",
   "metadata": {},
   "source": [
    "# Order the result\n",
    "\n",
    "the json.dumps() method has parameters to order the keys in the result:"
   ]
  },
  {
   "cell_type": "code",
   "execution_count": 32,
   "id": "9c1160a5",
   "metadata": {},
   "outputs": [
    {
     "name": "stdout",
     "output_type": "stream",
     "text": [
      "{\n",
      "    \"age\": 20,\n",
      "    \"cars\": [\n",
      "        {\n",
      "            \"model\": \"BMW 230\",\n",
      "            \"mpg\": 27.5\n",
      "        },\n",
      "        {\n",
      "            \"model\": \"Ford Edge\",\n",
      "            \"mpg\": 24.1\n",
      "        }\n",
      "    ],\n",
      "    \"children\": null,\n",
      "    \"divorced\": false,\n",
      "    \"married\": false,\n",
      "    \"name\": \"Elango\",\n",
      "    \"pets\": \"dog\"\n",
      "}\n"
     ]
    }
   ],
   "source": [
    "# use the sort_keys parameter to specify if the result should be sorted or not:\n",
    "\n",
    "print(json.dumps(x,indent=4,sort_keys=True))"
   ]
  },
  {
   "cell_type": "markdown",
   "id": "f5244d1b",
   "metadata": {},
   "source": [
    "# RegEx \n",
    "\n",
    "A RegEx or Regular Expression, is a sequence of character that forms a search pattern\n",
    "\n",
    "RegEx can be used to check if a string contains the specified search pattern"
   ]
  },
  {
   "cell_type": "markdown",
   "id": "e98b3589",
   "metadata": {},
   "source": [
    "# RegEx in python\n",
    "\n",
    "when you have imported the re module you can start using regular expressions:"
   ]
  },
  {
   "cell_type": "code",
   "execution_count": 38,
   "id": "a7346881",
   "metadata": {},
   "outputs": [
    {
     "name": "stdout",
     "output_type": "stream",
     "text": [
      "YES! We have a match!\n"
     ]
    }
   ],
   "source": [
    "import re\n",
    "\n",
    "#Check if the string starts with \"The\" and ends with \"Spain\":\n",
    "\n",
    "txt = \"The rain in Spain\"\n",
    "x = re.search(\"^The.*Spain$\", txt)\n",
    "\n",
    "if x:\n",
    "  print(\"YES! We have a match!\")\n",
    "else:\n",
    "  print(\"No match\")\n"
   ]
  },
  {
   "cell_type": "code",
   "execution_count": 33,
   "id": "b8cefa4f",
   "metadata": {},
   "outputs": [
    {
     "name": "stdout",
     "output_type": "stream",
     "text": [
      "<re.Match object; span=(11, 24), match='Brain insight'>\n"
     ]
    }
   ],
   "source": [
    "import re\n",
    "\n",
    "text = \"Welcome to Brain insight pvt.solution.. \"\n",
    "\n",
    "result = re.compile(\"Brain insight\")\n",
    "\n",
    "ans = result.search(text)\n",
    "\n",
    "print(ans)"
   ]
  },
  {
   "cell_type": "markdown",
   "id": "be8a42f1",
   "metadata": {},
   "source": [
    "# the findall() function\n",
    "\n",
    "the findall() function returns a list containing all matches."
   ]
  },
  {
   "cell_type": "code",
   "execution_count": 39,
   "id": "b0645db8",
   "metadata": {},
   "outputs": [
    {
     "name": "stdout",
     "output_type": "stream",
     "text": [
      "['ai', 'ai']\n"
     ]
    }
   ],
   "source": [
    "import re\n",
    "\n",
    "txt = \"The rain in Spain\"\n",
    "x = re.findall(\"ai\", txt)\n",
    "print(x)"
   ]
  },
  {
   "cell_type": "code",
   "execution_count": 35,
   "id": "6377fd31",
   "metadata": {},
   "outputs": [
    {
     "name": "stdout",
     "output_type": "stream",
     "text": [
      "['Welcome', 'to', 'Brain', 'insight', 'pvt', 'solution']\n"
     ]
    }
   ],
   "source": [
    "#findall method\n",
    "\n",
    "import re\n",
    "\n",
    "text = \"Welcome to Brain insight pvt.solution.. \"\n",
    "\n",
    "result = re.compile(\"[a-zA-Z0-9]+\")\n",
    "\n",
    "ans = result.findall(text)\n",
    "\n",
    "print(ans)"
   ]
  },
  {
   "cell_type": "code",
   "execution_count": 37,
   "id": "4be2beac",
   "metadata": {},
   "outputs": [
    {
     "name": "stdout",
     "output_type": "stream",
     "text": [
      "['elangosridhar11@gmail.com']\n"
     ]
    }
   ],
   "source": [
    "#findall method\n",
    "\n",
    "import re\n",
    "\n",
    "text = \"Contact me if you need any help at elangosridhar11@gmail.com \"\n",
    "\n",
    "result = re.compile(\"[a-zA-Z0-9\\.]+@+[a-zA-Z]+\\.+[a-zA-Z]+\")\n",
    "\n",
    "ans = result.findall(text)\n",
    "\n",
    "print(ans)"
   ]
  },
  {
   "cell_type": "markdown",
   "id": "e72db871",
   "metadata": {},
   "source": [
    "# The split()  Function\n",
    "\n",
    "the split() function return a list where the string has been split each match"
   ]
  },
  {
   "cell_type": "code",
   "execution_count": 40,
   "id": "8751a088",
   "metadata": {},
   "outputs": [
    {
     "name": "stdout",
     "output_type": "stream",
     "text": [
      "['The', 'rain', 'in', 'spain']\n"
     ]
    }
   ],
   "source": [
    "import re\n",
    "\n",
    "# split at each white-space character\n",
    "\n",
    "txt = \"The rain in spain\"\n",
    "x=re.split(\"\\s\",txt)\n",
    "print(x)"
   ]
  },
  {
   "cell_type": "code",
   "execution_count": 42,
   "id": "13e39770",
   "metadata": {},
   "outputs": [
    {
     "name": "stdout",
     "output_type": "stream",
     "text": [
      "['The', 'rain in spain']\n"
     ]
    }
   ],
   "source": [
    "import re \n",
    "\n",
    "# split the string only at the first occurence:\n",
    "\n",
    "txt = \"The rain in spain\"\n",
    "x = re.split(\"\\s\",txt,1)\n",
    "print(x)"
   ]
  },
  {
   "cell_type": "markdown",
   "id": "022cd461",
   "metadata": {},
   "source": [
    "# sub() function \n",
    "\n",
    "the sub() function replaces the matches with the text of your choice:\n",
    "\n"
   ]
  },
  {
   "cell_type": "code",
   "execution_count": 43,
   "id": "dd1ed744",
   "metadata": {},
   "outputs": [
    {
     "name": "stdout",
     "output_type": "stream",
     "text": [
      "The9rain9in9Spain\n"
     ]
    }
   ],
   "source": [
    "import re\n",
    "\n",
    "# replace every white space character with the number 9\n",
    "txt = \"The rain in Spain\"\n",
    "x = re.sub(\"\\s\", \"9\", txt)\n",
    "print(x)\n"
   ]
  },
  {
   "cell_type": "markdown",
   "id": "aa1de577",
   "metadata": {},
   "source": [
    "# match object \n",
    "\n",
    "a match object is an object containing information about the search and the result"
   ]
  },
  {
   "cell_type": "code",
   "execution_count": 46,
   "id": "343a29b0",
   "metadata": {},
   "outputs": [
    {
     "name": "stdout",
     "output_type": "stream",
     "text": [
      "<re.Match object; span=(6, 8), match='in'>\n"
     ]
    }
   ],
   "source": [
    "import re \n",
    "\n",
    "# do search that will return a Match object\n",
    "\n",
    "txt = \"The rain in spain\"\n",
    "\n",
    "x = re.search(\"in\" , txt)\n",
    "\n",
    "print(x)"
   ]
  },
  {
   "cell_type": "markdown",
   "id": "cfc104ff",
   "metadata": {},
   "source": [
    "# .span() returns a tuple containing the start-, and end positions of the match.\n",
    "\n",
    "# .string return the string passed into the function\n",
    "\n",
    "# group() return the part of the string where there was a match"
   ]
  },
  {
   "cell_type": "code",
   "execution_count": 47,
   "id": "a3d19d40",
   "metadata": {},
   "outputs": [
    {
     "name": "stdout",
     "output_type": "stream",
     "text": [
      "(10, 16)\n"
     ]
    }
   ],
   "source": [
    "import re \n",
    "\n",
    "txt = \" hii i am Elango\"\n",
    "\n",
    "x = re.search(r\"\\bE\\w+\" ,txt)\n",
    "print(x.span())"
   ]
  },
  {
   "cell_type": "code",
   "execution_count": 48,
   "id": "ac23e888",
   "metadata": {},
   "outputs": [
    {
     "name": "stdout",
     "output_type": "stream",
     "text": [
      "The rain in Spain\n"
     ]
    }
   ],
   "source": [
    "import re\n",
    "\n",
    "txt = \"The rain in Spain\"\n",
    "x = re.search(r\"\\bS\\w+\", txt)\n",
    "print(x.string)"
   ]
  },
  {
   "cell_type": "code",
   "execution_count": 49,
   "id": "f53e8493",
   "metadata": {},
   "outputs": [
    {
     "name": "stdout",
     "output_type": "stream",
     "text": [
      "Spain\n"
     ]
    }
   ],
   "source": [
    "import re\n",
    "\n",
    "txt = \"The rain in Spain\"\n",
    "x = re.search(r\"\\bS\\w+\", txt)\n",
    "print(x.group())"
   ]
  },
  {
   "cell_type": "markdown",
   "id": "5591bb82",
   "metadata": {},
   "source": [
    "# PIP\n",
    "\n",
    "## What is PIP?\n",
    "\n",
    "PIP is a package manager for python packages, or modules if you like\n",
    "\n",
    "## what is a package?\n",
    "\n",
    "a package contains all the files you need for a module\n",
    "\n",
    "Modules are python code libraries you can include in your project"
   ]
  },
  {
   "cell_type": "code",
   "execution_count": 132,
   "id": "6acb64aa",
   "metadata": {},
   "outputs": [
    {
     "name": "stdout",
     "output_type": "stream",
     "text": [
      "Requirement already satisfied: numpy in c:\\users\\office\\anaconda3\\lib\\site-packages (1.20.1)\n"
     ]
    }
   ],
   "source": [
    "!PiP install numpy"
   ]
  },
  {
   "cell_type": "code",
   "execution_count": 133,
   "id": "70b55c96",
   "metadata": {},
   "outputs": [
    {
     "name": "stdout",
     "output_type": "stream",
     "text": [
      "pip 21.0.1 from C:\\Users\\OFFICE\\anaconda3\\lib\\site-packages\\pip (python 3.8)\n",
      "\n"
     ]
    }
   ],
   "source": [
    "!pip --version"
   ]
  },
  {
   "cell_type": "code",
   "execution_count": 134,
   "id": "81535c3d",
   "metadata": {},
   "outputs": [
    {
     "name": "stdout",
     "output_type": "stream",
     "text": [
      "Collecting camelcase\n",
      "  Downloading camelcase-0.2.tar.gz (1.3 kB)\n",
      "Building wheels for collected packages: camelcase\n",
      "  Building wheel for camelcase (setup.py): started\n",
      "  Building wheel for camelcase (setup.py): finished with status 'done'\n",
      "  Created wheel for camelcase: filename=camelcase-0.2-py3-none-any.whl size=1789 sha256=2d51ebcc471cc3417f8da6e7a533e70a70b6fd46e627cc95e9ecf155b98a2501\n",
      "  Stored in directory: c:\\users\\office\\appdata\\local\\pip\\cache\\wheels\\20\\1a\\a6\\5651fe658d5ffd7fcf610723557f7b20a52a71d7e8e1849cb6\n",
      "Successfully built camelcase\n",
      "Installing collected packages: camelcase\n",
      "Successfully installed camelcase-0.2\n"
     ]
    }
   ],
   "source": [
    "!pip install camelcase"
   ]
  },
  {
   "cell_type": "code",
   "execution_count": 135,
   "id": "786cbde2",
   "metadata": {},
   "outputs": [
    {
     "name": "stdout",
     "output_type": "stream",
     "text": [
      "Hello World\n"
     ]
    }
   ],
   "source": [
    "import camelcase\n",
    "\n",
    "c = camelcase.CamelCase()\n",
    "\n",
    "txt = \"hello world\"\n",
    "\n",
    "print(c.hump(txt))\n"
   ]
  },
  {
   "cell_type": "markdown",
   "id": "6c57ecc2",
   "metadata": {},
   "source": [
    "# Python Try Except\n",
    "\n",
    "the try block lets you test a block of code for errors\n",
    "\n",
    "the except block lets you handle the error\n",
    "\n",
    "the else block lets you execute code when there is no error.\n",
    "\n",
    "the finally block lets you execute code, regardless of the result of the try- and except blocks.\n",
    "\n",
    "# Exception Handling\n",
    "When an error occurs, or exception as we call it, Python will normally stop and generate an error message.\n",
    "\n",
    "These exceptions can be handled using the try statement:\n",
    "\n"
   ]
  },
  {
   "cell_type": "code",
   "execution_count": 56,
   "id": "d47c6d49",
   "metadata": {},
   "outputs": [
    {
     "name": "stdout",
     "output_type": "stream",
     "text": [
      "an exception occurred name 'i' is not defined\n"
     ]
    }
   ],
   "source": [
    "try:\n",
    "    print(i)\n",
    "except Exception as e:\n",
    "    print(\"an exception occurred\" ,e)"
   ]
  },
  {
   "cell_type": "code",
   "execution_count": 52,
   "id": "86563929",
   "metadata": {},
   "outputs": [
    {
     "name": "stdout",
     "output_type": "stream",
     "text": [
      "6\n",
      "six\n",
      "something invalid literal for int() with base 10: 'six'\n"
     ]
    }
   ],
   "source": [
    "try:\n",
    "    a=int(input())\n",
    "    b=int(input())\n",
    "    print(a+b)\n",
    "except Exception as e:\n",
    "    print(\"something\",e)"
   ]
  },
  {
   "cell_type": "markdown",
   "id": "38034225",
   "metadata": {},
   "source": [
    "# Many Exceptions \n",
    "you can define as many exception blocks as you want,,eg. if you want to execute a special block of code for a special kind of error:"
   ]
  },
  {
   "cell_type": "code",
   "execution_count": 58,
   "id": "53b64e45",
   "metadata": {},
   "outputs": [
    {
     "name": "stdout",
     "output_type": "stream",
     "text": [
      "Variable x is not defined\n"
     ]
    }
   ],
   "source": [
    "# print one message if the try block raises a Nameerror and another for other errors:\n",
    "\n",
    "try:\n",
    "    print(m)\n",
    "except NameError:\n",
    "    print(\"Variable x is not defined\")\n",
    "except:\n",
    "    print(\"Something else went wrong\")"
   ]
  },
  {
   "cell_type": "markdown",
   "id": "61d6ca40",
   "metadata": {},
   "source": [
    "# Else \n",
    "\n",
    "you can use the else keyword to define a block of code to be executed if no errors were raised:"
   ]
  },
  {
   "cell_type": "code",
   "execution_count": 59,
   "id": "b8d70ef0",
   "metadata": {},
   "outputs": [
    {
     "name": "stdout",
     "output_type": "stream",
     "text": [
      "Hello\n",
      "Nothing went wrong\n"
     ]
    }
   ],
   "source": [
    "# in this example the try block does not generate any error\n",
    "\n",
    "try:\n",
    "    print(\"Hello\")\n",
    "except:\n",
    "    print(\"Something went wrong\")\n",
    "else:\n",
    "    print(\"Nothing went wrong\")"
   ]
  },
  {
   "cell_type": "markdown",
   "id": "d8241407",
   "metadata": {},
   "source": [
    "# finally\n",
    "\n",
    "the finally block, if specified will be executed regardless if the try block raises an error or not."
   ]
  },
  {
   "cell_type": "code",
   "execution_count": 62,
   "id": "403fabaf",
   "metadata": {},
   "outputs": [
    {
     "name": "stdout",
     "output_type": "stream",
     "text": [
      "Something went wrong\n",
      "The 'try except' is finished\n",
      "i\n",
      "the try except is finished\n"
     ]
    }
   ],
   "source": [
    "try:\n",
    "    print(i)\n",
    "except:\n",
    "    print(\"Something went wrong\")\n",
    "finally:\n",
    "    print(\"The 'try except' is finished\")\n",
    "    \n",
    "# if the try block is correct also the finally block will run\n",
    "\n",
    "try:\n",
    "    print(\"i\")\n",
    "except:\n",
    "    print(\"something went worng\")\n",
    "finally:\n",
    "    print(\"the try except is finished\")\n"
   ]
  },
  {
   "cell_type": "markdown",
   "id": "eb50734e",
   "metadata": {},
   "source": [
    "# Raise an exception\n",
    "As a Python developer you can choose to throw an exception if a condition occurs.\n",
    "\n",
    "To throw (or raise) an exception, use the raise keyword."
   ]
  },
  {
   "cell_type": "code",
   "execution_count": 64,
   "id": "7d020d6e",
   "metadata": {},
   "outputs": [
    {
     "name": "stdout",
     "output_type": "stream",
     "text": [
      "-5\n"
     ]
    },
    {
     "ename": "Exception",
     "evalue": "Sorry, no numbers below zero",
     "output_type": "error",
     "traceback": [
      "\u001b[1;31m---------------------------------------------------------------------------\u001b[0m",
      "\u001b[1;31mException\u001b[0m                                 Traceback (most recent call last)",
      "\u001b[1;32m<ipython-input-64-f4abd251b52d>\u001b[0m in \u001b[0;36m<module>\u001b[1;34m\u001b[0m\n\u001b[0;32m      2\u001b[0m \u001b[1;33m\u001b[0m\u001b[0m\n\u001b[0;32m      3\u001b[0m \u001b[1;32mif\u001b[0m \u001b[0mx\u001b[0m \u001b[1;33m<\u001b[0m \u001b[1;36m0\u001b[0m\u001b[1;33m:\u001b[0m\u001b[1;33m\u001b[0m\u001b[1;33m\u001b[0m\u001b[0m\n\u001b[1;32m----> 4\u001b[1;33m     \u001b[1;32mraise\u001b[0m \u001b[0mException\u001b[0m\u001b[1;33m(\u001b[0m\u001b[1;34m\"Sorry, no numbers below zero\"\u001b[0m\u001b[1;33m)\u001b[0m\u001b[1;33m\u001b[0m\u001b[1;33m\u001b[0m\u001b[0m\n\u001b[0m",
      "\u001b[1;31mException\u001b[0m: Sorry, no numbers below zero"
     ]
    }
   ],
   "source": [
    "x = int(input())\n",
    "\n",
    "if x < 0:\n",
    "    raise Exception(\"Sorry, no numbers below zero\")"
   ]
  },
  {
   "cell_type": "code",
   "execution_count": 65,
   "id": "43a6d986",
   "metadata": {},
   "outputs": [
    {
     "ename": "TypeError",
     "evalue": "Only integer are allowed",
     "output_type": "error",
     "traceback": [
      "\u001b[1;31m---------------------------------------------------------------------------\u001b[0m",
      "\u001b[1;31mTypeError\u001b[0m                                 Traceback (most recent call last)",
      "\u001b[1;32m<ipython-input-65-189ad694266a>\u001b[0m in \u001b[0;36m<module>\u001b[1;34m\u001b[0m\n\u001b[0;32m      4\u001b[0m \u001b[1;33m\u001b[0m\u001b[0m\n\u001b[0;32m      5\u001b[0m \u001b[1;32mif\u001b[0m \u001b[1;32mnot\u001b[0m \u001b[0mtype\u001b[0m\u001b[1;33m(\u001b[0m\u001b[0mX\u001b[0m\u001b[1;33m)\u001b[0m \u001b[1;32mis\u001b[0m \u001b[0mint\u001b[0m\u001b[1;33m:\u001b[0m\u001b[1;33m\u001b[0m\u001b[1;33m\u001b[0m\u001b[0m\n\u001b[1;32m----> 6\u001b[1;33m     \u001b[1;32mraise\u001b[0m \u001b[0mTypeError\u001b[0m\u001b[1;33m(\u001b[0m\u001b[1;34m\"Only integer are allowed\"\u001b[0m\u001b[1;33m)\u001b[0m\u001b[1;33m\u001b[0m\u001b[1;33m\u001b[0m\u001b[0m\n\u001b[0m",
      "\u001b[1;31mTypeError\u001b[0m: Only integer are allowed"
     ]
    }
   ],
   "source": [
    "# raise a TypeError if x is not an interger\n",
    "\n",
    "X = \"hello\"\n",
    "\n",
    "if not type(X) is int:\n",
    "    raise TypeError(\"Only integer are allowed\")"
   ]
  },
  {
   "cell_type": "markdown",
   "id": "dd82c5ea",
   "metadata": {},
   "source": [
    "#  Python user input\n",
    "\n",
    "pyhthon allows for user input \n",
    "\n",
    "that means we are able to ask the user for input\n",
    "\n",
    "the method is a bit different in python 3.6 than python 2.7\n",
    "\n",
    "python 3.6 uses the input() method.\n",
    "\n",
    "python 2.7 uses the raw_input() method.\n",
    "\n"
   ]
  },
  {
   "cell_type": "code",
   "execution_count": 66,
   "id": "cb28f8ff",
   "metadata": {},
   "outputs": [
    {
     "name": "stdout",
     "output_type": "stream",
     "text": [
      "Enter username: elango\n",
      "Username is : elango\n"
     ]
    }
   ],
   "source": [
    "# Python 3.6\n",
    "\n",
    "username = input(\"Enter username: \")\n",
    "print(\"Username is : \" + username)"
   ]
  },
  {
   "cell_type": "code",
   "execution_count": 68,
   "id": "3ceb67da",
   "metadata": {},
   "outputs": [],
   "source": [
    "# python 2.7\n",
    "#username = raw_input(\"Enter username\")\n",
    "#print(\"Username is: \" + username)"
   ]
  },
  {
   "cell_type": "markdown",
   "id": "46497870",
   "metadata": {},
   "source": [
    "# string formatting\n",
    "\n",
    "To make sure a string will display as excepted, we can format the result with the format() method\n",
    "\n",
    "## String format()\n",
    "\n",
    "the format() method allows you to format selected parts of a string\n",
    "\n",
    "sometimes there a parts of a text that you do not control, maybe they come from a database or user input?\n",
    "\n",
    "to control such value add placeholders (curly brackets {}) in the text and run the values through the format() method."
   ]
  },
  {
   "cell_type": "code",
   "execution_count": 71,
   "id": "6b71fb93",
   "metadata": {},
   "outputs": [
    {
     "name": "stdout",
     "output_type": "stream",
     "text": [
      "The price is 49 dollars\n"
     ]
    }
   ],
   "source": [
    "price = 49\n",
    "txt = \"The price is {} dollars\"\n",
    "print(txt.format(price))"
   ]
  },
  {
   "cell_type": "code",
   "execution_count": 72,
   "id": "ae83711c",
   "metadata": {},
   "outputs": [
    {
     "name": "stdout",
     "output_type": "stream",
     "text": [
      "the price is 49.00 dollars\n"
     ]
    }
   ],
   "source": [
    "# format the price to be displayed as a number with two decimal\n",
    "\n",
    "txt = \"the price is {:.2f} dollars\"\n",
    "print(txt.format(price))"
   ]
  },
  {
   "cell_type": "markdown",
   "id": "1cdba0b4",
   "metadata": {},
   "source": [
    "# Multiple Values\n",
    "If you want to use more values, just add more values to the format() method:"
   ]
  },
  {
   "cell_type": "code",
   "execution_count": 73,
   "id": "98ee686f",
   "metadata": {},
   "outputs": [
    {
     "name": "stdout",
     "output_type": "stream",
     "text": [
      "I want 3 pieces of item number 567 for 49.00 dollars.\n"
     ]
    }
   ],
   "source": [
    "quantity = 3\n",
    "itemno = 567\n",
    "price = 49\n",
    "myorder = \"I want {} pieces of item number {} for {:.2f} dollars.\"\n",
    "print(myorder.format(quantity, itemno, price))"
   ]
  },
  {
   "cell_type": "markdown",
   "id": "5c8d1e7a",
   "metadata": {},
   "source": [
    "# Index Numbers\n",
    "You can use index numbers (a number inside the curly brackets {0}) to be sure the values are placed in the correct placeholders:"
   ]
  },
  {
   "cell_type": "code",
   "execution_count": 74,
   "id": "55827735",
   "metadata": {},
   "outputs": [
    {
     "name": "stdout",
     "output_type": "stream",
     "text": [
      "I want 3 pieces of item number 567 for 49.00 dollars.\n"
     ]
    }
   ],
   "source": [
    "quantity = 3\n",
    "itemno = 567\n",
    "price = 49\n",
    "myorder = \"I want {0} pieces of item number {1} for {2:.2f} dollars.\"\n",
    "print(myorder.format(quantity, itemno, price))\n"
   ]
  },
  {
   "cell_type": "markdown",
   "id": "c2e87e09",
   "metadata": {},
   "source": [
    "# Named Indexes\n",
    "You can also use named indexes by entering a name inside the curly brackets {carname}, but then you must use names when you pass the parameter values txt.format(carname = \"Ford\"):\n",
    "\n"
   ]
  },
  {
   "cell_type": "code",
   "execution_count": 75,
   "id": "2982cf2d",
   "metadata": {},
   "outputs": [
    {
     "name": "stdout",
     "output_type": "stream",
     "text": [
      "I have a Ford, it is a Mustang.\n"
     ]
    }
   ],
   "source": [
    "myorder = \"I have a {carname}, it is a {model}.\"\n",
    "print(myorder.format(carname = \"Ford\", model = \"Mustang\"))"
   ]
  },
  {
   "cell_type": "markdown",
   "id": "01397a92",
   "metadata": {},
   "source": [
    "# file handling\n",
    "\n",
    "the key function for working with files in python is the open() function\n",
    "\n",
    "the open() function takes two parameters: filename, and mode.\n",
    "\n",
    "there are four different methods (modes) for opening a file:\n",
    "\n",
    "__r__ - Read default value.opens a file for reading error if the file does not exist\n",
    "\n",
    "__a__ - Append opens a file for appending creates the file if it does not exist\n",
    "\n",
    "__w__ - write - opens a file for writing creates the file if it does not exist\n",
    "\n",
    "__x__ - Create - creates the specified file, retrun an error if the file exists\n",
    "\n",
    "__t__ - text - default value.text mode\n",
    "\n",
    "__b__ - Binary - Binary mode\n",
    "\n",
    "# Syntax\n",
    "\n",
    "to open a file for reading it is enough to specify the name of the file:\n",
    "\n",
    "f = open(\"demofile.txt\")\n",
    "\n",
    "f = open(\"demofile.txt\",\"rt\")"
   ]
  },
  {
   "cell_type": "markdown",
   "id": "668a9313",
   "metadata": {},
   "source": [
    "# write to an existing file\n",
    "\n",
    "to write to an existing file,you must add a parameter to the open() function:\n",
    "\n",
    "__a__ - append - will append to the end of the file\n",
    "\n",
    "__w__ - Write - will overwrite any existing content\n",
    "\n",
    "# Create a New file\n",
    "\n",
    "To create a new file in python use the open() method with one of the following parameters:\n",
    "\n",
    "__x__ - Create - will create a file, retrun an error if the file exist\n",
    "\n",
    "__a__ - Append - will create a file if the specified file does not exist\n",
    "\n",
    "__w__ - Write - will create a file if the specified file does not exist\n",
    "\n"
   ]
  },
  {
   "cell_type": "code",
   "execution_count": 101,
   "id": "3d1e03f8",
   "metadata": {},
   "outputs": [
    {
     "name": "stdout",
     "output_type": "stream",
     "text": [
      "mango\n",
      "apple\n",
      "graphs\n"
     ]
    }
   ],
   "source": [
    "f = open(\"fruits.txt\",\"a\")\n",
    "f.write=(\"orange\\n\")\n",
    "f.write=(\"banana\\n\")\n",
    "f.close()\n",
    "\n",
    "f = open(\"fruits.txt\",\"r+\")\n",
    "print(f.read())\n",
    "f.close()\n"
   ]
  },
  {
   "cell_type": "markdown",
   "id": "922d61d2",
   "metadata": {},
   "source": [
    "# Pythonh delete file\n",
    "\n",
    "# delete a file\n",
    "\n",
    "to delete a file, you must import the os module, and run its os.remove() function"
   ]
  },
  {
   "cell_type": "code",
   "execution_count": 102,
   "id": "2c9d8f08",
   "metadata": {},
   "outputs": [],
   "source": [
    "import os\n",
    "os.remove(\"fruits.txt\")"
   ]
  },
  {
   "cell_type": "markdown",
   "id": "28f68e2b",
   "metadata": {},
   "source": [
    "# check if file exist:\n",
    "to avoid getting an error you might want to check if the file exists befor try to delete it:"
   ]
  },
  {
   "cell_type": "code",
   "execution_count": 103,
   "id": "60c9da82",
   "metadata": {},
   "outputs": [
    {
     "name": "stdout",
     "output_type": "stream",
     "text": [
      "the file does not exist\n"
     ]
    }
   ],
   "source": [
    "import os\n",
    "if os.path.exists(\"fruits.txt\"):\n",
    "    os.remove(\"fruits.txt\")\n",
    "else:\n",
    "    print(\"the file does not exist\")"
   ]
  },
  {
   "cell_type": "markdown",
   "id": "c91bd5dd",
   "metadata": {},
   "source": [
    "# delete folder\n",
    "\n",
    "To delete an entire folder, use the os.rmdir()"
   ]
  },
  {
   "cell_type": "code",
   "execution_count": 113,
   "id": "516426ac",
   "metadata": {},
   "outputs": [
    {
     "name": "stdout",
     "output_type": "stream",
     "text": [
      "Nmae:  elango\n",
      "Regno:  565678\n",
      "Nmae:  Manoj\n",
      "Regno:  565679\n",
      "Nmae:  Harish\n",
      "Regno:  565680\n"
     ]
    }
   ],
   "source": [
    "class Student:\n",
    "    def __init__(self):\n",
    "        self.name=\"elango\"\n",
    "        self.regno=\"565678\"\n",
    "        \n",
    "    def display(self):\n",
    "        print(\"Nmae: \", self.name)\n",
    "        print(\"Regno: \", self.regno)\n",
    "        \n",
    "s1 = Student()\n",
    "s2 = Student()\n",
    "s3 = Student()\n",
    "s1.display()\n",
    "\n",
    "s2.name=\"Manoj\"\n",
    "s2.regno=\"565679\"\n",
    "\n",
    "s3.name=\"Harish\"\n",
    "s3.regno=\"565680\"\n",
    "\n",
    "s2.display()\n",
    "s3.display()"
   ]
  },
  {
   "cell_type": "code",
   "execution_count": 122,
   "id": "066a5159",
   "metadata": {},
   "outputs": [
    {
     "name": "stdout",
     "output_type": "stream",
     "text": [
      "beautiful\n",
      "['_', '_', '_', '_', '_', '_', '_', '_', '_']\n",
      "Guess a letter: b\n",
      "match\n",
      "no match\n",
      "no match\n",
      "no match\n",
      "no match\n",
      "no match\n",
      "no match\n",
      "no match\n",
      "no match\n"
     ]
    }
   ],
   "source": [
    "import random\n",
    "\n",
    "word_list=[\"apple\",\"beautiful\",\"potato\"]\n",
    "lives = 6\n",
    "chosen_word = random.choice(word_list)\n",
    "print(chosen_word)\n",
    "\n",
    "display = []\n",
    "\n",
    "for letter in range(len(chosen_word)):\n",
    "    display += '_'\n",
    "    \n",
    "print(display)\n",
    "\n",
    "guess = input(\"Guess a letter: \")\n",
    "\n",
    "for letter in chosen_word:\n",
    "    if letter == guess:\n",
    "        print(\"match\")\n",
    "    else:\n",
    "        print(\"no match\")"
   ]
  },
  {
   "cell_type": "code",
   "execution_count": null,
   "id": "8dc5f587",
   "metadata": {},
   "outputs": [],
   "source": []
  },
  {
   "cell_type": "code",
   "execution_count": null,
   "id": "8544076d",
   "metadata": {},
   "outputs": [],
   "source": []
  }
 ],
 "metadata": {
  "kernelspec": {
   "display_name": "Python 3",
   "language": "python",
   "name": "python3"
  },
  "language_info": {
   "codemirror_mode": {
    "name": "ipython",
    "version": 3
   },
   "file_extension": ".py",
   "mimetype": "text/x-python",
   "name": "python",
   "nbconvert_exporter": "python",
   "pygments_lexer": "ipython3",
   "version": "3.8.8"
  }
 },
 "nbformat": 4,
 "nbformat_minor": 5
}
