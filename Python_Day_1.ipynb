{
 "cells": [
  {
   "cell_type": "markdown",
   "id": "00c7245a",
   "metadata": {},
   "source": [
    "# Python Day1\n",
    "this is my first program to print "
   ]
  },
  {
   "cell_type": "code",
   "execution_count": 2,
   "id": "0e47c4ca",
   "metadata": {},
   "outputs": [
    {
     "name": "stdout",
     "output_type": "stream",
     "text": [
      "hello world\n"
     ]
    }
   ],
   "source": [
    "print(\"hello world\")"
   ]
  },
  {
   "cell_type": "markdown",
   "id": "d3a74290",
   "metadata": {},
   "source": [
    "# Python Indentation\n",
    "\n",
    "Indentation refers to the spaces at the beginning of a code line.\n",
    "Where in other programming languages the indentation in code is for readability only\n",
    "the indentation in Python is very important.\n",
    "Python uses indentation to indicate a block of code\n",
    "\n"
   ]
  },
  {
   "cell_type": "code",
   "execution_count": 4,
   "id": "c6eb097c",
   "metadata": {},
   "outputs": [
    {
     "name": "stdout",
     "output_type": "stream",
     "text": [
      "it is true\n"
     ]
    }
   ],
   "source": [
    "if 6 < 7:\n",
    "    print(\"it is true\")"
   ]
  },
  {
   "cell_type": "markdown",
   "id": "edbe8838",
   "metadata": {},
   "source": [
    "python will give error if you skip the Indentation"
   ]
  },
  {
   "cell_type": "code",
   "execution_count": 5,
   "id": "4706a2c5",
   "metadata": {},
   "outputs": [
    {
     "ename": "IndentationError",
     "evalue": "expected an indented block (<ipython-input-5-ad774e86c149>, line 2)",
     "output_type": "error",
     "traceback": [
      "\u001b[1;36m  File \u001b[1;32m\"<ipython-input-5-ad774e86c149>\"\u001b[1;36m, line \u001b[1;32m2\u001b[0m\n\u001b[1;33m    print(\"it is true\")#it causes error\u001b[0m\n\u001b[1;37m    ^\u001b[0m\n\u001b[1;31mIndentationError\u001b[0m\u001b[1;31m:\u001b[0m expected an indented block\n"
     ]
    }
   ],
   "source": [
    "if 6 < 7:\n",
    "print(\"it is true\")#it causes error "
   ]
  },
  {
   "cell_type": "markdown",
   "id": "a730050d",
   "metadata": {},
   "source": [
    "the number of space uses programmer  common  in python is  four,but atlest we want to give one space to avoid error in program"
   ]
  },
  {
   "cell_type": "code",
   "execution_count": 13,
   "id": "3ddcd2ce",
   "metadata": {},
   "outputs": [
    {
     "name": "stdout",
     "output_type": "stream",
     "text": [
      "it is true\n",
      "it is true\n"
     ]
    }
   ],
   "source": [
    "if 4 < 5:\n",
    "    print(\"it is true\")\n",
    "if 4 < 5:\n",
    " print(\"it is true\")    "
   ]
  },
  {
   "cell_type": "markdown",
   "id": "eeb17626",
   "metadata": {},
   "source": [
    "you have to use same number of space in same block of code, otherwise it give error in python"
   ]
  },
  {
   "cell_type": "code",
   "execution_count": 12,
   "id": "fa6e5d46",
   "metadata": {},
   "outputs": [
    {
     "name": "stdout",
     "output_type": "stream",
     "text": [
      "it is true\n",
      "it is true\n"
     ]
    }
   ],
   "source": [
    "if 5 > 3:\n",
    "    print('it is true')\n",
    "    print('it is true')"
   ]
  },
  {
   "cell_type": "code",
   "execution_count": 10,
   "id": "cac8766a",
   "metadata": {},
   "outputs": [
    {
     "ename": "IndentationError",
     "evalue": "unexpected indent (<ipython-input-10-5224c4ce5225>, line 3)",
     "output_type": "error",
     "traceback": [
      "\u001b[1;36m  File \u001b[1;32m\"<ipython-input-10-5224c4ce5225>\"\u001b[1;36m, line \u001b[1;32m3\u001b[0m\n\u001b[1;33m    print('it is true')\u001b[0m\n\u001b[1;37m    ^\u001b[0m\n\u001b[1;31mIndentationError\u001b[0m\u001b[1;31m:\u001b[0m unexpected indent\n"
     ]
    }
   ],
   "source": [
    "if 5 > 3:\n",
    "    print('it is true')\n",
    "        print('it is true')"
   ]
  },
  {
   "cell_type": "markdown",
   "id": "56c60b4a",
   "metadata": {},
   "source": [
    "# variables in python\n",
    "\n",
    "### variables:\n",
    "                A reusable container for storing a values\n",
    "                a variable behave as it were the value it contains"
   ]
  },
  {
   "cell_type": "code",
   "execution_count": 14,
   "id": "5612b3f5",
   "metadata": {},
   "outputs": [
    {
     "name": "stdout",
     "output_type": "stream",
     "text": [
      "5\n",
      "hello\n"
     ]
    }
   ],
   "source": [
    "x = 5\n",
    "y = \"hello\"\n",
    "\n",
    "print(x)\n",
    "print(y)"
   ]
  },
  {
   "cell_type": "markdown",
   "id": "80d47e6b",
   "metadata": {},
   "source": [
    "variable do not to be decleared to be particular type ,they can change even after set the value."
   ]
  },
  {
   "cell_type": "code",
   "execution_count": 15,
   "id": "6f4f6266",
   "metadata": {},
   "outputs": [
    {
     "name": "stdout",
     "output_type": "stream",
     "text": [
      "elango\n"
     ]
    }
   ],
   "source": [
    "x = 5  #x is a type int\n",
    "x = \"elango\"# x is now type of string\n",
    "\n",
    "print(x)"
   ]
  },
  {
   "cell_type": "markdown",
   "id": "0a8aacd6",
   "metadata": {},
   "source": [
    "# casting in variables\n",
    "\n",
    "you can specific the type of variable using casting method"
   ]
  },
  {
   "cell_type": "code",
   "execution_count": 121,
   "id": "051ed5e3",
   "metadata": {},
   "outputs": [
    {
     "name": "stdout",
     "output_type": "stream",
     "text": [
      "3\n",
      "4.0\n",
      "4\n"
     ]
    }
   ],
   "source": [
    "x = str(3)#x will be string '3'\n",
    "y = float(4) #y will be float 4.0\n",
    "z = int(4) # z will be integer 4\n",
    "\n",
    "print(x)\n",
    "print(y)\n",
    "print(z)\n"
   ]
  },
  {
   "cell_type": "markdown",
   "id": "0b61f55e",
   "metadata": {},
   "source": [
    "# Type \n",
    "\n",
    "  \n",
    "  ### using \" type \" word we can find type of the variable"
   ]
  },
  {
   "cell_type": "code",
   "execution_count": 17,
   "id": "16690ed0",
   "metadata": {},
   "outputs": [
    {
     "name": "stdout",
     "output_type": "stream",
     "text": [
      "<class 'int'>\n",
      "<class 'float'>\n",
      "<class 'str'>\n"
     ]
    }
   ],
   "source": [
    "x = 5\n",
    "y = 6.9\n",
    "z = \"hello\"\n",
    "\n",
    "print(type(x))\n",
    "print(type(y))\n",
    "print(type(z))"
   ]
  },
  {
   "cell_type": "markdown",
   "id": "926e1320",
   "metadata": {},
   "source": [
    "# single or double quotes \n",
    " \n",
    " in python   you can declare string  using  single quote or double quote"
   ]
  },
  {
   "cell_type": "code",
   "execution_count": 18,
   "id": "62ff8a7e",
   "metadata": {},
   "outputs": [
    {
     "name": "stdout",
     "output_type": "stream",
     "text": [
      "hello\n",
      "hello\n"
     ]
    }
   ],
   "source": [
    "x = 'hello'#single quote\n",
    "y = \"hello\"# double quote\n",
    "\n",
    "print(x)\n",
    "print(y)"
   ]
  },
  {
   "cell_type": "markdown",
   "id": "41972513",
   "metadata": {},
   "source": [
    "# Case - sensitive\n",
    "\n",
    "variable names are case-sensitive"
   ]
  },
  {
   "cell_type": "code",
   "execution_count": 19,
   "id": "531ea1bf",
   "metadata": {},
   "outputs": [
    {
     "name": "stdout",
     "output_type": "stream",
     "text": [
      "hellow\n",
      "hii\n"
     ]
    }
   ],
   "source": [
    "x = \"hellow\"\n",
    "X = \"hii\" \n",
    "#this will create two variables first one is small x and second one capital X so this will create two variable\n",
    "\n",
    "print(x)\n",
    "print(X)"
   ]
  },
  {
   "cell_type": "markdown",
   "id": "94f0e6ca",
   "metadata": {},
   "source": [
    "# variables names\n",
    "  ### A variable can have a short name (like x and y) or a more descriptive name (age, carname, total_volume). Rules for Python variables:\n",
    "A variable name must start with a letter or the underscore character\n",
    "A variable name cannot start with a number\n",
    "A variable name can only contain alpha-numeric characters and underscores (A-z, 0-9, and _ )\n",
    "Variable names are case-sensitive (age, Age and AGE are three different variables)\n",
    "A variable name cannot be any of the Python keywords.\n"
   ]
  },
  {
   "cell_type": "code",
   "execution_count": 23,
   "id": "0cb53147",
   "metadata": {},
   "outputs": [
    {
     "name": "stdout",
     "output_type": "stream",
     "text": [
      "elango\n"
     ]
    }
   ],
   "source": [
    "Myname = \"elango\"\n",
    "my_Name = \"elango\"\n",
    "My1 =\"elango\"\n",
    "_my_Name = \"elango\"\n",
    "myname = \"elango\"\n",
    "\n",
    "print(_my_Name)"
   ]
  },
  {
   "cell_type": "code",
   "execution_count": 26,
   "id": "0bf1300e",
   "metadata": {},
   "outputs": [
    {
     "ename": "SyntaxError",
     "evalue": "invalid syntax (<ipython-input-26-553f3d086dc9>, line 3)",
     "output_type": "error",
     "traceback": [
      "\u001b[1;36m  File \u001b[1;32m\"<ipython-input-26-553f3d086dc9>\"\u001b[1;36m, line \u001b[1;32m3\u001b[0m\n\u001b[1;33m    2myname = \"elango\"\u001b[0m\n\u001b[1;37m     ^\u001b[0m\n\u001b[1;31mSyntaxError\u001b[0m\u001b[1;31m:\u001b[0m invalid syntax\n"
     ]
    }
   ],
   "source": [
    "# illegal variables name \n",
    "\n",
    "2myname = \"elango\" # this is starting with numerical\n",
    "my-name =\"elango\"  #this has invalied symbole in variable -\n",
    "my name = \"elango\" # this has space in between the variables\n",
    "\n",
    "print(my name)"
   ]
  },
  {
   "cell_type": "markdown",
   "id": "2b3bc272",
   "metadata": {},
   "source": [
    "# multi words variable names\n",
    "\n",
    "variables name more than one word it can be defficult to read\n",
    "there are several technique you can make them to read "
   ]
  },
  {
   "cell_type": "markdown",
   "id": "7d4b579d",
   "metadata": {},
   "source": [
    "# camel case \n",
    " each word expert the first word other are in capital"
   ]
  },
  {
   "cell_type": "code",
   "execution_count": 31,
   "id": "4f7857e5",
   "metadata": {},
   "outputs": [
    {
     "name": "stdout",
     "output_type": "stream",
     "text": [
      "hiiHELLO \n"
     ]
    }
   ],
   "source": [
    "myVARIABLES =\"hiiHELLO \"\n",
    "\n",
    "print(myVARIABLES)"
   ]
  },
  {
   "cell_type": "markdown",
   "id": "f4e5d88c",
   "metadata": {},
   "source": [
    "# PASCAL CASE \n",
    "\n",
    " Each word of decleared variable can start with capital letter"
   ]
  },
  {
   "cell_type": "code",
   "execution_count": 30,
   "id": "85c2cc3f",
   "metadata": {},
   "outputs": [
    {
     "name": "stdout",
     "output_type": "stream",
     "text": [
      " HiiHello\n"
     ]
    }
   ],
   "source": [
    "MyVariables = \" HiiHello\"\n",
    "\n",
    "print(MyVariables)"
   ]
  },
  {
   "cell_type": "markdown",
   "id": "7d51b358",
   "metadata": {},
   "source": [
    "# SNAKE CASE \n",
    "\n",
    "EACH WORD IS SEPERATED BY UNDER SCORE"
   ]
  },
  {
   "cell_type": "code",
   "execution_count": 32,
   "id": "ed7c4f6b",
   "metadata": {},
   "outputs": [
    {
     "name": "stdout",
     "output_type": "stream",
     "text": [
      "my_variables\n"
     ]
    }
   ],
   "source": [
    "my_variables = \"hii_hello\"\n",
    "\n",
    "print(\"my_variables\")"
   ]
  },
  {
   "cell_type": "markdown",
   "id": "a5775865",
   "metadata": {},
   "source": [
    "# many values to multiple variables\n",
    " python allows you to assingn multiple variables in one line"
   ]
  },
  {
   "cell_type": "code",
   "execution_count": 34,
   "id": "29f1fb95",
   "metadata": {},
   "outputs": [
    {
     "name": "stdout",
     "output_type": "stream",
     "text": [
      "apple\n",
      "mango\n",
      "graphs\n"
     ]
    }
   ],
   "source": [
    "x,y,z = \"apple\",\"mango\",\"graphs\"\n",
    "\n",
    "print(x)\n",
    "print(y)\n",
    "print(z)"
   ]
  },
  {
   "cell_type": "markdown",
   "id": "29310a66",
   "metadata": {},
   "source": [
    "# one value to multiple variables\n",
    "\n",
    "you can assing one value to multiple variables"
   ]
  },
  {
   "cell_type": "code",
   "execution_count": 35,
   "id": "d5e3bfc9",
   "metadata": {},
   "outputs": [
    {
     "name": "stdout",
     "output_type": "stream",
     "text": [
      "mangoes\n",
      "mangoes\n",
      "mangoes\n"
     ]
    }
   ],
   "source": [
    "x=y=z= \"mangoes\"\n",
    "\n",
    "print(x)\n",
    "print(y)\n",
    "print(z)"
   ]
  },
  {
   "cell_type": "markdown",
   "id": "5e654955",
   "metadata": {},
   "source": [
    "# unpacking in python\n",
    "\n",
    "if you collection of datas in list or tuples ect.. in python unpacking allows you to extract data into variable is called unpack\n",
    "\n"
   ]
  },
  {
   "cell_type": "code",
   "execution_count": 36,
   "id": "435a6c54",
   "metadata": {},
   "outputs": [
    {
     "name": "stdout",
     "output_type": "stream",
     "text": [
      "mangoes\n",
      "graphs\n",
      "orange\n"
     ]
    }
   ],
   "source": [
    "fruits = [\"mangoes\",\"graphs\",\"orange\"]\n",
    "\n",
    "x,y,z = fruits # this will assingn the values in the fruits into variables x,y,z\n",
    "\n",
    "print(x)\n",
    "print(y)\n",
    "print(z)"
   ]
  },
  {
   "cell_type": "markdown",
   "id": "b7f4f019",
   "metadata": {},
   "source": [
    "# Output Variables\n",
    "in python often print() is used to print the statement"
   ]
  },
  {
   "cell_type": "code",
   "execution_count": 37,
   "id": "8e595ce7",
   "metadata": {},
   "outputs": [
    {
     "name": "stdout",
     "output_type": "stream",
     "text": [
      "python is awesom programming language\n"
     ]
    }
   ],
   "source": [
    "x = 'python is awesom programming language'\n",
    "\n",
    "print(x)"
   ]
  },
  {
   "cell_type": "markdown",
   "id": "84b5bc70",
   "metadata": {},
   "source": [
    "you can print multiple variable in single print line using comma , "
   ]
  },
  {
   "cell_type": "code",
   "execution_count": 38,
   "id": "6927effc",
   "metadata": {},
   "outputs": [
    {
     "name": "stdout",
     "output_type": "stream",
     "text": [
      "elango harish rohit\n"
     ]
    }
   ],
   "source": [
    "x = 'elango'\n",
    "y = 'harish'\n",
    "z = 'rohit'\n",
    "\n",
    "print(x,y,z)"
   ]
  },
  {
   "cell_type": "markdown",
   "id": "f8271efc",
   "metadata": {},
   "source": [
    "you can also use + to print multiple variables in single print()"
   ]
  },
  {
   "cell_type": "code",
   "execution_count": 41,
   "id": "a7c691df",
   "metadata": {},
   "outputs": [
    {
     "name": "stdout",
     "output_type": "stream",
     "text": [
      "elango harish rohit\n"
     ]
    }
   ],
   "source": [
    "x = 'elango '\n",
    "y = 'harish '\n",
    "z = 'rohit'\n",
    "\n",
    "print(x + y + z)"
   ]
  },
  {
   "cell_type": "markdown",
   "id": "01934ccc",
   "metadata": {},
   "source": [
    "# Global Variables\n",
    "\n",
    "creating a variable outside of the function is called global variable in python\n",
    "global variable can be used both inside and outside of the programme\n"
   ]
  },
  {
   "cell_type": "code",
   "execution_count": 43,
   "id": "516fa5da",
   "metadata": {},
   "outputs": [
    {
     "name": "stdout",
     "output_type": "stream",
     "text": [
      "python is a programming language\n"
     ]
    }
   ],
   "source": [
    " x = \"python is a programming language\"\n",
    "    \n",
    "def myfun():\n",
    "        print(x)\n",
    "        \n",
    "myfun()      "
   ]
  },
  {
   "cell_type": "code",
   "execution_count": 45,
   "id": "c5aa941b",
   "metadata": {},
   "outputs": [
    {
     "name": "stdout",
     "output_type": "stream",
     "text": [
      "Python is fantastic\n",
      "Python is awesome\n"
     ]
    }
   ],
   "source": [
    "x = \"awesome\"\n",
    "\n",
    "def myfunc():\n",
    "  x = \"fantastic\"# it will call inside of the function\n",
    "  print(\"Python is \" + x)\n",
    "\n",
    "myfunc()\n",
    "\n",
    "print(\"Python is \" + x)# it is the variable called outside decleared the variable\n"
   ]
  },
  {
   "cell_type": "markdown",
   "id": "b6ec0057",
   "metadata": {},
   "source": [
    "# The global Keyword\n",
    "Normally, when you create a variable inside a function, that variable is local, and can only be used inside that function.\n",
    "\n",
    "To create a global variable inside a function, you can use the global keywo\n"
   ]
  },
  {
   "cell_type": "code",
   "execution_count": 50,
   "id": "25775b20",
   "metadata": {},
   "outputs": [
    {
     "name": "stdout",
     "output_type": "stream",
     "text": [
      "python is good\n"
     ]
    }
   ],
   "source": [
    "def myfun():\n",
    "    global x \n",
    "    x = \"good\" \n",
    "    \n",
    "myfun()\n",
    "\n",
    "\n",
    "print(\"python is \" + x)"
   ]
  },
  {
   "cell_type": "markdown",
   "id": "0c9bad5e",
   "metadata": {},
   "source": [
    "# python data types\n",
    "\n",
    "## python in-built datatypes\n",
    "  \n",
    "  in programming datatypes are important concepts\n",
    "  \n",
    "  variable can store different types of data and different types can do different things\n",
    "  \n",
    "  python has inbuilt default datatypes\n",
    "  \n",
    "  \n",
    "Text Type:\tstr\n",
    "\n",
    "Numeric Types:\tint, float, complex\n",
    "\n",
    "Sequence Types:\tlist, tuple, range\n",
    "\n",
    "Mapping Type:\tdict\n",
    "\n",
    "Set Types:\tset, frozenset\n",
    "\n",
    "Boolean Type:\tbool\n",
    "\n",
    "Binary Types:\tbytes, bytearray, memoryview\n",
    "\n",
    "None Type:\tNoneType"
   ]
  },
  {
   "cell_type": "markdown",
   "id": "0f8083f4",
   "metadata": {},
   "source": [
    "# getting the data type"
   ]
  },
  {
   "cell_type": "code",
   "execution_count": 113,
   "id": "d1b61de9",
   "metadata": {},
   "outputs": [
    {
     "name": "stdout",
     "output_type": "stream",
     "text": [
      "hello world\n",
      "<class 'str'>\n"
     ]
    }
   ],
   "source": [
    "# str data type\n",
    "x= \"hello world\"\n",
    "print(x)\n",
    "print(type(x))"
   ]
  },
  {
   "cell_type": "code",
   "execution_count": 56,
   "id": "0e6f6adf",
   "metadata": {},
   "outputs": [
    {
     "name": "stdout",
     "output_type": "stream",
     "text": [
      "10\n",
      "<class 'int'>\n",
      "11.4\n",
      "<class 'float'>\n",
      "18j\n",
      "<class 'complex'>\n"
     ]
    }
   ],
   "source": [
    "# numeric data types int,float,complex\n",
    "\n",
    "x = 10\n",
    "y = 11.4\n",
    "z = 18j\n",
    " \n",
    "print(x)\n",
    "print(type(x))\n",
    "print(y)\n",
    "print(type(y))\n",
    "print(z)\n",
    "print(type(z))\n",
    "\n"
   ]
  },
  {
   "cell_type": "code",
   "execution_count": 59,
   "id": "280f6cc3",
   "metadata": {},
   "outputs": [
    {
     "name": "stdout",
     "output_type": "stream",
     "text": [
      "['apple', 'mango', 'orange']\n",
      "<class 'list'>\n",
      "('tea', 'coffee', 'milk')\n",
      "<class 'tuple'>\n",
      "range(0, 10)\n",
      "<class 'range'>\n"
     ]
    }
   ],
   "source": [
    "#sequence data type are list,tuple and range\n",
    "\n",
    "x =['apple','mango','orange']\n",
    "\n",
    "print(x)\n",
    "print(type(x))\n",
    "\n",
    "y = (\"tea\",\"coffee\",\"milk\")\n",
    "print(y)\n",
    "print(type(y))\n",
    "\n",
    "z = range(10)\n",
    "print(z)\n",
    "print(type(z))"
   ]
  },
  {
   "cell_type": "code",
   "execution_count": 60,
   "id": "f53e304d",
   "metadata": {},
   "outputs": [
    {
     "name": "stdout",
     "output_type": "stream",
     "text": [
      "{'name': 'elango', 'age': 18}\n",
      "<class 'dict'>\n"
     ]
    }
   ],
   "source": [
    "#mapping data type \n",
    "x = {\"name\" : \"elango\",\n",
    "     \"age\" : 18}\n",
    "\n",
    "print(x)\n",
    "print(type(x))"
   ]
  },
  {
   "cell_type": "code",
   "execution_count": 62,
   "id": "e873166b",
   "metadata": {},
   "outputs": [
    {
     "name": "stdout",
     "output_type": "stream",
     "text": [
      "{'elango', 'harish', 'Sheyam'}\n",
      "<class 'set'>\n",
      "frozenset({'apple', 'orange', 'mango'})\n",
      "<class 'frozenset'>\n"
     ]
    }
   ],
   "source": [
    "# set data types is set,frozenset\n",
    "\n",
    "x = {\"elango\",\"harish\",\"Sheyam\"}\n",
    "print(x)\n",
    "print(type(x))\n",
    "\n",
    "y = frozenset({\"orange\",\"mango\",\"apple\"})\n",
    "print(y)\n",
    "print(type(y))"
   ]
  },
  {
   "cell_type": "code",
   "execution_count": 64,
   "id": "ea31b66d",
   "metadata": {},
   "outputs": [
    {
     "name": "stdout",
     "output_type": "stream",
     "text": [
      "True\n",
      "<class 'bool'>\n"
     ]
    }
   ],
   "source": [
    "# boolean data type is bool\n",
    "\n",
    "x = True # T must be in capitel\n",
    "\n",
    "print(x)\n",
    "print(type(x))\n"
   ]
  },
  {
   "cell_type": "code",
   "execution_count": 67,
   "id": "385e853c",
   "metadata": {},
   "outputs": [
    {
     "name": "stdout",
     "output_type": "stream",
     "text": [
      "b'hello'\n",
      "<class 'bytes'>\n",
      "bytearray(b'\\x00\\x00\\x00\\x00\\x00\\x00')\n",
      "<class 'bytearray'>\n",
      "<memory at 0x0000019CFBEB8B80>\n",
      "<class 'memoryview'>\n"
     ]
    }
   ],
   "source": [
    "#binary types is bytes,bytearray,memmoryview\n",
    "\n",
    "x =b\"hello\"\n",
    "print(x)\n",
    "print(type(x))\n",
    "\n",
    "y= bytearray(6)\n",
    "print(y)\n",
    "print(type(y))\n",
    "\n",
    "z = memoryview(bytes(6))\n",
    "print(z)\n",
    "print(type(z))"
   ]
  },
  {
   "cell_type": "code",
   "execution_count": 68,
   "id": "e5db337c",
   "metadata": {},
   "outputs": [
    {
     "name": "stdout",
     "output_type": "stream",
     "text": [
      "None\n",
      "<class 'NoneType'>\n"
     ]
    }
   ],
   "source": [
    "# none datatype\n",
    "\n",
    "x = None\n",
    "print(x)\n",
    "print(type(x))"
   ]
  },
  {
   "cell_type": "markdown",
   "id": "c97d0655",
   "metadata": {},
   "source": [
    "# python numbers\n",
    "\n",
    "int\n",
    "\n",
    "float\n",
    "\n",
    "complex"
   ]
  },
  {
   "cell_type": "code",
   "execution_count": 69,
   "id": "1649ac74",
   "metadata": {},
   "outputs": [
    {
     "name": "stdout",
     "output_type": "stream",
     "text": [
      "<class 'int'>\n",
      "<class 'int'>\n",
      "<class 'int'>\n"
     ]
    }
   ],
   "source": [
    "#int\n",
    "\n",
    "x=456\n",
    "y=9876387389398393\n",
    "z=-10000\n",
    "\n",
    "print(type(x))\n",
    "print(type(y))\n",
    "print(type(z))\n"
   ]
  },
  {
   "cell_type": "code",
   "execution_count": 70,
   "id": "82e5407b",
   "metadata": {},
   "outputs": [
    {
     "name": "stdout",
     "output_type": "stream",
     "text": [
      "<class 'float'>\n",
      "<class 'float'>\n",
      "<class 'float'>\n"
     ]
    }
   ],
   "source": [
    "#float\n",
    "\n",
    "x = 5.99\n",
    "y=8888.999999\n",
    "z = -26.0000000\n",
    "\n",
    "print(type(x))\n",
    "print(type(y))\n",
    "print(type(z))"
   ]
  },
  {
   "cell_type": "code",
   "execution_count": 79,
   "id": "406f9434",
   "metadata": {},
   "outputs": [
    {
     "name": "stdout",
     "output_type": "stream",
     "text": [
      "<class 'complex'>\n",
      "<class 'complex'>\n",
      "<class 'complex'>\n"
     ]
    }
   ],
   "source": [
    "#complex\n",
    "\n",
    "x = 5j + 6\n",
    "y = -5 + 7j\n",
    "z = 56j\n",
    "\n",
    "print(type(x))\n",
    "print(type(y))\n",
    "print(type(z))"
   ]
  },
  {
   "cell_type": "markdown",
   "id": "9044f573",
   "metadata": {},
   "source": [
    "# python strings\n",
    "\n",
    "strings in python are surrender by sngle quotation are double quotation\n",
    "\"hello\" is same as 'hello'\n"
   ]
  },
  {
   "cell_type": "code",
   "execution_count": 83,
   "id": "184660ef",
   "metadata": {},
   "outputs": [
    {
     "name": "stdout",
     "output_type": "stream",
     "text": [
      "hello\n",
      "hello\n",
      "hello\n",
      "hello\n",
      " hii all are how are you everyone everyone is welcome to my home \n"
     ]
    }
   ],
   "source": [
    "print(\"hello\")\n",
    "print('hello')\n",
    "\n",
    "\n",
    "#assing a sting to variable\n",
    "\n",
    "\n",
    "x = \"hello\"\n",
    "y = 'hello'\n",
    "\n",
    "print(x)\n",
    "print(y)\n",
    "\n",
    "#multiline string \n",
    "\n",
    "x = \"\"\" hii all are how are you everyone everyone is welcome to my home \"\"\"\n",
    "\n",
    "print(x)"
   ]
  },
  {
   "cell_type": "markdown",
   "id": "70172a35",
   "metadata": {},
   "source": [
    "# strings are arrays"
   ]
  },
  {
   "cell_type": "code",
   "execution_count": 86,
   "id": "cf44def4",
   "metadata": {},
   "outputs": [
    {
     "name": "stdout",
     "output_type": "stream",
     "text": [
      "s\n"
     ]
    }
   ],
   "source": [
    "# square brackets are used for access elements of the string\n",
    "x = \"elango sridhar\"\n",
    "\n",
    "print(x[7])"
   ]
  },
  {
   "cell_type": "markdown",
   "id": "d7a3e1a9",
   "metadata": {},
   "source": [
    "# loopinf through string"
   ]
  },
  {
   "cell_type": "code",
   "execution_count": 88,
   "id": "1e5de1eb",
   "metadata": {},
   "outputs": [
    {
     "name": "stdout",
     "output_type": "stream",
     "text": [
      "e\n",
      "l\n",
      "a\n",
      "n\n",
      "g\n",
      "o\n"
     ]
    }
   ],
   "source": [
    "#since strings are array we can loop through the characters in a string with a for loop\n",
    "\n",
    "for x in \"elango\":\n",
    "  print(x)"
   ]
  },
  {
   "cell_type": "markdown",
   "id": "4585e3eb",
   "metadata": {},
   "source": [
    "# string length\n",
    "\n",
    "to get the length of a string use the len() function"
   ]
  },
  {
   "cell_type": "code",
   "execution_count": 97,
   "id": "9a76e7d6",
   "metadata": {},
   "outputs": [
    {
     "name": "stdout",
     "output_type": "stream",
     "text": [
      "15\n"
     ]
    }
   ],
   "source": [
    "x = \" hello ,elango \"\n",
    "\n",
    "print(len(x))"
   ]
  },
  {
   "cell_type": "markdown",
   "id": "4ee03924",
   "metadata": {},
   "source": [
    "# check String\n",
    "\n",
    "to check if a certain pharse or character is present in a string , we can use the keyword in."
   ]
  },
  {
   "cell_type": "code",
   "execution_count": 96,
   "id": "3ee4ecb6",
   "metadata": {},
   "outputs": [
    {
     "name": "stdout",
     "output_type": "stream",
     "text": [
      "True\n",
      "yes, 'girl' is present\n"
     ]
    }
   ],
   "source": [
    "x = \" yesterday i saw a beautiful girl her eyes or so beautifull\"\n",
    "    \n",
    "print( \"girl\" in x)\n",
    "\n",
    "# using if statement\n",
    "if \"girl\" in x:\n",
    "    print(\"yes, 'girl' is present\")"
   ]
  },
  {
   "cell_type": "markdown",
   "id": "07ae8c18",
   "metadata": {},
   "source": [
    "# check if Not \n",
    "\n",
    "\n",
    "To check if a certain phrase or character is NOT present in a string, we can use the keyword not in.\n",
    "\n",
    "\n"
   ]
  },
  {
   "cell_type": "code",
   "execution_count": 95,
   "id": "91cdc117",
   "metadata": {},
   "outputs": [
    {
     "name": "stdout",
     "output_type": "stream",
     "text": [
      "True\n",
      "yes, 'girl' is present\n"
     ]
    }
   ],
   "source": [
    "x = \" yesterday i saw a beautiful girl her eyes or so beautifull\"\n",
    "    \n",
    "print( \"boy \" not  in x)\n",
    "\n",
    "# using if statement\n",
    "if \"boy\" not in x:\n",
    "    print(\"yes, 'girl' is present\")"
   ]
  },
  {
   "cell_type": "markdown",
   "id": "6a2ef64d",
   "metadata": {},
   "source": [
    "# slicing in string\n",
    "\n",
    "you can return a range of characters by using the slice syntex\n",
    "\n",
    "Specify the starty index and the end index, sepaarated by a colon, to return a part of the string"
   ]
  },
  {
   "cell_type": "code",
   "execution_count": 102,
   "id": "d7c9a3e5",
   "metadata": {},
   "outputs": [
    {
     "name": "stdout",
     "output_type": "stream",
     "text": [
      "ngos\n",
      "elango\n",
      "sridhar\n"
     ]
    }
   ],
   "source": [
    "e = \"elangosridhar\"\n",
    "\n",
    "print(e[3:7])# the first character has index zero\n",
    "\n",
    "#slice from start \n",
    "print(e[:6])\n",
    "\n",
    "#slice to the end\n",
    "print(e[6:])"
   ]
  },
  {
   "cell_type": "markdown",
   "id": "033bb308",
   "metadata": {},
   "source": [
    "# Negative indexing\n",
    " use negative indexes to start the slices the slice from the end of the string"
   ]
  },
  {
   "cell_type": "code",
   "execution_count": 103,
   "id": "5fa26405",
   "metadata": {},
   "outputs": [
    {
     "name": "stdout",
     "output_type": "stream",
     "text": [
      "elcom\n"
     ]
    }
   ],
   "source": [
    "a = \"Hii,Hello!Welcome\"\n",
    "\n",
    "print(a[-6:-1])"
   ]
  },
  {
   "cell_type": "markdown",
   "id": "092d9a94",
   "metadata": {},
   "source": [
    "# modify String\n",
    "\n",
    "python has a set of built-in methods that you can use on strings\n",
    "\n",
    "\n",
    "# upper case \n",
    "\n",
    "the upper() method return the string in upper case:"
   ]
  },
  {
   "cell_type": "code",
   "execution_count": 104,
   "id": "a3779af3",
   "metadata": {},
   "outputs": [
    {
     "name": "stdout",
     "output_type": "stream",
     "text": [
      "ELANGO\n"
     ]
    }
   ],
   "source": [
    "x = \"elango\"\n",
    "print(x.upper())"
   ]
  },
  {
   "cell_type": "markdown",
   "id": "e044ed26",
   "metadata": {},
   "source": [
    "# lower case\n",
    "\n",
    "the lower() method return the string in lower case"
   ]
  },
  {
   "cell_type": "code",
   "execution_count": 105,
   "id": "6d2e7cf4",
   "metadata": {},
   "outputs": [
    {
     "name": "stdout",
     "output_type": "stream",
     "text": [
      "elango\n"
     ]
    }
   ],
   "source": [
    "x = \"ELANGO\"\n",
    "\n",
    "print(x.lower())"
   ]
  },
  {
   "cell_type": "markdown",
   "id": "6736b4f9",
   "metadata": {},
   "source": [
    "# remove whitespace\n",
    " the strip() method is used remove any whitespace from the beginning or the end"
   ]
  },
  {
   "cell_type": "code",
   "execution_count": 106,
   "id": "2dcb4005",
   "metadata": {},
   "outputs": [
    {
     "name": "stdout",
     "output_type": "stream",
     "text": [
      "Hello, Wrold!\n"
     ]
    }
   ],
   "source": [
    "x = \" Hello, Wrold! \"\n",
    "print(x.strip()) # it returns \"Hello,World!\""
   ]
  },
  {
   "cell_type": "markdown",
   "id": "c00e1d0c",
   "metadata": {},
   "source": [
    "# replace string\n",
    "the replace() method is used to replace the another string"
   ]
  },
  {
   "cell_type": "code",
   "execution_count": 107,
   "id": "706dd734",
   "metadata": {},
   "outputs": [
    {
     "name": "stdout",
     "output_type": "stream",
     "text": [
      "Elangosridhar\n"
     ]
    }
   ],
   "source": [
    "x = \"Ilangosridhar\"\n",
    "\n",
    "print(x.replace(\"I\",\"E\"))"
   ]
  },
  {
   "cell_type": "markdown",
   "id": "4a17b7db",
   "metadata": {},
   "source": [
    "# split string\n",
    "\n",
    "the split() method splits the string into substrings if if finds instances of the separator\n"
   ]
  },
  {
   "cell_type": "code",
   "execution_count": 108,
   "id": "f541a984",
   "metadata": {},
   "outputs": [
    {
     "name": "stdout",
     "output_type": "stream",
     "text": [
      "['Elango', ' sridhar']\n"
     ]
    }
   ],
   "source": [
    "x = \"Elango, sridhar\"\n",
    "\n",
    "print(x.split(\",\"))"
   ]
  },
  {
   "cell_type": "markdown",
   "id": "f8ce7c77",
   "metadata": {},
   "source": [
    "# string Concatenation\n",
    "\n",
    "to concatenate or combine, two strings you can use the + operator."
   ]
  },
  {
   "cell_type": "code",
   "execution_count": 110,
   "id": "13b5e54e",
   "metadata": {},
   "outputs": [
    {
     "name": "stdout",
     "output_type": "stream",
     "text": [
      "helloworld\n",
      "hello world\n"
     ]
    }
   ],
   "source": [
    "# merge variables a with variables b into variable c\n",
    "\n",
    "a = \"hello\"\n",
    "b = \"world\"\n",
    "c= a + b\n",
    "\n",
    "d = a + \" \" + b\n",
    "\n",
    "print(c)\n",
    "print(d)"
   ]
  },
  {
   "cell_type": "markdown",
   "id": "8055369e",
   "metadata": {},
   "source": [
    "# string format\n",
    "\n",
    "we cannot combine string and number like this\n",
    "\n",
    "age = 20\n",
    "\n",
    " txt = \"my name is elango , i am \" + age\n",
    " \n",
    " print(txt) this will throws error\n",
    " \n",
    "\n",
    "we can combine strings and nubers by using the format() method\n",
    "\n",
    "the format() method takes the passed arguments, formats them and places them in the string where the placeholders  {} are"
   ]
  },
  {
   "cell_type": "code",
   "execution_count": 116,
   "id": "3455f233",
   "metadata": {},
   "outputs": [
    {
     "name": "stdout",
     "output_type": "stream",
     "text": [
      "i am elango , and i am 20\n",
      " I want 5 pieces of item 5 for 67 dollars\n",
      " I want 5 pieces of item 5 for 67 dollars\n"
     ]
    }
   ],
   "source": [
    "age = 20\n",
    "txt = \"i am elango , and i am {}\"\n",
    "print(txt.format(age))\n",
    "\n",
    "# the format method takes unlimeted number of argument  and are placed into the respective placeholders\n",
    "\n",
    "quantity = 5\n",
    "itemno = 5\n",
    "price = 67\n",
    "myorders =\" I want {} pieces of item {} for {} dollars\"\n",
    "print(myorders.format(quantity,itemno,price))\n",
    "\n",
    "#with index number\n",
    "\n",
    "quantity = 5\n",
    "itemno = 5\n",
    "price = 67\n",
    "myorders =\" I want {0} pieces of item {1} for {2} dollars\"\n",
    "print(myorders.format(quantity,itemno,price))"
   ]
  },
  {
   "cell_type": "code",
   "execution_count": null,
   "id": "621c2dbb",
   "metadata": {},
   "outputs": [],
   "source": []
  },
  {
   "cell_type": "code",
   "execution_count": null,
   "id": "79e875f4",
   "metadata": {},
   "outputs": [],
   "source": []
  }
 ],
 "metadata": {
  "kernelspec": {
   "display_name": "Python 3",
   "language": "python",
   "name": "python3"
  },
  "language_info": {
   "codemirror_mode": {
    "name": "ipython",
    "version": 3
   },
   "file_extension": ".py",
   "mimetype": "text/x-python",
   "name": "python",
   "nbconvert_exporter": "python",
   "pygments_lexer": "ipython3",
   "version": "3.8.8"
  }
 },
 "nbformat": 4,
 "nbformat_minor": 5
}
