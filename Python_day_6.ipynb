{
 "cells": [
  {
   "cell_type": "markdown",
   "id": "402afe67",
   "metadata": {},
   "source": [
    "# Day_6\n",
    "\n",
    "# python functions\n",
    "\n",
    "### a function   is a block of code which only runs when it is called. \n",
    "\n",
    "### you can pass data, known as parameters, into a function.\n",
    "\n",
    "### a function can retutn data as a result.\n",
    "\n",
    "# Creating a Function\n",
    "In Python a function is defined using the def keyword:\n",
    "\n"
   ]
  },
  {
   "cell_type": "code",
   "execution_count": 2,
   "id": "b4ac34d8",
   "metadata": {},
   "outputs": [
    {
     "name": "stdout",
     "output_type": "stream",
     "text": [
      "Hello from a function\n"
     ]
    }
   ],
   "source": [
    "def my_function():\n",
    "  print(\"Hello from a function\")\n",
    "\n",
    "my_function()\n",
    "\n"
   ]
  },
  {
   "cell_type": "markdown",
   "id": "cda0701b",
   "metadata": {},
   "source": [
    "# Calling a Function\n",
    "To call a function, use the function name followed by parenthesis"
   ]
  },
  {
   "cell_type": "code",
   "execution_count": 3,
   "id": "824bc538",
   "metadata": {},
   "outputs": [
    {
     "name": "stdout",
     "output_type": "stream",
     "text": [
      "hii this is my first function\n"
     ]
    }
   ],
   "source": [
    "# to call a function\n",
    "\n",
    "def my_fun():\n",
    "    print(\"hii this is my first function\")\n",
    "    \n",
    "my_fun()"
   ]
  },
  {
   "cell_type": "markdown",
   "id": "05ec985d",
   "metadata": {},
   "source": [
    "# Arguments\n",
    "\n",
    "Information can be passed into function as arguments.\n",
    "\n",
    "Arguments are specified after the function name,inside the parentheses. you can add as many arguments are you want,just separate them with a comma.\n",
    "\n",
    "the following example has a function with one argument(fname). When the function is called, we pass along a first name, which is used inside the function to print the full name.\n",
    "\n"
   ]
  },
  {
   "cell_type": "code",
   "execution_count": 5,
   "id": "6452b1a8",
   "metadata": {},
   "outputs": [
    {
     "name": "stdout",
     "output_type": "stream",
     "text": [
      "elango is good boy\n",
      "harish is good boy\n",
      "mani is good boy\n"
     ]
    }
   ],
   "source": [
    "# passing argument in the function\n",
    "\n",
    "\n",
    "def myfun(fname):\n",
    "    print(fname + \" is good boy\")\n",
    "    \n",
    "myfun(\"elango\")\n",
    "myfun(\"harish\")\n",
    "myfun(\"mani\")"
   ]
  },
  {
   "cell_type": "markdown",
   "id": "72e6fa6a",
   "metadata": {},
   "source": [
    "# Parameters or Arguments?\n",
    "The terms parameter and argument can be used for the same thing: information that are passed into a function.\n",
    "\n",
    "From a function's perspective:\n",
    "\n",
    "A parameter is the variable listed inside the parentheses in the function definition.\n",
    "\n",
    "An argument is the value that is sent to the function when it is called.\n",
    "\n"
   ]
  },
  {
   "cell_type": "markdown",
   "id": "76a839ac",
   "metadata": {},
   "source": [
    "# Number of Arguments\n",
    "\n",
    "BY default, a function must be called with the correct number of arguments. Meaning that if your function expects 2 arguments, you have to call the function with 2 arguments, not more, and not less."
   ]
  },
  {
   "cell_type": "code",
   "execution_count": 7,
   "id": "f6b7d649",
   "metadata": {},
   "outputs": [
    {
     "name": "stdout",
     "output_type": "stream",
     "text": [
      "elango,harish\n",
      "harish,mani,elango\n"
     ]
    }
   ],
   "source": [
    "# 2 arguments and gets 2 arguments:\n",
    "\n",
    "\n",
    "def myfun(xname , yname):\n",
    "    print(xname + \",\" + yname)\n",
    "    \n",
    "myfun(\"elango\" , \"harish\")\n",
    "\n",
    "# giving 3 arguments\n",
    "\n",
    "def my_fun(xname,yname,zname):\n",
    "    print(zname + \",\" + xname + \",\" + yname)\n",
    "    \n",
    "my_fun(\"mani\",\"elango\",\"harish\")\n",
    "\n"
   ]
  },
  {
   "cell_type": "code",
   "execution_count": 8,
   "id": "0cded098",
   "metadata": {},
   "outputs": [
    {
     "ename": "TypeError",
     "evalue": "my_function() missing 1 required positional argument: 'lname'",
     "output_type": "error",
     "traceback": [
      "\u001b[1;31m---------------------------------------------------------------------------\u001b[0m",
      "\u001b[1;31mTypeError\u001b[0m                                 Traceback (most recent call last)",
      "\u001b[1;32m<ipython-input-8-ad36952a4318>\u001b[0m in \u001b[0;36m<module>\u001b[1;34m\u001b[0m\n\u001b[0;32m      4\u001b[0m   \u001b[0mprint\u001b[0m\u001b[1;33m(\u001b[0m\u001b[0mfname\u001b[0m \u001b[1;33m+\u001b[0m \u001b[1;34m\" \"\u001b[0m \u001b[1;33m+\u001b[0m \u001b[0mlname\u001b[0m\u001b[1;33m)\u001b[0m\u001b[1;33m\u001b[0m\u001b[1;33m\u001b[0m\u001b[0m\n\u001b[0;32m      5\u001b[0m \u001b[1;33m\u001b[0m\u001b[0m\n\u001b[1;32m----> 6\u001b[1;33m \u001b[0mmy_function\u001b[0m\u001b[1;33m(\u001b[0m\u001b[1;34m\"Emil\"\u001b[0m\u001b[1;33m)\u001b[0m\u001b[1;31m# it will throws an error\u001b[0m\u001b[1;33m\u001b[0m\u001b[1;33m\u001b[0m\u001b[0m\n\u001b[0m",
      "\u001b[1;31mTypeError\u001b[0m: my_function() missing 1 required positional argument: 'lname'"
     ]
    }
   ],
   "source": [
    "# if you try to call the function wiht 1 or 3 argument, you will get an error:\n",
    "\n",
    "def my_function(fname, lname):\n",
    "  print(fname + \" \" + lname)\n",
    "\n",
    "my_function(\"Emil\")# it will throws an error because u didn't give second args so it will throws an error"
   ]
  },
  {
   "cell_type": "markdown",
   "id": "86837727",
   "metadata": {},
   "source": [
    "# Arbitrary Arguments, *args\n",
    "If you do not know how many arguments that will be passed into your function, add a * before the parameter name in the function definition.\n",
    "\n",
    "This way the function will receive a tuple of arguments, and can access the items accordingly:"
   ]
  },
  {
   "cell_type": "code",
   "execution_count": 153,
   "id": "3bd142e5",
   "metadata": {},
   "outputs": [
    {
     "name": "stdout",
     "output_type": "stream",
     "text": [
      "The youngest child is TobiasLinus\n"
     ]
    }
   ],
   "source": [
    "# using asterik * for if the number of argumens is unknown add * before the parameter name:\n",
    "def my_function(*kids):\n",
    "  print(\"The youngest child is \" + kids[1] + kids[2])\n",
    "\n",
    "my_function(\"Emil\", \"Tobias\", \"Linus\")\n"
   ]
  },
  {
   "cell_type": "markdown",
   "id": "b6f8d112",
   "metadata": {},
   "source": [
    "# Keyword Arguments\n",
    "You can also send arguments with the key = value syntax.\n",
    "\n",
    "This way the order of the arguments does not matter."
   ]
  },
  {
   "cell_type": "code",
   "execution_count": 15,
   "id": "40ca8790",
   "metadata": {},
   "outputs": [
    {
     "name": "stdout",
     "output_type": "stream",
     "text": [
      "The youngest child is Linus\n",
      "The youngest boy is elango\n"
     ]
    }
   ],
   "source": [
    "def my_function(child3, child2, child1):\n",
    "  print(\"The youngest child is \" + child3)\n",
    "\n",
    "my_function(child1 = \"Emil\", child2 = \"Tobias\", child3 = \"Linus\")\n",
    "\n",
    "def my_fun(xname,yname,zname):\n",
    "    print(\"The youngest boy is \" + yname)\n",
    "    \n",
    "my_fun(xname=\"mani\",yname=\"elango\",zname=\"harish\")"
   ]
  },
  {
   "cell_type": "markdown",
   "id": "cb81d24e",
   "metadata": {},
   "source": [
    "# Arbitrary Keyword Arguments, **kwargs\n",
    "\n",
    "If you do not know how many keyword arguments that will be passed into your function, add two asterisk: ** before the parameter name in the function definition.\n",
    "\n",
    "This way the function will receive a dictionary of arguments, and can access the items accordingly"
   ]
  },
  {
   "cell_type": "code",
   "execution_count": 18,
   "id": "db6fde3b",
   "metadata": {},
   "outputs": [
    {
     "name": "stdout",
     "output_type": "stream",
     "text": [
      "His last name is Refsnes\n"
     ]
    }
   ],
   "source": [
    "# If the number of keyword arguments is unknown, add a double ** before the parameter name\n",
    "\n",
    "def my_function(**kid):\n",
    "  print(\"His last name is \" + kid[\"lname\"])\n",
    "\n",
    "my_function(fname = \"Tobias\", lname = \"Refsnes\")"
   ]
  },
  {
   "cell_type": "markdown",
   "id": "078a56c4",
   "metadata": {},
   "source": [
    "# Default Parameter Value\n",
    "The following example shows how to use a default parameter value.\n",
    "\n",
    "If we call the function without argument, it uses the default value:"
   ]
  },
  {
   "cell_type": "code",
   "execution_count": 20,
   "id": "7f349bee",
   "metadata": {},
   "outputs": [
    {
     "name": "stdout",
     "output_type": "stream",
     "text": [
      "I am form london\n",
      "I am form usa\n",
      "I am form india\n",
      "I am form south africa\n",
      "I am form india\n"
     ]
    }
   ],
   "source": [
    "def myfun(country = \"india\"):\n",
    "    print (\"I am form \" + country)\n",
    "    \n",
    "myfun(\"london\")\n",
    "myfun(\"usa\")\n",
    "myfun()\n",
    "myfun(\"south africa\")\n",
    "myfun()"
   ]
  },
  {
   "cell_type": "markdown",
   "id": "32d2e56d",
   "metadata": {},
   "source": [
    "# Passing a List as an Argument\n",
    "\n",
    "You can send any data types of argument to a function (string, number, list, dictionary etc.), and it will be treated as the same data type inside the function.\n",
    "\n",
    "E.g. if you send a List as an argument, it will still be a List when it reaches the function:"
   ]
  },
  {
   "cell_type": "code",
   "execution_count": 22,
   "id": "c5b6057f",
   "metadata": {},
   "outputs": [
    {
     "name": "stdout",
     "output_type": "stream",
     "text": [
      "apple\n",
      "orange\n",
      "banana\n"
     ]
    }
   ],
   "source": [
    "def my_fruit(fruits):\n",
    "    for x in fruits:\n",
    "        print(x)\n",
    "fruits = [\"apple\",\"orange\",\"banana\"]\n",
    "\n",
    "my_fruit(fruits)"
   ]
  },
  {
   "cell_type": "markdown",
   "id": "9aa04290",
   "metadata": {},
   "source": [
    "# Return values\n",
    "\n",
    "\n",
    "To let a function return a value, use the return statement:\n",
    "\n"
   ]
  },
  {
   "cell_type": "code",
   "execution_count": 154,
   "id": "4d986d5a",
   "metadata": {},
   "outputs": [
    {
     "name": "stdout",
     "output_type": "stream",
     "text": [
      "20\n",
      "11\n",
      "90\n",
      "6\n"
     ]
    }
   ],
   "source": [
    " def my_add(x):\n",
    "        return 10 + x\n",
    "        \n",
    "\n",
    "print(my_add(10))\n",
    "print(my_add(1))\n",
    "print(my_add(80))\n",
    "\n",
    "def valueofa():\n",
    "    return 6\n",
    "a=valueofa()\n",
    "print(a)"
   ]
  },
  {
   "cell_type": "markdown",
   "id": "4276e31c",
   "metadata": {},
   "source": [
    "# The pass Statement\n",
    "function definitions cannot be empty, but if you for some reason have a function definition with no content, put in the pass statement to avoid getting an error.\n",
    "\n"
   ]
  },
  {
   "cell_type": "code",
   "execution_count": 25,
   "id": "9f5e6be0",
   "metadata": {},
   "outputs": [],
   "source": [
    "def myfun():\n",
    "    pass"
   ]
  },
  {
   "cell_type": "code",
   "execution_count": 26,
   "id": "59b02041",
   "metadata": {},
   "outputs": [
    {
     "ename": "SyntaxError",
     "evalue": "unexpected EOF while parsing (<ipython-input-26-a5cd3729349a>, line 2)",
     "output_type": "error",
     "traceback": [
      "\u001b[1;36m  File \u001b[1;32m\"<ipython-input-26-a5cd3729349a>\"\u001b[1;36m, line \u001b[1;32m2\u001b[0m\n\u001b[1;33m    \u001b[0m\n\u001b[1;37m    ^\u001b[0m\n\u001b[1;31mSyntaxError\u001b[0m\u001b[1;31m:\u001b[0m unexpected EOF while parsing\n"
     ]
    }
   ],
   "source": [
    "def myfun():# it will throw an error\n",
    "    "
   ]
  },
  {
   "cell_type": "markdown",
   "id": "299f49d3",
   "metadata": {},
   "source": [
    "# Positional-Only Arguments\n",
    "You can specify that a function can have ONLY positional arguments, or ONLY keyword arguments.\n",
    "\n",
    "To specify that a function can have only positional arguments, add , / after the arguments:\n",
    "\n"
   ]
  },
  {
   "cell_type": "code",
   "execution_count": 31,
   "id": "bca4b465",
   "metadata": {},
   "outputs": [
    {
     "name": "stdout",
     "output_type": "stream",
     "text": [
      "6\n"
     ]
    }
   ],
   "source": [
    "def myfunction(x , /):\n",
    "    print(x)\n",
    "    \n",
    "myfunction(6)\n",
    "\n"
   ]
  },
  {
   "cell_type": "markdown",
   "id": "caba4a4e",
   "metadata": {},
   "source": [
    "Without the , / you are actually allowed to use keyword arguments even if the function expects positional arguments:"
   ]
  },
  {
   "cell_type": "code",
   "execution_count": 156,
   "id": "bea28eff",
   "metadata": {},
   "outputs": [
    {
     "name": "stdout",
     "output_type": "stream",
     "text": [
      "8\n"
     ]
    }
   ],
   "source": [
    "def myfun(*,x ):\n",
    "    print(x)\n",
    "    \n",
    "myfun(x = 8)"
   ]
  },
  {
   "cell_type": "code",
   "execution_count": 35,
   "id": "838dd848",
   "metadata": {},
   "outputs": [
    {
     "ename": "TypeError",
     "evalue": "myfun() got some positional-only arguments passed as keyword arguments: 'x'",
     "output_type": "error",
     "traceback": [
      "\u001b[1;31m---------------------------------------------------------------------------\u001b[0m",
      "\u001b[1;31mTypeError\u001b[0m                                 Traceback (most recent call last)",
      "\u001b[1;32m<ipython-input-35-88df3621f265>\u001b[0m in \u001b[0;36m<module>\u001b[1;34m\u001b[0m\n\u001b[0;32m      3\u001b[0m     \u001b[0mprint\u001b[0m\u001b[1;33m(\u001b[0m\u001b[0mx\u001b[0m\u001b[1;33m)\u001b[0m\u001b[1;33m\u001b[0m\u001b[1;33m\u001b[0m\u001b[0m\n\u001b[0;32m      4\u001b[0m \u001b[1;33m\u001b[0m\u001b[0m\n\u001b[1;32m----> 5\u001b[1;33m \u001b[0mmyfun\u001b[0m\u001b[1;33m(\u001b[0m\u001b[0mx\u001b[0m \u001b[1;33m=\u001b[0m \u001b[1;36m8\u001b[0m\u001b[1;33m)\u001b[0m\u001b[1;33m\u001b[0m\u001b[1;33m\u001b[0m\u001b[0m\n\u001b[0m",
      "\u001b[1;31mTypeError\u001b[0m: myfun() got some positional-only arguments passed as keyword arguments: 'x'"
     ]
    }
   ],
   "source": [
    "# it will throw an error\n",
    "def myfun(x , /):\n",
    "    print(x)\n",
    " \n",
    "myfun(x = 8)"
   ]
  },
  {
   "cell_type": "markdown",
   "id": "024b6098",
   "metadata": {},
   "source": [
    "# Keyword-Only Arguments\n",
    "To specify that a function can have only keyword arguments, add *, before the arguments:\n",
    "\n"
   ]
  },
  {
   "cell_type": "code",
   "execution_count": 36,
   "id": "b7cc9649",
   "metadata": {},
   "outputs": [
    {
     "name": "stdout",
     "output_type": "stream",
     "text": [
      "3\n"
     ]
    }
   ],
   "source": [
    "def myfun (* , x ):\n",
    "    print(x)\n",
    "    \n",
    "myfun(x = 3)"
   ]
  },
  {
   "cell_type": "markdown",
   "id": "74bc9ad3",
   "metadata": {},
   "source": [
    "Without the *, you are allowed to use positionale arguments even if the function expects keyword arguments:"
   ]
  },
  {
   "cell_type": "code",
   "execution_count": 37,
   "id": "cca5cc14",
   "metadata": {},
   "outputs": [
    {
     "name": "stdout",
     "output_type": "stream",
     "text": [
      "3\n"
     ]
    }
   ],
   "source": [
    "def myfun(x):\n",
    "    print(x)\n",
    "    \n",
    "myfun(3)"
   ]
  },
  {
   "cell_type": "markdown",
   "id": "b441693a",
   "metadata": {},
   "source": [
    "when adding *,/ you will get an error if you try to send a positional argument:"
   ]
  },
  {
   "cell_type": "code",
   "execution_count": 38,
   "id": "067f646a",
   "metadata": {},
   "outputs": [
    {
     "ename": "TypeError",
     "evalue": "myfun() takes 0 positional arguments but 1 was given",
     "output_type": "error",
     "traceback": [
      "\u001b[1;31m---------------------------------------------------------------------------\u001b[0m",
      "\u001b[1;31mTypeError\u001b[0m                                 Traceback (most recent call last)",
      "\u001b[1;32m<ipython-input-38-9508e9559e55>\u001b[0m in \u001b[0;36m<module>\u001b[1;34m\u001b[0m\n\u001b[0;32m      1\u001b[0m \u001b[1;32mdef\u001b[0m \u001b[0mmyfun\u001b[0m\u001b[1;33m(\u001b[0m\u001b[1;33m*\u001b[0m\u001b[1;33m,\u001b[0m\u001b[0mx\u001b[0m\u001b[1;33m)\u001b[0m\u001b[1;33m:\u001b[0m\u001b[1;33m\u001b[0m\u001b[1;33m\u001b[0m\u001b[0m\n\u001b[0;32m      2\u001b[0m     \u001b[0mprint\u001b[0m\u001b[1;33m(\u001b[0m\u001b[0mx\u001b[0m\u001b[1;33m)\u001b[0m\u001b[1;33m\u001b[0m\u001b[1;33m\u001b[0m\u001b[0m\n\u001b[1;32m----> 3\u001b[1;33m \u001b[0mmyfun\u001b[0m\u001b[1;33m(\u001b[0m\u001b[1;36m5\u001b[0m\u001b[1;33m)\u001b[0m\u001b[1;33m\u001b[0m\u001b[1;33m\u001b[0m\u001b[0m\n\u001b[0m",
      "\u001b[1;31mTypeError\u001b[0m: myfun() takes 0 positional arguments but 1 was given"
     ]
    }
   ],
   "source": [
    "def myfun(*,x):\n",
    "    print(x)\n",
    "myfun(5)# it will throw an error"
   ]
  },
  {
   "cell_type": "markdown",
   "id": "9b109c24",
   "metadata": {},
   "source": [
    "# Combine Positional-Only and Keyword-Only\n",
    "You can combine the two argument types in the same function.\n",
    "\n",
    "Any argument before the / , are positional-only, and any argument after the *, are keyword-only."
   ]
  },
  {
   "cell_type": "code",
   "execution_count": 39,
   "id": "764b313d",
   "metadata": {},
   "outputs": [
    {
     "name": "stdout",
     "output_type": "stream",
     "text": [
      "26\n"
     ]
    }
   ],
   "source": [
    "def myfun(a,b, / , * , c, d):\n",
    "     print(a+b+c+d)\n",
    "myfun(4,5,c=8,d=9)"
   ]
  },
  {
   "cell_type": "markdown",
   "id": "affc18f6",
   "metadata": {},
   "source": [
    "# Recursion\n",
    "\n",
    "Python also accepts function recursion, which means a defined function can call itself.\n",
    "\n",
    "Recursion is a common mathematical and programming concept. It means that a function calls itself. This has the benefit of meaning that you can loop through data to reach a result.\n",
    "\n",
    "The developer should be very careful with recursion as it can be quite easy to slip into writing a function which never terminates, or one that uses excess amounts of memory or processor power. However, when written correctly recursion can be a very efficient and mathematically-elegant approach to programming.\n",
    "\n",
    "In this example, tri_recursion() is a function that we have defined to call itself (\"recurse\"). We use the k variable as the data, which decrements (-1) every time we recurse. The recursion ends when the condition is not greater than 0 (i.e. when it is 0).\n",
    "\n",
    "To a new developer it can take some time to work out how exactly this works, best way to find out is by testing and modifying it."
   ]
  },
  {
   "cell_type": "code",
   "execution_count": 118,
   "id": "5ee95a62",
   "metadata": {},
   "outputs": [
    {
     "name": "stdout",
     "output_type": "stream",
     "text": [
      "\n",
      "\n",
      "Recursion Example Results\n",
      "1\n",
      "3\n",
      "6\n",
      "10\n",
      "15\n",
      "21\n"
     ]
    },
    {
     "data": {
      "text/plain": [
       "21"
      ]
     },
     "execution_count": 118,
     "metadata": {},
     "output_type": "execute_result"
    }
   ],
   "source": [
    "def try_recursion(x):\n",
    "    if(x>0):\n",
    "        result = x + try_recursion(x-1)\n",
    "        print(result)\n",
    "    else:\n",
    "        result = 0\n",
    "    return result\n",
    "print(\"\\n\\nRecursion Example Results\")\n",
    "try_recursion(6)\n",
    "\n",
    "\n",
    "\n"
   ]
  },
  {
   "cell_type": "markdown",
   "id": "dea7c136",
   "metadata": {},
   "source": [
    "explaining the above topic \n",
    "\n",
    "\n",
    "\n",
    "result = 6 + 15 \n",
    "\tresult = 5 + 10 \n",
    "\t\tresult = 4 + 6 \n",
    "\t\t\tresult = 3 + 3 \n",
    "\t\t\t\tresult = 2 + 1 \n",
    "\t\t\t\t\tresult = 1 + 0 \n",
    "\t\t\t\t\tprint 1 \n",
    "\t\t\t\tprint 3 \n",
    "\t\t\tprint 6 \n",
    "\t\tprint 10 \n",
    "\tprint 15 \n",
    "print 21"
   ]
  },
  {
   "cell_type": "code",
   "execution_count": 119,
   "id": "ccc61dd9",
   "metadata": {},
   "outputs": [
    {
     "name": "stdout",
     "output_type": "stream",
     "text": [
      "\n",
      "\n",
      "Recursion example result\n",
      "18\n"
     ]
    },
    {
     "data": {
      "text/plain": [
       "18"
      ]
     },
     "execution_count": 119,
     "metadata": {},
     "output_type": "execute_result"
    }
   ],
   "source": [
    "def tryingrec(x):\n",
    "    if(x>1):\n",
    "        show = x +(x+2)\n",
    "        print(show)\n",
    "    else:\n",
    "        x = 1\n",
    "    return show\n",
    "print(\"\\n\\nRecursion example result\")\n",
    "tryingrec(8)\n"
   ]
  },
  {
   "cell_type": "code",
   "execution_count": 120,
   "id": "19d3182e",
   "metadata": {},
   "outputs": [
    {
     "name": "stdout",
     "output_type": "stream",
     "text": [
      "adding:\n"
     ]
    },
    {
     "ename": "KeyboardInterrupt",
     "evalue": "Interrupted by user",
     "output_type": "error",
     "traceback": [
      "\u001b[1;31m---------------------------------------------------------------------------\u001b[0m",
      "\u001b[1;31mKeyboardInterrupt\u001b[0m                         Traceback (most recent call last)",
      "\u001b[1;32m<ipython-input-120-4c2474b70e55>\u001b[0m in \u001b[0;36m<module>\u001b[1;34m\u001b[0m\n\u001b[0;32m     23\u001b[0m     \u001b[0mprint\u001b[0m\u001b[1;33m(\u001b[0m\u001b[1;34mf\"Dividing {a} and {b} is : \"\u001b[0m\u001b[1;33m,\u001b[0m\u001b[0ma\u001b[0m\u001b[1;33m/\u001b[0m\u001b[0mb\u001b[0m\u001b[1;33m)\u001b[0m\u001b[1;33m\u001b[0m\u001b[1;33m\u001b[0m\u001b[0m\n\u001b[0;32m     24\u001b[0m \u001b[1;33m\u001b[0m\u001b[0m\n\u001b[1;32m---> 25\u001b[1;33m \u001b[0madd\u001b[0m\u001b[1;33m(\u001b[0m\u001b[1;33m)\u001b[0m\u001b[1;33m\u001b[0m\u001b[1;33m\u001b[0m\u001b[0m\n\u001b[0m\u001b[0;32m     26\u001b[0m \u001b[0msub\u001b[0m\u001b[1;33m(\u001b[0m\u001b[1;33m)\u001b[0m\u001b[1;33m\u001b[0m\u001b[1;33m\u001b[0m\u001b[0m\n\u001b[0;32m     27\u001b[0m \u001b[0mmul\u001b[0m\u001b[1;33m(\u001b[0m\u001b[1;33m)\u001b[0m\u001b[1;33m\u001b[0m\u001b[1;33m\u001b[0m\u001b[0m\n",
      "\u001b[1;32m<ipython-input-120-4c2474b70e55>\u001b[0m in \u001b[0;36madd\u001b[1;34m()\u001b[0m\n\u001b[0;32m      1\u001b[0m \u001b[1;32mdef\u001b[0m \u001b[0madd\u001b[0m\u001b[1;33m(\u001b[0m\u001b[1;33m)\u001b[0m\u001b[1;33m:\u001b[0m\u001b[1;33m\u001b[0m\u001b[1;33m\u001b[0m\u001b[0m\n\u001b[0;32m      2\u001b[0m     \u001b[0mprint\u001b[0m\u001b[1;33m(\u001b[0m\u001b[1;34m\"adding:\"\u001b[0m\u001b[1;33m)\u001b[0m\u001b[1;33m\u001b[0m\u001b[1;33m\u001b[0m\u001b[0m\n\u001b[1;32m----> 3\u001b[1;33m     \u001b[0ma\u001b[0m \u001b[1;33m=\u001b[0m \u001b[0mint\u001b[0m\u001b[1;33m(\u001b[0m\u001b[0minput\u001b[0m\u001b[1;33m(\u001b[0m\u001b[1;34m\"Enter a :\"\u001b[0m\u001b[1;33m)\u001b[0m\u001b[1;33m)\u001b[0m\u001b[1;33m\u001b[0m\u001b[1;33m\u001b[0m\u001b[0m\n\u001b[0m\u001b[0;32m      4\u001b[0m     \u001b[0mb\u001b[0m \u001b[1;33m=\u001b[0m \u001b[0mint\u001b[0m\u001b[1;33m(\u001b[0m\u001b[0minput\u001b[0m\u001b[1;33m(\u001b[0m\u001b[1;34m\"Enter b :\"\u001b[0m\u001b[1;33m)\u001b[0m\u001b[1;33m)\u001b[0m\u001b[1;33m\u001b[0m\u001b[1;33m\u001b[0m\u001b[0m\n\u001b[0;32m      5\u001b[0m     \u001b[0mprint\u001b[0m\u001b[1;33m(\u001b[0m\u001b[1;34mf\"adding {a} and {b}: \"\u001b[0m \u001b[1;33m,\u001b[0m \u001b[0ma\u001b[0m\u001b[1;33m+\u001b[0m\u001b[0mb\u001b[0m\u001b[1;33m)\u001b[0m\u001b[1;33m\u001b[0m\u001b[1;33m\u001b[0m\u001b[0m\n",
      "\u001b[1;32m~\\anaconda3\\lib\\site-packages\\ipykernel\\kernelbase.py\u001b[0m in \u001b[0;36mraw_input\u001b[1;34m(self, prompt)\u001b[0m\n\u001b[0;32m    858\u001b[0m                 \u001b[1;34m\"raw_input was called, but this frontend does not support input requests.\"\u001b[0m\u001b[1;33m\u001b[0m\u001b[1;33m\u001b[0m\u001b[0m\n\u001b[0;32m    859\u001b[0m             )\n\u001b[1;32m--> 860\u001b[1;33m         return self._input_request(str(prompt),\n\u001b[0m\u001b[0;32m    861\u001b[0m             \u001b[0mself\u001b[0m\u001b[1;33m.\u001b[0m\u001b[0m_parent_ident\u001b[0m\u001b[1;33m,\u001b[0m\u001b[1;33m\u001b[0m\u001b[1;33m\u001b[0m\u001b[0m\n\u001b[0;32m    862\u001b[0m             \u001b[0mself\u001b[0m\u001b[1;33m.\u001b[0m\u001b[0m_parent_header\u001b[0m\u001b[1;33m,\u001b[0m\u001b[1;33m\u001b[0m\u001b[1;33m\u001b[0m\u001b[0m\n",
      "\u001b[1;32m~\\anaconda3\\lib\\site-packages\\ipykernel\\kernelbase.py\u001b[0m in \u001b[0;36m_input_request\u001b[1;34m(self, prompt, ident, parent, password)\u001b[0m\n\u001b[0;32m    902\u001b[0m             \u001b[1;32mexcept\u001b[0m \u001b[0mKeyboardInterrupt\u001b[0m\u001b[1;33m:\u001b[0m\u001b[1;33m\u001b[0m\u001b[1;33m\u001b[0m\u001b[0m\n\u001b[0;32m    903\u001b[0m                 \u001b[1;31m# re-raise KeyboardInterrupt, to truncate traceback\u001b[0m\u001b[1;33m\u001b[0m\u001b[1;33m\u001b[0m\u001b[1;33m\u001b[0m\u001b[0m\n\u001b[1;32m--> 904\u001b[1;33m                 \u001b[1;32mraise\u001b[0m \u001b[0mKeyboardInterrupt\u001b[0m\u001b[1;33m(\u001b[0m\u001b[1;34m\"Interrupted by user\"\u001b[0m\u001b[1;33m)\u001b[0m \u001b[1;32mfrom\u001b[0m \u001b[1;32mNone\u001b[0m\u001b[1;33m\u001b[0m\u001b[1;33m\u001b[0m\u001b[0m\n\u001b[0m\u001b[0;32m    905\u001b[0m             \u001b[1;32mexcept\u001b[0m \u001b[0mException\u001b[0m \u001b[1;32mas\u001b[0m \u001b[0me\u001b[0m\u001b[1;33m:\u001b[0m\u001b[1;33m\u001b[0m\u001b[1;33m\u001b[0m\u001b[0m\n\u001b[0;32m    906\u001b[0m                 \u001b[0mself\u001b[0m\u001b[1;33m.\u001b[0m\u001b[0mlog\u001b[0m\u001b[1;33m.\u001b[0m\u001b[0mwarning\u001b[0m\u001b[1;33m(\u001b[0m\u001b[1;34m\"Invalid Message:\"\u001b[0m\u001b[1;33m,\u001b[0m \u001b[0mexc_info\u001b[0m\u001b[1;33m=\u001b[0m\u001b[1;32mTrue\u001b[0m\u001b[1;33m)\u001b[0m\u001b[1;33m\u001b[0m\u001b[1;33m\u001b[0m\u001b[0m\n",
      "\u001b[1;31mKeyboardInterrupt\u001b[0m: Interrupted by user"
     ]
    }
   ],
   "source": [
    "def add():\n",
    "    print(\"adding:\")\n",
    "    a = int(input(\"Enter a :\"))\n",
    "    b = int(input(\"Enter b :\"))\n",
    "    print(f\"adding {a} and {b}: \" , a+b)\n",
    "\n",
    "def sub():\n",
    "    print(\"subraction:\")\n",
    "    a = int(input(\"Enter a :\"))\n",
    "    b = int(input(\"Enter b :\"))\n",
    "    print(f\"subtrating {a} and {b} \", a-b)\n",
    "    \n",
    "def mul():\n",
    "    print(\"Multiplication:\")\n",
    "    a = int(input(\"Enter a: \"))\n",
    "    b = int(input(\"Enter b: \"))\n",
    "    print(f\"Multiplication on {a} and {b} is :\", a*b)\n",
    "    \n",
    "def div():\n",
    "    print(\"Division: \")\n",
    "    a=int(input(\"Enter a: \"))\n",
    "    b=int(input(\"Enter b: \"))\n",
    "    print(f\"Dividing {a} and {b} is : \",a/b)\n",
    "    \n",
    "add()\n",
    "sub()\n",
    "mul()\n",
    "div()\n",
    "    "
   ]
  },
  {
   "cell_type": "code",
   "execution_count": 59,
   "id": "55b86b2e",
   "metadata": {},
   "outputs": [
    {
     "name": "stdout",
     "output_type": "stream",
     "text": [
      "odd\n",
      "even\n",
      "odd\n"
     ]
    }
   ],
   "source": [
    "# get the interger number from user and pass it  to the fucntion called findeven or odd() let the function print whether the number is even or odd.\n",
    "def findevenorodd(num):\n",
    "    if (num%2==0):\n",
    "        print(\"even\")\n",
    "    else:\n",
    "        print(\"odd\")\n",
    "findevenorodd(3)\n",
    "findevenorodd(6)\n",
    "findevenorodd(7)"
   ]
  },
  {
   "cell_type": "code",
   "execution_count": 61,
   "id": "9783427d",
   "metadata": {},
   "outputs": [
    {
     "name": "stdout",
     "output_type": "stream",
     "text": [
      "Enter the mark: 20\n",
      "fail\n"
     ]
    }
   ],
   "source": [
    "# to print pass or fail function named as passorfail\n",
    "def passorfail(mark):\n",
    "    if(mark>=35):\n",
    "        print(\"pass\")\n",
    "    else:\n",
    "        print(\"fail\")\n",
    "a=int(input(\"Enter the mark: \"))\n",
    "passorfail(a)"
   ]
  },
  {
   "cell_type": "code",
   "execution_count": 62,
   "id": "a4e3efac",
   "metadata": {},
   "outputs": [
    {
     "name": "stdout",
     "output_type": "stream",
     "text": [
      "enter a: 3\n",
      "enter b: 19\n",
      "3\n",
      "4\n",
      "5\n",
      "6\n",
      "7\n",
      "8\n",
      "9\n",
      "10\n",
      "11\n",
      "12\n",
      "13\n",
      "14\n",
      "15\n",
      "16\n",
      "17\n",
      "18\n"
     ]
    }
   ],
   "source": [
    "#get input for a and b and pass it to the function called printrange() let the function print numbers from a to b\n",
    "def printrange(num1,num2):\n",
    "    for x in range(num1,num2):\n",
    "        print(x)\n",
    "a=int(input(\"enter a: \"))\n",
    "b=int(input(\"enter b: \"))\n",
    "printrange(a,b)"
   ]
  },
  {
   "cell_type": "code",
   "execution_count": 68,
   "id": "dcc295bf",
   "metadata": {},
   "outputs": [
    {
     "name": "stdout",
     "output_type": "stream",
     "text": [
      "enter your name: elango\n",
      "enter your password: elabgi\n",
      "False\n"
     ]
    }
   ],
   "source": [
    "s_username = \"elango\"\n",
    "s_password = \"elango12\"\n",
    "\n",
    "uname = input(\"enter your name: \")\n",
    "upass = input(\"enter your password: \")\n",
    "\n",
    "def validate():\n",
    "    if(s_username == uname and s_password == upass):\n",
    "        return True\n",
    "    else:\n",
    "        return False\n",
    "        \n",
    "a=validate()\n",
    "print(a)"
   ]
  },
  {
   "cell_type": "code",
   "execution_count": 70,
   "id": "001bd797",
   "metadata": {},
   "outputs": [
    {
     "name": "stdout",
     "output_type": "stream",
     "text": [
      "a: 4\n",
      "b: 5\n",
      "c: 10\n",
      "90\n"
     ]
    }
   ],
   "source": [
    "def add(num1,num2):\n",
    "    return num1+num2\n",
    "\n",
    "a=int(input(\"a: \"))\n",
    "b=int(input(\"b: \"))\n",
    "c=int(input(\"c: \"))\n",
    "added=add(a,b)\n",
    "\n",
    "output= added*c\n",
    "print(output)\n"
   ]
  },
  {
   "cell_type": "markdown",
   "id": "5ec6786d",
   "metadata": {},
   "source": [
    "# Python lambda\n",
    "\n",
    "a lambda function is a small anonymous function\n",
    "\n",
    "a lambda function can take any number of argument,but can only have one expression\n",
    "\n",
    "## syntax\n",
    "\n",
    "lambda arguments : expression\n",
    "\n",
    "The expression is executed and the result is returned:\n"
   ]
  },
  {
   "cell_type": "code",
   "execution_count": 73,
   "id": "0405f09c",
   "metadata": {},
   "outputs": [
    {
     "name": "stdout",
     "output_type": "stream",
     "text": [
      "15\n",
      "13\n"
     ]
    }
   ],
   "source": [
    "#Add 10 to argument a, and return the result:\n",
    "\n",
    "x = lambda a : a + 10\n",
    "print(x(5))\n",
    "\n",
    "x = lambda a, b, c : a + b + c\n",
    "print(x(5, 6, 2))\n"
   ]
  },
  {
   "cell_type": "code",
   "execution_count": 72,
   "id": "a7a80f6f",
   "metadata": {},
   "outputs": [
    {
     "name": "stdout",
     "output_type": "stream",
     "text": [
      "16\n"
     ]
    }
   ],
   "source": [
    "y = lambda a,b:a+b\n",
    "print(y(10,6))"
   ]
  },
  {
   "cell_type": "markdown",
   "id": "941cce1e",
   "metadata": {},
   "source": [
    "# Why Use Lambda Functions?\n",
    "The power of lambda is better shown when you use them as an anonymous function inside another function.\n",
    "\n",
    "Say you have a function definition that takes one argument, and that argument will be multiplied with an unknown number:\n",
    "\n"
   ]
  },
  {
   "cell_type": "code",
   "execution_count": 74,
   "id": "270d3cca",
   "metadata": {},
   "outputs": [
    {
     "name": "stdout",
     "output_type": "stream",
     "text": [
      "22\n"
     ]
    }
   ],
   "source": [
    "def myfunc(n):\n",
    "  return lambda a : a * n\n",
    "\n",
    "mydoubler = myfunc(2)\n",
    "\n",
    "print(mydoubler(11))"
   ]
  },
  {
   "cell_type": "code",
   "execution_count": 76,
   "id": "23fcf524",
   "metadata": {},
   "outputs": [
    {
     "name": "stdout",
     "output_type": "stream",
     "text": [
      "22\n",
      "33\n"
     ]
    }
   ],
   "source": [
    "def myfunc(n):\n",
    "  return lambda a : a * n\n",
    "\n",
    "mydoubler = myfunc(2)\n",
    "mytripler = myfunc(3)\n",
    "\n",
    "print(mydoubler(11))\n",
    "print(mytripler(11))\n"
   ]
  },
  {
   "cell_type": "markdown",
   "id": "5008b50b",
   "metadata": {},
   "source": [
    "# Python Arrays\n",
    "\n",
    "*python does not have built-in support for arrays,but python lists can be used instead>\n",
    "\n",
    "# Arrays\n",
    "\n",
    "Arrays are used to store multiple values in one single variables:"
   ]
  },
  {
   "cell_type": "code",
   "execution_count": 77,
   "id": "1401a505",
   "metadata": {},
   "outputs": [
    {
     "name": "stdout",
     "output_type": "stream",
     "text": [
      "['ford', 'volvo', 'bmw']\n"
     ]
    }
   ],
   "source": [
    "# creating a array containg cars name\n",
    "cars = [\"ford\",\"volvo\",\"bmw\"]\n",
    "print(cars)"
   ]
  },
  {
   "cell_type": "markdown",
   "id": "ad4288a0",
   "metadata": {},
   "source": [
    "## What is an Array?\n",
    "An array is a special variable, which can hold more than one value at a time.\n",
    "\n",
    "If you have a list of items (a list of car names, for example), storing the cars in single variables could look like this:\n",
    "\n",
    "car1 = \"Ford\"\n",
    "car2 = \"Volvo\"\n",
    "car3 = \"BMW\"\n",
    "However, what if you want to loop through the cars and find a specific one? And what if you had not 3 cars, but 300?\n",
    "\n",
    "The solution is an array!\n",
    "\n",
    "An array can hold many values under a single name, and you can access the values by referring to an index number.\n",
    "\n",
    "# Access the Elements of an Array\n",
    "You refer to an array element by referring to the index number.\n",
    "\n"
   ]
  },
  {
   "cell_type": "code",
   "execution_count": 81,
   "id": "a99ac0a0",
   "metadata": {},
   "outputs": [
    {
     "name": "stdout",
     "output_type": "stream",
     "text": [
      "ford\n",
      "bmw\n",
      "toyota\n",
      "['ford', 'toyota', 'bmw']\n"
     ]
    }
   ],
   "source": [
    "x = cars[0]\n",
    "print(x)\n",
    "y= cars[2]\n",
    "print(y)\n",
    "\n",
    "#modified the first element\n",
    "x=cars[1]=\"toyota\"\n",
    "print(x)\n",
    "print(cars)"
   ]
  },
  {
   "cell_type": "markdown",
   "id": "a2176123",
   "metadata": {},
   "source": [
    "# The Length of an Array\n",
    "Use the len() method to return the length of an array (the number of elements in an array).\n",
    "\n"
   ]
  },
  {
   "cell_type": "code",
   "execution_count": 82,
   "id": "b33ac5b4",
   "metadata": {},
   "outputs": [
    {
     "name": "stdout",
     "output_type": "stream",
     "text": [
      "3\n"
     ]
    }
   ],
   "source": [
    "z = len(cars)\n",
    "print(z)"
   ]
  },
  {
   "cell_type": "markdown",
   "id": "e94b2db5",
   "metadata": {},
   "source": [
    "# Looping Array Elements\n",
    "You can use the for in loop to loop through all the elements of an array.\n",
    "\n"
   ]
  },
  {
   "cell_type": "code",
   "execution_count": 83,
   "id": "a28f451e",
   "metadata": {},
   "outputs": [
    {
     "name": "stdout",
     "output_type": "stream",
     "text": [
      "ford\n",
      "toyota\n",
      "bmw\n"
     ]
    }
   ],
   "source": [
    "for x in cars:\n",
    "    print(x)"
   ]
  },
  {
   "cell_type": "markdown",
   "id": "5996c1d8",
   "metadata": {},
   "source": [
    "# Adding Array Elements\n",
    "You can use the append() method to add an element to an array."
   ]
  },
  {
   "cell_type": "code",
   "execution_count": 93,
   "id": "9c18cc0f",
   "metadata": {},
   "outputs": [
    {
     "name": "stdout",
     "output_type": "stream",
     "text": [
      "['ford', 'toyota', 'bmw', 'ferrari']\n"
     ]
    }
   ],
   "source": [
    "cars.append(\"ferrari\")\n",
    "print(cars)"
   ]
  },
  {
   "cell_type": "markdown",
   "id": "1e424b4b",
   "metadata": {},
   "source": [
    "# Removing Array Elements\n",
    "You can use the pop() method to remove an element from the array.\n",
    "\n",
    "1.pop() method\n",
    "\n",
    "2.remove() method"
   ]
  },
  {
   "cell_type": "code",
   "execution_count": 94,
   "id": "20dd9524",
   "metadata": {},
   "outputs": [
    {
     "name": "stdout",
     "output_type": "stream",
     "text": [
      "['ford', 'toyota', 'bmw']\n",
      "ferrari\n",
      "['ford', 'toyota']\n"
     ]
    }
   ],
   "source": [
    "# using pop() method\n",
    "n=cars.pop(3)\n",
    "print(cars)\n",
    "print(n)\n",
    "\n",
    "# remove method\n",
    "m=cars.remove(\"bmw\")\n",
    "print(cars)\n",
    "\n"
   ]
  },
  {
   "cell_type": "markdown",
   "id": "3b825b13",
   "metadata": {},
   "source": [
    "# Python Classes and Objects\n",
    "\n",
    "## Python Classes/Objects\n",
    "Python is an object oriented programming language.\n",
    "\n",
    "Almost everything in Python is an object, with its properties and methods.\n",
    "\n",
    "A Class is like an object constructor, or a \"blueprint\" for creating objects.\n",
    "\n",
    "\n"
   ]
  },
  {
   "cell_type": "markdown",
   "id": "14ec3423",
   "metadata": {},
   "source": [
    "# Create a Class\n",
    "To create a class, use the keyword class:\n",
    "\n"
   ]
  },
  {
   "cell_type": "code",
   "execution_count": 115,
   "id": "1636ac2d",
   "metadata": {},
   "outputs": [],
   "source": [
    "class myname:\n",
    "    name = \"elango\""
   ]
  },
  {
   "cell_type": "markdown",
   "id": "2001178b",
   "metadata": {},
   "source": [
    "# Create Object\n",
    "Now we can use the class named MyClass to create objects:\n",
    "\n"
   ]
  },
  {
   "cell_type": "code",
   "execution_count": 116,
   "id": "a8b6a33d",
   "metadata": {},
   "outputs": [
    {
     "name": "stdout",
     "output_type": "stream",
     "text": [
      "elango\n"
     ]
    }
   ],
   "source": [
    "e = myname()\n",
    "print(e.name)"
   ]
  },
  {
   "cell_type": "markdown",
   "id": "702ab43d",
   "metadata": {},
   "source": [
    "# The __init__() Function\n",
    "The examples above are classes and objects in their simplest form, and are not really useful in real life applications.\n",
    "\n",
    "To understand the meaning of classes we have to understand the built-in __init__() function.\n",
    "\n",
    "All classes have a function called __init__(), which is always executed when the class is being initiated.\n",
    "\n",
    "Use the __init__() function to assign values to object properties, or other operations that are necessary to do when the object is being created:\n",
    "\n"
   ]
  },
  {
   "cell_type": "code",
   "execution_count": 117,
   "id": "a08b1c39",
   "metadata": {},
   "outputs": [
    {
     "name": "stdout",
     "output_type": "stream",
     "text": [
      "this is __init__ function this is python inbuilt function\n"
     ]
    }
   ],
   "source": [
    "class myclass:\n",
    "    def __init__(self):\n",
    "        print(\"this is __init__ function this is python inbuilt function\")\n",
    "        \n",
    "        \n",
    "m=myclass()"
   ]
  },
  {
   "cell_type": "code",
   "execution_count": 121,
   "id": "66a86ab1",
   "metadata": {},
   "outputs": [
    {
     "name": "stdout",
     "output_type": "stream",
     "text": [
      "John\n",
      "36\n"
     ]
    }
   ],
   "source": [
    "class Person:\n",
    "  def __init__(self, name, age):\n",
    "    self.name = name\n",
    "    self.age = age\n",
    "\n",
    "p1 = Person(\"John\", 36)\n",
    "\n",
    "print(p1.name)\n",
    "print(p1.age)\n",
    "\n",
    "# the __init__ function is callled automatically every time the class is being used to create a new object.\n"
   ]
  },
  {
   "cell_type": "markdown",
   "id": "86993848",
   "metadata": {},
   "source": [
    "# The __str__() Function\n",
    "The __str__() function controls what should be returned when the class object is represented as a string.\n",
    "\n",
    "If the __str__() function is not set, the string representation of the object is returned:\n",
    "\n"
   ]
  },
  {
   "cell_type": "code",
   "execution_count": 139,
   "id": "f4d74269",
   "metadata": {},
   "outputs": [
    {
     "name": "stdout",
     "output_type": "stream",
     "text": [
      "John(36)\n"
     ]
    }
   ],
   "source": [
    "#The string representation of an object WITH the __str__() function:\n",
    "\n",
    "\n",
    "class Person:\n",
    "  def __init__(self, name, age):\n",
    "    self.name = name\n",
    "    self.age = age\n",
    "\n",
    "  def __str__(self):\n",
    "    return f\"{self.name}({self.age})\"\n",
    "\n",
    "p1 = Person(\"John\", 36)\n",
    "\n",
    "print(p1)\n"
   ]
  },
  {
   "cell_type": "markdown",
   "id": "fe791767",
   "metadata": {},
   "source": [
    "# Object Methods\n",
    "Objects can also contain methods. Methods in objects are functions that belong to the object.\n",
    "\n",
    "Let us create a method in the Person class:\n",
    "\n"
   ]
  },
  {
   "cell_type": "code",
   "execution_count": 142,
   "id": "e886d328",
   "metadata": {},
   "outputs": [
    {
     "name": "stdout",
     "output_type": "stream",
     "text": [
      "name:  rajesh\n",
      " Age:  rajesh\n",
      "name:  suresh\n",
      " Age:  suresh\n"
     ]
    }
   ],
   "source": [
    "class persons:\n",
    "    def __init__(self):\n",
    "        self.name=\"\"\n",
    "        self.age=\"\"\n",
    "    def display(self):\n",
    "        print(\"name: \", self.name)\n",
    "        print(\" Age: \", self.name)\n",
    "        \n",
    "rajesh = persons()\n",
    "suresh = persons()\n",
    "\n",
    "rajesh.name=\"rajesh\"\n",
    "rajesh.age=\"20\"\n",
    "\n",
    "suresh.name=\"suresh\"\n",
    "suresh.age=\"20\"\n",
    "\n",
    "rajesh.display()\n",
    "suresh.display()\n",
    "    "
   ]
  },
  {
   "cell_type": "markdown",
   "id": "f70305a3",
   "metadata": {},
   "source": [
    "# The self Parameter\n",
    "The self parameter is a reference to the current instance of the class, and is used to access variables that belongs to the class.\n",
    "\n",
    "It does not have to be named self , you can call it whatever you like, but it has to be the first parameter of any function in the class:\n",
    "\n"
   ]
  },
  {
   "cell_type": "code",
   "execution_count": 143,
   "id": "152ddf97",
   "metadata": {},
   "outputs": [
    {
     "name": "stdout",
     "output_type": "stream",
     "text": [
      "Hello my name is John\n"
     ]
    }
   ],
   "source": [
    "class Person:\n",
    "  def __init__(mysillyobject, name, age):\n",
    "    mysillyobject.name = name\n",
    "    mysillyobject.age = age\n",
    "\n",
    "  def myfunc(abc):\n",
    "    print(\"Hello my name is \" + abc.name)\n",
    "\n",
    "p1 = Person(\"John\", 36)\n",
    "p1.myfunc()\n"
   ]
  },
  {
   "cell_type": "markdown",
   "id": "371cde9a",
   "metadata": {},
   "source": [
    "# Modify Object Properties\n",
    "You can modify properties on objects like this:\n",
    "\n"
   ]
  },
  {
   "cell_type": "code",
   "execution_count": 145,
   "id": "ecf827ae",
   "metadata": {},
   "outputs": [
    {
     "name": "stdout",
     "output_type": "stream",
     "text": [
      "36\n",
      "40\n"
     ]
    }
   ],
   "source": [
    "print(p1.age)\n",
    "p1.age = 40\n",
    "print(p1.age)"
   ]
  },
  {
   "cell_type": "markdown",
   "id": "bd1f1c5c",
   "metadata": {},
   "source": [
    "# Delete Object Properties\n",
    "You can delete properties on objects by using the del keyword:\n",
    "\n",
    "# Delete Objects\n",
    "You can delete objects by using the del keyword:\n",
    "\n",
    "\n"
   ]
  },
  {
   "cell_type": "code",
   "execution_count": 149,
   "id": "11fd0481",
   "metadata": {},
   "outputs": [
    {
     "ename": "AttributeError",
     "evalue": "age",
     "output_type": "error",
     "traceback": [
      "\u001b[1;31m---------------------------------------------------------------------------\u001b[0m",
      "\u001b[1;31mAttributeError\u001b[0m                            Traceback (most recent call last)",
      "\u001b[1;32m<ipython-input-149-007a33f5edfc>\u001b[0m in \u001b[0;36m<module>\u001b[1;34m\u001b[0m\n\u001b[0;32m      1\u001b[0m \u001b[1;31m#deleting property of object\u001b[0m\u001b[1;33m\u001b[0m\u001b[1;33m\u001b[0m\u001b[1;33m\u001b[0m\u001b[0m\n\u001b[1;32m----> 2\u001b[1;33m \u001b[1;32mdel\u001b[0m \u001b[0mp1\u001b[0m\u001b[1;33m.\u001b[0m\u001b[0mage\u001b[0m\u001b[1;33m\u001b[0m\u001b[1;33m\u001b[0m\u001b[0m\n\u001b[0m\u001b[0;32m      3\u001b[0m \u001b[0mprint\u001b[0m\u001b[1;33m(\u001b[0m\u001b[0mp1\u001b[0m\u001b[1;33m.\u001b[0m\u001b[0mage\u001b[0m\u001b[1;33m)\u001b[0m\u001b[1;33m\u001b[0m\u001b[1;33m\u001b[0m\u001b[0m\n\u001b[0;32m      4\u001b[0m \u001b[1;33m\u001b[0m\u001b[0m\n\u001b[0;32m      5\u001b[0m \u001b[1;31m#del object\u001b[0m\u001b[1;33m\u001b[0m\u001b[1;33m\u001b[0m\u001b[1;33m\u001b[0m\u001b[0m\n",
      "\u001b[1;31mAttributeError\u001b[0m: age"
     ]
    }
   ],
   "source": [
    "#deleting property of object\n",
    "del p1.age\n",
    "print(p1.age)\n",
    "\n",
    "#del object\n",
    "del p1"
   ]
  },
  {
   "cell_type": "markdown",
   "id": "cd6c2517",
   "metadata": {},
   "source": [
    "# The pass Statement\n",
    "class definitions cannot be empty, but if you for some reason have a class definition with no content, put in the pass statement to avoid getting an error.\n",
    "\n"
   ]
  },
  {
   "cell_type": "code",
   "execution_count": 150,
   "id": "496d7280",
   "metadata": {},
   "outputs": [
    {
     "ename": "SyntaxError",
     "evalue": "unexpected EOF while parsing (<ipython-input-150-b3aaa5ffa9fe>, line 1)",
     "output_type": "error",
     "traceback": [
      "\u001b[1;36m  File \u001b[1;32m\"<ipython-input-150-b3aaa5ffa9fe>\"\u001b[1;36m, line \u001b[1;32m1\u001b[0m\n\u001b[1;33m    class name:\u001b[0m\n\u001b[1;37m               ^\u001b[0m\n\u001b[1;31mSyntaxError\u001b[0m\u001b[1;31m:\u001b[0m unexpected EOF while parsing\n"
     ]
    }
   ],
   "source": [
    "class name:"
   ]
  },
  {
   "cell_type": "code",
   "execution_count": 151,
   "id": "e212fa9a",
   "metadata": {},
   "outputs": [],
   "source": [
    "class name:\n",
    "    pass\n"
   ]
  },
  {
   "cell_type": "code",
   "execution_count": 146,
   "id": "d1fcde2a",
   "metadata": {},
   "outputs": [
    {
     "name": "stdout",
     "output_type": "stream",
     "text": [
      "hp_price:  150000\n",
      "hp processor:  AMD_RAYZEN1000\n",
      "hp ram:  16gb\n",
      "dell_price:  65000\n",
      "dell processor:  intel core 5i\n",
      "dell ram:  16gb\n",
      "lenovo price:  75000\n",
      "lenovo processor:  intel core 5i\n",
      "lenovo ram:  16gb\n"
     ]
    }
   ],
   "source": [
    "class laptop:\n",
    "     price =\"\"\n",
    "     processor =\"\"\n",
    "     ram = \"\"\n",
    "        \n",
    "hp = laptop()\n",
    "dell = laptop()\n",
    "lenovo = laptop()\n",
    "\n",
    "hp.price = 150000\n",
    "hp.processor = \"AMD_RAYZEN1000\"\n",
    "hp.ram = \"16gb\"\n",
    "dell.price = 65000\n",
    "dell.processor = \"intel core 5i\"\n",
    "dell.ram = \"16gb\"\n",
    "lenovo.price = 75000\n",
    "lenovo.processor = \"intel core 5i\"\n",
    "lenovo.ram = \"16gb\"\n",
    "\n",
    "\n",
    "print(\"hp_price: \" , hp.price)\n",
    "print(\"hp processor: \",hp.processor)\n",
    "print(\"hp ram: \",hp.ram)\n",
    "print(\"dell_price: \" , dell.price)\n",
    "print(\"dell processor: \",dell.processor)\n",
    "print(\"dell ram: \",dell.ram)\n",
    "print(\"lenovo price: \" , lenovo.price)\n",
    "print(\"lenovo processor: \",lenovo.processor)\n",
    "print(\"lenovo ram: \",lenovo.ram)\n",
    "     "
   ]
  },
  {
   "cell_type": "code",
   "execution_count": 111,
   "id": "9190fdc9",
   "metadata": {},
   "outputs": [
    {
     "name": "stdout",
     "output_type": "stream",
     "text": [
      "ramesh\n",
      "drink:  yes\n",
      "Lets party.....\n",
      "suresh\n",
      "drink:  no\n",
      "enjoying the beach\n"
     ]
    }
   ],
   "source": [
    "class goa:\n",
    "    name=\"\"\n",
    "    drink=\"\"\n",
    "    def party(self):\n",
    "        print(\"Lets party.....\")\n",
    "    def beach(self):\n",
    "        print(\"enjoying the beach\")\n",
    "        \n",
    "ramesh = goa()\n",
    "suresh = goa()\n",
    "ramesh.name=\"ramesh\"\n",
    "ramesh.drink=\"yes\"\n",
    "suresh.drink=\"no\"\n",
    "print(ramesh.name)\n",
    "print(\"drink: \", ramesh.drink)\n",
    "ramesh.party()\n",
    "suresh.name=\"suresh\"\n",
    "print(suresh.name)\n",
    "print(\"drink: \", suresh.drink)\n",
    "suresh.beach()"
   ]
  },
  {
   "cell_type": "code",
   "execution_count": 131,
   "id": "d43edfe5",
   "metadata": {},
   "outputs": [
    {
     "name": "stdout",
     "output_type": "stream",
     "text": [
      "ram:  8gb\n",
      "processor:  i5\n",
      "ram:  16gb\n",
      "processor:  i8\n"
     ]
    }
   ],
   "source": [
    "class laptop:\n",
    "    def __init__ (self):\n",
    "        self.ram=\"\"\n",
    "        self.processor=\"\"\n",
    "    def display(self):\n",
    "        print(\"ram: \", self.ram)\n",
    "        print(\"processor: \",self.processor)\n",
    "        \n",
    "hp=laptop()\n",
    "dell=laptop()\n",
    "\n",
    "hp.ram = \"8gb\"\n",
    "hp.processor = \"i5\"\n",
    "\n",
    "dell.ram = \"16gb\"\n",
    "dell.processor = \"i8\"\n",
    "\n",
    "hp.display()\n",
    "dell.display()"
   ]
  },
  {
   "cell_type": "code",
   "execution_count": 13,
   "id": "268e8c36",
   "metadata": {},
   "outputs": [
    {
     "name": "stdout",
     "output_type": "stream",
     "text": [
      "elango\n",
      "Harish\n"
     ]
    }
   ],
   "source": [
    "class InstructorInfo:\n",
    "     def __init__(self,instructor_name,address):\n",
    "            self.name=instructor_name\n",
    "            self.address=address\n",
    "            \n",
    "    \n",
    "instructor_1=InstructorInfo(\"elango\",\"konavattam\")\n",
    "print(instructor_1.name)\n",
    "\n",
    "instructor_2=InstructorInfo(\"Harish\",\"vallalar\")\n",
    "print(instructor_2.name)\n",
    "\n"
   ]
  },
  {
   "cell_type": "code",
   "execution_count": 15,
   "id": "bf6fd26f",
   "metadata": {},
   "outputs": [
    {
     "name": "stdout",
     "output_type": "stream",
     "text": [
      "mammal\n",
      "I am  mammal\n",
      "I am  dog\n"
     ]
    }
   ],
   "source": [
    "#a class\n",
    "class Dog:\n",
    "    \n",
    "    #a simple class\n",
    "    attr1 = \"mammal\"\n",
    "    attr2 = \"dog\"\n",
    "    \n",
    "    #A sample method\n",
    "    def fun(self):\n",
    "        print(\"I am \", self.attr1)\n",
    "        print(\"I am \", self.attr2)\n",
    "        \n",
    "\n",
    "# Driver code\n",
    "#Object instantiation\n",
    "Rodger = Dog()\n",
    "\n",
    "#Accessing class attributes\n",
    "#and method through objects\n",
    "print(Rodger.attr1)\n",
    "Rodger.fun()"
   ]
  },
  {
   "cell_type": "code",
   "execution_count": 18,
   "id": "23b8a2db",
   "metadata": {},
   "outputs": [
    {
     "name": "stdout",
     "output_type": "stream",
     "text": [
      "Hello my name is john and I work in Geeksforgeeks.\n"
     ]
    }
   ],
   "source": [
    "class GFG:\n",
    "    def __init__(self,name,company):\n",
    "        self.name = name\n",
    "        self.company = company\n",
    "        \n",
    "    def show(self):\n",
    "        print(\"Hello my name is \" + self.name+\" and I\" +\n",
    "              \" work in \"+self.company+\".\")\n",
    "\n",
    "obj = GFG(\"john\",\"Geeksforgeeks\")\n",
    "obj.show()        "
   ]
  },
  {
   "cell_type": "code",
   "execution_count": 20,
   "id": "34e5cc5b",
   "metadata": {},
   "outputs": [
    {
     "name": "stdout",
     "output_type": "stream",
     "text": [
      "hii iam  Elango my age is  20\n",
      "hii iam  Harish my age is  21\n"
     ]
    }
   ],
   "source": [
    "class My_Class:\n",
    "    def __init__(self,name,age):\n",
    "        self.name=name\n",
    "        self.age=age\n",
    "    def details(self):\n",
    "        print(\"hii iam \",self.name,\"my age is \",self.age)\n",
    "        \n",
    "name_1=My_Class(\"Elango\",20)\n",
    "name_2=My_Class(\"Harish\",21)\n",
    "name_1.details()\n",
    "name_2.details()"
   ]
  },
  {
   "cell_type": "code",
   "execution_count": null,
   "id": "bbeb064d",
   "metadata": {},
   "outputs": [],
   "source": []
  }
 ],
 "metadata": {
  "kernelspec": {
   "display_name": "Python 3",
   "language": "python",
   "name": "python3"
  },
  "language_info": {
   "codemirror_mode": {
    "name": "ipython",
    "version": 3
   },
   "file_extension": ".py",
   "mimetype": "text/x-python",
   "name": "python",
   "nbconvert_exporter": "python",
   "pygments_lexer": "ipython3",
   "version": "3.8.8"
  }
 },
 "nbformat": 4,
 "nbformat_minor": 5
}
