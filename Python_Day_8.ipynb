{
 "cells": [
  {
   "cell_type": "markdown",
   "id": "0a4febb5",
   "metadata": {},
   "source": [
    "# Day_8\n",
    "\n",
    "# Encapsulation in Python\n",
    "\n",
    "Encapsulation is one of the fundamental concepts in object-oriented programming (oop). it describes the idea of wrapping data and the methods that work on data within one unit. this puts restrictions on accessing variables and methods directly and can prevent the accidental modification of data. \n",
    "\n",
    "to prevent accidental change an objects variable can only be changed by an objects method. Those types of variables are known as private variables.\n",
    "\n",
    "\n",
    "# protected members\n",
    "\n",
    "protected members are those members of the class that cannot be accessed outside the class but can be accessed from within the class and its subclasses.\n",
    "to accomplish this in pthon just follow the convention by prefixing the name of the member by a single underscore \"_\"\n",
    "\n",
    "\n",
    "Although the protected variable can be accessed out of the class as well as in the dervied class (modified too in derived class) it is customary (convention not a rule) to not access the protected out the class body."
   ]
  },
  {
   "cell_type": "code",
   "execution_count": 6,
   "id": "db101fb2",
   "metadata": {},
   "outputs": [
    {
     "name": "stdout",
     "output_type": "stream",
     "text": [
      "Calling protected member of base class:  2\n",
      "Calling modified protected member outside class:  3\n",
      "Accessing protected member of obj1:  3\n",
      "Accessing protected member of obj2:  2\n"
     ]
    }
   ],
   "source": [
    "#python program to\n",
    "#demonstrate protected members\n",
    "\n",
    "#Creating a base class\n",
    "class Base:\n",
    "    def __init__(self):\n",
    "        \n",
    "        #protected member\n",
    "        self._a = 2\n",
    "        \n",
    "#creating a derived class\n",
    "class Derived(Base):\n",
    "    def __init__(self):\n",
    "        \n",
    "        #calling constructor of \n",
    "        #Base class\n",
    "        Base.__init__(self)\n",
    "        print(\"Calling protected member of base class: \", self._a)\n",
    "        \n",
    "        #modifiy the protected variable:\n",
    "        self._a=3\n",
    "        print(\"Calling modified protected member outside class: \",self._a)\n",
    "        \n",
    "obj1=Derived()\n",
    "obj2=Base()\n",
    "\n",
    "#calling protected member\n",
    "#can be accesed but should not be done due to convention\n",
    "\n",
    "print(\"Accessing protected member of obj1: \",obj1._a)\n",
    "\n",
    "#Accessing the protected variable outside\n",
    "print(\"Accessing protected member of obj2: \",obj2._a)"
   ]
  },
  {
   "cell_type": "markdown",
   "id": "643faec9",
   "metadata": {},
   "source": [
    "# Private members\n",
    "\n",
    "Private members are similar to protected members, the difference is that the class members declared private should neither be accessed outside the class nor by any base class. In Python, there is no existence of Private instance variables that cannot be accessed except inside a class.\n",
    "\n",
    "However, to define a private member prefix the member name with double underscore “__”.\n"
   ]
  },
  {
   "cell_type": "code",
   "execution_count": 12,
   "id": "082c6690",
   "metadata": {},
   "outputs": [
    {
     "name": "stdout",
     "output_type": "stream",
     "text": [
      "GeeksforGeeks\n"
     ]
    }
   ],
   "source": [
    "# Python program to \n",
    "# demonstrate private members \n",
    "\n",
    "# Creating a Base class \n",
    "\n",
    "\n",
    "class Base: \n",
    "    def __init__(self): \n",
    "        self.a = \"GeeksforGeeks\"\n",
    "        self.__c = \"GeeksforGeeks\"\n",
    "\n",
    "# Creating a derived class \n",
    "class Derived(Base): \n",
    "      def __init__(self): \n",
    "\n",
    "# Calling constructor of \n",
    "# Base class \n",
    "         Base.__init__(self) \n",
    "         print(\"Calling private member of base class: \") \n",
    "         print(self.__c) \n",
    "\n",
    "\n",
    "# Driver code \n",
    "obj1 = Base() \n",
    "print(obj1.a) \n",
    "\n",
    "# Uncommenting print(obj1.c) will \n",
    "# raise an AttributeError \n",
    "\n",
    "# Uncommenting \n",
    "#obj2 = Derived() #will \n",
    "# also raise an AttributeError as \n",
    "# private member of base class \n",
    "# is called inside derived class \n"
   ]
  },
  {
   "cell_type": "code",
   "execution_count": 22,
   "id": "134580bd",
   "metadata": {},
   "outputs": [
    {
     "name": "stdout",
     "output_type": "stream",
     "text": [
      "Google\n"
     ]
    }
   ],
   "source": [
    "# private access specifier means only the inside class the \n",
    "#private variable can be access withing the class\n",
    "class company:\n",
    "    def __init__(self):\n",
    "        self.__companyName=\"Google\"\n",
    "        \n",
    "    def companyName(self):\n",
    "        print(self.__companyName)\n",
    "        \n",
    "c1=company()\n",
    "c1.companyName()\n",
    "#print(c1.__companyName)"
   ]
  },
  {
   "cell_type": "markdown",
   "id": "4a96d5ca",
   "metadata": {},
   "source": [
    "# getter and setter method\n",
    "\n",
    "we use getter and setter on private attributes to access it outside "
   ]
  },
  {
   "cell_type": "code",
   "execution_count": 27,
   "id": "547c0199",
   "metadata": {},
   "outputs": [
    {
     "name": "stdout",
     "output_type": "stream",
     "text": [
      "23\n",
      "20\n"
     ]
    }
   ],
   "source": [
    "class Student:\n",
    "    def __init__(self,name,rollno,age):\n",
    "        self.name=name\n",
    "        self._rollno=rollno\n",
    "        self.__age=age\n",
    "    def get_age(self):\n",
    "         return self.__age\n",
    "    \n",
    "    def set_age(self,age):\n",
    "        if age > 25:\n",
    "            print(\"Invaliad age give ...Age should lesser than 25\")\n",
    "        else:    \n",
    "            self.__age=age\n",
    "        \n",
    "    def __display(self):\n",
    "        print(f\"hii myself {self.name} {self.__age} years old with rollno {self.rollno}\")\n",
    "   \n",
    "    def displayPrivateData(self):\n",
    "        self.__display()\n",
    "        \n",
    "s1=Student(\"Elango\",20,23)\n",
    "print(s1.get_age())\n",
    "s1.set_age(20)\n",
    "print(s1.get_age())"
   ]
  },
  {
   "cell_type": "markdown",
   "id": "ffd4f7b5",
   "metadata": {},
   "source": [
    "# Polymorphism in python\n",
    "\n",
    "the word polymorphism means having many forms.\n",
    "\n",
    "In programming polymorphism means the same function name (but different signatures ) being used for different types.\n",
    "\n",
    "the key difference is the data types and numbers of arguments used in function.\n",
    "\n",
    "\n",
    "### example of inbuilt polymorphism in python len()\n",
    "\n",
    "len() function is used for different object like... string tuple list etc.."
   ]
  },
  {
   "cell_type": "code",
   "execution_count": 28,
   "id": "ad06472a",
   "metadata": {},
   "outputs": [
    {
     "name": "stdout",
     "output_type": "stream",
     "text": [
      "6\n",
      "4\n"
     ]
    }
   ],
   "source": [
    "#to print string \n",
    "print(len(\"Elango\"))\n",
    "\n",
    "#to print list\n",
    "print(len([10,7,4,5,]))"
   ]
  },
  {
   "cell_type": "markdown",
   "id": "c8db4ac0",
   "metadata": {},
   "source": [
    "### user defined polymorphic function"
   ]
  },
  {
   "cell_type": "code",
   "execution_count": 171,
   "id": "0422033d",
   "metadata": {},
   "outputs": [
    {
     "name": "stdout",
     "output_type": "stream",
     "text": [
      "7\n",
      "15\n"
     ]
    }
   ],
   "source": [
    "#a simple python function to demonstrate polymorphism\n",
    "\n",
    "def add(x,y,z =0 ):\n",
    "     return x+y+z\n",
    "        \n",
    "print(add(3,4))\n",
    "print(add(4,5,6))"
   ]
  },
  {
   "cell_type": "markdown",
   "id": "59af8218",
   "metadata": {},
   "source": [
    "# polymorphism with class method\n",
    "\n",
    "polymorphism is often used in class method where we can have multiple classes with the same method name."
   ]
  },
  {
   "cell_type": "code",
   "execution_count": 35,
   "id": "23f3c1c1",
   "metadata": {},
   "outputs": [
    {
     "name": "stdout",
     "output_type": "stream",
     "text": [
      "hii iam elango i am from india\n",
      "i know programming language\n",
      "i will watch lot of movies\n",
      "hii iam harish i am from india\n",
      "i know softwaretesting \n",
      "i will play football like ronaldo\n"
     ]
    }
   ],
   "source": [
    "class Elango():\n",
    "    def name(self):\n",
    "        print(\"hii iam elango i am from india\")\n",
    "        \n",
    "    def skills(self):\n",
    "        print(\"i know programming language\")\n",
    "        \n",
    "    def interest(self):\n",
    "        print(\"i will watch lot of movies\")\n",
    "\n",
    "class Harish():\n",
    "    def name(self):\n",
    "        print(\"hii iam harish i am from india\")\n",
    "        \n",
    "    def skills(self):\n",
    "        print(\"i know softwaretesting \")\n",
    "        \n",
    "    def interest(self):\n",
    "        print(\"i will play football like ronaldo\")\n",
    "        \n",
    "        \n",
    "e=Elango()\n",
    "h=Harish()\n",
    "\n",
    "for x in (e,h):\n",
    "    x.name()\n",
    "    x.skills()\n",
    "    x.interest()\n",
    "    "
   ]
  },
  {
   "cell_type": "code",
   "execution_count": 36,
   "id": "0c59d6cc",
   "metadata": {},
   "outputs": [
    {
     "name": "stdout",
     "output_type": "stream",
     "text": [
      "New Delhi is the capital of India.\n",
      "Hindi is the most widely spoken language of India.\n",
      "India is a developing country.\n",
      "Washington, D.C. is the capital of USA.\n",
      "English is the primary language of USA.\n",
      "USA is a developed country.\n"
     ]
    }
   ],
   "source": [
    "class India():\n",
    "    def capital(self):\n",
    "        print(\"New Delhi is the capital of India.\")\n",
    " \n",
    "    def language(self):\n",
    "        print(\"Hindi is the most widely spoken language of India.\")\n",
    " \n",
    "    def type(self):\n",
    "        print(\"India is a developing country.\")\n",
    " \n",
    "class USA():\n",
    "    def capital(self):\n",
    "        print(\"Washington, D.C. is the capital of USA.\")\n",
    " \n",
    "    def language(self):\n",
    "        print(\"English is the primary language of USA.\")\n",
    " \n",
    "    def type(self):\n",
    "        print(\"USA is a developed country.\")\n",
    " \n",
    "obj_ind = India()\n",
    "obj_usa = USA()\n",
    "for country in (obj_ind, obj_usa):\n",
    "    country.capital()\n",
    "    country.language()\n",
    "    country.type()\n"
   ]
  },
  {
   "cell_type": "markdown",
   "id": "5a6ddcc2",
   "metadata": {},
   "source": [
    "# polymorphism with inheritance\n",
    "\n",
    "what about the parent classes with child classes with the same name.\n"
   ]
  },
  {
   "cell_type": "code",
   "execution_count": 37,
   "id": "6c2262e6",
   "metadata": {},
   "outputs": [
    {
     "name": "stdout",
     "output_type": "stream",
     "text": [
      "There are many types of birds.\n",
      "Most of the birds can fly but some cannot.\n",
      "There are many types of birds.\n",
      "Sparrows can fly.\n",
      "There are many types of birds.\n",
      "Ostriches cannot fly.\n"
     ]
    }
   ],
   "source": [
    "class Bird:\n",
    "    def intro(self):\n",
    "            print(\"There are many types of birds.\")\n",
    "     \n",
    "    def flight(self):\n",
    "            print(\"Most of the birds can fly but some cannot.\")\n",
    "class sparrow(Bird):\n",
    "    def flight(self):\n",
    "            print(\"Sparrows can fly.\")\n",
    "class ostrich(Bird):\n",
    "    def flight(self):\n",
    "            print(\"Ostriches cannot fly.\")\n",
    "            \n",
    "            \n",
    "obj_bird = Bird()\n",
    "obj_spr = sparrow()\n",
    "obj_ost = ostrich()\n",
    " \n",
    "obj_bird.intro()\n",
    "obj_bird.flight()\n",
    " \n",
    "obj_spr.intro()\n",
    "obj_spr.flight()\n",
    " \n",
    "obj_ost.intro()\n",
    "obj_ost.flight()\n"
   ]
  },
  {
   "cell_type": "markdown",
   "id": "b1288c1a",
   "metadata": {},
   "source": [
    "# duck typing in polymorphism\n",
    "\n",
    "# static typing and dynamic typing\n",
    "\n",
    "python is a dynamic type language\n",
    "\n",
    "and duck type allow python to be dynamic type"
   ]
  },
  {
   "cell_type": "code",
   "execution_count": 64,
   "id": "b2386072",
   "metadata": {},
   "outputs": [
    {
     "name": "stdout",
     "output_type": "stream",
     "text": [
      "Dog:\n",
      "I am a dog  can swim in the water..\n",
      "bow bow\n",
      "Information displayed\n",
      "Duck: \n",
      "Iam a duck can swim in the water..\n",
      "Quack Quack\n",
      "Information displayed\n"
     ]
    }
   ],
   "source": [
    "class Duck():\n",
    "    def who(self):\n",
    "        print(\"Duck: \")\n",
    "    def swim(self):\n",
    "        print(\"Iam a duck can swim in the water..\")\n",
    "    def speak(self):\n",
    "        print(\"Quack Quack\")\n",
    "        \n",
    "class Dog():\n",
    "     def who(self):\n",
    "        print(\"Dog:\")\n",
    "     def swim(self):\n",
    "        print(\"I am a dog  can swim in the water..\")\n",
    "     def speak(self):\n",
    "        print(\"bow bow\")\n",
    "\n",
    "def display(obj):\n",
    "    obj.who()\n",
    "    obj.swim()\n",
    "    obj.speak()\n",
    "    print(\"Information displayed\")\n",
    "    \n",
    "duck=Duck()\n",
    "dog=Dog()\n",
    "\n",
    "display(dog)\n",
    "display(duck)\n",
    "    "
   ]
  },
  {
   "cell_type": "markdown",
   "id": "f7eecd67",
   "metadata": {},
   "source": [
    "# operator overloading\n",
    "\n",
    "print(\"1\"+\"2\") in this + operator is overloaded by int by str\n",
    "\n"
   ]
  },
  {
   "cell_type": "code",
   "execution_count": 67,
   "id": "80bd110a",
   "metadata": {},
   "outputs": [
    {
     "name": "stdout",
     "output_type": "stream",
     "text": [
      "3\n",
      "31\n"
     ]
    }
   ],
   "source": [
    "#print(1+2)\n",
    "print(int.__add__(1,2))\n",
    "print(str.__add__(\"3\",\"1\"))"
   ]
  },
  {
   "cell_type": "code",
   "execution_count": 70,
   "id": "5f40cec4",
   "metadata": {},
   "outputs": [
    {
     "name": "stdout",
     "output_type": "stream",
     "text": [
      " 5 +  7i\n"
     ]
    }
   ],
   "source": [
    "class ComplexNumber:\n",
    "    def __init__(self,r,i):\n",
    "        self.real=r\n",
    "        self.imaginary=i\n",
    "    def __add__(self,other):\n",
    "         return f\" {self.real+other.real} +  {self.imaginary+other.imaginary}i\"\n",
    "\n",
    "\n",
    "c1=ComplexNumber(1,2)\n",
    "c2=ComplexNumber(4,5)\n",
    "print(c1+c2)"
   ]
  },
  {
   "cell_type": "code",
   "execution_count": 172,
   "id": "e0b6f1f0",
   "metadata": {},
   "outputs": [
    {
     "name": "stdout",
     "output_type": "stream",
     "text": [
      "5+7i\n"
     ]
    }
   ],
   "source": [
    "class ComplexNumber:\n",
    "    def __init__(self,r,i):\n",
    "        self.real=r\n",
    "        self.imaginary=i\n",
    "    def __add__(self,other):\n",
    "         return str(self.real+other.real) +  \"+\" + str(self.imaginary+other.imaginary) +\"i\"\n",
    "\n",
    "\n",
    "c1=ComplexNumber(1,2)\n",
    "c2=ComplexNumber(4,5)\n",
    "print(c1+c2)"
   ]
  },
  {
   "cell_type": "code",
   "execution_count": 80,
   "id": "f065b6f7",
   "metadata": {},
   "outputs": [
    {
     "name": "stdout",
     "output_type": "stream",
     "text": [
      "Harish will pay the bill\n"
     ]
    }
   ],
   "source": [
    "class Person:\n",
    "    def __init__(self,name,age):\n",
    "        self.name=name\n",
    "        self.age=age\n",
    "    def  __gt__(self,other):\n",
    "        if self.age>other.age:\n",
    "            return True\n",
    "        else:\n",
    "            return False\n",
    "p1=Person(\"elango\",20)\n",
    "p2=Person(\"Harish\",21)\n",
    "\n",
    "if p1>p2:\n",
    "    print(f\"{p1.name} will pay the bill\")\n",
    "else:\n",
    "    print(f\"{p2.name} will pay the bill\")"
   ]
  },
  {
   "cell_type": "markdown",
   "id": "d36a9bd0",
   "metadata": {},
   "source": [
    "# method overloading and method overriding\n",
    "\n",
    "\n",
    "\n",
    "## method overloading\n",
    "\n",
    "defineing many method with same name but different parameter or different argument in same class is called method overloading\n",
    "\n",
    "## method overriding\n",
    "\n",
    "there must be two class methodoverriding is used in inheritance\n",
    "in parent class we have an method the same method we have in the child class in its own way method name is but the is called method overriding\n",
    "\n",
    "\n"
   ]
  },
  {
   "cell_type": "markdown",
   "id": "ec7e94e8",
   "metadata": {},
   "source": [
    "# Python Iterators\n",
    "\n",
    "an iterator is an object that contains a countable number of values>\n",
    "\n",
    "an iterator is an object that can be iterated upon, meeting that you can travers through all the values.\n",
    "\n",
    "Technically in python an iterator is an object which implements the iterator protocol,which consist of the  methods  __iter__() and __next__()\n",
    "\n"
   ]
  },
  {
   "cell_type": "markdown",
   "id": "9ebde6da",
   "metadata": {},
   "source": [
    "# Iterator vs Iterable\n",
    "\n",
    "Lists, tuples, dictionaries, and sets are all iterable objects. They are iterable containers which you can get an iterator from.\n",
    "\n",
    "All these objects have a iter() method which is used to get an iterator:\n",
    "\n",
    "\n"
   ]
  },
  {
   "cell_type": "code",
   "execution_count": 132,
   "id": "c3fb14fa",
   "metadata": {},
   "outputs": [
    {
     "name": "stdout",
     "output_type": "stream",
     "text": [
      "apple\n",
      "banana\n",
      "cherry\n"
     ]
    }
   ],
   "source": [
    "mytuple = (\"apple\", \"banana\", \"cherry\")\n",
    "y = iter(mytuple)\n",
    "\n",
    "print(next(y))  \n",
    "print(next(y))    \n",
    "print(next(y))    "
   ]
  },
  {
   "cell_type": "code",
   "execution_count": 147,
   "id": "4b800d7f",
   "metadata": {},
   "outputs": [
    {
     "name": "stdout",
     "output_type": "stream",
     "text": [
      "b\n",
      "a\n",
      "n\n",
      "a\n",
      "n\n",
      "a\n"
     ]
    },
    {
     "data": {
      "text/plain": [
       "'a'"
      ]
     },
     "execution_count": 147,
     "metadata": {},
     "output_type": "execute_result"
    }
   ],
   "source": [
    "# looping through iterator\n",
    "mystr = \"banana\"\n",
    "\n",
    "for x in mystr:\n",
    "  print(x)\n",
    "\n",
    "s = iter(x)\n",
    "\n",
    "next(s)\n"
   ]
  },
  {
   "cell_type": "code",
   "execution_count": 185,
   "id": "c9486cf1",
   "metadata": {},
   "outputs": [
    {
     "name": "stdout",
     "output_type": "stream",
     "text": [
      "1\n",
      "2\n",
      "3\n",
      "4\n",
      "5\n",
      "6\n"
     ]
    }
   ],
   "source": [
    "class MyNumbers:\n",
    "     def __iter__(self):\n",
    "        self.a = 1\n",
    "        return self\n",
    "\n",
    "     def __next__(self):\n",
    "        x = self.a\n",
    "        self.a += 1\n",
    "        return x\n",
    "\n",
    "myclass = MyNumbers()\n",
    "myiter = iter(myclass)\n",
    "\n",
    "print(next(myiter))\n",
    "print(next(myiter))\n",
    "print(next(myiter))\n",
    "print(next(myiter))\n",
    "print(next(myiter))\n",
    "print(next(myiter))\n"
   ]
  },
  {
   "cell_type": "code",
   "execution_count": 189,
   "id": "a0ffea69",
   "metadata": {},
   "outputs": [
    {
     "data": {
      "text/plain": [
       "9"
      ]
     },
     "execution_count": 189,
     "metadata": {},
     "output_type": "execute_result"
    }
   ],
   "source": [
    "next(myiter)"
   ]
  },
  {
   "cell_type": "code",
   "execution_count": 187,
   "id": "7496a801",
   "metadata": {},
   "outputs": [
    {
     "name": "stdout",
     "output_type": "stream",
     "text": [
      "1\n",
      "2\n",
      "3\n",
      "4\n",
      "5\n",
      "6\n",
      "7\n",
      "<class 'list'>\n"
     ]
    }
   ],
   "source": [
    "# iterable\n",
    "\n",
    "x=[1,2,3,4,5,6,7]\n",
    "\n",
    "for  i in x:\n",
    "    print(i)\n",
    "    \n",
    "print(type(x))"
   ]
  },
  {
   "cell_type": "code",
   "execution_count": 142,
   "id": "3ebaed9b",
   "metadata": {},
   "outputs": [],
   "source": [
    "# iterator keyword is iter\n",
    "y = iter(x)"
   ]
  },
  {
   "cell_type": "markdown",
   "id": "136c88e4",
   "metadata": {},
   "source": [
    "# StopIteration\n",
    "The example above would continue forever if you had enough next() statements, or if it was used in a for loop.\n",
    "\n",
    "To prevent the iteration from going on forever, we can use the StopIteration statement.\n",
    "\n",
    "In the __next__() method, we can add a terminating condition to raise an error if the iteration is done a specified number of times:\n",
    "\n"
   ]
  },
  {
   "cell_type": "code",
   "execution_count": 107,
   "id": "35fe667e",
   "metadata": {},
   "outputs": [
    {
     "name": "stdout",
     "output_type": "stream",
     "text": [
      "the iterator is having no more values\n"
     ]
    }
   ],
   "source": [
    "try:\n",
    "    print(next(y))\n",
    "except StopIteration:\n",
    "    print(\"the iterator is having no more values\")"
   ]
  },
  {
   "cell_type": "code",
   "execution_count": 108,
   "id": "89e6b663",
   "metadata": {},
   "outputs": [],
   "source": [
    "for n  in y:\n",
    "    print(n)"
   ]
  },
  {
   "cell_type": "code",
   "execution_count": 118,
   "id": "f4492c06",
   "metadata": {},
   "outputs": [],
   "source": [
    "#generator is also iterator\n",
    "\n",
    "def Square(n):\n",
    "    for i in range(n):\n",
    "        # yield keyword take all function and change it into iterator and return it \n",
    "        yield i ** 2\n",
    "z = Square(5)"
   ]
  },
  {
   "cell_type": "code",
   "execution_count": 122,
   "id": "4c9854a6",
   "metadata": {},
   "outputs": [
    {
     "name": "stdout",
     "output_type": "stream",
     "text": [
      "<generator object Square at 0x00000195BC6A9EB0>\n"
     ]
    }
   ],
   "source": [
    "print(z)"
   ]
  },
  {
   "cell_type": "markdown",
   "id": "e03d52bd",
   "metadata": {},
   "source": [
    "for i in z:\n",
    "    print(i)"
   ]
  },
  {
   "cell_type": "markdown",
   "id": "951a3ddf",
   "metadata": {},
   "source": [
    "# Python scope\n",
    "\n",
    "A variable is only available from inside the region it is created. This is called scope.\n",
    "\n",
    "# Local scope or local variable\n",
    "\n",
    "a variable created inside a function belongs to the local scope of the function and can only be used inside that function.\n",
    "\n"
   ]
  },
  {
   "cell_type": "code",
   "execution_count": 160,
   "id": "fce67cf8",
   "metadata": {},
   "outputs": [
    {
     "name": "stdout",
     "output_type": "stream",
     "text": [
      "300\n",
      "30\n"
     ]
    }
   ],
   "source": [
    "# a variable created a inside a function is available inside a function\n",
    "\n",
    "def myfunc():\n",
    "    x=300\n",
    "    print(x)\n",
    "    \n",
    "myfunc()\n",
    "\n",
    "# the local variable can be accessed from a function within the function\n",
    "\n",
    "def myfun():\n",
    "    x =30\n",
    "    def innerfun():\n",
    "        print(x)\n",
    "    innerfun()\n",
    "    \n",
    "myfun()"
   ]
  },
  {
   "cell_type": "markdown",
   "id": "469a0853",
   "metadata": {},
   "source": [
    "# Global Scope or Global variable\n",
    "A variable created in the main body of the Python code is a global variable and belongs to the global scope.\n",
    "\n",
    "Global variables are available from within any scope, global and local.\n",
    "\n",
    "Example\n"
   ]
  },
  {
   "cell_type": "code",
   "execution_count": 165,
   "id": "b73c45dd",
   "metadata": {},
   "outputs": [
    {
     "name": "stdout",
     "output_type": "stream",
     "text": [
      "40\n"
     ]
    }
   ],
   "source": [
    "# a variable created outside of a function is global is can be used by anyone.\n",
    "\n",
    "x = 40\n",
    "\n",
    "def myfun():\n",
    "    print(x)\n",
    "\n",
    "myfun()"
   ]
  },
  {
   "cell_type": "markdown",
   "id": "e69a723e",
   "metadata": {},
   "source": [
    "# Naming Variables\n",
    "If you operate with the same variable name inside and outside of a function, Python will treat them as two separate variables, one available in the global scope (outside the function) and one available in the local scope (inside the function):\n",
    "\n"
   ]
  },
  {
   "cell_type": "code",
   "execution_count": 163,
   "id": "698f2903",
   "metadata": {},
   "outputs": [
    {
     "name": "stdout",
     "output_type": "stream",
     "text": [
      "200\n",
      "300\n"
     ]
    }
   ],
   "source": [
    "x = 300#global variable\n",
    "\n",
    "def myfunc():\n",
    "  x = 200#local variable\n",
    "  print(x)\n",
    "\n",
    "myfunc()# this will local \n",
    "\n",
    "print(x)#this will print global \n"
   ]
  },
  {
   "cell_type": "markdown",
   "id": "27aa401c",
   "metadata": {},
   "source": [
    "# Global Keyword\n",
    "If you need to create a global variable, but are stuck in the local scope, you can use the global keyword.\n",
    "\n",
    "The global keyword makes the local variable global.\n",
    "\n"
   ]
  },
  {
   "cell_type": "code",
   "execution_count": 166,
   "id": "551e50a4",
   "metadata": {},
   "outputs": [
    {
     "name": "stdout",
     "output_type": "stream",
     "text": [
      "300\n"
     ]
    }
   ],
   "source": [
    "# without the global keyword\n",
    "x = 300\n",
    "\n",
    "def myfunc():\n",
    "  \n",
    "  x = 200\n",
    "\n",
    "myfunc()\n",
    "\n",
    "print(x)\n",
    "# it will call the global variable\n"
   ]
  },
  {
   "cell_type": "code",
   "execution_count": 167,
   "id": "cb0a57df",
   "metadata": {},
   "outputs": [
    {
     "name": "stdout",
     "output_type": "stream",
     "text": [
      "200\n"
     ]
    }
   ],
   "source": [
    "# with global keyword\n",
    "x = 300\n",
    "\n",
    "def myfunc():\n",
    "  global x\n",
    "  x = 200\n",
    "\n",
    "myfunc()\n",
    "\n",
    "print(x)# it will call the local variable because the global keyword makes local to golbal\n"
   ]
  },
  {
   "cell_type": "markdown",
   "id": "564b5a80",
   "metadata": {},
   "source": [
    "# python modules\n",
    "\n",
    "### what is module\n",
    "\n",
    "consider  a module to be the same as a code library.\n",
    "\n",
    "a file containing a set of functions you want to include in your application\n",
    "\n",
    "## create a module\n",
    "\n",
    "to create a module just save the code you want in a file with the file extension.py"
   ]
  },
  {
   "cell_type": "code",
   "execution_count": 169,
   "id": "fb945c05",
   "metadata": {},
   "outputs": [
    {
     "name": "stdout",
     "output_type": "stream",
     "text": [
      "hello elango\n"
     ]
    }
   ],
   "source": [
    "# save this code in a file named mymodule.py\n",
    "def greeting(name):\n",
    "    print(\"hello\",  name)\n",
    "\n",
    "greeting(\"elango\")"
   ]
  },
  {
   "cell_type": "markdown",
   "id": "8b68873d",
   "metadata": {},
   "source": [
    "# use a Module\n",
    "Now we can use the module we just created by using the import statement"
   ]
  },
  {
   "cell_type": "code",
   "execution_count": 182,
   "id": "1d3e8605",
   "metadata": {},
   "outputs": [],
   "source": [
    "#import Mymodule\n",
    "\n",
    "#mymodule.greeting(\"jonathan\")\n",
    "\n"
   ]
  },
  {
   "cell_type": "markdown",
   "id": "eadafd7d",
   "metadata": {},
   "source": [
    "# variables in module\n",
    "\n",
    "the module can contain functions, as already described, but also variables of all types(arrays,dictionaries,objects etc..)"
   ]
  },
  {
   "cell_type": "code",
   "execution_count": null,
   "id": "5f6343b2",
   "metadata": {},
   "outputs": [],
   "source": [
    "# save this code in mymodule.py\n",
    "\n",
    "person1 ={\n",
    "    \"name\":\"john\",\n",
    "    \"age\" :36\n",
    "    \"country\":\"Norway\"\n",
    "}\n",
    "\n",
    "# import the module named mymodule,and access the person1 dicitonary\n",
    "#import mymodule\n",
    "#a=mymodule.person[\"age\"]\n",
    "#print(a)\n",
    "\n"
   ]
  },
  {
   "cell_type": "markdown",
   "id": "1dd1a11b",
   "metadata": {},
   "source": [
    "# Naming a Module\n",
    "You can name the module file whatever you like, but it must have the file extension .py\n",
    "\n",
    "# Re-naming a Module\n",
    "You can create an alias when you import a module, by using the as keyword:\n",
    "\n"
   ]
  },
  {
   "cell_type": "code",
   "execution_count": null,
   "id": "28678ae3",
   "metadata": {},
   "outputs": [],
   "source": [
    "# create an alias for mymodule called mx\n",
    "\n",
    "#import mymodule as mx\n",
    "\n",
    "#a= mx.person1[\"age\"]\n",
    "\n",
    "#print(a)"
   ]
  },
  {
   "cell_type": "markdown",
   "id": "0a0a2683",
   "metadata": {},
   "source": [
    "# Built-in Modules\n",
    "There are several built-in modules in Python, which you can import whenever you like.\n",
    "\n",
    "\n",
    "import platform\n",
    "\n",
    "x = platform.system()\n",
    "\n",
    "\n",
    "print(x)\n"
   ]
  },
  {
   "cell_type": "code",
   "execution_count": 184,
   "id": "238d6b4b",
   "metadata": {},
   "outputs": [
    {
     "name": "stdout",
     "output_type": "stream",
     "text": [
      "2024-03-06 17:26:37.198874\n"
     ]
    }
   ],
   "source": [
    "import datetime\n",
    "\n",
    "x = datetime.datetime.now()\n",
    "print(x)"
   ]
  },
  {
   "cell_type": "code",
   "execution_count": null,
   "id": "a7aee5aa",
   "metadata": {},
   "outputs": [],
   "source": []
  }
 ],
 "metadata": {
  "kernelspec": {
   "display_name": "Python 3",
   "language": "python",
   "name": "python3"
  },
  "language_info": {
   "codemirror_mode": {
    "name": "ipython",
    "version": 3
   },
   "file_extension": ".py",
   "mimetype": "text/x-python",
   "name": "python",
   "nbconvert_exporter": "python",
   "pygments_lexer": "ipython3",
   "version": "3.8.8"
  }
 },
 "nbformat": 4,
 "nbformat_minor": 5
}
