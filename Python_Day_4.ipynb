{
 "cells": [
  {
   "cell_type": "markdown",
   "id": "7b4d50b4",
   "metadata": {},
   "source": [
    "# Day_4\n",
    "\n",
    "# python dictionaries\n",
    "# Dictionary\n",
    "dictionaries are used to store data values in key: value pairs.\n",
    "\n",
    "A dictionary is a collection which is ordered, changeable and do not allow duplicates,\n",
    "\n",
    "Dictionaries are written with curly brackets, and have keys and values"
   ]
  },
  {
   "cell_type": "code",
   "execution_count": 5,
   "id": "cd021901",
   "metadata": {},
   "outputs": [
    {
     "name": "stdout",
     "output_type": "stream",
     "text": [
      "{1: 'elango', 2: 'harish', 3: 'rohit'}\n"
     ]
    }
   ],
   "source": [
    "#dictionaries\n",
    "\n",
    "data = {1 : \"elango\",2 : \"harish\",3 : \"rohit\"}\n",
    "print(data)"
   ]
  },
  {
   "cell_type": "markdown",
   "id": "cfa90f4d",
   "metadata": {},
   "source": [
    "# Dictionary Items\n",
    "Dictionary items are ordered, changeable, and do not allow duplicates.\n",
    "\n",
    "Dictionary items are presented in key:value pairs, and can be referred to by using the key name."
   ]
  },
  {
   "cell_type": "code",
   "execution_count": 10,
   "id": "4740c971",
   "metadata": {},
   "outputs": [
    {
     "name": "stdout",
     "output_type": "stream",
     "text": [
      "elango\n",
      "20\n"
     ]
    }
   ],
   "source": [
    "# print the value using key\n",
    "data = {\n",
    "    1 : \"elango\",\n",
    "    2 : \"harish\",\n",
    "    3 : \"rohit\"\n",
    "}\n",
    "print(data[1])\n",
    "\n",
    "elangodata ={\n",
    "    \"name\" : \"elango\",\n",
    "    \"age\"  : 20,\n",
    "    \"year\" : 2023\n",
    "}\n",
    "print(elangodata[\"age\"])"
   ]
  },
  {
   "cell_type": "markdown",
   "id": "ed1e0ae2",
   "metadata": {},
   "source": [
    "# duplicates not allowed\n",
    "\n",
    "dictionaries cannot have two items with the same key:"
   ]
  },
  {
   "cell_type": "code",
   "execution_count": 17,
   "id": "0f04d781",
   "metadata": {},
   "outputs": [
    {
     "name": "stdout",
     "output_type": "stream",
     "text": [
      "{'name': 'elango', 'age': 20, 'year': 2003}\n",
      "{'name': ['elango', 'harish'], 'age': 20, 'year': [2023, 2024]}\n",
      "['elango', 'harish']\n",
      "harish\n"
     ]
    }
   ],
   "source": [
    "# does no allowed duplicate value\n",
    "elangodata ={\n",
    "    \"name\" : \"elango\",\n",
    "    \"age\"  : 20,\n",
    "    \"year\" : 2023,\n",
    "    \"year\" : 2003\n",
    "}\n",
    "print(elangodata)#this will print the 2003 only because the key will updated with new values\n",
    "\n",
    "# you can add two values to one key\n",
    "data ={\n",
    "    \"name\" : [\"elango\",\"harish\"],\n",
    "    \"age\"  : 20,\n",
    "    \"year\" : [2023,2024]\n",
    "    \n",
    "}\n",
    "print(data)\n",
    "\n",
    "print(data[\"name\"])#this will print the two values\n",
    "\n",
    "#you can access the two values with index number\n",
    "print(data[\"name\"][1])#this will print the value harish\n",
    "\n"
   ]
  },
  {
   "cell_type": "markdown",
   "id": "083ed31f",
   "metadata": {},
   "source": [
    "# dict() Constructor\n",
    "\n",
    "It is also possible to use the dict() constructor to make a dictionary"
   ]
  },
  {
   "cell_type": "code",
   "execution_count": 21,
   "id": "9c8e873c",
   "metadata": {},
   "outputs": [
    {
     "name": "stdout",
     "output_type": "stream",
     "text": [
      "{'name': 'John', 'age': 36, 'country': 'Norway'}\n",
      "{'elango': 'java', 'harish': 'python', 'sheyam': 'js', 'rohit': 'cpp'}\n"
     ]
    }
   ],
   "source": [
    "#using the dic() method to make a dictionary\n",
    "thisdict = dict(name = \"John\", age = 36, country = \"Norway\")\n",
    "print(thisdict)\n",
    "\n",
    "#using dict() method we can join key and values \n",
    "\n",
    "#first create the keys with keys name\n",
    "\n",
    "keys = [\"elango\",\"harish\",\"sheyam\",\"rohit\"]\n",
    "values = [\"java\",\"python\",\"js\",\"cpp\"]\n",
    "data = dict(zip(keys,values))# using zip we can add keys and values together\n",
    "print(data)"
   ]
  },
  {
   "cell_type": "markdown",
   "id": "1ab65433",
   "metadata": {},
   "source": [
    "#  Access Dictionary\n",
    "\n",
    "## Accessing items\n",
    "\n",
    "you can access the items of a dictionary by referring to its key name,inside square bracket"
   ]
  },
  {
   "cell_type": "code",
   "execution_count": 25,
   "id": "08289d98",
   "metadata": {},
   "outputs": [
    {
     "name": "stdout",
     "output_type": "stream",
     "text": [
      "Mustang\n",
      "Mustang\n"
     ]
    }
   ],
   "source": [
    "#Get the value of the \"model\" key:\n",
    "thisdict = {\n",
    "  \"brand\": \"Ford\",\n",
    "  \"model\": \"Mustang\",\n",
    "  \"year\": 1964\n",
    "}\n",
    "x = thisdict[\"model\"]\n",
    "print(x)\n",
    "\n",
    "#there is also a method called get() that will give you the same result\n",
    "x = thisdict.get(\"model\")\n",
    "print(x)\n"
   ]
  },
  {
   "cell_type": "markdown",
   "id": "19cd502b",
   "metadata": {},
   "source": [
    "# Get Keys\n",
    "The keys() method will return a list of all the keys in the dictionary."
   ]
  },
  {
   "cell_type": "code",
   "execution_count": 26,
   "id": "22227a57",
   "metadata": {},
   "outputs": [
    {
     "name": "stdout",
     "output_type": "stream",
     "text": [
      "dict_keys(['brand', 'model', 'year'])\n"
     ]
    }
   ],
   "source": [
    "# keys() method\n",
    "thisdict = {\n",
    "  \"brand\": \"Ford\",\n",
    "  \"model\": \"Mustang\",\n",
    "  \"year\": 1964\n",
    "}\n",
    "x = thisdict.keys()\n",
    "print(x)"
   ]
  },
  {
   "cell_type": "markdown",
   "id": "6f5dc578",
   "metadata": {},
   "source": [
    "The list of the keys is a view of the dictionary, meaning that any changes done to the dictionary will be reflected in the keys list."
   ]
  },
  {
   "cell_type": "code",
   "execution_count": 27,
   "id": "43944f68",
   "metadata": {},
   "outputs": [
    {
     "name": "stdout",
     "output_type": "stream",
     "text": [
      "dict_keys(['brand', 'model', 'year'])\n",
      "dict_keys(['brand', 'model', 'year', 'color'])\n"
     ]
    }
   ],
   "source": [
    "car = {\n",
    "\"brand\": \"Ford\",\n",
    "\"model\": \"Mustang\",\n",
    "\"year\": 1964\n",
    "}\n",
    "\n",
    "x = car.keys()\n",
    "\n",
    "print(x) #before the change\n",
    "\n",
    "car[\"color\"] = \"white\"\n",
    "\n",
    "print(x) #after the change\n",
    "\n"
   ]
  },
  {
   "cell_type": "markdown",
   "id": "5a27c01f",
   "metadata": {},
   "source": [
    "# Get values\n",
    "\n",
    "the values() method will return a list of all the values in the dictionary"
   ]
  },
  {
   "cell_type": "code",
   "execution_count": 28,
   "id": "ac81f2f8",
   "metadata": {},
   "outputs": [
    {
     "name": "stdout",
     "output_type": "stream",
     "text": [
      "dict_values(['Ford', 'Mustang', 1964])\n",
      "dict_values(['Ford', 'Mustang', 1964, 'white'])\n"
     ]
    }
   ],
   "source": [
    "#using values()\n",
    "car = {\n",
    "\"brand\": \"Ford\",\n",
    "\"model\": \"Mustang\",\n",
    "\"year\": 1964\n",
    "}\n",
    "\n",
    "x = car.values()\n",
    "\n",
    "print(x) #before the change\n",
    "\n",
    "car[\"color\"] = \"white\"\n",
    "\n",
    "print(x) #after the change"
   ]
  },
  {
   "cell_type": "markdown",
   "id": "94564fcf",
   "metadata": {},
   "source": [
    "# Items method\n",
    "\n",
    "The items() method will return each item in a dictionary, as tuples in a list."
   ]
  },
  {
   "cell_type": "code",
   "execution_count": 31,
   "id": "a8255926",
   "metadata": {},
   "outputs": [
    {
     "name": "stdout",
     "output_type": "stream",
     "text": [
      "dict_items([('brand', 'Ford'), ('model', 'Mustang'), ('year', 1964)])\n",
      "dict_items([('brand', 'Ford'), ('model', 'Mustang'), ('year', 1964), ('color', 'white')])\n"
     ]
    }
   ],
   "source": [
    "#using items() method\n",
    "thisdict = {\n",
    "  \"brand\": \"Ford\",\n",
    "  \"model\": \"Mustang\",\n",
    "  \"year\": 1964\n",
    "}\n",
    "\n",
    "x = thisdict.items()\n",
    "\n",
    "print(x) #before the change\n",
    "\n",
    "thisdict[\"color\"] = \"white\"\n",
    "\n",
    "print(x) #after the change"
   ]
  },
  {
   "cell_type": "markdown",
   "id": "30c88a4f",
   "metadata": {},
   "source": [
    "# Check if Key Exists\n",
    "To determine if a specified key is present in a dictionary use the in keyword:"
   ]
  },
  {
   "cell_type": "code",
   "execution_count": 78,
   "id": "32f1efae",
   "metadata": {},
   "outputs": [
    {
     "name": "stdout",
     "output_type": "stream",
     "text": [
      "Yes, 'model' is one of the keys in the thisdict dictionary\n",
      "yes, 'ford' is on o\n"
     ]
    }
   ],
   "source": [
    "thisdict = {\n",
    "  \"brand\": \"Ford\",\n",
    "  \"model\": \"Mustang\",\n",
    "  \"year\": 1964\n",
    "}\n",
    "if \"model\" in thisdict:\n",
    "  print(\"Yes, 'model' is one of the keys in the thisdict dictionary\")\n",
    "\n"
   ]
  },
  {
   "cell_type": "markdown",
   "id": "f6c2bcc2",
   "metadata": {},
   "source": [
    "# Change Dictionary Items\n",
    "\n",
    "# Change Values\n",
    "You can change the value of a specific item by referring to its key name:"
   ]
  },
  {
   "cell_type": "code",
   "execution_count": 75,
   "id": "48b1dc87",
   "metadata": {},
   "outputs": [],
   "source": [
    "# changing the values using key name\n",
    "thisdict = {\n",
    "  \"brand\": \"Ford\",\n",
    "  \"model\": \"Mustang\",\n",
    "  \"year\": 1964\n",
    "}\n",
    "thisdict[\"year\"] = 2018"
   ]
  },
  {
   "cell_type": "markdown",
   "id": "ca20b438",
   "metadata": {},
   "source": [
    "# Update Dictionary\n",
    "The update() method will update the dictionary with the items from the given argument.\n",
    "\n",
    "The argument must be a dictionary, or an iterable object with key:value pairs."
   ]
  },
  {
   "cell_type": "code",
   "execution_count": 37,
   "id": "903789b1",
   "metadata": {},
   "outputs": [
    {
     "name": "stdout",
     "output_type": "stream",
     "text": [
      "{'brand': 'Ford', 'model': 'Mustang', 'year': 2020, 'colour': 'red'}\n"
     ]
    }
   ],
   "source": [
    "# using update method we can change key word\n",
    "thisdict = {\n",
    "  \"brand\": \"Ford\",\n",
    "  \"model\": \"Mustang\",\n",
    "  \"year\": 1964\n",
    "}\n",
    "thisdict.update({\"year\": 2020})\n",
    "thisdict.update({\"colour\": \"red\"})\n",
    "\n",
    "print(thisdict)"
   ]
  },
  {
   "cell_type": "markdown",
   "id": "178602ad",
   "metadata": {},
   "source": [
    "# Add Dictionary Items\n",
    "\n",
    "# adding items\n",
    "\n",
    "adding an item to the dictionary is done by using a new index key and assiging a value to it:\n",
    "\n",
    "\n",
    "\n"
   ]
  },
  {
   "cell_type": "code",
   "execution_count": 38,
   "id": "0168d36c",
   "metadata": {},
   "outputs": [
    {
     "name": "stdout",
     "output_type": "stream",
     "text": [
      "{'brand': 'Ford', 'model': 'Mustang', 'year': 1964, 'color': 'red'}\n"
     ]
    }
   ],
   "source": [
    "thisdict = {\n",
    "  \"brand\": \"Ford\",\n",
    "  \"model\": \"Mustang\",\n",
    "  \"year\": 1964\n",
    "}\n",
    "thisdict[\"color\"] = \"red\"\n",
    "print(thisdict)"
   ]
  },
  {
   "cell_type": "code",
   "execution_count": 39,
   "id": "665e5ff4",
   "metadata": {},
   "outputs": [
    {
     "name": "stdout",
     "output_type": "stream",
     "text": [
      "{'brand': 'Ford', 'model': 'Mustang', 'year': 1964, 'colour': 'red'}\n"
     ]
    }
   ],
   "source": [
    "#upadate dictionary \n",
    "thisdict = {\n",
    "  \"brand\": \"Ford\",\n",
    "  \"model\": \"Mustang\",\n",
    "  \"year\": 1964\n",
    "}\n",
    "\n",
    "thisdict.update({\"colour\": \"red\"})\n",
    "\n",
    "print(thisdict)"
   ]
  },
  {
   "cell_type": "markdown",
   "id": "8339caf3",
   "metadata": {},
   "source": [
    "# Remove Dictionary Items\n",
    "\n",
    "# Removing Items\n",
    "There are several methods to remove items from a dictionary:\n",
    "\n",
    "# pop() & popitem()\n",
    "the pop method removes the item with the specified key name:\n",
    "\n",
    "popitem() method removes the last inserted item in dict:\n",
    "\n"
   ]
  },
  {
   "cell_type": "code",
   "execution_count": 42,
   "id": "3bf8bab4",
   "metadata": {},
   "outputs": [
    {
     "name": "stdout",
     "output_type": "stream",
     "text": [
      "{'brand': 'Ford', 'year': 1964}\n",
      "Mustang\n",
      "{'brand': 'Ford', 'model': 'Mustang'}\n"
     ]
    }
   ],
   "source": [
    "# using pop()\n",
    "thisdict = {\n",
    "  \"brand\": \"Ford\",\n",
    "  \"model\": \"Mustang\",\n",
    "  \"year\": 1964\n",
    "}\n",
    "x = thisdict.pop(\"model\")\n",
    "print(thisdict)\n",
    "print(x)\n",
    "\n",
    "#popitem \n",
    "thisdict = {\n",
    "  \"brand\": \"Ford\",\n",
    "  \"model\": \"Mustang\",\n",
    "  \"year\": 1964\n",
    "}\n",
    "\n",
    "\n",
    "thisdict.popitem()\n",
    "print(thisdict)"
   ]
  },
  {
   "cell_type": "markdown",
   "id": "748fdfec",
   "metadata": {},
   "source": [
    "\n",
    "## the del method removes the item or values with the specified key name\n",
    "\n",
    "### the del keyword also delete the dictionary compelety"
   ]
  },
  {
   "cell_type": "code",
   "execution_count": 50,
   "id": "d4b26de2",
   "metadata": {},
   "outputs": [
    {
     "name": "stdout",
     "output_type": "stream",
     "text": [
      "{'brand': 'Ford', 'year': 1964}\n",
      "{}\n"
     ]
    }
   ],
   "source": [
    "thisdict = {\n",
    "  \"brand\": \"Ford\",\n",
    "  \"model\": \"Mustang\",\n",
    "  \"year\": 1964\n",
    "}\n",
    "del thisdict[\"model\"]\n",
    "print(thisdict)\n",
    "\n",
    "# the del keyword also delete the dictionary compelety\n",
    "\n",
    "del thisdict\n",
    "#print(thisdict)# this will throw an error\n",
    "\n",
    "\n",
    "#clear method empties the dictionary\n",
    "\n",
    "thisdict = {\n",
    "  \"brand\": \"Ford\",\n",
    "  \"model\": \"Mustang\",\n",
    "  \"year\": 1964\n",
    "}\n",
    "thisdict.clear()\n",
    "print(thisdict)\n",
    "\n",
    "\n",
    "\n",
    "\n"
   ]
  },
  {
   "cell_type": "markdown",
   "id": "da824206",
   "metadata": {},
   "source": [
    "# Loop Dictionaries\n",
    "\n",
    "# Loop Through a Dictionary\n",
    "You can loop through a dictionary by using a for loop.\n",
    "\n",
    "When looping through a dictionary, the return value are the keys of the dictionary, but there are methods to return the values as well.\n"
   ]
  },
  {
   "cell_type": "code",
   "execution_count": 56,
   "id": "5e445146",
   "metadata": {},
   "outputs": [
    {
     "name": "stdout",
     "output_type": "stream",
     "text": [
      "1\n",
      "2\n",
      "3\n",
      "elango\n",
      "harish\n",
      "rohit\n",
      "elango\n",
      "harish\n",
      "rohit\n",
      "1\n",
      "2\n",
      "3\n"
     ]
    }
   ],
   "source": [
    "# using for loop for the dictionary\n",
    "\n",
    "data = {\n",
    "    1 : \"elango\",\n",
    "    2 : \"harish\",\n",
    "    3 : \"rohit\"\n",
    "}\n",
    "\n",
    "for x in data:\n",
    "    print(x)# this will print only the key \n",
    "    \n",
    "# to print all values in the dictionary ,one by one\n",
    "for x in data:\n",
    "    print(data[x])\n",
    "    \n",
    "# you can also use values() method to print values\n",
    "for x in data.values():\n",
    "       print(x)\n",
    "    \n",
    "#you can also use keys() method to print values\n",
    "for x in data.keys():\n",
    "      print(x)\n",
    "\n"
   ]
  },
  {
   "cell_type": "markdown",
   "id": "8fa969be",
   "metadata": {},
   "source": [
    "### to print both keys and values in single loop by using the items()"
   ]
  },
  {
   "cell_type": "code",
   "execution_count": 60,
   "id": "7dc05422",
   "metadata": {},
   "outputs": [
    {
     "name": "stdout",
     "output_type": "stream",
     "text": [
      "1 elango\n",
      "2 harish\n",
      "3 rohit\n"
     ]
    }
   ],
   "source": [
    "#to print the keys and values\n",
    "data = {\n",
    "    1 : \"elango\",\n",
    "    2 : \"harish\",\n",
    "    3 : \"rohit\"\n",
    "}\n",
    "\n",
    "for x,y in data.items():\n",
    "    print(x,y)"
   ]
  },
  {
   "cell_type": "markdown",
   "id": "1ab407a8",
   "metadata": {},
   "source": [
    "# Copy Dictionaries\n",
    "\n",
    "# Copy a Dictionary\n",
    "\n",
    "You cannot copy a dictionary simply by typing dict2 = dict1, because: dict2 will only be a reference to dict1, and changes made in dict1 will automatically also be made in dict2.\n",
    "\n",
    "There are ways to make a copy, one way is to use the built-in Dictionary method copy()."
   ]
  },
  {
   "cell_type": "code",
   "execution_count": 64,
   "id": "53be277f",
   "metadata": {},
   "outputs": [
    {
     "name": "stdout",
     "output_type": "stream",
     "text": [
      "{'brand': 'Ford', 'model': 'Mustang', 'year': 1960}\n",
      "{'brand': 'Ford', 'model': 'Mustang', 'year': 1960}\n",
      "{'brand': 'BMW', 'model': 'Mustang', 'year': 1966}\n"
     ]
    }
   ],
   "source": [
    "# copying the dict using copy method\n",
    "\n",
    "thisdict = {\n",
    "  \"brand\": \"Ford\",\n",
    "  \"model\": \"Mustang\",\n",
    "  \"year\": 1960\n",
    "}\n",
    "mydict = thisdict.copy()\n",
    "print(thisdict)\n",
    "print(mydict)\n",
    "\n",
    "#using another method using dict() constractor\n",
    "\n",
    "thisdict = {\n",
    "     \"brand\": \"BMW\",\n",
    "     \"model\": \"Mustang\",\n",
    "     \"year\": 1966\n",
    "}\n",
    "\n",
    "mydict = dict(thisdict)\n",
    "print(mydict)"
   ]
  },
  {
   "cell_type": "markdown",
   "id": "219ea433",
   "metadata": {},
   "source": [
    "# Nested Dictionaries\n",
    "\n",
    "## Nested Dictionaries\n",
    "A dictionary can contain dictionaries, this is called nested dictionaries.\n"
   ]
  },
  {
   "cell_type": "code",
   "execution_count": 2,
   "id": "6940b7c6",
   "metadata": {},
   "outputs": [
    {
     "name": "stdout",
     "output_type": "stream",
     "text": [
      "{'student1': {'name': 'elango', 'age': 20, 'year': 2003}, 'student2': {'name': 'harish', 'age': 21, 'year': 2002}, 'student3': {'name': 'rohit', 'age': 21, 'year': 2002}}\n",
      "{'student1': ({'name': 'elango', 'age': 20, 'year': 2003},), 'student2': ({'name': 'harish', 'age': 21, 'year': 2002},), 'student3': {'name': 'rohit', 'age': 21, 'year': 2002}}\n",
      "harish\n"
     ]
    }
   ],
   "source": [
    "# creating a dictionary that contains, this is called nested dictionaries\n",
    "\n",
    "students_1 = {\n",
    "    \"student1\":{\n",
    "        \"name\" : \"elango\",\n",
    "        \"age\"  : 20,\n",
    "        \"year\" : 2003\n",
    "    },\n",
    "    \"student2\":{\n",
    "          \"name\" : \"harish\",\n",
    "          \"age\"  : 21,\n",
    "          \"year\" : 2002\n",
    "    },\n",
    "    \"student3\":{\n",
    "        \"name\" : \"rohit\",\n",
    "        \"age\"  : 21,\n",
    "        \"year\" : 2002\n",
    "    }\n",
    "}\n",
    "\n",
    "print(students_1)\n",
    "\n",
    "#another method to create nested dictionaries\n",
    "\n",
    "student1 = {\n",
    "        \"name\" : \"elango\",\n",
    "        \"age\"  : 20,\n",
    "        \"year\" : 2003\n",
    "    },\n",
    "student2 = {\n",
    "          \"name\" : \"harish\",\n",
    "          \"age\"  : 21,\n",
    "          \"year\" : 2002\n",
    "    },\n",
    "student3 = {\n",
    "        \"name\" : \"rohit\",\n",
    "        \"age\"  : 21,\n",
    "        \"year\" : 2002\n",
    "    }\n",
    "\n",
    "#add them into students dictionary\n",
    "\n",
    "students = {\n",
    "    \"student1\" : student1,\n",
    "    \"student2\" : student2,\n",
    "    \"student3\" : student3\n",
    "}\n",
    "print(students)\n",
    "\n",
    "# access items in nested dictionaries\n",
    "\n",
    "# to access items from a nested dictionary, you use the name of dictionaries,starting with the outer dictionary:\n",
    "\n",
    "print(students_1[\"student2\"][\"name\"])\n",
    "\n"
   ]
  },
  {
   "cell_type": "code",
   "execution_count": 72,
   "id": "b0444726",
   "metadata": {},
   "outputs": [
    {
     "name": "stdout",
     "output_type": "stream",
     "text": [
      "Tobias\n"
     ]
    }
   ],
   "source": [
    "myfamily = {\n",
    "  \"child1\" : {\n",
    "    \"name\" : \"Emil\",\n",
    "    \"year\" : 2004\n",
    "  },\n",
    "  \"child2\" : {\n",
    "    \"name\" : \"Tobias\",\n",
    "    \"year\" : 2007\n",
    "  },\n",
    "  \"child3\" : {\n",
    "    \"name\" : \"Linus\",\n",
    "    \"year\" : 2011\n",
    "  }\n",
    "}\n",
    "\n",
    "print(myfamily[\"child2\"][\"name\"])"
   ]
  },
  {
   "cell_type": "markdown",
   "id": "c248c242",
   "metadata": {},
   "source": [
    "# python if .... Else \n",
    "\n",
    "## Python conditions and if statements\n",
    "\n",
    "python supports the usual logical conditions from mathematics:\n",
    "\n",
    "\n",
    "Equals: a == b\n",
    "\n",
    "Not Equals: a != b\n",
    "\n",
    "Less than: a < b\n",
    "\n",
    "less than or equal to: a <= b\n",
    "\n",
    "Greater than: a > b\n",
    "\n",
    "greater than: a >= b\n",
    "\n",
    "these conditions can be used in several ways, most commonly in \"if statement\" and loops.\n",
    "\n",
    "An \"if statement\" is written by using the if keyword.\n"
   ]
  },
  {
   "cell_type": "code",
   "execution_count": 88,
   "id": "dcf106db",
   "metadata": {},
   "outputs": [
    {
     "name": "stdout",
     "output_type": "stream",
     "text": [
      "yes' b is greater than a\n"
     ]
    }
   ],
   "source": [
    "# if = do some code only if some condition is true\n",
    " # else do something else\n",
    "#if statemnt\n",
    "\n",
    "a = 33\n",
    "b = 200\n",
    "if b > a :\n",
    "    print(\"yes' b is greater than a\")"
   ]
  },
  {
   "cell_type": "code",
   "execution_count": 85,
   "id": "fedfd616",
   "metadata": {},
   "outputs": [
    {
     "name": "stdout",
     "output_type": "stream",
     "text": [
      "it is a even\n"
     ]
    }
   ],
   "source": [
    "x = 2\n",
    "y = x % 2\n",
    "\n",
    "if y == 0:\n",
    "    print(\"it is a even\")\n",
    "else:\n",
    "    print(\"no it is a odd\")"
   ]
  },
  {
   "cell_type": "code",
   "execution_count": 86,
   "id": "e4b56338",
   "metadata": {},
   "outputs": [
    {
     "name": "stdout",
     "output_type": "stream",
     "text": [
      "enter the true/falseTrue\n",
      "Yes, it true\n"
     ]
    }
   ],
   "source": [
    " x = bool(input(\"enter the true/false\"))\n",
    "    \n",
    "if x:\n",
    "    print(\"Yes, it true\")\n",
    "else:\n",
    "    print(\"yes, its false\")\n"
   ]
  },
  {
   "cell_type": "markdown",
   "id": "959fc1ce",
   "metadata": {},
   "source": [
    "# indentation \n",
    "\n",
    "you will have indentation error in if ... else \n",
    "and loops in python\n"
   ]
  },
  {
   "cell_type": "code",
   "execution_count": 89,
   "id": "e75633f1",
   "metadata": {},
   "outputs": [
    {
     "ename": "IndentationError",
     "evalue": "expected an indented block (<ipython-input-89-4276c1871af7>, line 4)",
     "output_type": "error",
     "traceback": [
      "\u001b[1;36m  File \u001b[1;32m\"<ipython-input-89-4276c1871af7>\"\u001b[1;36m, line \u001b[1;32m4\u001b[0m\n\u001b[1;33m    print(\"b is greater than a\") # you will get an error\u001b[0m\n\u001b[1;37m    ^\u001b[0m\n\u001b[1;31mIndentationError\u001b[0m\u001b[1;31m:\u001b[0m expected an indented block\n"
     ]
    }
   ],
   "source": [
    "a = 33\n",
    "b = 200\n",
    "if b > a:\n",
    "print(\"b is greater than a\") # you will get an error"
   ]
  },
  {
   "cell_type": "markdown",
   "id": "b2bf8802",
   "metadata": {},
   "source": [
    "# Elif \n",
    "\n",
    "the elif keyword is python way of saying \" if the previous conditions were not true, then try this condition is called elif"
   ]
  },
  {
   "cell_type": "code",
   "execution_count": 98,
   "id": "b590e14d",
   "metadata": {},
   "outputs": [
    {
     "name": "stdout",
     "output_type": "stream",
     "text": [
      "a and b are equal\n"
     ]
    }
   ],
   "source": [
    "# using elif conditions \n",
    "a = 33\n",
    "b = 33\n",
    "if b > a:\n",
    "  print(\"b is greater than a\")\n",
    "elif a == b:\n",
    "  print(\"a and b are equal\")\n",
    "\n",
    "# in this condition first condition is b is greater than a so it is false so it moves to elif condition which a == b it is true so it will print"
   ]
  },
  {
   "cell_type": "code",
   "execution_count": 97,
   "id": "a0788de3",
   "metadata": {},
   "outputs": [
    {
     "name": "stdout",
     "output_type": "stream",
     "text": [
      "a is equal to d\n"
     ]
    }
   ],
   "source": [
    "#you can give many elif in one if statement\n",
    "\n",
    "a = 10\n",
    "b = 20\n",
    "c = 30\n",
    "d = 10\n",
    "\n",
    "if a > b :\n",
    "    print(\"no\")\n",
    "elif a == b :\n",
    "    print(\"yes\")\n",
    "elif a == d :\n",
    "    print(\"a is equal to d\")"
   ]
  },
  {
   "cell_type": "markdown",
   "id": "fa69b5b8",
   "metadata": {},
   "source": [
    "# else \n",
    "\n",
    "the else keyword catches anything which isn't caught by the preceeding conditions."
   ]
  },
  {
   "cell_type": "code",
   "execution_count": 1,
   "id": "04602ef4",
   "metadata": {},
   "outputs": [
    {
     "name": "stdout",
     "output_type": "stream",
     "text": [
      "a is greater than b\n"
     ]
    }
   ],
   "source": [
    "a = 200\n",
    "b = 33\n",
    "if b > a:\n",
    "  print(\"b is greater than a\")\n",
    "elif a == b:\n",
    "  print(\"a and b are equal\")\n",
    "else:\n",
    "  print(\"a is greater than b\")"
   ]
  },
  {
   "cell_type": "code",
   "execution_count": 2,
   "id": "e94dcbec",
   "metadata": {},
   "outputs": [
    {
     "name": "stdout",
     "output_type": "stream",
     "text": [
      "enter your age : 45\n",
      "your are eligible to vote \n"
     ]
    }
   ],
   "source": [
    " x = int(input(\"enter your age : \"))\n",
    "\n",
    "if x >= 18:\n",
    "    print(\"your are eligible to vote \")\n",
    "elif x == 0:\n",
    "    print(\"your not yet born\")\n",
    "elif x >= 100:\n",
    "    print(\"you already died\")\n",
    "elif x <= 18:\n",
    "    print(\"you have to wait\")\n",
    "else:\n",
    "    print(\"your entering wrong input\")"
   ]
  },
  {
   "cell_type": "markdown",
   "id": "b8cb0f7e",
   "metadata": {},
   "source": [
    "# Nested if \n",
    "\n",
    "you can have if statement inside if statements, this is called nested if statements.\n",
    "\n",
    "if the first statement is true then only go to the second statement otherwise it will print else statement"
   ]
  },
  {
   "cell_type": "code",
   "execution_count": 3,
   "id": "89bdf30f",
   "metadata": {},
   "outputs": [
    {
     "name": "stdout",
     "output_type": "stream",
     "text": [
      "Above ten,\n",
      "and also above 20!\n"
     ]
    }
   ],
   "source": [
    "x = 41\n",
    "\n",
    "if x > 10:\n",
    "  print(\"Above ten,\")\n",
    "  if x > 20:\n",
    "    print(\"and also above 20!\")\n",
    "  else:\n",
    "    print(\"but not above 20.\")"
   ]
  },
  {
   "cell_type": "markdown",
   "id": "458e8ffa",
   "metadata": {},
   "source": [
    "# nested if ... else\n",
    " nested if else is if else inside if else is called nested if ...else  if the first condition is true then only entered second condition\n",
    " "
   ]
  },
  {
   "cell_type": "code",
   "execution_count": 6,
   "id": "89c78a5d",
   "metadata": {},
   "outputs": [
    {
     "name": "stdout",
     "output_type": "stream",
     "text": [
      "enter your hight in feet : 6\n",
      "you can ride\n",
      "enter your age: 19\n",
      "you have to pay 500\n"
     ]
    }
   ],
   "source": [
    "x = int(input(\"enter your hight in feet : \"))\n",
    "\n",
    "if x >= 3:\n",
    "    print(\"you can ride\")\n",
    "    age = int(input(\"enter your age: \"))\n",
    "    if age <=18:\n",
    "        print(\"you have to pay 250\")\n",
    "    else:\n",
    "        print(\"you have to pay 500\")\n",
    "else:\n",
    "    print(\"you don't have enough height to ride\")"
   ]
  },
  {
   "cell_type": "markdown",
   "id": "7d720e14",
   "metadata": {},
   "source": [
    "# nested if .. else and elif\n",
    "\n",
    "when we can more than one condition in if else you can use elif"
   ]
  },
  {
   "cell_type": "code",
   "execution_count": 7,
   "id": "8f6fdb51",
   "metadata": {},
   "outputs": [
    {
     "name": "stdout",
     "output_type": "stream",
     "text": [
      "enter your hight in feet : 5\n",
      "you can ride\n",
      "enter your age: 15\n",
      "you have to pay 350\n"
     ]
    }
   ],
   "source": [
    "x = int(input(\"enter your hight in feet : \"))\n",
    "\n",
    "if x >= 3:\n",
    "    print(\"you can ride\")\n",
    "    age = int(input(\"enter your age: \"))\n",
    "    if age <=12:\n",
    "        print(\"you have to pay 250\")\n",
    "    elif age <=18:\n",
    "        print(\"you have to pay 350\")\n",
    "    else:\n",
    "        print(\"you have to pay 500\")\n",
    "else:\n",
    "    print(\"you don't have enough height to ride\")"
   ]
  },
  {
   "cell_type": "markdown",
   "id": "157539fa",
   "metadata": {},
   "source": [
    "# Short Hand If\n",
    "If you have only one statement to execute, you can put it on the same line as the if statement."
   ]
  },
  {
   "cell_type": "code",
   "execution_count": 10,
   "id": "cf93d1a7",
   "metadata": {},
   "outputs": [
    {
     "name": "stdout",
     "output_type": "stream",
     "text": [
      "a is greater than b\n",
      "a is lesser then b\n"
     ]
    }
   ],
   "source": [
    "a=10\n",
    "b=2\n",
    "if a > b:print(\"a is greater than b\")\n",
    "    \n",
    "    \n",
    "x = 10\n",
    "b = 30\n",
    "if a < b:print(\"a is lesser then b\")"
   ]
  },
  {
   "cell_type": "markdown",
   "id": "a208cd22",
   "metadata": {},
   "source": [
    "# short hand if .. Else \n",
    "if you have only one statement to execute, one for if, and one for else, you can put it all on the same line:"
   ]
  },
  {
   "cell_type": "code",
   "execution_count": 3,
   "id": "726dd903",
   "metadata": {},
   "outputs": [
    {
     "name": "stdout",
     "output_type": "stream",
     "text": [
      "B\n",
      "y\n",
      "b\n"
     ]
    }
   ],
   "source": [
    "a = 2\n",
    "b = 330\n",
    "print(\"A\") if a > b else print(\"B\")\n",
    "\n",
    "x = 10 \n",
    "b = 20\n",
    "print(\"x\")if a>b else print(\"y\")\n",
    "\n",
    "# this techique is known as ternary operators or conditiona expressions.\n",
    "\n",
    "# three condition in one line\n",
    "a =100\n",
    "b= 200\n",
    "print(\"a\")if a ==b else print(\">\") if a > b else print(\"b\")"
   ]
  },
  {
   "cell_type": "markdown",
   "id": "94cf64bc",
   "metadata": {},
   "source": [
    "# using and, or & not in if \n",
    "\n",
    "# and \n",
    "the and keyword is a logical operator, and is used to combine conditional statements\n",
    "\n",
    "# or\n",
    "the or keyword is a logical operator, and is used to combine conditional statement:\n",
    "\n",
    "# not\n",
    "the not keyword is a logical operator and is used to reverse the result of the conditional statement:"
   ]
  },
  {
   "cell_type": "code",
   "execution_count": 18,
   "id": "418d50c8",
   "metadata": {},
   "outputs": [
    {
     "name": "stdout",
     "output_type": "stream",
     "text": [
      "both the conditions are true\n",
      "first condition is false and second conditions is true\n",
      "a is greater than b\n"
     ]
    }
   ],
   "source": [
    "# if both the conditions are true and will print\n",
    "\n",
    "a = 10\n",
    "b = 20\n",
    "c = 30 \n",
    "if a < b and c > a:\n",
    "    print(\"both the conditions are true\")\n",
    "    \n",
    "# if one condition is true or will print\n",
    "\n",
    "a = 10\n",
    "b = 20\n",
    "c = 30 \n",
    "if a > b or c > a :\n",
    "    print(\"first condition is false and second conditions is true\")\n",
    "    \n",
    "#not \n",
    "if not a > b :\n",
    "    print(\"a is greater than b\")"
   ]
  },
  {
   "cell_type": "markdown",
   "id": "ff9c5b51",
   "metadata": {},
   "source": [
    "# The pass Statement\n",
    "if statements cannot be empty, but if you for some reason have an if statement with no content, put in the pass statement to avoid getting an error."
   ]
  },
  {
   "cell_type": "code",
   "execution_count": 5,
   "id": "6f7590da",
   "metadata": {},
   "outputs": [],
   "source": [
    "a = 33\n",
    "b = 200\n",
    "\n",
    "if b > a:\n",
    "  pass"
   ]
  },
  {
   "cell_type": "code",
   "execution_count": 22,
   "id": "658f5707",
   "metadata": {},
   "outputs": [
    {
     "name": "stdout",
     "output_type": "stream",
     "text": [
      "ENTER THE OPERATORS(+,-,/,*) : +\n",
      "ENTER THE FIRST NUMBER : 45\n",
      "ENTER THE SECOND NUMBER : 65\n",
      "110.0\n"
     ]
    }
   ],
   "source": [
    "# using nested if else & elif we can make calculator\n",
    "\n",
    "operators = input(\"ENTER THE OPERATORS(+,-,/,*) : \")\n",
    "number1 = float(input(\"ENTER THE FIRST NUMBER : \"))\n",
    "number2 = float(input(\"ENTER THE SECOND NUMBER : \"))\n",
    "\n",
    "if operators == \"+\":\n",
    "    result = number1 + number2\n",
    "    print(result)\n",
    "elif operators == \"-\":\n",
    "    result = number1 - number2\n",
    "    print(result)\n",
    "elif operators == \"/\":\n",
    "    result = number1 / number2\n",
    "    print(result)\n",
    "elif operators == \"*\":\n",
    "    result = number1 * number2\n",
    "    print(result)\n",
    "else:\n",
    "    print(\"invalid operators entered\")\n"
   ]
  },
  {
   "cell_type": "code",
   "execution_count": 1,
   "id": "097a5512",
   "metadata": {},
   "outputs": [
    {
     "name": "stdout",
     "output_type": "stream",
     "text": [
      "telusko rocks rocks rocks rocks \n",
      "telusko rocks rocks rocks rocks \n",
      "telusko rocks rocks rocks rocks \n",
      "telusko rocks rocks rocks rocks \n",
      "telusko rocks rocks rocks rocks \n"
     ]
    }
   ],
   "source": [
    "i = 1\n",
    "\n",
    "while i <=5:\n",
    "    print(\"telusko \", end=\"\")\n",
    "    j= 1\n",
    "    while j <=4:\n",
    "        print(\"rocks \", end=\"\")\n",
    "        j = j + 1\n",
    "        \n",
    "        \n",
    "    i = i + 1\n",
    "    print()\n",
    "    \n",
    "    \n",
    "\n",
    "    "
   ]
  },
  {
   "cell_type": "code",
   "execution_count": null,
   "id": "7b23c320",
   "metadata": {},
   "outputs": [],
   "source": []
  },
  {
   "cell_type": "code",
   "execution_count": null,
   "id": "9ce96cdf",
   "metadata": {},
   "outputs": [],
   "source": []
  },
  {
   "cell_type": "code",
   "execution_count": null,
   "id": "1770bf66",
   "metadata": {},
   "outputs": [],
   "source": []
  },
  {
   "cell_type": "code",
   "execution_count": null,
   "id": "46831564",
   "metadata": {},
   "outputs": [],
   "source": []
  }
 ],
 "metadata": {
  "kernelspec": {
   "display_name": "Python 3",
   "language": "python",
   "name": "python3"
  },
  "language_info": {
   "codemirror_mode": {
    "name": "ipython",
    "version": 3
   },
   "file_extension": ".py",
   "mimetype": "text/x-python",
   "name": "python",
   "nbconvert_exporter": "python",
   "pygments_lexer": "ipython3",
   "version": "3.8.8"
  }
 },
 "nbformat": 4,
 "nbformat_minor": 5
}
