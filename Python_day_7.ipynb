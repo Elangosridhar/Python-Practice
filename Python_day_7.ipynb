{
 "cells": [
  {
   "cell_type": "markdown",
   "id": "13b0c66f",
   "metadata": {},
   "source": [
    "# Day_7\n",
    "\n",
    "# Python Inheritance\n",
    "\n",
    "Inheritance allows us to define a class that inherits all the methods and properties from another class.\n",
    "\n",
    "Parent class is the class being inherited from, also called base class.\n",
    "\n",
    "Child class is the class that inherits from another class, also called derived class.\n",
    "\n",
    "\n"
   ]
  },
  {
   "cell_type": "markdown",
   "id": "fc7926cc",
   "metadata": {},
   "source": [
    "# Create a Parent Class\n",
    "Any class can be a parent class, so the syntax is the same as creating any other class:\n",
    "\n"
   ]
  },
  {
   "cell_type": "code",
   "execution_count": 11,
   "id": "7395651a",
   "metadata": {},
   "outputs": [
    {
     "name": "stdout",
     "output_type": "stream",
     "text": [
      "John Doe\n"
     ]
    }
   ],
   "source": [
    "class Person:\n",
    "    def __init__(self, fname, lname):\n",
    "    self.firstname = fname\n",
    "    self.lastname = lname\n",
    "\n",
    "    def printname(self):\n",
    "    print(self.firstname, self.lastname)\n",
    "\n",
    "#Use the Person class to create an object, and then execute the printname method:\n",
    "\n",
    "x = Person(\"John\", \"Doe\")\n",
    "x.printname()\n"
   ]
  },
  {
   "cell_type": "markdown",
   "id": "986a3191",
   "metadata": {},
   "source": [
    "# Create a Child Class\n",
    "To create a class that inherits the functionality from another class, send the parent class as a parameter when creating the child class:\n",
    "\n"
   ]
  },
  {
   "cell_type": "code",
   "execution_count": 13,
   "id": "88758739",
   "metadata": {},
   "outputs": [
    {
     "name": "stdout",
     "output_type": "stream",
     "text": [
      "elango sridhar\n"
     ]
    }
   ],
   "source": [
    "class Student(Person):\n",
    "  pass\n",
    "\n",
    "y=Person(\"elango\",\"sridhar\")\n",
    "y.printname()"
   ]
  },
  {
   "cell_type": "markdown",
   "id": "01b99653",
   "metadata": {},
   "source": [
    "# Add the __init__() Function\n",
    "So far we have created a child class that inherits the properties and methods from its parent.\n",
    "\n",
    "We want to add the __init__() function to the child class (instead of the pass keyword).\n",
    "\n"
   ]
  },
  {
   "cell_type": "code",
   "execution_count": 14,
   "id": "9a90960f",
   "metadata": {},
   "outputs": [
    {
     "name": "stdout",
     "output_type": "stream",
     "text": [
      "elango sridhar\n"
     ]
    }
   ],
   "source": [
    "class Student(Person):\n",
    "    def __init__(self, fname, lname):\n",
    "    Person.__init__(self, fname, lname)\n",
    "    \n",
    "y=Person(\"elango\",\"sridhar\")\n",
    "y.printname()\n"
   ]
  },
  {
   "cell_type": "markdown",
   "id": "99d25bd5",
   "metadata": {},
   "source": [
    "# Use the super() Function\n",
    "Python also has a super() function that will make the child class inherit all the methods and properties from its parent"
   ]
  },
  {
   "cell_type": "code",
   "execution_count": 16,
   "id": "f1d7a61d",
   "metadata": {},
   "outputs": [
    {
     "name": "stdout",
     "output_type": "stream",
     "text": [
      "i can eat\n",
      "I can work\n",
      "i can code\n",
      "i am going gym\n"
     ]
    }
   ],
   "source": [
    "class Human:\n",
    "    def eat(self):\n",
    "        print(\"i can eat\")\n",
    "    def work(self):\n",
    "        print(\"I can work\")\n",
    "        \n",
    "class Male(Human):\n",
    "    def gym(self):\n",
    "        print(\"i am going gym\")\n",
    "    def work(self):\n",
    "        super().work()\n",
    "        print(\"i can code\")\n",
    "    \n",
    "     \n",
    "male_1=Male()\n",
    "male_1.eat()\n",
    "male_1.work()\n",
    "male_1.gym()"
   ]
  },
  {
   "cell_type": "markdown",
   "id": "21097a22",
   "metadata": {},
   "source": [
    "# types of inheritancein python\n",
    " ### there are 5 different types of inheritance in python \n",
    " \n",
    " # Single inheritance\n",
    " \n",
    " when a child class inherits form only one parents class,, it is called single inheritance we saw an example "
   ]
  },
  {
   "cell_type": "code",
   "execution_count": 17,
   "id": "8c18c6d0",
   "metadata": {},
   "outputs": [
    {
     "name": "stdout",
     "output_type": "stream",
     "text": [
      "i can eat\n",
      "I can work\n",
      "i am going gym\n"
     ]
    }
   ],
   "source": [
    "# single inheritance\n",
    "class Human:\n",
    "    def eat(self):\n",
    "        print(\"i can eat\")\n",
    "    def work(self):\n",
    "        print(\"I can work\")\n",
    "        \n",
    "class Male(Human):\n",
    "    def gym(self):\n",
    "        print(\"i am going gym\")\n",
    "    \n",
    "    \n",
    "     \n",
    "male_1=Male()\n",
    "male_1.eat()\n",
    "male_1.work()\n",
    "male_1.gym()"
   ]
  },
  {
   "cell_type": "markdown",
   "id": "d080862d",
   "metadata": {},
   "source": [
    "# multiple inheritance\n",
    "\n",
    "when a child class inherits form multiple parent classes it is called multiple inheritances."
   ]
  },
  {
   "cell_type": "code",
   "execution_count": 28,
   "id": "eafa2917",
   "metadata": {},
   "outputs": [
    {
     "name": "stdout",
     "output_type": "stream",
     "text": [
      "western\n",
      "20\n",
      "Elango\n"
     ]
    }
   ],
   "source": [
    "# python example to show the working of multiple inheritance\n",
    "\n",
    "class Human():\n",
    "    def __init__(self,name,age):\n",
    "          self.name= name\n",
    "          self.age = age\n",
    "        \n",
    "class Dancer():\n",
    "    def __init__(self,style):\n",
    "        self.style = style\n",
    "        \n",
    "\n",
    "class Student(Human,Dancer):\n",
    "      def __init__(self,name,age,style):\n",
    "          Human.__init__(self,name,age)\n",
    "          Dancer.__init__(self,style)\n",
    "        \n",
    "\n",
    "Elango = Student(\"Elango\",20,\"western\")\n",
    "print(Elango.style)\n",
    "print(Elango.age)\n",
    "print(Elango.name)\n"
   ]
  },
  {
   "cell_type": "markdown",
   "id": "9ae09525",
   "metadata": {},
   "source": [
    "# Multilevel inheritance\n",
    "\n",
    "when we have a child and grand child relationship this means that a child class will inherit from its parentclass,which  in turn is inheriting from its parent class.\n"
   ]
  },
  {
   "cell_type": "code",
   "execution_count": 32,
   "id": "5298e1a0",
   "metadata": {},
   "outputs": [
    {
     "name": "stdout",
     "output_type": "stream",
     "text": [
      "i will go to gym\n",
      "i can sleep\n"
     ]
    }
   ],
   "source": [
    "# multilevel inheritace\n",
    "\n",
    "#parent class named Human\n",
    "class Human():\n",
    "   def work(self):\n",
    "        print(\"i can work\")\n",
    "   def sleep(self):\n",
    "        print(\"i can sleep\")\n",
    "#first child class\n",
    "#inherited parent class to child class named Man\n",
    "class Man(Human):\n",
    "     def gym(self):\n",
    "            print(\"i will go to gym\")\n",
    "#grand child class\n",
    "#child class inherited to another child class\n",
    "class girl(Man):\n",
    "    pass\n",
    "\n",
    "selvi = girl()\n",
    "selvi.gym()\n",
    "selvi.sleep()"
   ]
  },
  {
   "cell_type": "markdown",
   "id": "e7f52d04",
   "metadata": {},
   "source": [
    "# Hierarchical inheritance\n",
    "More than one derived class can be created from a single base.\n",
    "\n",
    "more than one child class can be created form a single parent class is called hierarchical inheritance"
   ]
  },
  {
   "cell_type": "code",
   "execution_count": 37,
   "id": "d6cdb8a4",
   "metadata": {},
   "outputs": [
    {
     "name": "stdout",
     "output_type": "stream",
     "text": [
      "this function is parent class\n",
      "this function is parent class\n"
     ]
    }
   ],
   "source": [
    "# hierarchical inheritance\n",
    "\n",
    "#the parent class\n",
    "class parent():\n",
    "    def father(self):\n",
    "        print(\"this function is parent class\")\n",
    "#child class one        \n",
    "class child1(parent):\n",
    "      def son1(self):\n",
    "            print(\"i am child one\")\n",
    "#child class two            \n",
    "class child2(parent):\n",
    "      def son2(self):\n",
    "            print(\"i am child two\")\n",
    "            \n",
    "elango = child1()\n",
    "harish = child2()\n",
    "\n",
    "elango.father()\n",
    "harish.father()\n"
   ]
  },
  {
   "cell_type": "markdown",
   "id": "2860215c",
   "metadata": {},
   "source": [
    "# Hybrid inheritance:\n",
    "This form combines more than one form of inheritance. Basically, it is a blend of more than one type of inheritance.\n"
   ]
  },
  {
   "cell_type": "code",
   "execution_count": 81,
   "id": "192fe799",
   "metadata": {},
   "outputs": [
    {
     "name": "stdout",
     "output_type": "stream",
     "text": [
      "i am from class c\n",
      "i am form class a\n",
      "i am from class d\n"
     ]
    }
   ],
   "source": [
    "class a():\n",
    "    def funa(self):\n",
    "        print(\"i am form class a\")\n",
    "        \n",
    "class b(a):\n",
    "    def funb(self):\n",
    "        print(\"i am from class b\")\n",
    "\n",
    "class c(a):\n",
    "    def func(self):\n",
    "        print(\"i am from class c\")\n",
    "    \n",
    "class d(c,a):\n",
    "    def fund(self):\n",
    "        print(\"i am from class d\")\n",
    "        \n",
    "f = d()\n",
    "f.func()\n",
    "f.funa()\n",
    "f.fund()\n"
   ]
  },
  {
   "cell_type": "markdown",
   "id": "654a753b",
   "metadata": {},
   "source": [
    "# Abstraction in pyhton\n",
    "\n",
    "Abstraction is a fundamental concept in Python programming that allows us to simplify complex concepts and focus on the essential details. It involves hiding unnecessary details and exposing only the relevant information to the users.\n",
    "\n",
    "\n",
    "Python by default doesn't support abstraction\n",
    "\n",
    "we cab achive abstraction by module abc\n"
   ]
  },
  {
   "cell_type": "code",
   "execution_count": 52,
   "id": "ed5cd39b",
   "metadata": {},
   "outputs": [
    {
     "name": "stdout",
     "output_type": "stream",
     "text": [
      "I have 3 sides\n",
      "I have 5 sides\n",
      "I have 6 sides\n"
     ]
    }
   ],
   "source": [
    "#python \n",
    "#abstract class\n",
    "from abc import ABC, abstractmethod\n",
    "\n",
    "class Polygon(ABC):\n",
    "    @abstractmethod\n",
    "    def side(self):\n",
    "        pass\n",
    "    \n",
    "class Triangle(Polygon):\n",
    "    #overriding abstract method\n",
    "    def side(self):\n",
    "        print(\"I have 3 sides\")\n",
    "        \n",
    "class Pentagon(Polygon):\n",
    "    #overriding \n",
    "    def side(self):\n",
    "        print(\"I have 5 sides\")\n",
    "        \n",
    "class Hexagon(Polygon):\n",
    "    #overriding\n",
    "    def side(self):\n",
    "        print(\"I have 6 sides\")\n",
    "        \n",
    "#Driver code\n",
    "t = Triangle()\n",
    "t.side()\n",
    "\n",
    "p = Pentagon()\n",
    "p.side()\n",
    "\n",
    "h = Hexagon()\n",
    "h.side()"
   ]
  },
  {
   "cell_type": "code",
   "execution_count": 50,
   "id": "847713f2",
   "metadata": {},
   "outputs": [
    {
     "name": "stdout",
     "output_type": "stream",
     "text": [
      "Start with kick\n",
      "self start\n",
      "start with key\n",
      "hi I am calling from vehicle class\n"
     ]
    }
   ],
   "source": [
    "from abc import ABC,abstractmethod\n",
    "\n",
    "class Vehicle(ABC):\n",
    "    def __init__(self,n):\n",
    "        self.no_of_types=n\n",
    "    @abstractmethod\n",
    "    def start(self):\n",
    "        pass\n",
    "    def display(self):\n",
    "        print(\"hi I am calling from vehicle class\")\n",
    "        \n",
    "\n",
    "class Bike(Vehicle):\n",
    "    def __init__(self,n):\n",
    "        self.no_of_tyres=n\n",
    "    def start(self):\n",
    "        print(\"Start with kick\")\n",
    "        \n",
    "class Scooty(Vehicle):\n",
    "    def __init__(self,n):\n",
    "        self.no_of_tyres=n\n",
    "    def start(self):\n",
    "        print(\"self start\")\n",
    "        \n",
    "class Car(Vehicle):\n",
    "    def __init__(self,n):\n",
    "        self.no_of_tyres=n\n",
    "    def start(self):\n",
    "        print(\"start with key\")\n",
    "#vehicle=Vehicle(4)\n",
    "#vehicle.start()\n",
    "bike=Bike(2)\n",
    "bike.start()\n",
    "scooty=Scooty(2)\n",
    "scooty.start()\n",
    "car=Car(2)\n",
    "car.start()\n",
    "scooty.display()"
   ]
  },
  {
   "cell_type": "markdown",
   "id": "ced5b1d1",
   "metadata": {},
   "source": [
    "# Implementation of Abstract through Subclass\n",
    "\n",
    "by subclassing directly from the base we can avoid the need to register the class explicity . in thic case the pthon class management is used to recognize  Plugin implementation as implementing the abstract PluginBase\n"
   ]
  },
  {
   "cell_type": "code",
   "execution_count": 60,
   "id": "4a33733e",
   "metadata": {},
   "outputs": [
    {
     "name": "stdout",
     "output_type": "stream",
     "text": [
      "True\n",
      "True\n"
     ]
    }
   ],
   "source": [
    "import abc \n",
    "\n",
    "class  parent:\n",
    "    def elango(self):\n",
    "         pass\n",
    "        \n",
    "class child(parent):\n",
    "    def harish(self):\n",
    "        print(\"harish the child class\")\n",
    "\n",
    "print( issubclass(child, parent)) \n",
    "print( isinstance(child(), parent))\n"
   ]
  },
  {
   "cell_type": "markdown",
   "id": "3b284029",
   "metadata": {},
   "source": [
    "# access modifiers in python\n",
    "\n",
    "# three types of access specifier\n",
    "\n",
    "# public \n",
    "everyone can access the attributies and method\n",
    "\n",
    "# protected\n",
    "only the child can access the attribites and method protected can be decleared by _ single\n",
    "\n",
    "# private\n",
    "private can access only in the that class private can be decleared by __ double \n"
   ]
  },
  {
   "cell_type": "code",
   "execution_count": 74,
   "id": "172e16ef",
   "metadata": {},
   "outputs": [
    {
     "name": "stdout",
     "output_type": "stream",
     "text": [
      "vikram\n",
      "Hii myself vikram from student class\n"
     ]
    }
   ],
   "source": [
    "#PUBLIC ACCESS MODIFIER\n",
    "class Student:\n",
    "    def __init__(self,name):\n",
    "        self.name = name\n",
    "    def display(self):\n",
    "        print(f\"Hii myself {self.name} from student class\")\n",
    "        \n",
    "s1=Student(\"vikram\")\n",
    "print(s1.name)\n",
    "s1.display()\n",
    "        "
   ]
  },
  {
   "cell_type": "code",
   "execution_count": 72,
   "id": "88cdd161",
   "metadata": {},
   "outputs": [
    {
     "name": "stdout",
     "output_type": "stream",
     "text": [
      "selvi\n",
      "20\n"
     ]
    }
   ],
   "source": [
    "#protected access modifier\n",
    "class Student:\n",
    "    def __init__(self,name,rollno):\n",
    "        self.name = name #public instance variable\n",
    "        self._rollno=rollno #protected ins\n",
    "    def display(self):\n",
    "        print(f\"Hii myself {self.name} from student class\")\n",
    "        \n",
    "class Branch(Student):\n",
    "    pass\n",
    " \n",
    "b1=Branch(\"selvi\",20) \n",
    "print(b1.name)\n",
    "print(b1._rollno)\n",
    "#s1=Student(\"Rahul\")\n",
    "#print(s1.name)\n",
    "#s1.display()\n"
   ]
  },
  {
   "cell_type": "code",
   "execution_count": 79,
   "id": "37da3ee0",
   "metadata": {},
   "outputs": [
    {
     "name": "stdout",
     "output_type": "stream",
     "text": [
      "Hii myself selvi from 20 student class\n"
     ]
    }
   ],
   "source": [
    "#private attribute\n",
    "class Student:\n",
    "    def __init__(self,name,rollno):\n",
    "        self.name = name #public instance variable\n",
    "        self.__rollno=rollno #protected ins\n",
    "    def display(self):\n",
    "        print(f\"Hii myself {self.name} from {self.__rollno} student class\")\n",
    "        \n",
    "class Branch(Student):\n",
    "    pass\n",
    " \n",
    "    \n",
    "b1=Student(\"selvi\",20) \n",
    "b1.display()"
   ]
  },
  {
   "cell_type": "code",
   "execution_count": null,
   "id": "39d09a1e",
   "metadata": {},
   "outputs": [],
   "source": []
  },
  {
   "cell_type": "code",
   "execution_count": null,
   "id": "eb136456",
   "metadata": {},
   "outputs": [],
   "source": []
  }
 ],
 "metadata": {
  "kernelspec": {
   "display_name": "Python 3",
   "language": "python",
   "name": "python3"
  },
  "language_info": {
   "codemirror_mode": {
    "name": "ipython",
    "version": 3
   },
   "file_extension": ".py",
   "mimetype": "text/x-python",
   "name": "python",
   "nbconvert_exporter": "python",
   "pygments_lexer": "ipython3",
   "version": "3.8.8"
  }
 },
 "nbformat": 4,
 "nbformat_minor": 5
}
