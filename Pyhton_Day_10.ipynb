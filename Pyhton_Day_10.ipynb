{
 "cells": [
  {
   "cell_type": "markdown",
   "id": "2c804695",
   "metadata": {},
   "source": [
    "# Day_10"
   ]
  },
  {
   "cell_type": "code",
   "execution_count": 19,
   "id": "d0c59f35",
   "metadata": {},
   "outputs": [
    {
     "name": "stdout",
     "output_type": "stream",
     "text": [
      "0\n",
      "11\n",
      "35\n",
      "\n",
      "35\n"
     ]
    }
   ],
   "source": [
    "f = open(\"Students.txt\",\"w+\")\n",
    "print(f.tell())\n",
    "f.write(\"hii welcome\")\n",
    "print(f.tell())\n",
    "f.write(\"\\nthis is python traning\")\n",
    "print(f.tell())\n",
    "data = f.read()\n",
    "print(data)\n",
    "print(f.tell())\n",
    "f.close()"
   ]
  },
  {
   "cell_type": "markdown",
   "id": "9c94c251",
   "metadata": {},
   "source": [
    "# Matplotlib Tutorial\n",
    "\n",
    "# what is Matplotlib\n",
    "\n",
    "Matplotlib is a low level graph plotting library in python that serves as a visualization utility.\n",
    "\n",
    "Matplotlib was created by john D.Hunter\n",
    "\n",
    "Matplotlib is open source and we can use it freely\n",
    "\n",
    "Matplotlib is open source and we can use it freely\n",
    "\n",
    "Matplotlib is mostly written in python a few segments are written in c, Objective-C and javascript for platform compatibility"
   ]
  },
  {
   "cell_type": "code",
   "execution_count": 20,
   "id": "0cea7ccc",
   "metadata": {},
   "outputs": [
    {
     "name": "stdout",
     "output_type": "stream",
     "text": [
      "Requirement already satisfied: matplotlib in c:\\users\\office\\anaconda3\\lib\\site-packages (3.3.4)\n",
      "Requirement already satisfied: kiwisolver>=1.0.1 in c:\\users\\office\\anaconda3\\lib\\site-packages (from matplotlib) (1.3.1)\n",
      "Requirement already satisfied: pyparsing!=2.0.4,!=2.1.2,!=2.1.6,>=2.0.3 in c:\\users\\office\\anaconda3\\lib\\site-packages (from matplotlib) (2.4.7)\n",
      "Requirement already satisfied: cycler>=0.10 in c:\\users\\office\\anaconda3\\lib\\site-packages (from matplotlib) (0.10.0)\n",
      "Requirement already satisfied: numpy>=1.15 in c:\\users\\office\\anaconda3\\lib\\site-packages (from matplotlib) (1.20.1)\n",
      "Requirement already satisfied: pillow>=6.2.0 in c:\\users\\office\\anaconda3\\lib\\site-packages (from matplotlib) (8.2.0)\n",
      "Requirement already satisfied: python-dateutil>=2.1 in c:\\users\\office\\anaconda3\\lib\\site-packages (from matplotlib) (2.8.1)\n",
      "Requirement already satisfied: six in c:\\users\\office\\anaconda3\\lib\\site-packages (from cycler>=0.10->matplotlib) (1.15.0)\n",
      "Note: you may need to restart the kernel to use updated packages.\n"
     ]
    }
   ],
   "source": [
    "pip install matplotlib"
   ]
  },
  {
   "cell_type": "code",
   "execution_count": 21,
   "id": "6368b34a",
   "metadata": {},
   "outputs": [
    {
     "name": "stdout",
     "output_type": "stream",
     "text": [
      "3.3.4\n"
     ]
    }
   ],
   "source": [
    "import matplotlib\n",
    "\n",
    "print(matplotlib.__version__)"
   ]
  },
  {
   "cell_type": "markdown",
   "id": "ba6850c0",
   "metadata": {},
   "source": [
    "# PYplot\n",
    "\n",
    "most of the matplotlib utilities lies under the pyplot submodule and are usually imported under the plt alias:"
   ]
  },
  {
   "cell_type": "code",
   "execution_count": null,
   "id": "b39bac02",
   "metadata": {},
   "outputs": [],
   "source": [
    "import matplotlib.pyplot as plt\n",
    "\n",
    "# now the pyplot package can be referred to as plt.\n",
    "\n"
   ]
  },
  {
   "cell_type": "markdown",
   "id": "150506c6",
   "metadata": {},
   "source": [
    "# Numpy introduction\n",
    "\n",
    "\n",
    "## what is Numpy\n",
    "\n",
    "Numpy is a pyhton library used for working with arrays.\n",
    "\n",
    "it also has function for working in domain of linear algebra,fourier transform and matrices.\n",
    "\n",
    "Numpy was created in 2005 by Travis oliphant. It is an open source project and you can use it freely\n",
    "\n",
    "Numpy stands for numerical python\n",
    "\n",
    "\n",
    "# Why Use Numpy?\n",
    "\n",
    "In Python we have lists that serve the purpose of arrays but they are slow to process.\n",
    "\n",
    "\n",
    "Numpy aims to provide an array object that is up to 50x faster than traditional python lists.\n",
    "\n",
    "\n",
    "The array object in Numpy is called ndarray, it provides a lot of supporting functions that make working with ndarray very easy.\n",
    "\n",
    "Array are very frequently used in data science, where speed and resource are very important\n",
    "\n",
    "\n",
    "# why is Numpy Faster than lists?\n",
    "\n",
    "Numpy arrays are stored at one continuous  place in memory unlike lists, so processes can access and manipulate them very efficiently.\n",
    "\n",
    "This behavior is called locality of reference in computer science.\n",
    "\n",
    "This is the main reason why Numpy is faster than lists. Also it is optimized to work with latest CPU architectures.\n",
    "\n",
    "\n"
   ]
  },
  {
   "cell_type": "code",
   "execution_count": 22,
   "id": "e0a8fa4c",
   "metadata": {},
   "outputs": [
    {
     "name": "stdout",
     "output_type": "stream",
     "text": [
      "Requirement already satisfied: numpy in c:\\users\\office\\anaconda3\\lib\\site-packages (1.20.1)\n",
      "Note: you may need to restart the kernel to use updated packages.\n"
     ]
    }
   ],
   "source": [
    "pip install numpy"
   ]
  },
  {
   "cell_type": "code",
   "execution_count": 1,
   "id": "d1fcc2d3",
   "metadata": {},
   "outputs": [
    {
     "name": "stdout",
     "output_type": "stream",
     "text": [
      "[1 2 3 4 5]\n"
     ]
    }
   ],
   "source": [
    "import numpy\n",
    "\n",
    "arr = numpy.array([1,2,3,4,5])\n",
    "\n",
    "print(arr)"
   ]
  },
  {
   "cell_type": "markdown",
   "id": "bae2f364",
   "metadata": {},
   "source": [
    "# Numpy as np\n",
    "\n",
    "Numpy is usually imported under the np alias.\n",
    "\n",
    "Create an alias with the as keyword while importing:\n"
   ]
  },
  {
   "cell_type": "code",
   "execution_count": 2,
   "id": "a804515f",
   "metadata": {},
   "outputs": [
    {
     "name": "stdout",
     "output_type": "stream",
     "text": [
      "[1 2 3 4 5 6]\n"
     ]
    }
   ],
   "source": [
    "import numpy as np\n",
    "\n",
    "arr = np.array([1,2,3,4,5,6])\n",
    "\n",
    "print(arr)"
   ]
  },
  {
   "cell_type": "code",
   "execution_count": 3,
   "id": "681f330d",
   "metadata": {},
   "outputs": [
    {
     "name": "stdout",
     "output_type": "stream",
     "text": [
      "1.20.1\n"
     ]
    }
   ],
   "source": [
    "import numpy as np\n",
    "\n",
    "print(np.__version__)"
   ]
  },
  {
   "cell_type": "markdown",
   "id": "239ad1fe",
   "metadata": {},
   "source": [
    "# Numpy creating Arrays\n",
    "\n",
    "## create a Numpy ndarray object\n",
    "\n",
    "Numpy is used to work with arrays. The arrays object in Numpy is called ndarray.\n",
    "\n",
    "We can create a Numpy ndarray object by using the array() function.\n",
    "\n",
    "\n"
   ]
  },
  {
   "cell_type": "code",
   "execution_count": 4,
   "id": "12b6743a",
   "metadata": {},
   "outputs": [
    {
     "name": "stdout",
     "output_type": "stream",
     "text": [
      "[1 2 3 4 5]\n",
      "<class 'numpy.ndarray'>\n"
     ]
    }
   ],
   "source": [
    "import numpy as np\n",
    "\n",
    "arr = np.array([1,2,3,4,5])\n",
    "\n",
    "print(arr)\n",
    "\n",
    "print(type(arr))"
   ]
  },
  {
   "cell_type": "markdown",
   "id": "d1c8385a",
   "metadata": {},
   "source": [
    "To create an ndarray, we can pass a list,tuple or any array-like object into the array() method, and it will  be converted into an ndarray:"
   ]
  },
  {
   "cell_type": "code",
   "execution_count": 5,
   "id": "b2859775",
   "metadata": {},
   "outputs": [
    {
     "name": "stdout",
     "output_type": "stream",
     "text": [
      "[1 2 3 4 5]\n"
     ]
    }
   ],
   "source": [
    "import numpy as np\n",
    "\n",
    "arr = np.array((1,2,3,4,5))\n",
    "\n",
    "print(arr)"
   ]
  },
  {
   "cell_type": "markdown",
   "id": "65260587",
   "metadata": {},
   "source": [
    "# Dimensions in Arrays\n",
    "\n",
    "A dimension in arrays is one level of array depth(nested arrays).\n",
    "\n",
    "___nested array___ : are arrays that have arrays as their elements.\n",
    "\n",
    "# 0-D Arrays\n",
    "\n",
    "0-D arrays, or Scalars are the elements in an array. Each value in an array is a 0-D array."
   ]
  },
  {
   "cell_type": "code",
   "execution_count": 6,
   "id": "d08f4437",
   "metadata": {},
   "outputs": [
    {
     "name": "stdout",
     "output_type": "stream",
     "text": [
      "42\n"
     ]
    }
   ],
   "source": [
    "import numpy as np\n",
    "\n",
    "arr = np.array(42)\n",
    "\n",
    "print(arr)"
   ]
  },
  {
   "cell_type": "markdown",
   "id": "19b124b3",
   "metadata": {},
   "source": [
    "# 1-D Arrays\n",
    "\n",
    "An array that has 0-D arrays as its elements is called uni-dimensional or 1-D array.\n",
    "\n",
    "these are the most common and basic arrays."
   ]
  },
  {
   "cell_type": "code",
   "execution_count": 7,
   "id": "ee91bf8b",
   "metadata": {},
   "outputs": [
    {
     "name": "stdout",
     "output_type": "stream",
     "text": [
      "[1 2 3 4 5 6]\n"
     ]
    }
   ],
   "source": [
    "import numpy as np\n",
    "\n",
    "arr = np.array([1,2,3,4,5,6])\n",
    "print(arr)"
   ]
  },
  {
   "cell_type": "markdown",
   "id": "065834a6",
   "metadata": {},
   "source": [
    "# 2-D Arrays \n",
    "\n",
    "An array that has 1-D arrays as its elements is called a 2-D array\n",
    "\n",
    "These are often used to represent matrix or 2nd order tensors."
   ]
  },
  {
   "cell_type": "code",
   "execution_count": 9,
   "id": "c3a23750",
   "metadata": {},
   "outputs": [
    {
     "name": "stdout",
     "output_type": "stream",
     "text": [
      "[[1 3 6]\n",
      " [2 4 8]]\n"
     ]
    }
   ],
   "source": [
    "import numpy as np\n",
    "\n",
    "arr = np.array([[1,3,6],[2,4,8]])\n",
    "\n",
    "print(arr)"
   ]
  },
  {
   "cell_type": "markdown",
   "id": "65af6dc6",
   "metadata": {},
   "source": [
    "# 3-D arrays\n",
    "\n",
    "An array that has 2-D arrays (matrices) as its elements is called 3-D array.\n",
    "\n",
    "These are often used to represent a 3rd order tensor."
   ]
  },
  {
   "cell_type": "code",
   "execution_count": 12,
   "id": "424e86ef",
   "metadata": {},
   "outputs": [
    {
     "name": "stdout",
     "output_type": "stream",
     "text": [
      "[[[1 2 3]\n",
      "  [4 5 6]\n",
      "  [7 8 9]]\n",
      "\n",
      " [[7 8 9]\n",
      "  [0 1 2]\n",
      "  [4 5 6]]]\n"
     ]
    }
   ],
   "source": [
    "import numpy as np\n",
    "\n",
    "arr = np.array([[[1,2,3],[4,5,6],[7,8,9]],[[7,8,9],[0,1,2],[4,5,6]]])\n",
    "\n",
    "print(arr)"
   ]
  },
  {
   "cell_type": "markdown",
   "id": "5173e07d",
   "metadata": {},
   "source": [
    "# Check Number of Dimensions?\n",
    "\n",
    "Numpy Arrays provides the ndim attribute that return an interger that tell us how many dimensions the array have."
   ]
  },
  {
   "cell_type": "code",
   "execution_count": 21,
   "id": "4cfdd4ae",
   "metadata": {},
   "outputs": [
    {
     "name": "stdout",
     "output_type": "stream",
     "text": [
      "0\n",
      "1\n",
      "2\n",
      "3\n"
     ]
    }
   ],
   "source": [
    "import numpy as np\n",
    "\n",
    "a=np.array(42)\n",
    "b=np.array([1,2,3,4,5,6])\n",
    "c=np.array([[1,3,6],[2,4,8]])\n",
    "d=np.array([[[1,2,3],[4,5,6],[7,8,9]],[[7,8,9],[0,1,2],[4,5,6]]])\n",
    "\n",
    "print(a.ndim)\n",
    "print(b.ndim)\n",
    "print(c.ndim)\n",
    "print(d.ndim)"
   ]
  },
  {
   "cell_type": "markdown",
   "id": "62d8c8d6",
   "metadata": {},
   "source": [
    "# Higher Dimensional Arrays\n",
    "\n",
    "An array can have any number of dimensions.\n",
    "\n",
    "When the array is created, you can define the number of dimensions by using the ndmin argument"
   ]
  },
  {
   "cell_type": "code",
   "execution_count": 12,
   "id": "41c36b27",
   "metadata": {},
   "outputs": [
    {
     "ename": "ValueError",
     "evalue": "ndmin bigger than allowable number of dimensions NPY_MAXDIMS (=32)",
     "output_type": "error",
     "traceback": [
      "\u001b[1;31m---------------------------------------------------------------------------\u001b[0m",
      "\u001b[1;31mValueError\u001b[0m                                Traceback (most recent call last)",
      "\u001b[1;32m<ipython-input-12-ab86c38126ee>\u001b[0m in \u001b[0;36m<module>\u001b[1;34m\u001b[0m\n\u001b[0;32m      3\u001b[0m \u001b[1;32mimport\u001b[0m \u001b[0mnumpy\u001b[0m \u001b[1;32mas\u001b[0m \u001b[0mnp\u001b[0m\u001b[1;33m\u001b[0m\u001b[1;33m\u001b[0m\u001b[0m\n\u001b[0;32m      4\u001b[0m \u001b[1;33m\u001b[0m\u001b[0m\n\u001b[1;32m----> 5\u001b[1;33m \u001b[0marr\u001b[0m \u001b[1;33m=\u001b[0m \u001b[0mnp\u001b[0m\u001b[1;33m.\u001b[0m\u001b[0marray\u001b[0m\u001b[1;33m(\u001b[0m\u001b[1;33m[\u001b[0m\u001b[1;36m1\u001b[0m\u001b[1;33m,\u001b[0m\u001b[1;36m2\u001b[0m\u001b[1;33m,\u001b[0m\u001b[1;36m3\u001b[0m\u001b[1;33m,\u001b[0m\u001b[1;36m4\u001b[0m\u001b[1;33m]\u001b[0m \u001b[1;33m,\u001b[0m \u001b[0mndmin\u001b[0m\u001b[1;33m=\u001b[0m\u001b[1;36m33\u001b[0m\u001b[1;33m)\u001b[0m\u001b[1;31m# the maximum number of ndmin allowes is =32\u001b[0m\u001b[1;33m\u001b[0m\u001b[1;33m\u001b[0m\u001b[0m\n\u001b[0m\u001b[0;32m      6\u001b[0m \u001b[1;33m\u001b[0m\u001b[0m\n\u001b[0;32m      7\u001b[0m \u001b[0mprint\u001b[0m\u001b[1;33m(\u001b[0m\u001b[0marr\u001b[0m\u001b[1;33m)\u001b[0m\u001b[1;33m\u001b[0m\u001b[1;33m\u001b[0m\u001b[0m\n",
      "\u001b[1;31mValueError\u001b[0m: ndmin bigger than allowable number of dimensions NPY_MAXDIMS (=32)"
     ]
    }
   ],
   "source": [
    "# Create an array with 6 dimensions and verfiy that it has 5 dimension:\n",
    "\n",
    "import numpy as np\n",
    "\n",
    "arr = np.array([1,2,3,4] , ndmin=32)# the maximum number of ndmin allowes is =32\n",
    "\n",
    "print(arr)\n",
    "\n",
    "print(\" no. of dimensions: \", arr.ndim)"
   ]
  },
  {
   "cell_type": "markdown",
   "id": "0806d695",
   "metadata": {},
   "source": [
    "# Numpy Indexing Array\n",
    "\n",
    "# access array elements \n",
    "\n",
    "Array indexing is the same as accessing an array element.\n",
    "\n",
    "you can access an array element by referring to its index number.\n",
    "\n",
    "The indexes in Numpy arrays start with 0,meaning that the first element has index 0,and the second has index 1 etc."
   ]
  },
  {
   "cell_type": "code",
   "execution_count": 25,
   "id": "e8786029",
   "metadata": {},
   "outputs": [
    {
     "name": "stdout",
     "output_type": "stream",
     "text": [
      "1\n",
      "2\n",
      "3\n",
      "4\n"
     ]
    }
   ],
   "source": [
    "# accessing the first element from the following array:\n",
    "\n",
    "import numpy as np\n",
    "\n",
    "arr = np.array([1,2,3,4,5])\n",
    "\n",
    "print(arr[0])\n",
    "print(arr[1])\n",
    "print(arr[2])\n",
    "print(arr[3])"
   ]
  },
  {
   "cell_type": "markdown",
   "id": "505c25ad",
   "metadata": {},
   "source": [
    "# Access 2-D Arrays\n",
    "\n",
    "to access elements from 2-D arrays we can use comma separated intergers represting the dimension and the index of the element\n",
    "\n",
    "Think of 2-D arrays like a table with rows and columns, where the dimension represents the row and the index represents the column"
   ]
  },
  {
   "cell_type": "code",
   "execution_count": 36,
   "id": "504a518b",
   "metadata": {},
   "outputs": [
    {
     "name": "stdout",
     "output_type": "stream",
     "text": [
      "1st row 2nd element and 2nd row 1st element:  2 4\n",
      "1st row 6th element and 2nd row 5th element:  6 8\n",
      "1st row 5th element and 2nd row 3rd element:  5 6\n"
     ]
    }
   ],
   "source": [
    "import numpy as np\n",
    "\n",
    "arr = np.array([[1,2,3,4,5,6],[4,5,6,7,8,9,]])\n",
    "\n",
    "print(\"1st row 2nd element and 2nd row 1st element: \",arr[0,1] , arr[1,0])\n",
    "print(\"1st row 6th element and 2nd row 5th element: \",arr[0,5] , arr[1,4])\n",
    "print(\"1st row 5th element and 2nd row 3rd element: \",arr[0,4] , arr[1,2])"
   ]
  },
  {
   "cell_type": "markdown",
   "id": "cf44b723",
   "metadata": {},
   "source": [
    "# 3 - D Arrays \n",
    "\n",
    "to element forrm 3-D arryes we cab use comma separated intgers representing the dimensional and the index of the elemnt."
   ]
  },
  {
   "cell_type": "code",
   "execution_count": 40,
   "id": "4d505ae5",
   "metadata": {},
   "outputs": [
    {
     "name": "stdout",
     "output_type": "stream",
     "text": [
      "1\n",
      "2\n",
      "3\n",
      "4\n",
      "5\n",
      "6\n",
      "7\n",
      "8\n",
      "9\n",
      "10\n",
      "11\n",
      "12\n"
     ]
    }
   ],
   "source": [
    "import numpy as np\n",
    "\n",
    "arr = np.array([[[1, 2, 3], [4, 5, 6]], [[7, 8, 9], [10, 11, 12]]])\n",
    "\n",
    "print(arr[0,0,0])\n",
    "print(arr[0,0,1])\n",
    "print(arr[0,0,2])\n",
    "print(arr[0,1,0])\n",
    "print(arr[0,1,1])\n",
    "print(arr[0,1,2])\n",
    "print(arr[1,0,0])\n",
    "print(arr[1,0,1])\n",
    "print(arr[1,0,2])\n",
    "print(arr[1,1,0])\n",
    "print(arr[1,1,1])\n",
    "print(arr[1,1,2])"
   ]
  },
  {
   "cell_type": "markdown",
   "id": "9823fb56",
   "metadata": {},
   "source": [
    "# negativing Indexing\n",
    "\n",
    "use negative indexing to access an array from the end"
   ]
  },
  {
   "cell_type": "code",
   "execution_count": 41,
   "id": "a39116bb",
   "metadata": {},
   "outputs": [
    {
     "name": "stdout",
     "output_type": "stream",
     "text": [
      "Last element from 2nd dim:  10\n"
     ]
    }
   ],
   "source": [
    "# printing the last element of 2nd dim\n",
    "\n",
    "import numpy as np\n",
    "\n",
    "arr = np.array([[1,2,3,4,5], [6,7,8,9,10]])\n",
    "\n",
    "print(\"Last element from 2nd dim: \",arr[1,-1])"
   ]
  },
  {
   "cell_type": "markdown",
   "id": "25787392",
   "metadata": {},
   "source": [
    "# NumPy Array Slicing\n",
    "\n",
    "# Slicing arrays\n",
    "\n",
    "slicing in python means taking elements from one given index to another given index.\n",
    "\n",
    "we pass slice instead of index like this[start:end]\n",
    "\n",
    "we can also define the step like this:[start:end:step]\n",
    "    \n",
    "If we don't pass start its considered 0\n",
    "\n",
    "If we don't pass end its considered length of array in that dimension\n",
    "\n",
    "if we don't pass step its considered 1"
   ]
  },
  {
   "cell_type": "code",
   "execution_count": 48,
   "id": "9dd3b258",
   "metadata": {},
   "outputs": [
    {
     "name": "stdout",
     "output_type": "stream",
     "text": [
      "[2 3 4 5]\n"
     ]
    }
   ],
   "source": [
    "import numpy as np\n",
    "\n",
    "arr = np.array([1,2,3,4,5,6,7])\n",
    "# slice elements from index  1 to index 5 from the following array\n",
    "print(arr[1:5])"
   ]
  },
  {
   "cell_type": "code",
   "execution_count": 45,
   "id": "8b0fa899",
   "metadata": {},
   "outputs": [
    {
     "name": "stdout",
     "output_type": "stream",
     "text": [
      "[5 6 7 8]\n"
     ]
    }
   ],
   "source": [
    "import numpy as np\n",
    "\n",
    "arr = np.array([1,2,3,4,5,6,7,8])\n",
    "# slice elements form index 4 to the end of the array\n",
    "print(arr[4:])"
   ]
  },
  {
   "cell_type": "code",
   "execution_count": 46,
   "id": "41aa65c6",
   "metadata": {},
   "outputs": [
    {
     "name": "stdout",
     "output_type": "stream",
     "text": [
      "[1 2 3 4]\n"
     ]
    }
   ],
   "source": [
    "import numpy as np\n",
    "\n",
    "arr = np.array([1,2,3,4,5,6,7,8,9])\n",
    "# slice element from the begining to index 4(not included):\n",
    "print(arr[:4])"
   ]
  },
  {
   "cell_type": "markdown",
   "id": "9d89a846",
   "metadata": {},
   "source": [
    "# negative silcing\n",
    "\n",
    "use the minus operator to refer to an index from the end:"
   ]
  },
  {
   "cell_type": "code",
   "execution_count": 47,
   "id": "55ca5497",
   "metadata": {},
   "outputs": [
    {
     "name": "stdout",
     "output_type": "stream",
     "text": [
      "[6 7]\n"
     ]
    }
   ],
   "source": [
    "# slicing from the index 3 from the end to index 1 from the end:\n",
    "\n",
    "import numpy as np\n",
    "\n",
    "arr = np.array([1,2,3,4,5,6,7,8])\n",
    "\n",
    "print(arr[-3:-1])"
   ]
  },
  {
   "cell_type": "markdown",
   "id": "b1329f73",
   "metadata": {},
   "source": [
    "# Step \n",
    "\n",
    "use the step value to determine the step of the slicing:\n",
    "    \n",
    "    "
   ]
  },
  {
   "cell_type": "code",
   "execution_count": 52,
   "id": "849360fa",
   "metadata": {},
   "outputs": [
    {
     "name": "stdout",
     "output_type": "stream",
     "text": [
      "[2 4]\n",
      "[2 5]\n",
      "[1 7]\n"
     ]
    }
   ],
   "source": [
    "import numpy as np\n",
    "\n",
    "arr = np.array([1,2,3,4,5,6,7,8])\n",
    "# Return every other element from\n",
    "print(arr[1:5:2])\n",
    "print(arr[1:5:3])\n",
    "print(arr[0:8:6])"
   ]
  },
  {
   "cell_type": "code",
   "execution_count": 55,
   "id": "6eabb7a9",
   "metadata": {},
   "outputs": [
    {
     "name": "stdout",
     "output_type": "stream",
     "text": [
      "[1 3 5 7]\n",
      "[1 5]\n",
      "[1 4 7]\n"
     ]
    }
   ],
   "source": [
    "import numpy as np\n",
    "\n",
    "arr = np.array([1,2,3,4,5,6,7,8])\n",
    "\n",
    "print(arr[::2])\n",
    "print(arr[::4])\n",
    "print(arr[::3])"
   ]
  },
  {
   "cell_type": "code",
   "execution_count": 57,
   "id": "10943288",
   "metadata": {},
   "outputs": [
    {
     "name": "stdout",
     "output_type": "stream",
     "text": [
      "[3 4 5]\n",
      "[10 11 12]\n"
     ]
    }
   ],
   "source": [
    "# Slicing 2-D arrays\n",
    "\n",
    "import numpy as np\n",
    "\n",
    "arr = np.array([[1,2,3,4,5,6],[7,8,9,10,11,12]])\n",
    "\n",
    "print(arr[0,2:5])\n",
    "print(arr[1,3:])"
   ]
  },
  {
   "cell_type": "code",
   "execution_count": 60,
   "id": "a1a735ba",
   "metadata": {},
   "outputs": [
    {
     "name": "stdout",
     "output_type": "stream",
     "text": [
      "[3 9]\n",
      "[ 6 12]\n"
     ]
    }
   ],
   "source": [
    "# from both elements return index 2:\n",
    "\n",
    "import numpy as np\n",
    "\n",
    "arr = np.array([[1,2,3,4,5,6],[7,8,9,10,11,12]])\n",
    "\n",
    "print(arr[0:2,2])\n",
    "\n",
    "# return index number 5\n",
    "print(arr[0:5 ,5])"
   ]
  },
  {
   "cell_type": "code",
   "execution_count": 63,
   "id": "07efcc0c",
   "metadata": {},
   "outputs": [
    {
     "name": "stdout",
     "output_type": "stream",
     "text": [
      "[[ 2  3  4]\n",
      " [ 9 10 11]]\n",
      "[[ 2  3  4  5  6]\n",
      " [ 9 10 11 12 13]]\n"
     ]
    }
   ],
   "source": [
    "# from both element slice index 1 to index4 this will return a 2-d array\n",
    "\n",
    "import numpy as np\n",
    "\n",
    "arr =np.array([[1,2,3,4,5,6,7,],[8,9,10,11,12,13,14]])\n",
    "\n",
    "print(arr[0:2,1:4])\n",
    "print(arr[0:5,1:6])"
   ]
  },
  {
   "cell_type": "code",
   "execution_count": 64,
   "id": "3ffd4572",
   "metadata": {},
   "outputs": [
    {
     "name": "stdout",
     "output_type": "stream",
     "text": [
      "[]\n"
     ]
    }
   ],
   "source": [
    "# accessing 3-d element\n",
    "import numpy as np\n",
    "\n",
    "\n",
    "arr = np.array([[[1, 2, 3], [4, 5, 6]], [[7, 8, 9], [10, 11, 12]]])\n",
    "\n",
    "print(arr[0:0:1,0:1:1])"
   ]
  },
  {
   "cell_type": "markdown",
   "id": "e8d6d526",
   "metadata": {},
   "source": [
    "# Numpy Data Types \n",
    "\n",
    "# Data Types in python\n",
    "\n",
    "By default pyhton have these data types:\n",
    "    \n",
    "___Strings___ - Used to represent text data, the text is given under quote marks. e.g. \"ABCD\"\n",
    "\n",
    "___integer___ - Used to represent integer numbers. e.g. -1,-2,-3\n",
    "\n",
    "___float___ - used to represent real numbers. eg. 1.2,42.42\n",
    "\n",
    "___boolean___ - used to represent True or False.\n",
    "\n",
    "___complex___ - used to represent complex numbers. eg.1.0 + 2.0j, 1.5 +2.5j\n",
    "\n",
    "\n",
    "# Data Types in Numpy\n",
    "\n",
    "Numpy has some extra data types, and refer to data types with one character, like i for intergers u for unsigned intergers etc.\n",
    "\n",
    "Below is a list of all data types in numpy and the characters used to represent them.\n",
    "\n",
    "___i___ - integer.\n",
    "\n",
    "___b___ - boolean\n",
    "\n",
    "___u___ - unsigned integer\n",
    "\n",
    "___f___ - float\n",
    "\n",
    "___c___ - complex float\n",
    "\n",
    "___m___ - timedate\n",
    "\n",
    "___M___ - datetime\n",
    "\n",
    "___O___ - object\n",
    "\n",
    "___S___ - String\n",
    "\n",
    "___U___ - unicode string\n",
    "\n",
    "___V___ - fixed chunk of memory for other type(void)\n",
    "\n",
    "# Checking the Data type of an Array\n",
    "\n",
    "The Numpy array object has a property called dtype that returns the data type of the array:"
   ]
  },
  {
   "cell_type": "code",
   "execution_count": 70,
   "id": "7487ef52",
   "metadata": {},
   "outputs": [
    {
     "name": "stdout",
     "output_type": "stream",
     "text": [
      "int32\n",
      "<U6\n"
     ]
    }
   ],
   "source": [
    "# get the datatype of an array object:\n",
    "\n",
    "import numpy  as  np\n",
    "\n",
    "arr = np.array([1,2,3,4])\n",
    "\n",
    "print(arr.dtype)\n",
    "\n",
    "# the datatype array containing strings:\n",
    "\n",
    "import numpy as np\n",
    "\n",
    "a = np.array(['apple', 'banana', 'cherry'])\n",
    "\n",
    "print(a.dtype)\n"
   ]
  },
  {
   "cell_type": "markdown",
   "id": "1f9b0b27",
   "metadata": {},
   "source": [
    "# Creating Arrays With a Defined Data Type\n",
    "\n",
    "WE use the array() fucntion to create arrays, this function can take an optional argument: dtype that allows us to defined the expected data type of the array elements"
   ]
  },
  {
   "cell_type": "code",
   "execution_count": 77,
   "id": "8f8fad16",
   "metadata": {},
   "outputs": [
    {
     "name": "stdout",
     "output_type": "stream",
     "text": [
      "int32\n"
     ]
    }
   ],
   "source": [
    "import numpy as np\n",
    "\n",
    "a = np.array([1,2,3,4,5] ,dtype='i')# S5 is defind size of the string\n",
    "\n",
    "\n",
    "print(a.dtype)"
   ]
  },
  {
   "cell_type": "code",
   "execution_count": 13,
   "id": "4e96e296",
   "metadata": {},
   "outputs": [
    {
     "name": "stdout",
     "output_type": "stream",
     "text": [
      "[b'1' b'2' b'3' b'4' b'5']\n"
     ]
    }
   ],
   "source": [
    "import numpy as np\n",
    "\n",
    "a = np.array([1,2,3,4,5] ,dtype='S')# S5 is defind size of the string\n",
    "\n",
    "\n",
    "print(a)"
   ]
  },
  {
   "cell_type": "code",
   "execution_count": 79,
   "id": "d128a190",
   "metadata": {},
   "outputs": [
    {
     "name": "stdout",
     "output_type": "stream",
     "text": [
      "[1. 2. 3. 4. 5.]\n",
      "float32\n"
     ]
    }
   ],
   "source": [
    "import numpy as np\n",
    "\n",
    "a = np.array([1,2,3,4,5] ,dtype='f')# S5 is defind size of the string\n",
    "\n",
    "print(a)\n",
    "print(a.dtype)"
   ]
  },
  {
   "cell_type": "markdown",
   "id": "726cfb01",
   "metadata": {},
   "source": [
    "# What if a value can not be converted?\n",
    "\n",
    "If a type is given in which elements can't be casted then Numpy will raise a valueError"
   ]
  },
  {
   "cell_type": "code",
   "execution_count": 84,
   "id": "90664314",
   "metadata": {},
   "outputs": [],
   "source": [
    "import numpy as np\n",
    "\n",
    "#arr = np.array([\"a\",\"b\",\"c\"] dtype='i')\n",
    "\n",
    "#print(arr)\n",
    "#print(arr.dtype)"
   ]
  },
  {
   "cell_type": "markdown",
   "id": "d9a6a80a",
   "metadata": {},
   "source": [
    "# Converting Data Type on Existing Arrays\n",
    "\n",
    "The best way to change the data type of an existing array, is to make a copy of the array with the astype()\n",
    "\n",
    "The astype() function creates a copy of the array, and allows you to specify the data type as a parameter.\n",
    "\n",
    "The data type can be specified using  a string like 'f' for float 'i' for integer etc. or you can use the data type directly like float for float and int for integer"
   ]
  },
  {
   "cell_type": "code",
   "execution_count": 93,
   "id": "fc0e6315",
   "metadata": {},
   "outputs": [
    {
     "name": "stdout",
     "output_type": "stream",
     "text": [
      "float64\n",
      "[1 2 3]\n",
      "int32\n"
     ]
    }
   ],
   "source": [
    "import numpy as np\n",
    "\n",
    "arr = np.array([1.1,2.1,3.1])\n",
    "\n",
    "\n",
    "narr = arr.astype('int')\n",
    "print(arr.dtype)\n",
    "print(narr)\n",
    "print(narr.dtype)"
   ]
  },
  {
   "cell_type": "code",
   "execution_count": 94,
   "id": "6ca062a6",
   "metadata": {},
   "outputs": [
    {
     "name": "stdout",
     "output_type": "stream",
     "text": [
      "[1. 0. 7.]\n",
      "float64\n"
     ]
    }
   ],
   "source": [
    "import numpy as np\n",
    "\n",
    "arr = np.array([1, 0, 7])\n",
    "\n",
    "newarr = arr.astype(float)\n",
    "\n",
    "print(newarr)\n",
    "print(newarr.dtype)\n"
   ]
  },
  {
   "cell_type": "code",
   "execution_count": 95,
   "id": "08e6059b",
   "metadata": {},
   "outputs": [
    {
     "name": "stdout",
     "output_type": "stream",
     "text": [
      "[ True False  True  True  True]\n",
      "bool\n"
     ]
    }
   ],
   "source": [
    "import numpy as np\n",
    "\n",
    "arr = np.array([1, 0, 3,4,7])\n",
    "\n",
    "newarr = arr.astype(bool)\n",
    "\n",
    "print(newarr)\n",
    "print(newarr.dtype)\n"
   ]
  },
  {
   "cell_type": "markdown",
   "id": "5b27be97",
   "metadata": {},
   "source": [
    "# NumPy Array Copy vs View\n",
    "\n",
    "# The difference Between copy and view\n",
    "\n",
    "the main difference between a copy and a view of an array is that the copy is a new array and the view is just a view of the original array.\n",
    "\n",
    "The copy owns the data and any changes made to the copy will not affect original array and any changes made to the original array will not affect the copy.\n",
    "\n",
    "The view does not own the data and any changes made to the view will affect the original array, and any changes made to the original array will affect the view\n",
    "\n",
    "# Copy"
   ]
  },
  {
   "cell_type": "code",
   "execution_count": 100,
   "id": "6806bbbb",
   "metadata": {},
   "outputs": [
    {
     "name": "stdout",
     "output_type": "stream",
     "text": [
      "Original array:  [  1 200   3   4   5   6   7]\n",
      "Copy of original array:  [1 2 3 4 5 6 7]\n"
     ]
    }
   ],
   "source": [
    "# Make a copy and make change in original array,and display both arrays:\n",
    "\n",
    "import numpy as np\n",
    "\n",
    "x = np.array([1,2,3,4,5,6,7])\n",
    "y = x.copy()\n",
    "x[1] = 200\n",
    "print(\"Original array: \",x)\n",
    "print(\"Copy of original array: \",y)\n",
    "\n",
    "#copy should not affect by the changes made to the original array."
   ]
  },
  {
   "cell_type": "code",
   "execution_count": 101,
   "id": "347cd28e",
   "metadata": {},
   "outputs": [
    {
     "name": "stdout",
     "output_type": "stream",
     "text": [
      "['Elango' 'Mani' 'Harish' 'Sheyam']\n",
      "['Elango' 'Rohith' 'Harish' 'Sheyam']\n"
     ]
    }
   ],
   "source": [
    "import numpy as np\n",
    "\n",
    "m = np.array([\"Elango\",\"Rohith\",\"Harish\",\"Sheyam\"])\n",
    "n = m.copy()\n",
    "m[1] = \"Mani\"\n",
    "print(m)\n",
    "print(n)"
   ]
  },
  {
   "cell_type": "markdown",
   "id": "efcf91d3",
   "metadata": {},
   "source": [
    "# View "
   ]
  },
  {
   "cell_type": "code",
   "execution_count": 102,
   "id": "edd04a52",
   "metadata": {},
   "outputs": [
    {
     "name": "stdout",
     "output_type": "stream",
     "text": [
      "[1 2 3 4 5]\n",
      "[1 2 3 4 5]\n"
     ]
    }
   ],
   "source": [
    "# Make a view change the original array, and display both arrays:\n",
    "\n",
    "import numpy as np\n",
    "\n",
    "x = np.array([1,2,3,4,56,])\n",
    "y = x.view()\n",
    "x[4] = 5\n",
    "print(x)\n",
    "print(y)\n",
    "\n",
    "# the view should be affected by the changes made to the original array."
   ]
  },
  {
   "cell_type": "markdown",
   "id": "232627fb",
   "metadata": {},
   "source": [
    "# Check if Array Owns its Data \n",
    "\n",
    "As mentioned above,copies owns the data and views does not own the data,but how can we check this?\n",
    "\n",
    "Every Numpy array has the attributes base that returns None if the array owns the data.\n",
    "\n",
    "Otherwise, the base attribute refers to the original object."
   ]
  },
  {
   "cell_type": "code",
   "execution_count": 103,
   "id": "7537e90e",
   "metadata": {},
   "outputs": [
    {
     "name": "stdout",
     "output_type": "stream",
     "text": [
      "None\n",
      "[1 2 3 4 5]\n"
     ]
    }
   ],
   "source": [
    "import numpy as np\n",
    "\n",
    "arr = np.array([1, 2, 3, 4, 5])\n",
    "\n",
    "x = arr.copy()\n",
    "y = arr.view()\n",
    "\n",
    "print(x.base)\n",
    "print(y.base)\n",
    "\n",
    "#copy returns none\n",
    "#views returns the original array"
   ]
  },
  {
   "cell_type": "code",
   "execution_count": 107,
   "id": "90e8ba37",
   "metadata": {},
   "outputs": [
    {
     "name": "stdout",
     "output_type": "stream",
     "text": [
      "None\n",
      "[1 2 3 4 5 7]\n"
     ]
    }
   ],
   "source": [
    "import numpy as np\n",
    "\n",
    "arr = np.array([1,2,3,4,5,6])\n",
    "\n",
    "x=arr.copy()\n",
    "y=arr.view()\n",
    "arr[5]=7\n",
    "\n",
    "print(x.base)\n",
    "print(y.base)"
   ]
  },
  {
   "cell_type": "markdown",
   "id": "9014796b",
   "metadata": {},
   "source": [
    "# Numpy Arrays Shape\n",
    "\n",
    "# Shape of an Array\n",
    "\n",
    "the shape of an array is the number of element in each dimension.\n",
    "\n",
    "# Get the shape of an Array\n",
    "\n",
    "Numpy arrays have an attribute called shape that return a tuple with each index having number of corresponding elements.\n",
    "\n"
   ]
  },
  {
   "cell_type": "code",
   "execution_count": 108,
   "id": "b5d78370",
   "metadata": {},
   "outputs": [
    {
     "name": "stdout",
     "output_type": "stream",
     "text": [
      "(2, 4)\n"
     ]
    }
   ],
   "source": [
    "import numpy as np\n",
    "\n",
    "arr = np.array([[1, 2, 3, 4], \n",
    "                [5, 6, 7, 8]])\n",
    "\n",
    "print(arr.shape)\n"
   ]
  },
  {
   "cell_type": "code",
   "execution_count": 14,
   "id": "b02fb187",
   "metadata": {},
   "outputs": [
    {
     "name": "stdout",
     "output_type": "stream",
     "text": [
      "(1, 3, 4)\n",
      "[[[ 1  2  3  4]\n",
      "  [ 5  6  7  8]\n",
      "  [ 9 10 11 12]]]\n"
     ]
    }
   ],
   "source": [
    "import numpy as np\n",
    "\n",
    "arr = np.array([[[1, 2, 3, 4], [5, 6, 7, 8],[9,10,11,12]]])\n",
    "\n",
    "print(arr.shape)\n",
    "print(arr)\n"
   ]
  },
  {
   "cell_type": "code",
   "execution_count": 110,
   "id": "a4b4563f",
   "metadata": {},
   "outputs": [
    {
     "name": "stdout",
     "output_type": "stream",
     "text": [
      "[[[[[1 2 3 4]]]]]\n",
      "shape of array : (1, 1, 1, 1, 4)\n"
     ]
    }
   ],
   "source": [
    "# Create an array with 5 dimensions using ndmin using a vector with values 1,2,3,4, and verify that last dimension has 2 elements and the second has 4\n",
    "\n",
    "import numpy as np\n",
    "\n",
    "arr = np.array([1, 2, 3, 4], ndmin=5)\n",
    "\n",
    "print(arr)\n",
    "print('shape of array :', arr.shape)"
   ]
  },
  {
   "cell_type": "markdown",
   "id": "af9e7d91",
   "metadata": {},
   "source": [
    "# What does the shape tuple represent?\n",
    "\n",
    "Integers at every index tells about the number of elements tha corresponding has.\n",
    "\n",
    "In the example above at index-4 we have value  4 so we can say that 5th (4+1 th)dimension has 4 elements."
   ]
  },
  {
   "cell_type": "markdown",
   "id": "b4de8bce",
   "metadata": {},
   "source": [
    "# Numpy array reshaping\n",
    "\n",
    "# Reshaping arrays \n",
    "\n",
    "Reshaping means changing the shape of an array\n",
    "\n",
    "The shape of an array is the number of elements in each dimension\n",
    "\n",
    "By reshaping we can add or remove dimensions or change number of elements in each dimension.\n",
    "\n",
    "# reshape from 1-D to 2-D"
   ]
  },
  {
   "cell_type": "code",
   "execution_count": 121,
   "id": "6cf9d117",
   "metadata": {},
   "outputs": [
    {
     "name": "stdout",
     "output_type": "stream",
     "text": [
      "[[ 1  2  3  4]\n",
      " [ 5  6  7  8]\n",
      " [ 9 10 11 12]]\n"
     ]
    }
   ],
   "source": [
    "import numpy as np\n",
    "\n",
    "arr = np.array([1,2,3,4,5,6,7,8,9,10,11,12])\n",
    "\n",
    "x = arr.reshape(3,4)\n",
    "print(x)"
   ]
  },
  {
   "cell_type": "code",
   "execution_count": 11,
   "id": "dc890d8f",
   "metadata": {},
   "outputs": [
    {
     "name": "stdout",
     "output_type": "stream",
     "text": [
      "[[[ 1  2  3]\n",
      "  [ 4  5  6]\n",
      "  [ 7  8  9]\n",
      "  [10 11 12]]\n",
      "\n",
      " [[13 14 15]\n",
      "  [16 17 18]\n",
      "  [19 20 21]\n",
      "  [22 23 24]]]\n"
     ]
    }
   ],
   "source": [
    "# Reshape from 1-D to 3-D\n",
    "\n",
    "import numpy as np\n",
    "\n",
    "arr = np.array([1,2,3,4,5,6,7,8,9,10,11,12,13,14,15,16,17,18,19,20,21,22,23,24])\n",
    "\n",
    "x = arr.reshape(2,4,3)\n",
    "\n",
    "print(x)"
   ]
  },
  {
   "cell_type": "code",
   "execution_count": null,
   "id": "e919d456",
   "metadata": {},
   "outputs": [],
   "source": []
  },
  {
   "cell_type": "code",
   "execution_count": null,
   "id": "eff8fc0a",
   "metadata": {},
   "outputs": [],
   "source": []
  }
 ],
 "metadata": {
  "kernelspec": {
   "display_name": "Python 3",
   "language": "python",
   "name": "python3"
  },
  "language_info": {
   "codemirror_mode": {
    "name": "ipython",
    "version": 3
   },
   "file_extension": ".py",
   "mimetype": "text/x-python",
   "name": "python",
   "nbconvert_exporter": "python",
   "pygments_lexer": "ipython3",
   "version": "3.8.8"
  }
 },
 "nbformat": 4,
 "nbformat_minor": 5
}
