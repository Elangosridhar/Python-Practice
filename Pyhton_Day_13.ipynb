{
 "cells": [
  {
   "cell_type": "markdown",
   "id": "db70f8f2",
   "metadata": {},
   "source": [
    "# Rounding Decimals\n",
    "\n",
    "There are primarily five ways of rounding off decimals in Numpy:\n",
    "\n",
    "truncation\n",
    "\n",
    "fix\n",
    "\n",
    "rounding\n",
    "\n",
    "floor \n",
    "\n",
    "ceil\n",
    "\n",
    "# Truncation\n",
    "\n",
    "Remove the decimals and return the float number closest to Zero. Use the trunc() and fix() functions.\n"
   ]
  },
  {
   "cell_type": "code",
   "execution_count": 1,
   "id": "1464ce98",
   "metadata": {},
   "outputs": [
    {
     "name": "stdout",
     "output_type": "stream",
     "text": [
      "[-3.  3.]\n"
     ]
    }
   ],
   "source": [
    "#Truncate elements of following array:\n",
    "\n",
    "import numpy as np\n",
    "\n",
    "arr = np.trunc([-3.1666, 3.6667])\n",
    "\n",
    "print(arr)"
   ]
  },
  {
   "cell_type": "code",
   "execution_count": 2,
   "id": "a6723981",
   "metadata": {},
   "outputs": [
    {
     "name": "stdout",
     "output_type": "stream",
     "text": [
      "[-6.  6.]\n"
     ]
    }
   ],
   "source": [
    "# same example using fix():\n",
    "\n",
    "import numpy as np\n",
    "\n",
    "arr = np.fix([-6.7879,6.9999 ])\n",
    "\n",
    "print(arr)"
   ]
  },
  {
   "cell_type": "markdown",
   "id": "b95f0725",
   "metadata": {},
   "source": [
    "# Rounding \n",
    "\n",
    "The around() function increments preceding digit or decimal by 1 if >= 5 else do nothing.\n",
    "\n",
    "E.g. round off to 1 decimal point, 3.166666 is 3.2"
   ]
  },
  {
   "cell_type": "code",
   "execution_count": 6,
   "id": "b600d7bf",
   "metadata": {},
   "outputs": [
    {
     "name": "stdout",
     "output_type": "stream",
     "text": [
      "[4. 2.]\n"
     ]
    }
   ],
   "source": [
    "# Round off 3.16666 to 2 decimal places:\n",
    "\n",
    "import numpy as np\n",
    "\n",
    "arr = np.around([3.56666, 2.16666])\n",
    "\n",
    "print(arr)"
   ]
  },
  {
   "cell_type": "code",
   "execution_count": 8,
   "id": "e0d69c4d",
   "metadata": {},
   "outputs": [
    {
     "name": "stdout",
     "output_type": "stream",
     "text": [
      "[3. 3.]\n"
     ]
    }
   ],
   "source": [
    "import numpy as np\n",
    "\n",
    "arr = np.around([3.16666, 2.56666])\n",
    "\n",
    "print(arr)"
   ]
  },
  {
   "cell_type": "markdown",
   "id": "454b8ff7",
   "metadata": {},
   "source": [
    "# floor\n",
    "\n",
    "The floor() function rounds off decimal to nearest lower number\n",
    "\n",
    "E,g, floor 3.166 is 3."
   ]
  },
  {
   "cell_type": "code",
   "execution_count": 9,
   "id": "0859f045",
   "metadata": {},
   "outputs": [
    {
     "name": "stdout",
     "output_type": "stream",
     "text": [
      "[-4.0000e+00  3.6667e+04]\n"
     ]
    }
   ],
   "source": [
    "# floor element of following array:\n",
    "\n",
    "import numpy as np\n",
    "\n",
    "arr = np.floor([-3.1666, 36667])\n",
    "\n",
    "print(arr)"
   ]
  },
  {
   "cell_type": "markdown",
   "id": "35dd3bdf",
   "metadata": {},
   "source": [
    "# celi \n",
    "\n",
    "The celi() function rounds of nearest upper integers.\n",
    "\n",
    "E.g. ceil of 3.166 is 4."
   ]
  },
  {
   "cell_type": "code",
   "execution_count": 10,
   "id": "a4426302",
   "metadata": {},
   "outputs": [
    {
     "name": "stdout",
     "output_type": "stream",
     "text": [
      "[-3.  7.]\n"
     ]
    }
   ],
   "source": [
    "# ceil the elements of following array:\n",
    "\n",
    "import numpy as np\n",
    "\n",
    "arr = np.ceil([-3.12345 , 6.1000])\n",
    "\n",
    "print(arr)"
   ]
  },
  {
   "cell_type": "markdown",
   "id": "747e28ba",
   "metadata": {},
   "source": [
    "# Numpy Logs \n",
    "\n",
    "# Logs\n",
    "\n",
    "numpy provides functions to perform log at the base 2, e and 10\n",
    "\n",
    "we will also explore how we can take log for any base by creating a custom ufunc.\n",
    "\n",
    "All of the log functions will place -inf or inf in the elements if the log can not be computed.\n",
    "\n",
    "# Log at Base 2\n",
    "\n",
    "use the log2() function to perform log at the base 2."
   ]
  },
  {
   "cell_type": "code",
   "execution_count": 15,
   "id": "fef798d3",
   "metadata": {},
   "outputs": [
    {
     "name": "stdout",
     "output_type": "stream",
     "text": [
      "[1.         1.5849625  2.         2.32192809 2.5849625  2.80735492\n",
      " 3.         3.169925  ]\n"
     ]
    }
   ],
   "source": [
    "import numpy as np\n",
    "\n",
    "arr = np.arange(2,10)\n",
    "\n",
    "print(np.log2(arr))"
   ]
  },
  {
   "cell_type": "markdown",
   "id": "855a03a3",
   "metadata": {},
   "source": [
    "# Log at Base 10 \n",
    "\n",
    "Use the log10() function to perform log at the  base10."
   ]
  },
  {
   "cell_type": "code",
   "execution_count": 16,
   "id": "67c03572",
   "metadata": {},
   "outputs": [
    {
     "name": "stdout",
     "output_type": "stream",
     "text": [
      "[0.         0.30103    0.47712125 0.60205999 0.69897    0.77815125\n",
      " 0.84509804 0.90308999 0.95424251]\n"
     ]
    }
   ],
   "source": [
    "import numpy as np\n",
    "\n",
    "arr = np.arange(1, 10)\n",
    "\n",
    "print(np.log10(arr))\n"
   ]
  },
  {
   "cell_type": "code",
   "execution_count": 17,
   "id": "1eb1b9a5",
   "metadata": {},
   "outputs": [
    {
     "name": "stdout",
     "output_type": "stream",
     "text": [
      "[0.30103    0.47712125 0.60205999 0.69897    0.77815125 0.84509804\n",
      " 0.90308999 0.95424251]\n"
     ]
    }
   ],
   "source": [
    "import numpy as np\n",
    "\n",
    "arr = np.arange(2, 10)\n",
    "\n",
    "print(np.log10(arr))\n"
   ]
  },
  {
   "cell_type": "markdown",
   "id": "75d4052c",
   "metadata": {},
   "source": [
    "# Natural Log, or Log at Base e\n",
    "\n",
    "Use the log() function to perform log at the base e."
   ]
  },
  {
   "cell_type": "code",
   "execution_count": 18,
   "id": "c00d30ad",
   "metadata": {},
   "outputs": [
    {
     "name": "stdout",
     "output_type": "stream",
     "text": [
      "[0.         0.69314718 1.09861229 1.38629436 1.60943791 1.79175947\n",
      " 1.94591015 2.07944154 2.19722458]\n"
     ]
    }
   ],
   "source": [
    "# Find log at base e of all element of following array:\n",
    "\n",
    "import numpy as np\n",
    "\n",
    "arr = np.arange(1,10)\n",
    "\n",
    "print(np.log(arr))"
   ]
  },
  {
   "cell_type": "markdown",
   "id": "392bb236",
   "metadata": {},
   "source": [
    "# Log at any Base\n",
    "\n",
    "Numpy does not provide any function to take log at any base, so we can use the frompyfunc() function along with inbuilt function math.log() with two input parameters and one output parameter:"
   ]
  },
  {
   "cell_type": "code",
   "execution_count": 19,
   "id": "be17279e",
   "metadata": {},
   "outputs": [
    {
     "name": "stdout",
     "output_type": "stream",
     "text": [
      "1.7005483074552052\n"
     ]
    }
   ],
   "source": [
    "from math import log \n",
    "import numpy as np\n",
    "\n",
    "nplog = np.frompyfunc(log,2,1)\n",
    "\n",
    "print(nplog(100,15))"
   ]
  },
  {
   "cell_type": "code",
   "execution_count": 20,
   "id": "a4e5eee5",
   "metadata": {},
   "outputs": [
    {
     "name": "stdout",
     "output_type": "stream",
     "text": [
      "2.5508224611828076\n"
     ]
    }
   ],
   "source": [
    "from math import log \n",
    "import numpy as np\n",
    "\n",
    "nplog = np.frompyfunc(log,2,1)\n",
    "\n",
    "print(nplog(1000,15))"
   ]
  },
  {
   "cell_type": "markdown",
   "id": "e0671d68",
   "metadata": {},
   "source": [
    "# Numpy summations \n",
    "\n",
    "# summations\n",
    "\n",
    "What is the difference between summation and addition\n",
    "\n",
    "Addition is done between two arguments whereas summation happens over n elements."
   ]
  },
  {
   "cell_type": "code",
   "execution_count": 21,
   "id": "b21ef440",
   "metadata": {},
   "outputs": [
    {
     "name": "stdout",
     "output_type": "stream",
     "text": [
      "[ 7  9 11]\n"
     ]
    }
   ],
   "source": [
    "# Add the values in arr1 to the values in arr2:\n",
    "\n",
    "import numpy as np\n",
    "\n",
    "arr1 = np.array([2,3,4])\n",
    "arr2 = np.array([5,6,7])\n",
    "\n",
    "newarr = np.add(arr1,arr2)\n",
    "\n",
    "print(newarr)"
   ]
  },
  {
   "cell_type": "code",
   "execution_count": 22,
   "id": "bdb0c55f",
   "metadata": {},
   "outputs": [
    {
     "name": "stdout",
     "output_type": "stream",
     "text": [
      "39\n"
     ]
    }
   ],
   "source": [
    "# sum the values in arr1 and the values in arr2:\n",
    "\n",
    "import numpy as np\n",
    "\n",
    "arr1 = np.array([4,5,6])\n",
    "arr2 = np.array([7,8,9])\n",
    "\n",
    "newarr = np.sum([arr1,arr2])\n",
    "\n",
    "print(newarr)\n"
   ]
  },
  {
   "cell_type": "markdown",
   "id": "bb02974a",
   "metadata": {},
   "source": [
    "# summation over an Axis \n",
    "\n",
    "If you specify axis = 1, Numpy will sum the  number in each array."
   ]
  },
  {
   "cell_type": "code",
   "execution_count": 23,
   "id": "1b6f2de0",
   "metadata": {},
   "outputs": [
    {
     "name": "stdout",
     "output_type": "stream",
     "text": [
      "[ 9 18]\n"
     ]
    }
   ],
   "source": [
    "#perform summation in the following array over 1st axis:\n",
    "\n",
    "import numpy as np\n",
    "\n",
    "arr1 = np.array([2,3,4])\n",
    "arr2 = np.array([5,6,7])\n",
    "\n",
    "newarr = np.sum([arr1,arr2], axis=1)\n",
    "\n",
    "print(newarr)"
   ]
  },
  {
   "cell_type": "code",
   "execution_count": 24,
   "id": "34f4b21c",
   "metadata": {},
   "outputs": [
    {
     "name": "stdout",
     "output_type": "stream",
     "text": [
      "[15 15]\n"
     ]
    }
   ],
   "source": [
    "import numpy as np\n",
    "\n",
    "arr1 = np.array([2,3,10])\n",
    "arr2 = np.array([5,6,4])\n",
    "\n",
    "newarr = np.sum([arr1,arr2], axis=1)\n",
    "\n",
    "print(newarr)"
   ]
  },
  {
   "cell_type": "markdown",
   "id": "c9a927e2",
   "metadata": {},
   "source": [
    "# Cummulative Sum\n",
    "\n",
    "Cummulative sum means partially adding the elements in array.\n",
    "\n",
    "E.g The partial sum of [1,2,3,4] would be [1,1+2,1+2+3] = [1,3,6].\n",
    "\n",
    "perfor partial sum with the cumsum() function."
   ]
  },
  {
   "cell_type": "code",
   "execution_count": 25,
   "id": "9976e600",
   "metadata": {},
   "outputs": [
    {
     "name": "stdout",
     "output_type": "stream",
     "text": [
      "[ 5 12 20]\n"
     ]
    }
   ],
   "source": [
    "# perform cummulative summation in the following array:\n",
    "\n",
    "import numpy as np\n",
    "\n",
    "arr = np.array([5,7,8])\n",
    "\n",
    "new = np.cumsum(arr)\n",
    "\n",
    "print(new)\n"
   ]
  },
  {
   "cell_type": "markdown",
   "id": "44477e60",
   "metadata": {},
   "source": [
    "# Numpy Products\n",
    "\n",
    "# Products\n",
    "\n",
    "To find the product of the elements in an array, use the prod() function."
   ]
  },
  {
   "cell_type": "code",
   "execution_count": 26,
   "id": "2306a351",
   "metadata": {},
   "outputs": [
    {
     "name": "stdout",
     "output_type": "stream",
     "text": [
      "24\n"
     ]
    }
   ],
   "source": [
    "# find the product of the element of this array:\n",
    "\n",
    "import numpy as np\n",
    "\n",
    "arr = np.array([1,2,3,4])\n",
    "\n",
    "x = np.prod(arr)\n",
    "\n",
    "print(x)"
   ]
  },
  {
   "cell_type": "code",
   "execution_count": 27,
   "id": "8da6caf0",
   "metadata": {},
   "outputs": [
    {
     "name": "stdout",
     "output_type": "stream",
     "text": [
      "3628800\n"
     ]
    }
   ],
   "source": [
    "#find the product of the elements of two arrays:\n",
    "\n",
    "import numpy as np\n",
    "\n",
    "arr1 = np.array([2,5,6,7,9])\n",
    "arr2 = np.array([1,3,4,8,10])\n",
    "\n",
    "new = np.prod([arr1,arr2])\n",
    "\n",
    "print(new)"
   ]
  },
  {
   "cell_type": "markdown",
   "id": "42b19623",
   "metadata": {},
   "source": [
    "# Product Over an Axis\n",
    "If you specify axis=1, NumPy will return the product of each array.\n",
    "\n"
   ]
  },
  {
   "cell_type": "code",
   "execution_count": 28,
   "id": "c25786ac",
   "metadata": {},
   "outputs": [
    {
     "name": "stdout",
     "output_type": "stream",
     "text": [
      "[3780  960]\n"
     ]
    }
   ],
   "source": [
    "import numpy as np\n",
    "\n",
    "arr1 = np.array([2,5,6,7,9])\n",
    "arr2 = np.array([1,3,4,8,10])\n",
    "\n",
    "newarr = np.prod([arr1, arr2], axis=1)\n",
    "\n",
    "print(newarr)\n"
   ]
  },
  {
   "cell_type": "markdown",
   "id": "4a6c12f1",
   "metadata": {},
   "source": [
    "# Cummulative product \n",
    "\n",
    "Cummulative product means taking the product partially.\n",
    "\n",
    "E.g. The partial product of [1,2,3,4] is [1,1*2,1*2*3,1*2*3*4] = [1,2,6,24]\n",
    "\n",
    "perform partial sum with the cumprod() function."
   ]
  },
  {
   "cell_type": "code",
   "execution_count": 29,
   "id": "c6153090",
   "metadata": {},
   "outputs": [
    {
     "name": "stdout",
     "output_type": "stream",
     "text": [
      "[   5   30  210 1680]\n"
     ]
    }
   ],
   "source": [
    "import numpy as np\n",
    "\n",
    "arr = np.array([5, 6, 7, 8])\n",
    "\n",
    "newarr = np.cumprod(arr)\n",
    "\n",
    "print(newarr)\n"
   ]
  },
  {
   "cell_type": "markdown",
   "id": "760e0836",
   "metadata": {},
   "source": [
    "# Numpy Differences\n",
    "\n",
    "# Differences\n",
    "\n",
    "A discrete difference means subtracting two successive elements.\n",
    "\n",
    "e.g. for [1,2,3,4] the discrete difference would be [2-1, 3-2, 4-3] = [1, 1, 1]\n",
    "\n",
    "to find the discrete difference, use the diff() function."
   ]
  },
  {
   "cell_type": "code",
   "execution_count": 30,
   "id": "4f0f5d83",
   "metadata": {},
   "outputs": [
    {
     "name": "stdout",
     "output_type": "stream",
     "text": [
      "[  5  10 -19]\n"
     ]
    }
   ],
   "source": [
    "# compute discrete difference of the following array:\n",
    "\n",
    "import numpy as np\n",
    "\n",
    "arr = np.array([10,15,25,6])\n",
    "\n",
    "x = np.diff(arr)\n",
    "\n",
    "print(x)"
   ]
  },
  {
   "cell_type": "markdown",
   "id": "649c3061",
   "metadata": {},
   "source": [
    "We can perform this operation repeatedly by giving parameter n.\n",
    "\n",
    "E.g. for [1, 2, 3, 4], the discrete difference with n = 2 would be [2-1, 3-2, 4-3] = [1, 1, 1] , then, since n=2, we will do it once more, with the new result: [1-1, 1-1] = [0, 0]\n"
   ]
  },
  {
   "cell_type": "code",
   "execution_count": 34,
   "id": "c688de5d",
   "metadata": {},
   "outputs": [
    {
     "name": "stdout",
     "output_type": "stream",
     "text": [
      "[ 8 -4]\n"
     ]
    }
   ],
   "source": [
    "# compute discrete difference of the following array twice:\n",
    "\n",
    "import numpy as np\n",
    "\n",
    "arr = np.array([10,16,30,40])\n",
    "\n",
    "new = np.diff(arr, n=2)\n",
    "\n",
    "print(new)"
   ]
  },
  {
   "cell_type": "code",
   "execution_count": 35,
   "id": "40b77920",
   "metadata": {},
   "outputs": [
    {
     "name": "stdout",
     "output_type": "stream",
     "text": [
      "[-12]\n"
     ]
    }
   ],
   "source": [
    "import numpy as np\n",
    "\n",
    "arr = np.array([10,16,30,40])\n",
    "\n",
    "new = np.diff(arr, n=3)\n",
    "\n",
    "print(new)"
   ]
  },
  {
   "cell_type": "markdown",
   "id": "1b5d6acc",
   "metadata": {},
   "source": [
    "# Numpy Lcm Lowest Common Multiple\n",
    "\n",
    "# Finding LCM(Lowest Common Multiple)\n",
    "\n",
    "the Lowest common multiple is the smallest number that is a common multiple of two numbers."
   ]
  },
  {
   "cell_type": "code",
   "execution_count": 36,
   "id": "229c0752",
   "metadata": {},
   "outputs": [
    {
     "name": "stdout",
     "output_type": "stream",
     "text": [
      "12\n"
     ]
    }
   ],
   "source": [
    "# Find the LCM of the following two numbers:\n",
    "\n",
    "import numpy as np\n",
    "\n",
    "num1 = 4\n",
    "num2 = 6\n",
    "\n",
    "x = np.lcm(num1 ,num2)\n",
    "\n",
    "print(x)"
   ]
  },
  {
   "cell_type": "markdown",
   "id": "65dd06dc",
   "metadata": {},
   "source": [
    "# Finding LCM in Arrays\n",
    "To find the Lowest Common Multiple of all values in an array, you can use the reduce() method.\n",
    "\n",
    "The reduce() method will use the ufunc, in this case the lcm() function, on each element, and reduce the array by one dimension."
   ]
  },
  {
   "cell_type": "code",
   "execution_count": 37,
   "id": "cd904176",
   "metadata": {},
   "outputs": [
    {
     "name": "stdout",
     "output_type": "stream",
     "text": [
      "18\n"
     ]
    }
   ],
   "source": [
    "# find the LCM of the values of the following array:\n",
    "\n",
    "import numpy as np\n",
    "\n",
    "arr = np.array([3,6,9])\n",
    "\n",
    "x = np.lcm.reduce(arr)\n",
    "\n",
    "print(x)"
   ]
  },
  {
   "cell_type": "code",
   "execution_count": 38,
   "id": "d5be990d",
   "metadata": {},
   "outputs": [
    {
     "name": "stdout",
     "output_type": "stream",
     "text": [
      "2520\n"
     ]
    }
   ],
   "source": [
    "import numpy as np\n",
    "\n",
    "arr = np.arange(1, 11)\n",
    "\n",
    "x = np.lcm.reduce(arr)\n",
    "\n",
    "print(x)\n"
   ]
  },
  {
   "cell_type": "markdown",
   "id": "0cc2e102",
   "metadata": {},
   "source": [
    "# NumPy GCD Greatest Common Denominator\n",
    "\n",
    "\n",
    "# Finding GCD(Greatest Common Denominator)\n",
    "\n",
    "The GCD (Greatest Common Denominator), also known as HCF (Highest Common factor)  is the biggest number that is a common factor of both of the numbers."
   ]
  },
  {
   "cell_type": "code",
   "execution_count": 40,
   "id": "868e4a20",
   "metadata": {},
   "outputs": [
    {
     "name": "stdout",
     "output_type": "stream",
     "text": [
      "8\n"
     ]
    }
   ],
   "source": [
    "# find the HCF of the following two numbers:\n",
    "\n",
    "import numpy as np\n",
    "\n",
    "num1 = 16 \n",
    "num2 = 24\n",
    "\n",
    "x = np.gcd(num1,num2)\n",
    "\n",
    "print(x)# the output will be 8 because 8 is highest divisior"
   ]
  },
  {
   "cell_type": "markdown",
   "id": "6103b8d2",
   "metadata": {},
   "source": [
    "# finding GCD in Arrays \n",
    "\n",
    "To find the Highest common factor of all values in an array, you can use the reduce() method.\n",
    "\n",
    "The reduce() method will use the ufunc, in this case the gcd() function, on each element, and reduce the array by one dimension."
   ]
  },
  {
   "cell_type": "code",
   "execution_count": 41,
   "id": "580191b8",
   "metadata": {},
   "outputs": [
    {
     "name": "stdout",
     "output_type": "stream",
     "text": [
      "4\n"
     ]
    }
   ],
   "source": [
    "#find the Gcd for all of the numbers in the following array:\n",
    "\n",
    "import numpy as np\n",
    "\n",
    "arr = np.array([20,8,32,36,16])\n",
    "\n",
    "x = np.gcd.reduce(arr)\n",
    "\n",
    "print(x)"
   ]
  },
  {
   "cell_type": "markdown",
   "id": "be4fe332",
   "metadata": {},
   "source": [
    "# Numpy Trigonometric functions\n",
    "\n",
    "# Trigonometric Functions\n",
    "\n",
    "Numpy provides the ufuncs sin(), cos() and tan() that take values in radians and produce the corresponding sin, cos and tan values."
   ]
  },
  {
   "cell_type": "code",
   "execution_count": 49,
   "id": "cb995764",
   "metadata": {},
   "outputs": [
    {
     "name": "stdout",
     "output_type": "stream",
     "text": [
      "1.0\n"
     ]
    }
   ],
   "source": [
    "# Find the value of pI/2\n",
    "\n",
    "import numpy as np\n",
    "\n",
    "x = np.sin(np.pi/2)\n",
    "\n",
    "print(x)"
   ]
  },
  {
   "cell_type": "code",
   "execution_count": 54,
   "id": "ebdf8bad",
   "metadata": {},
   "outputs": [
    {
     "name": "stdout",
     "output_type": "stream",
     "text": [
      "-1.0\n"
     ]
    }
   ],
   "source": [
    "# using cos()\n",
    "\n",
    "import numpy as np\n",
    "\n",
    "x = np.cos(np.pi)\n",
    "\n",
    "print(x)"
   ]
  },
  {
   "cell_type": "code",
   "execution_count": 57,
   "id": "618da2e2",
   "metadata": {},
   "outputs": [
    {
     "name": "stdout",
     "output_type": "stream",
     "text": [
      "0.9999999999999999\n"
     ]
    }
   ],
   "source": [
    "# using tan()\n",
    "\n",
    "import numpy as np\n",
    "\n",
    "x = np.tan(np.pi/4)\n",
    "\n",
    "print(x)"
   ]
  },
  {
   "cell_type": "code",
   "execution_count": 44,
   "id": "d9a5fa0b",
   "metadata": {},
   "outputs": [
    {
     "name": "stdout",
     "output_type": "stream",
     "text": [
      "[1.         0.70710678 0.38268343 0.19509032]\n"
     ]
    }
   ],
   "source": [
    "# find sin values for all of the values in arr:\n",
    "\n",
    "import numpy as np\n",
    "\n",
    "arr = np.array([np.pi/2,np.pi/4,np.pi/8,np.pi/16])\n",
    "\n",
    "x = np.sin(arr)\n",
    "\n",
    "print(x)"
   ]
  },
  {
   "cell_type": "markdown",
   "id": "09c417aa",
   "metadata": {},
   "source": [
    "# Convert Degrees into Radians\n",
    "\n",
    "BY default all of the trigonometric functions take radians as parameters but we can convert radians to degrees and vice versa as well in numpy.\n",
    "\n",
    "__radians values are pi/180 * degree_values__"
   ]
  },
  {
   "cell_type": "code",
   "execution_count": 45,
   "id": "50489a85",
   "metadata": {},
   "outputs": [
    {
     "name": "stdout",
     "output_type": "stream",
     "text": [
      "[1.57079633 3.14159265 4.71238898 6.28318531]\n"
     ]
    }
   ],
   "source": [
    "# convert all of the values in following array arr to radians:\n",
    "\n",
    "import numpy as np\n",
    "\n",
    "arr = np.array([90,180,270,360])\n",
    "\n",
    "x = np.deg2rad(arr)\n",
    "\n",
    "print(x)"
   ]
  },
  {
   "cell_type": "markdown",
   "id": "794ab711",
   "metadata": {},
   "source": [
    "# Radian to Degrees"
   ]
  },
  {
   "cell_type": "code",
   "execution_count": 50,
   "id": "a4cd3ae9",
   "metadata": {},
   "outputs": [
    {
     "name": "stdout",
     "output_type": "stream",
     "text": [
      "[ 90. 180. 270. 360.]\n"
     ]
    }
   ],
   "source": [
    "import numpy as np\n",
    "\n",
    "arr = np.array([np.pi/2, np.pi, 1.5*np.pi, 2*np.pi])\n",
    "\n",
    "x = np.rad2deg(arr)\n",
    "\n",
    "print(x)\n"
   ]
  },
  {
   "cell_type": "markdown",
   "id": "284bbb13",
   "metadata": {},
   "source": [
    "# Finding Angles\n",
    "\n",
    "Finding angles from values of sine, cos, tan . E.g. sin,cos and tan inverse (arcsin, arccos,arctan). \n",
    "\n",
    "Numpy provides ufuncs arcsin(),arccos() and arctan() that produce radian values for corresponding sin, cos and tan values given."
   ]
  },
  {
   "cell_type": "code",
   "execution_count": 51,
   "id": "a22dcb94",
   "metadata": {},
   "outputs": [
    {
     "name": "stdout",
     "output_type": "stream",
     "text": [
      "1.5707963267948966\n"
     ]
    }
   ],
   "source": [
    "#find the angle of 1.0\n",
    "\n",
    "import numpy as np\n",
    "\n",
    "x = np.arcsin(1.0)\n",
    "\n",
    "print(x)"
   ]
  },
  {
   "cell_type": "code",
   "execution_count": 58,
   "id": "264039ad",
   "metadata": {},
   "outputs": [
    {
     "name": "stdout",
     "output_type": "stream",
     "text": [
      "0.0\n"
     ]
    }
   ],
   "source": [
    "import numpy as np\n",
    "\n",
    "x = np.arccos(1.0)\n",
    "\n",
    "print(x)"
   ]
  },
  {
   "cell_type": "code",
   "execution_count": 59,
   "id": "e4dedb5e",
   "metadata": {},
   "outputs": [
    {
     "name": "stdout",
     "output_type": "stream",
     "text": [
      "0.7853981633974483\n"
     ]
    }
   ],
   "source": [
    "import numpy as np\n",
    "\n",
    "x = np.arctan(1.0)\n",
    "\n",
    "print(x)"
   ]
  },
  {
   "cell_type": "markdown",
   "id": "e445d633",
   "metadata": {},
   "source": [
    "# Angles of Each Value in Arrays\n"
   ]
  },
  {
   "cell_type": "code",
   "execution_count": 52,
   "id": "5d0dc34e",
   "metadata": {},
   "outputs": [
    {
     "name": "stdout",
     "output_type": "stream",
     "text": [
      "[ 1.57079633 -1.57079633  0.10016742]\n"
     ]
    }
   ],
   "source": [
    "# find the angle for all of the sine values in the array\n",
    "\n",
    "import numpy as np\n",
    "\n",
    "arr = np.array([1,-1,0.1])\n",
    "\n",
    "x = np.arcsin(arr)\n",
    "\n",
    "print(x)"
   ]
  },
  {
   "cell_type": "markdown",
   "id": "f0ae89e0",
   "metadata": {},
   "source": [
    "# Hypotenues\n",
    "\n",
    "finding hypotenues using pythagoras theorem in Numpy\n",
    "\n",
    "Numpy provides the hypot() function that takes the base and perpendicular values and produces hypotenues based on pythagoras theorem.\n",
    "\n"
   ]
  },
  {
   "cell_type": "code",
   "execution_count": 61,
   "id": "bc958244",
   "metadata": {},
   "outputs": [
    {
     "name": "stdout",
     "output_type": "stream",
     "text": [
      "6.4031242374328485\n"
     ]
    }
   ],
   "source": [
    "# find the hypotenuses for 4 base and 3 perpendicular\n",
    "\n",
    "import numpy as np\n",
    "\n",
    "a = 7\n",
    "b = 9\n",
    "\n",
    "x = np.hypot(a,b)\n",
    "\n",
    "print(x)\n"
   ]
  },
  {
   "cell_type": "markdown",
   "id": "04343348",
   "metadata": {},
   "source": [
    "# Numpy Hyperbolic Functions\n",
    "\n",
    "# Hyperbolic functions\n",
    "\n",
    "Numpy provides the ufuncs sinh(),cosh(), and tanh() that take values in radians and produce the corresponding sinh,cosh, and tanh values.."
   ]
  },
  {
   "cell_type": "code",
   "execution_count": 67,
   "id": "5bb21882",
   "metadata": {},
   "outputs": [
    {
     "name": "stdout",
     "output_type": "stream",
     "text": [
      "2.3012989023072947\n"
     ]
    }
   ],
   "source": [
    "# find sinh value of PI/2\n",
    "\n",
    "import numpy as np\n",
    "\n",
    "x = np.sinh(np.pi/2)\n",
    "\n",
    "print(x)"
   ]
  },
  {
   "cell_type": "code",
   "execution_count": 68,
   "id": "97be395b",
   "metadata": {},
   "outputs": [
    {
     "name": "stdout",
     "output_type": "stream",
     "text": [
      "[2.50917848 1.60028686 1.32460909 1.20397209]\n"
     ]
    }
   ],
   "source": [
    "# find cosh values for all of the values in arr:\n",
    "\n",
    "import numpy as np\n",
    "\n",
    "arr = np.array([np.pi/2,np.pi/3,np.pi/4,np.pi/5])\n",
    "\n",
    "x = np.cosh(arr)\n",
    "\n",
    "print(x)"
   ]
  },
  {
   "cell_type": "markdown",
   "id": "580487fa",
   "metadata": {},
   "source": [
    "# Finding Angles\n",
    "\n",
    "Finding angles from values of hyperbolic sine,cos,tan. e.g. sinh, cosh and tanh inverse (arcsinh, arccosh, archtanh).\n",
    "\n",
    "Numpy provides ufuncs arcsinh(), arccosh() and arctanh() that produce radian values for corresponding sinh, cosh and tanh values given."
   ]
  },
  {
   "cell_type": "code",
   "execution_count": 69,
   "id": "1a9f7400",
   "metadata": {},
   "outputs": [
    {
     "name": "stdout",
     "output_type": "stream",
     "text": [
      "0.881373587019543\n"
     ]
    }
   ],
   "source": [
    "# find the angle of 2.0\n",
    "\n",
    "import numpy as np\n",
    "\n",
    "x = np.arcsinh(1.0)\n",
    "\n",
    "print(x)"
   ]
  },
  {
   "cell_type": "markdown",
   "id": "f3708c3a",
   "metadata": {},
   "source": [
    "# Angles of each value in arrays\n",
    "\n"
   ]
  },
  {
   "cell_type": "code",
   "execution_count": 74,
   "id": "43656ac2",
   "metadata": {},
   "outputs": [
    {
     "name": "stdout",
     "output_type": "stream",
     "text": [
      "[0.10033535 0.20273255 0.54930614]\n"
     ]
    }
   ],
   "source": [
    "# find the angle for all of the tanh values in array:\n",
    "\n",
    "import numpy as np\n",
    "\n",
    "arr = np.array([0.1,0.2,0.5])\n",
    "\n",
    "x = np. arctanh(arr)\n",
    "\n",
    "print(x)"
   ]
  },
  {
   "cell_type": "markdown",
   "id": "dc719fa5",
   "metadata": {},
   "source": [
    "# Numpy set operations \n",
    "\n",
    "# What is a set\n",
    "\n",
    "A set in mathematics is a collection of unique elements.\n",
    "\n",
    "Sets are used for operations involving frequent intersection, union and difference operations.\n",
    "\n",
    "# Create sets in numpy\n",
    "\n",
    "We can use Numpy's unique() method to find unique elements from any array . E.g. create a set array, but remember that the set array should only be 1-D arrays. "
   ]
  },
  {
   "cell_type": "code",
   "execution_count": 75,
   "id": "54929596",
   "metadata": {},
   "outputs": [
    {
     "name": "stdout",
     "output_type": "stream",
     "text": [
      "[11 22 33 44 55]\n"
     ]
    }
   ],
   "source": [
    "# convert following array with repeated elements to a set:\n",
    "\n",
    "import numpy as np\n",
    "\n",
    "arr = np.array([22,22,33,44,55,33,22,11,11,55,])\n",
    "\n",
    "\n",
    "x = np.unique(arr)\n",
    "\n",
    "print(x)"
   ]
  },
  {
   "cell_type": "markdown",
   "id": "8f1ba9cf",
   "metadata": {},
   "source": [
    "# finding Union\n",
    "\n",
    "To find the unique values of two arrays, use the union1d() method."
   ]
  },
  {
   "cell_type": "code",
   "execution_count": 76,
   "id": "67d39ba4",
   "metadata": {},
   "outputs": [
    {
     "name": "stdout",
     "output_type": "stream",
     "text": [
      "[1 2 3 4 5 6]\n"
     ]
    }
   ],
   "source": [
    "# find union of the following two set arrays:\n",
    "\n",
    "import numpy as np\n",
    "\n",
    "arr1 = np.array([1,2,3,4])\n",
    "arr2 = np.array([3,4,5,6])\n",
    "\n",
    "new = np.union1d(arr1,arr2)\n",
    "\n",
    "print(new)"
   ]
  },
  {
   "cell_type": "code",
   "execution_count": 77,
   "id": "ae7e5b00",
   "metadata": {},
   "outputs": [
    {
     "name": "stdout",
     "output_type": "stream",
     "text": [
      "[11 13 14 16 21 31 41 51]\n"
     ]
    }
   ],
   "source": [
    "import numpy as np\n",
    "\n",
    "arr1 = np.array([11,21,31,14])\n",
    "arr2 = np.array([13,41,51,16])\n",
    "\n",
    "new = np.union1d(arr1,arr2)\n",
    "\n",
    "print(new)"
   ]
  },
  {
   "cell_type": "markdown",
   "id": "48374efb",
   "metadata": {},
   "source": [
    "# finding Intersection\n",
    "\n",
    "To find only the values that are present in both arrays,use the intersect1d() method."
   ]
  },
  {
   "cell_type": "code",
   "execution_count": 78,
   "id": "f5c49a21",
   "metadata": {},
   "outputs": [
    {
     "name": "stdout",
     "output_type": "stream",
     "text": [
      "[1 2 3]\n"
     ]
    }
   ],
   "source": [
    "import numpy as np\n",
    "\n",
    "arr1 = np.array([1,2,3,4])\n",
    "arr2 = np.array([2,3,1,5])\n",
    "\n",
    "x = np.intersect1d(arr1,arr2)\n",
    "\n",
    "print(x)"
   ]
  },
  {
   "cell_type": "markdown",
   "id": "ecb9937d",
   "metadata": {},
   "source": [
    "# finding Difference\n",
    "\n",
    "To find only the values in the first set that is not present in the second set, use the setdiff1d() method. "
   ]
  },
  {
   "cell_type": "code",
   "execution_count": 79,
   "id": "9c0ff93a",
   "metadata": {},
   "outputs": [
    {
     "name": "stdout",
     "output_type": "stream",
     "text": [
      "[56 22]\n"
     ]
    }
   ],
   "source": [
    "import numpy as np\n",
    "\n",
    "set1 = np.array([56, 22, 3, 4])\n",
    "set2 = np.array([3, 4, 5, 6])\n",
    "\n",
    "newarr = np.setdiff1d(set1, set2, assume_unique=True)\n",
    "\n",
    "print(newarr)"
   ]
  },
  {
   "cell_type": "markdown",
   "id": "e60faeb2",
   "metadata": {},
   "source": [
    "# finding Symmetric Difference\n",
    "\n",
    "to find only the values that are not present in Both sets, use the setxor1d() method."
   ]
  },
  {
   "cell_type": "code",
   "execution_count": 80,
   "id": "6a3b35de",
   "metadata": {},
   "outputs": [
    {
     "name": "stdout",
     "output_type": "stream",
     "text": [
      "[1 2 5 6]\n"
     ]
    }
   ],
   "source": [
    "# find the symmetric difference of the set1 and set2\n",
    "\n",
    "import numpy as np\n",
    "\n",
    "arr1 = np.array([1,2,3,4])\n",
    "arr2 = np.array([3,4,5,6])\n",
    "\n",
    "x = np.setxor1d(arr1,arr2)\n",
    "\n",
    "print(x)"
   ]
  },
  {
   "cell_type": "code",
   "execution_count": 81,
   "id": "bec9b53a",
   "metadata": {},
   "outputs": [
    {
     "name": "stdout",
     "output_type": "stream",
     "text": [
      "[3 4 5]\n"
     ]
    }
   ],
   "source": [
    "arr = np.array([1,2,3,4,5,6,7])\n",
    "\n",
    "print(arr[2:5])"
   ]
  },
  {
   "cell_type": "markdown",
   "id": "beecc0f6",
   "metadata": {},
   "source": [
    "# pandas Introduction\n",
    "\n",
    "# What is Pandas?\n",
    "\n",
    "pandas is a python library used for working with data sets.\n",
    "\n",
    "It has functions for analyzing, cleaning, exploring , and manipulating data.\n",
    "\n",
    "The name \"pandas\" has a reference to both \"panel Data\", and \"Python Data Analysis\" and was created by Wes Mckinney in 2008.\n",
    "\n",
    "\n",
    "# why use pandas?\n",
    "\n",
    "Pandas allows us to analyze big data and make conclusions based on statistical theories.\n",
    "\n",
    "Pandas can clean messy data sets, and make them readable and relevent.\n",
    "\n",
    "Relevent data is very important in data science.\n",
    "\n",
    "# What can pandas Do?\n",
    "\n",
    "pandas gives you answers about the data. Like:\n",
    "\n",
    "Is there a correlation between two or more columns?\n",
    "\n",
    "what is average value?\n",
    "\n",
    "Max value?\n",
    "\n",
    "min value?\n",
    "\n",
    "Pandas are also able to delete rows that are not relevent, or contains wrong values, like empty or Null values.\n",
    "\n",
    "this is called cleaning the data."
   ]
  },
  {
   "cell_type": "code",
   "execution_count": 82,
   "id": "e22c1385",
   "metadata": {},
   "outputs": [
    {
     "name": "stdout",
     "output_type": "stream",
     "text": [
      "Requirement already satisfied: pandas in c:\\users\\office\\anaconda3\\lib\\site-packages (1.2.4)\n",
      "Requirement already satisfied: pytz>=2017.3 in c:\\users\\office\\anaconda3\\lib\\site-packages (from pandas) (2021.1)\n",
      "Requirement already satisfied: python-dateutil>=2.7.3 in c:\\users\\office\\anaconda3\\lib\\site-packages (from pandas) (2.8.1)\n",
      "Requirement already satisfied: numpy>=1.16.5 in c:\\users\\office\\anaconda3\\lib\\site-packages (from pandas) (1.20.1)\n",
      "Requirement already satisfied: six>=1.5 in c:\\users\\office\\anaconda3\\lib\\site-packages (from python-dateutil>=2.7.3->pandas) (1.15.0)\n",
      "Note: you may need to restart the kernel to use updated packages.\n"
     ]
    }
   ],
   "source": [
    "pip install pandas"
   ]
  },
  {
   "cell_type": "code",
   "execution_count": 84,
   "id": "e46a7387",
   "metadata": {},
   "outputs": [
    {
     "name": "stdout",
     "output_type": "stream",
     "text": [
      "    cars  passings\n",
      "0    BMW         3\n",
      "1  Volvo         7\n",
      "2   Ford         2\n"
     ]
    }
   ],
   "source": [
    "import pandas as pd\n",
    "\n",
    "\n",
    "mydataset = {\n",
    "    \n",
    "    'cars' : [\"BMW\",\"Volvo\",\"Ford\"],\n",
    "    'passings' : [3,7,2]\n",
    "}\n",
    "\n",
    "my_var = pd.DataFrame(mydataset)\n",
    "\n",
    "print(my_var)\n",
    "\n"
   ]
  },
  {
   "cell_type": "markdown",
   "id": "f179f509",
   "metadata": {},
   "source": [
    "# Pandas Series\n",
    "\n",
    "# What is a Series?\n",
    "\n",
    "a pandas series is like a column in a table.\n",
    "\n",
    "it is a one-dimensional array holding data of my age."
   ]
  },
  {
   "cell_type": "code",
   "execution_count": 86,
   "id": "ca56d83f",
   "metadata": {},
   "outputs": [
    {
     "name": "stdout",
     "output_type": "stream",
     "text": [
      "0    1\n",
      "1    2\n",
      "2    3\n",
      "3    4\n",
      "dtype: int64\n"
     ]
    }
   ],
   "source": [
    "import pandas as pd \n",
    "\n",
    "a = [1,2,3,4]\n",
    "\n",
    "print(pd.Series(a))"
   ]
  },
  {
   "cell_type": "code",
   "execution_count": 87,
   "id": "f073c70b",
   "metadata": {},
   "outputs": [
    {
     "name": "stdout",
     "output_type": "stream",
     "text": [
      "0    Elango\n",
      "1    Harish\n",
      "2      Mani\n",
      "3    Sheyam\n",
      "dtype: object\n"
     ]
    }
   ],
   "source": [
    "import pandas as pd\n",
    "\n",
    "a = ['Elango','Harish','Mani','Sheyam']\n",
    "\n",
    "x = pd.Series(a)\n",
    "\n",
    "print(x)"
   ]
  },
  {
   "cell_type": "markdown",
   "id": "2e30c3bd",
   "metadata": {},
   "source": [
    "# Labels \n",
    "\n",
    "If nothing else is specified, the values are labeled with their index number. First value has index 0, second value has  index 1 etc...\n",
    "\n",
    "this lable can be used to access a specified value."
   ]
  },
  {
   "cell_type": "code",
   "execution_count": 88,
   "id": "2dc10e15",
   "metadata": {},
   "outputs": [
    {
     "name": "stdout",
     "output_type": "stream",
     "text": [
      "Elango\n"
     ]
    }
   ],
   "source": [
    "# return the first value of the series:\n",
    "\n",
    "print(x[0])"
   ]
  },
  {
   "cell_type": "markdown",
   "id": "9b6c743f",
   "metadata": {},
   "source": [
    "# Create Labels\n",
    "\n",
    "with the index argument, you can name your own labels."
   ]
  },
  {
   "cell_type": "code",
   "execution_count": 93,
   "id": "4fab9d77",
   "metadata": {},
   "outputs": [
    {
     "name": "stdout",
     "output_type": "stream",
     "text": [
      "x    1\n",
      "y    7\n",
      "z    2\n",
      "dtype: int64\n",
      "2\n"
     ]
    }
   ],
   "source": [
    "# create your own labels:\n",
    "\n",
    "import pandas as pd\n",
    "\n",
    "a = [1,7,2]\n",
    "\n",
    "x = pd.Series(a, index = ['x','y','z'])\n",
    "\n",
    "print(x)\n",
    "\n",
    "print(x['z'])"
   ]
  },
  {
   "cell_type": "markdown",
   "id": "4e98eb19",
   "metadata": {},
   "source": [
    "# Key / value objects as series\n",
    "\n",
    "you can also use a key/value object, like a dictionary, when creating a series."
   ]
  },
  {
   "cell_type": "code",
   "execution_count": 95,
   "id": "300963a2",
   "metadata": {},
   "outputs": [
    {
     "name": "stdout",
     "output_type": "stream",
     "text": [
      "day1    366\n",
      "day2    365\n",
      "day3    364\n",
      "day4    363\n",
      "dtype: int64\n"
     ]
    }
   ],
   "source": [
    "# Create a simple Pandas Series from a dictionary:\n",
    "\n",
    "import pandas as pd \n",
    "\n",
    "x = {\n",
    "    \"day1\": 366,\n",
    "    \"day2\": 365,\n",
    "    \"day3\": 364,\n",
    "    \"day4\": 363\n",
    "}\n",
    "\n",
    "a = pd.Series(x)\n",
    "\n",
    "print(a)\n",
    "\n",
    "# the keys in dictionary becomes the labels."
   ]
  },
  {
   "cell_type": "markdown",
   "id": "2841ce44",
   "metadata": {},
   "source": [
    "to select only some of the items in the dictionary, use the index argument and specify only the items you want to include in the seires."
   ]
  },
  {
   "cell_type": "code",
   "execution_count": 96,
   "id": "b1aff7f6",
   "metadata": {},
   "outputs": [
    {
     "name": "stdout",
     "output_type": "stream",
     "text": [
      "day1    366\n",
      "day3    364\n",
      "dtype: int64\n"
     ]
    }
   ],
   "source": [
    "b = pd.Series(x , index = [\"day1\",\"day3\"])\n",
    "\n",
    "print(b)"
   ]
  },
  {
   "cell_type": "markdown",
   "id": "f0983597",
   "metadata": {},
   "source": [
    "# DataFrames\n",
    "\n",
    "Data sets in pandas are usually multi-dimensional tables, called Dataframes.\n",
    "\n",
    "Series is like a column, a DataFrame is the whole table."
   ]
  },
  {
   "cell_type": "code",
   "execution_count": 100,
   "id": "638e46e1",
   "metadata": {},
   "outputs": [
    {
     "name": "stdout",
     "output_type": "stream",
     "text": [
      "   calories  duration\n",
      "x       420        50\n",
      "y       380        40\n",
      "z       390        45\n"
     ]
    }
   ],
   "source": [
    "import pandas as pd\n",
    "\n",
    "data = {\n",
    "    \"calories\" : [420,380,390],\n",
    "    \"duration\" : [50,40,45]\n",
    "}\n",
    "\n",
    "a = pd.DataFrame(data , index = [\"x\",\"y\",\"z\"] )\n",
    "\n",
    "print(a)"
   ]
  },
  {
   "cell_type": "markdown",
   "id": "07768b43",
   "metadata": {},
   "source": [
    "# Pandas DataFrames\n",
    "\n",
    "# What is a Dataframe?\n",
    "\n",
    "A pandas Dataframe is a 2 dimensional data structure, like a 2 dimensional array, or a table with rows and columns."
   ]
  },
  {
   "cell_type": "code",
   "execution_count": 102,
   "id": "e2cd6dea",
   "metadata": {},
   "outputs": [
    {
     "name": "stdout",
     "output_type": "stream",
     "text": [
      "   calories  duration\n",
      "0       420        50\n",
      "1       380        40\n",
      "2       390        45\n"
     ]
    }
   ],
   "source": [
    "import pandas as pd \n",
    "\n",
    "data = {\n",
    "    \"calories\": [420,380,390],\n",
    "    \"duration\": [50,40,45]\n",
    "}\n",
    "\n",
    "#load data into a Dataframe object:\n",
    "\n",
    "df = pd.DataFrame(data)\n",
    "\n",
    "print(df)"
   ]
  },
  {
   "cell_type": "markdown",
   "id": "f69ebdc8",
   "metadata": {},
   "source": [
    "# Locate Row\n",
    "\n",
    "As you can see from the result above, the dataframe is like a table with rows and columns.\n",
    "\n",
    "pandas use the __loc__ attribute to return one or more specified row(s)"
   ]
  },
  {
   "cell_type": "code",
   "execution_count": 104,
   "id": "5216b1b3",
   "metadata": {},
   "outputs": [
    {
     "name": "stdout",
     "output_type": "stream",
     "text": [
      "calories    420\n",
      "duration     50\n",
      "Name: 0, dtype: int64\n"
     ]
    }
   ],
   "source": [
    "# reaturn to the row index\n",
    "\n",
    "print(df.loc[0])"
   ]
  },
  {
   "cell_type": "code",
   "execution_count": 105,
   "id": "433af407",
   "metadata": {},
   "outputs": [
    {
     "name": "stdout",
     "output_type": "stream",
     "text": [
      "calories    390\n",
      "duration     45\n",
      "Name: 2, dtype: int64\n"
     ]
    }
   ],
   "source": [
    "print(df.loc[2])"
   ]
  },
  {
   "cell_type": "code",
   "execution_count": 107,
   "id": "6ace47ce",
   "metadata": {},
   "outputs": [
    {
     "name": "stdout",
     "output_type": "stream",
     "text": [
      "   calories  duration\n",
      "1       380        40\n",
      "2       390        45\n"
     ]
    }
   ],
   "source": [
    "print(df.loc[[1 ,2]])"
   ]
  },
  {
   "cell_type": "markdown",
   "id": "0392105e",
   "metadata": {},
   "source": [
    "# Named Indexes\n",
    "\n",
    "With the index argument, you can name your own indexes."
   ]
  },
  {
   "cell_type": "code",
   "execution_count": 109,
   "id": "f45cff42",
   "metadata": {},
   "outputs": [
    {
     "name": "stdout",
     "output_type": "stream",
     "text": [
      "      calories  duration\n",
      "day1       420        50\n",
      "day2       380        40\n",
      "day3       390        45\n"
     ]
    }
   ],
   "source": [
    "# Add a list of names to give each row a name:\n",
    "\n",
    "import pandas as pd\n",
    "\n",
    "data = {\n",
    "    \"calories\" : [420,380,390],\n",
    "    \"duration\" : [50,40,45]\n",
    "}\n",
    "\n",
    "df = pd.DataFrame(data, index = [\"day1\",\"day2\",\"day3\"])\n",
    "\n",
    "print(df)"
   ]
  },
  {
   "cell_type": "markdown",
   "id": "45aa1d6c",
   "metadata": {},
   "source": [
    "# Located Named Indexes\n",
    "\n",
    "Use the named index in the loc attribute to return the specified row(s)."
   ]
  },
  {
   "cell_type": "code",
   "execution_count": 110,
   "id": "87e0b87f",
   "metadata": {},
   "outputs": [
    {
     "name": "stdout",
     "output_type": "stream",
     "text": [
      "calories    380\n",
      "duration     40\n",
      "Name: day2, dtype: int64\n"
     ]
    }
   ],
   "source": [
    "#refer to the named index:\n",
    "print(df.loc[\"day2\"])"
   ]
  },
  {
   "cell_type": "markdown",
   "id": "30bcb7cd",
   "metadata": {},
   "source": [
    "# Load files into a Dataframe\n",
    "\n",
    "If your data sets are stored in a file, Pandas can load them into a DataFrame."
   ]
  },
  {
   "cell_type": "code",
   "execution_count": 3,
   "id": "fc6f3dfd",
   "metadata": {},
   "outputs": [
    {
     "data": {
      "text/html": [
       "<div>\n",
       "<style scoped>\n",
       "    .dataframe tbody tr th:only-of-type {\n",
       "        vertical-align: middle;\n",
       "    }\n",
       "\n",
       "    .dataframe tbody tr th {\n",
       "        vertical-align: top;\n",
       "    }\n",
       "\n",
       "    .dataframe thead th {\n",
       "        text-align: right;\n",
       "    }\n",
       "</style>\n",
       "<table border=\"1\" class=\"dataframe\">\n",
       "  <thead>\n",
       "    <tr style=\"text-align: right;\">\n",
       "      <th></th>\n",
       "      <th>Age</th>\n",
       "    </tr>\n",
       "  </thead>\n",
       "  <tbody>\n",
       "    <tr>\n",
       "      <th>0</th>\n",
       "      <td>Under 18</td>\n",
       "    </tr>\n",
       "    <tr>\n",
       "      <th>1</th>\n",
       "      <td>18-24</td>\n",
       "    </tr>\n",
       "    <tr>\n",
       "      <th>2</th>\n",
       "      <td>25-34</td>\n",
       "    </tr>\n",
       "    <tr>\n",
       "      <th>3</th>\n",
       "      <td>35-44</td>\n",
       "    </tr>\n",
       "    <tr>\n",
       "      <th>4</th>\n",
       "      <td>45-54</td>\n",
       "    </tr>\n",
       "    <tr>\n",
       "      <th>5</th>\n",
       "      <td>55-64</td>\n",
       "    </tr>\n",
       "    <tr>\n",
       "      <th>6</th>\n",
       "      <td>65 or Above</td>\n",
       "    </tr>\n",
       "    <tr>\n",
       "      <th>7</th>\n",
       "      <td>Prefer Not to Answer</td>\n",
       "    </tr>\n",
       "  </tbody>\n",
       "</table>\n",
       "</div>"
      ],
      "text/plain": [
       "                    Age\n",
       "0              Under 18\n",
       "1                 18-24\n",
       "2                 25-34\n",
       "3                 35-44\n",
       "4                 45-54\n",
       "5                 55-64\n",
       "6           65 or Above\n",
       "7  Prefer Not to Answer"
      ]
     },
     "execution_count": 3,
     "metadata": {},
     "output_type": "execute_result"
    }
   ],
   "source": [
    "import pandas as pd\n",
    "\n",
    "df = pd.read_csv('age.csv')\n",
    "\n",
    "df"
   ]
  },
  {
   "cell_type": "code",
   "execution_count": 5,
   "id": "29e5be19",
   "metadata": {},
   "outputs": [],
   "source": [
    "rows ,column = df.shape"
   ]
  },
  {
   "cell_type": "code",
   "execution_count": 6,
   "id": "f5d120b4",
   "metadata": {},
   "outputs": [
    {
     "data": {
      "text/plain": [
       "8"
      ]
     },
     "execution_count": 6,
     "metadata": {},
     "output_type": "execute_result"
    }
   ],
   "source": [
    "rows\n"
   ]
  },
  {
   "cell_type": "code",
   "execution_count": 7,
   "id": "633e0000",
   "metadata": {},
   "outputs": [
    {
     "data": {
      "text/plain": [
       "1"
      ]
     },
     "execution_count": 7,
     "metadata": {},
     "output_type": "execute_result"
    }
   ],
   "source": [
    "column"
   ]
  },
  {
   "cell_type": "code",
   "execution_count": 9,
   "id": "85d3b419",
   "metadata": {},
   "outputs": [
    {
     "data": {
      "text/html": [
       "<div>\n",
       "<style scoped>\n",
       "    .dataframe tbody tr th:only-of-type {\n",
       "        vertical-align: middle;\n",
       "    }\n",
       "\n",
       "    .dataframe tbody tr th {\n",
       "        vertical-align: top;\n",
       "    }\n",
       "\n",
       "    .dataframe thead th {\n",
       "        text-align: right;\n",
       "    }\n",
       "</style>\n",
       "<table border=\"1\" class=\"dataframe\">\n",
       "  <thead>\n",
       "    <tr style=\"text-align: right;\">\n",
       "      <th></th>\n",
       "      <th>Age</th>\n",
       "    </tr>\n",
       "  </thead>\n",
       "  <tbody>\n",
       "    <tr>\n",
       "      <th>0</th>\n",
       "      <td>Under 18</td>\n",
       "    </tr>\n",
       "    <tr>\n",
       "      <th>1</th>\n",
       "      <td>18-24</td>\n",
       "    </tr>\n",
       "    <tr>\n",
       "      <th>2</th>\n",
       "      <td>25-34</td>\n",
       "    </tr>\n",
       "  </tbody>\n",
       "</table>\n",
       "</div>"
      ],
      "text/plain": [
       "        Age\n",
       "0  Under 18\n",
       "1     18-24\n",
       "2     25-34"
      ]
     },
     "execution_count": 9,
     "metadata": {},
     "output_type": "execute_result"
    }
   ],
   "source": [
    "df.head(3)"
   ]
  },
  {
   "cell_type": "code",
   "execution_count": 11,
   "id": "0c4204ae",
   "metadata": {},
   "outputs": [
    {
     "data": {
      "text/html": [
       "<div>\n",
       "<style scoped>\n",
       "    .dataframe tbody tr th:only-of-type {\n",
       "        vertical-align: middle;\n",
       "    }\n",
       "\n",
       "    .dataframe tbody tr th {\n",
       "        vertical-align: top;\n",
       "    }\n",
       "\n",
       "    .dataframe thead th {\n",
       "        text-align: right;\n",
       "    }\n",
       "</style>\n",
       "<table border=\"1\" class=\"dataframe\">\n",
       "  <thead>\n",
       "    <tr style=\"text-align: right;\">\n",
       "      <th></th>\n",
       "      <th>Age</th>\n",
       "    </tr>\n",
       "  </thead>\n",
       "  <tbody>\n",
       "    <tr>\n",
       "      <th>6</th>\n",
       "      <td>65 or Above</td>\n",
       "    </tr>\n",
       "    <tr>\n",
       "      <th>7</th>\n",
       "      <td>Prefer Not to Answer</td>\n",
       "    </tr>\n",
       "  </tbody>\n",
       "</table>\n",
       "</div>"
      ],
      "text/plain": [
       "                    Age\n",
       "6           65 or Above\n",
       "7  Prefer Not to Answer"
      ]
     },
     "execution_count": 11,
     "metadata": {},
     "output_type": "execute_result"
    }
   ],
   "source": [
    "df.tail(2)"
   ]
  },
  {
   "cell_type": "code",
   "execution_count": 12,
   "id": "faff1a14",
   "metadata": {},
   "outputs": [
    {
     "data": {
      "text/plain": [
       "Index(['Age'], dtype='object')"
      ]
     },
     "execution_count": 12,
     "metadata": {},
     "output_type": "execute_result"
    }
   ],
   "source": [
    "df.columns"
   ]
  },
  {
   "cell_type": "code",
   "execution_count": 13,
   "id": "7d777b49",
   "metadata": {},
   "outputs": [
    {
     "data": {
      "text/html": [
       "<div>\n",
       "<style scoped>\n",
       "    .dataframe tbody tr th:only-of-type {\n",
       "        vertical-align: middle;\n",
       "    }\n",
       "\n",
       "    .dataframe tbody tr th {\n",
       "        vertical-align: top;\n",
       "    }\n",
       "\n",
       "    .dataframe thead th {\n",
       "        text-align: right;\n",
       "    }\n",
       "</style>\n",
       "<table border=\"1\" class=\"dataframe\">\n",
       "  <thead>\n",
       "    <tr style=\"text-align: right;\">\n",
       "      <th></th>\n",
       "      <th>Age</th>\n",
       "    </tr>\n",
       "  </thead>\n",
       "  <tbody>\n",
       "    <tr>\n",
       "      <th>count</th>\n",
       "      <td>8</td>\n",
       "    </tr>\n",
       "    <tr>\n",
       "      <th>unique</th>\n",
       "      <td>8</td>\n",
       "    </tr>\n",
       "    <tr>\n",
       "      <th>top</th>\n",
       "      <td>Prefer Not to Answer</td>\n",
       "    </tr>\n",
       "    <tr>\n",
       "      <th>freq</th>\n",
       "      <td>1</td>\n",
       "    </tr>\n",
       "  </tbody>\n",
       "</table>\n",
       "</div>"
      ],
      "text/plain": [
       "                         Age\n",
       "count                      8\n",
       "unique                     8\n",
       "top     Prefer Not to Answer\n",
       "freq                       1"
      ]
     },
     "execution_count": 13,
     "metadata": {},
     "output_type": "execute_result"
    }
   ],
   "source": [
    "df.describe()"
   ]
  },
  {
   "cell_type": "code",
   "execution_count": null,
   "id": "72fc5127",
   "metadata": {},
   "outputs": [],
   "source": []
  }
 ],
 "metadata": {
  "kernelspec": {
   "display_name": "Python 3",
   "language": "python",
   "name": "python3"
  },
  "language_info": {
   "codemirror_mode": {
    "name": "ipython",
    "version": 3
   },
   "file_extension": ".py",
   "mimetype": "text/x-python",
   "name": "python",
   "nbconvert_exporter": "python",
   "pygments_lexer": "ipython3",
   "version": "3.8.8"
  }
 },
 "nbformat": 4,
 "nbformat_minor": 5
}
