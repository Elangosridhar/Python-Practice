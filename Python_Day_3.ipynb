{
 "cells": [
  {
   "cell_type": "markdown",
   "id": "c7ff0165",
   "metadata": {},
   "source": [
    "# Loop lists\n",
    "\n",
    "## loop through a list\n",
    "\n",
    "you can loop through for loop"
   ]
  },
  {
   "cell_type": "code",
   "execution_count": 3,
   "id": "7be537cb",
   "metadata": {},
   "outputs": [
    {
     "name": "stdout",
     "output_type": "stream",
     "text": [
      "apple\n",
      "mango\n",
      "orange\n",
      "kiwi\n"
     ]
    }
   ],
   "source": [
    "# loop a list using for loop\n",
    "\n",
    "thislist =[\"apple\",\"mango\",\"orange\",\"kiwi\"]\n",
    "for x in thislist:\n",
    "    print(x)"
   ]
  },
  {
   "cell_type": "markdown",
   "id": "85498f39",
   "metadata": {},
   "source": [
    "\n",
    "# Loop Through the Index Numbers¶\n",
    "You can also loop through the list items by referring to their index number.\n",
    "\n",
    "Use the range() and len() functions to create a suitable iterable."
   ]
  },
  {
   "cell_type": "code",
   "execution_count": 4,
   "id": "5e1b18ce",
   "metadata": {},
   "outputs": [
    {
     "name": "stdout",
     "output_type": "stream",
     "text": [
      "['elang', 'rohit', 'sheyam', 'harish']\n",
      "['elang', 'rohit', 'sheyam', 'harish']\n",
      "['elang', 'rohit', 'sheyam', 'harish']\n",
      "['elang', 'rohit', 'sheyam', 'harish']\n",
      "elang\n",
      "rohit\n",
      "sheyam\n",
      "harish\n"
     ]
    }
   ],
   "source": [
    "# this can loop the whole list when you didnot give index in print the list name\n",
    "thislist = [\"elang\",\"rohit\",\"sheyam\",\"harish\"]\n",
    "for i in range(len(thislist)):\n",
    "    print(thislist)\n",
    "    \n",
    "    \n",
    "    \n",
    "# access the index \n",
    "for i in range(len(thislist)):\n",
    "    print(thislist[i])"
   ]
  },
  {
   "cell_type": "markdown",
   "id": "db493e82",
   "metadata": {},
   "source": [
    "# while loop\n",
    "\n",
    "## You can loop through the list items by using a while loop.\n",
    "\n",
    "Use the len() function to determine the length of the list, then start at 0 and loop your way through the list items by referring to their indexes.\n",
    "\n",
    "Remember to increase the index by 1 after each iteration.\n",
    "\n"
   ]
  },
  {
   "cell_type": "code",
   "execution_count": 5,
   "id": "ddf3e6c7",
   "metadata": {},
   "outputs": [
    {
     "name": "stdout",
     "output_type": "stream",
     "text": [
      "apple\n",
      "banana\n",
      "cherry\n"
     ]
    }
   ],
   "source": [
    "# while loop\n",
    "thislist = [\"apple\", \"banana\", \"cherry\"]\n",
    "i = 0 #we want to give  i then only while knows the i \n",
    "while i < len(thislist):\n",
    "  print(thislist[i])\n",
    "  i = i + 1"
   ]
  },
  {
   "cell_type": "code",
   "execution_count": 14,
   "id": "d9d49bda",
   "metadata": {},
   "outputs": [
    {
     "name": "stdout",
     "output_type": "stream",
     "text": [
      "elang\n",
      "rohit\n",
      "sheyam\n",
      "harish\n"
     ]
    },
    {
     "data": {
      "text/plain": [
       "[None, None, None, None]"
      ]
     },
     "execution_count": 14,
     "metadata": {},
     "output_type": "execute_result"
    }
   ],
   "source": [
    "\n",
    "#short hand for loop that will print all items in list\n",
    "\n",
    "thislist = [\"elang\",\"rohit\",\"sheyam\",\"harish\"]\n",
    "[print(x) for x in thislist]\n",
    "\n",
    "\n",
    "\n"
   ]
  },
  {
   "cell_type": "markdown",
   "id": "6252c46d",
   "metadata": {},
   "source": [
    "# Looping using list comprehension\n",
    "\n",
    "#list comprehension offers the shortest syntax for looping through lists\n",
    "\n",
    "# List comprehension \n",
    "\n",
    "list comprehension \n",
    "\n",
    "list comprehension offers a shorter syntax when you want to create a new list based on the value of an existing list.\n",
    "\n",
    "if you create a list named fruit and you want new list it containg only fruit name which a in the name\n",
    "\n",
    "without list comprehension you will have to write a for statement with a conditional test inside"
   ]
  },
  {
   "cell_type": "code",
   "execution_count": 12,
   "id": "a1c0e567",
   "metadata": {},
   "outputs": [
    {
     "name": "stdout",
     "output_type": "stream",
     "text": [
      "['apple', 'mango', 'orange']\n",
      "kiwi\n"
     ]
    }
   ],
   "source": [
    "fruits = [\"apple\",\"mango\",\"orange\",\"kiwi\"]\n",
    "newlist = []\n",
    "\n",
    "for x in fruits:\n",
    "    if \"a\" in x :\n",
    "        newlist.append(x)\n",
    "        \n",
    "        \n",
    "print(newlist)\n",
    "\n",
    "for y in fruits:\n",
    "    if \"e\" in y:\n",
    "       newlist.append(x)\n",
    "    \n",
    "print(x)"
   ]
  },
  {
   "cell_type": "code",
   "execution_count": 13,
   "id": "0df5d066",
   "metadata": {},
   "outputs": [
    {
     "name": "stdout",
     "output_type": "stream",
     "text": [
      "['elango', 'harish', 'sheyam', 'mani']\n",
      "['elango', 'sheyam']\n"
     ]
    }
   ],
   "source": [
    "#one line of code using list compreshension you can do all that with only one line of code\n",
    "\n",
    "names = [\"elango\",\"harish\",\"sheyam\",\"rohit\",\"mani\"]\n",
    "\n",
    "newlist = [x for x in names if \"a\" in x]\n",
    "\n",
    "print(newlist)\n",
    "\n",
    "oldlist = [ y for y in names if \"e\" in y]\n",
    "print(oldlist)"
   ]
  },
  {
   "cell_type": "markdown",
   "id": "ea617257",
   "metadata": {},
   "source": [
    "# the syntax\n",
    "\n",
    "newlist = [expression for item in iterable if condition == true]\n",
    "\n",
    "this return value is a new list leaving the old list unchanged"
   ]
  },
  {
   "cell_type": "code",
   "execution_count": 26,
   "id": "a6872bd2",
   "metadata": {},
   "outputs": [
    {
     "name": "stdout",
     "output_type": "stream",
     "text": [
      "['mango', 'orange', 'pineapple', 'kiwi', 'watermelon', 'jackfruit']\n",
      "['apple', 'mango', 'orange', 'pineapple', 'kiwi', 'watermelon', 'jackfruit']\n",
      "[0, 1, 2, 3, 4, 5, 6, 7, 8, 9]\n",
      "[5, 6, 7, 8, 9]\n",
      "[0, 1, 2, 3, 4]\n",
      "['APPLE', 'MANGO', 'ORANGE', 'PINEAPPLE', 'KIWI', 'WATERMELON', 'JACKFRUIT']\n",
      "['apple', 'mango', 'orange', 'pineapple', 'kiwi', 'watermelon', 'jackfruit']\n",
      "['carrot', 'mango', 'orange', 'pineapple', 'kiwi', 'watermelon', 'jackfruit']\n"
     ]
    }
   ],
   "source": [
    "fruit = [\"apple\",\"mango\",\"orange\",\"pineapple\",\"kiwi\",\"watermelon\",\"jackfruit\"]\n",
    "\n",
    "# in the fruit to print without apple\n",
    "newlist = [x for x in fruit if x != \"apple\"]\n",
    "print(newlist)# this newlist will print without apple\n",
    "# the condition if x != \"apple\" will return true for all element other than \"apple\",\n",
    "\n",
    "\n",
    "#with no if statement\n",
    "\n",
    "anotherlist = [ y for y in fruit]\n",
    "print(anotherlist)\n",
    "\n",
    "\n",
    "# you can use the range() function to create an iterable:\n",
    "newlist = [x for x in range(10)]# this will print 0 to 9 numbers\n",
    "print(newlist)\n",
    "\n",
    "#accept the number in lower and higher\n",
    "newlist = [x for x in range(10) if x >= 5]# this print 5 and greater than 5\n",
    "oldlist = [x for x in range(10) if x < 5]# this will print lesser than 5\n",
    "print(newlist)\n",
    "print(oldlist)\n",
    "\n",
    "# change the list in upper and lower case\n",
    "newlist = [x.upper() for x in fruit]# this will print upper case  \n",
    "oldlist = [x.lower() for x in fruit]# this will print lower case\n",
    "print(newlist)\n",
    "print(oldlist)\n",
    "\n",
    "\n",
    "#return the one element instead of another element\n",
    "newlist = [x if x != \"apple\" else \"carrot\" for x in fruit ]\n",
    "print(newlist)"
   ]
  },
  {
   "cell_type": "markdown",
   "id": "8c6a6eb9",
   "metadata": {},
   "source": [
    "# sort lists\n",
    "\n",
    "### sort list alphanumerically\n",
    "\n",
    "list objects have a sort() method that will sort the list alphanumerically,asceding,by defalut:\n",
    "\n"
   ]
  },
  {
   "cell_type": "code",
   "execution_count": 28,
   "id": "7f7afc2b",
   "metadata": {},
   "outputs": [
    {
     "name": "stdout",
     "output_type": "stream",
     "text": [
      "['elango', 'harish', 'mani', 'raghul', 'rohit', 'sheyam']\n",
      "[2, 30, 44, 56, 78, 99, 100]\n"
     ]
    }
   ],
   "source": [
    "#sort the list alphabetically:\n",
    "thislist = [\"mani\",\"elango\",\"raghul\",\"harish\",\"sheyam\",\"rohit\"]\n",
    "thislist.sort()\n",
    "print(thislist)\n",
    "\n",
    "#sort the list numerically\n",
    "thislist = [100,44,56,78,99,2,30]\n",
    "thislist.sort()\n",
    "print(thislist)"
   ]
  },
  {
   "cell_type": "markdown",
   "id": "f158d5bc",
   "metadata": {},
   "source": [
    "# sort descending \n",
    "\n",
    "to sort descending, use the keyword argument reverse = True:"
   ]
  },
  {
   "cell_type": "code",
   "execution_count": 32,
   "id": "71089e39",
   "metadata": {},
   "outputs": [
    {
     "name": "stdout",
     "output_type": "stream",
     "text": [
      "['sheyam', 'rohit', 'raghul', 'mani', 'harish', 'elango']\n",
      "[100, 82, 65, 50, 23]\n"
     ]
    }
   ],
   "source": [
    "#sort list descending\n",
    "thislist = [\"mani\",\"elango\",\"raghul\",\"harish\",\"sheyam\",\"rohit\"]\n",
    "thislist.sort(reverse = True )\n",
    "print(thislist)\n",
    "\n",
    "#sort list numerical descending\n",
    "thislist = [100, 50, 65, 82, 23]\n",
    "thislist.sort(reverse = True)\n",
    "print(thislist)\n",
    "\n"
   ]
  },
  {
   "cell_type": "markdown",
   "id": "c6af07e3",
   "metadata": {},
   "source": [
    "# customize sort function\n",
    "\n",
    "you can also customize your own function by using the keyword argument key = function.\n",
    "\n",
    "the function will return a number that will be used to sor the list (the lowest number first)"
   ]
  },
  {
   "cell_type": "code",
   "execution_count": 36,
   "id": "f1ce9ea5",
   "metadata": {},
   "outputs": [
    {
     "name": "stdout",
     "output_type": "stream",
     "text": [
      "[50, 65, 23, 82, 100]\n"
     ]
    }
   ],
   "source": [
    "# sort the list based on how close the number is to 50.\n",
    "\n",
    "def myfun(n):\n",
    "    return abs(n - 50)\n",
    "\n",
    "thislist = [100,50,65,82,23]\n",
    "thislist.sort(key = myfun)\n",
    "print(thislist)\n",
    "\n",
    "#thislist is a list that is sorted by myfunc() function .\n",
    "\n",
    "#100 => abs(100-50) = 50\n",
    "#50 => abs(50-50) =  0\n",
    "#65 => abs(65-50) =  15\n",
    "#82 => abs(82-50) = 32\n",
    "#23 => abs(23-50) =  27\n",
    "\n",
    "#After sort 50,65,23,82,100"
   ]
  },
  {
   "cell_type": "markdown",
   "id": "1cf80d60",
   "metadata": {},
   "source": [
    "# case in senstive sort\n",
    "\n",
    "by default the sort() method is case sensitive resulting in all capital letters being sorted before lower case letters:"
   ]
  },
  {
   "cell_type": "code",
   "execution_count": 38,
   "id": "280b66cb",
   "metadata": {},
   "outputs": [
    {
     "name": "stdout",
     "output_type": "stream",
     "text": [
      "['Ajith', 'Harish', 'Mani', 'elango', 'rohit']\n",
      "['Ajith', 'elango', 'Harish', 'Mani', 'rohit']\n"
     ]
    }
   ],
   "source": [
    "# case sensitive sorting can give unexpected result\n",
    "\n",
    "thislist =[\"elango\",\"Harish\",\"Ajith\",\"rohit\",\"Mani\"]\n",
    "thislist.sort()\n",
    "print(thislist)# this will print unexpected result first upper case names are sort then lower case will be sort\n",
    "\n",
    "\n",
    "#if you want case insensitive sort function use str.lower as key function\n",
    "thislist.sort(key = str.lower)\n",
    "print(thislist)"
   ]
  },
  {
   "cell_type": "markdown",
   "id": "81c564bb",
   "metadata": {},
   "source": [
    "# copy list\n",
    "\n",
    "### copy a list\n",
    "\n",
    "You cannot copy a list simply by typing list2 = list1, because: list2 will only be a reference to list1, and changes made in list1 will automatically also be made in list2.\n",
    "\n",
    "There are ways to make a copy, one way is to use the built-in List method copy()."
   ]
  },
  {
   "cell_type": "code",
   "execution_count": 40,
   "id": "c5c106dd",
   "metadata": {},
   "outputs": [
    {
     "name": "stdout",
     "output_type": "stream",
     "text": [
      "['elango', 'Harish', 'Ajith', 'rohit', 'Mani']\n",
      "['elango', 'Harish', 'Ajith', 'rohit', 'Mani']\n"
     ]
    }
   ],
   "source": [
    "# make a copy of a list using copy() method.\n",
    "thislist =[\"elango\",\"Harish\",\"Ajith\",\"rohit\",\"Mani\"]\n",
    "newlist=thislist.copy()\n",
    "print(newlist)\n",
    "\n",
    "#Another way to make a copy is to use the built in method list().\n",
    "thislist =[\"elango\",\"Harish\",\"Ajith\",\"rohit\",\"Mani\"]\n",
    "newlist=list(thislist)\n",
    "print(newlist)\n",
    "\n",
    "\n"
   ]
  },
  {
   "cell_type": "markdown",
   "id": "609bb6ed",
   "metadata": {},
   "source": [
    "# join lists\n",
    "\n",
    "### join two lists \n",
    "\n",
    "there are several ways to join, or concatenate, two or more lists in python\n",
    "\n",
    "one of the easiest way are by using the + operator.\n",
    "\n"
   ]
  },
  {
   "cell_type": "code",
   "execution_count": 48,
   "id": "f28450f7",
   "metadata": {},
   "outputs": [
    {
     "name": "stdout",
     "output_type": "stream",
     "text": [
      "['elango', 'Harish', 'Ajith', 'rohit', 'Mani', 'sathya', 'raguvaharan', 'abi']\n",
      "['elango', 'Harish', 'Ajith', 'rohit', 'Mani', 'sathya', 'raguvaharan', 'abi']\n",
      "['elango', 'Harish', 'Ajith', 'rohit', 'Mani', 'sathya', 'raguvaharan', 'abi', 'sathya', 'raguvaharan', 'abi']\n"
     ]
    }
   ],
   "source": [
    "# join two list\n",
    "list1 = [\"elango\",\"Harish\",\"Ajith\",\"rohit\",\"Mani\"]\n",
    "list2 = [\"sathya\",\"raguvaharan\",\"abi\"]\n",
    "\n",
    "list3 = list1 + list2\n",
    "print(list3)\n",
    "\n",
    "#another way of join two lists\n",
    "#append list2 into list1\n",
    "\n",
    "for x in list2:\n",
    "    list1.append(x)\n",
    "    \n",
    "print(list1)\n",
    "\n",
    "#you can use extend method also to join lists\n",
    "\n",
    "list1.extend(list2)\n",
    "print(list1)"
   ]
  },
  {
   "cell_type": "markdown",
   "id": "deb52ffc",
   "metadata": {},
   "source": [
    "# tuples in python\n",
    "\n",
    "### tuple\n",
    "\n",
    "tuples are used to store multiple items in a single variable.\n",
    "\n",
    "tuple is one of 4 built-in data in python used to store collection of data, the other 3 are list,set,dictionary\n",
    "\n",
    "a tuple is a collection which is ordered and unchangeable.\n",
    "\n",
    "tuples are written with round brackets."
   ]
  },
  {
   "cell_type": "code",
   "execution_count": 46,
   "id": "9cccca1d",
   "metadata": {},
   "outputs": [
    {
     "name": "stdout",
     "output_type": "stream",
     "text": [
      "('five', 'four', 'six')\n"
     ]
    }
   ],
   "source": [
    "thistuple = (\"five\",\"four\",\"six\")\n",
    "print(thistuple)"
   ]
  },
  {
   "cell_type": "markdown",
   "id": "fb5ce964",
   "metadata": {},
   "source": [
    "# tuple item\n",
    "\n",
    "Tuple items are ordered, unchangeable, and allow duplicate values.\n",
    "\n",
    "Tuple items are indexed, the first item has index [0], the second item has index [1] etc.\n",
    "\n",
    "# Ordered\n",
    "\n",
    "When we say that tuples are ordered, it means that the items have a defined order, and that order will not change.\n",
    "\n",
    "\n",
    "# unchangeable\n",
    "\n",
    "Tuples are unchangeable, meaning that we cannot change, add or remove items after the tuple has been created\n",
    "\n",
    "# allow duplicates\n",
    "\n",
    "Since tuples are indexed, they can have items with the same value\n",
    "\n",
    "\n",
    "\n"
   ]
  },
  {
   "cell_type": "markdown",
   "id": "29bef123",
   "metadata": {},
   "source": [
    "# Update tuple\n",
    "\n",
    "tuples are unchangeable,meaning that you cannot change,add or remove items once the tuple is created.\n",
    "\n",
    "but there are some workaround\n",
    "\n",
    "\n",
    "# change tuple value \n",
    "\n",
    "once tuple can create,you cannot change its value . tuples are unchangeable,or immutable as it also is called.\n",
    "\n",
    "\n",
    "but there is a workaround. you can convert the tuple into a list,change the list,, and convert the list back into a tuple "
   ]
  },
  {
   "cell_type": "code",
   "execution_count": 54,
   "id": "0e21eab5",
   "metadata": {},
   "outputs": [
    {
     "name": "stdout",
     "output_type": "stream",
     "text": [
      "('five', 'four', 'three')\n",
      "('five', 'four', 'three', 'eight')\n",
      "('five', 'four', 'three', 'eight', 'orange')\n"
     ]
    }
   ],
   "source": [
    "x= (\"five\",\"four\",\"six\")\n",
    "\n",
    "y = list(x)\n",
    "y[2] = \"three\"\n",
    "x = tuple(y)\n",
    "print(x)\n",
    "\n",
    "#using append\n",
    "\n",
    "y.append(\"eight\")\n",
    "x = tuple(y)\n",
    "print(x)\n",
    "\n",
    "#add tuple to a tuple\n",
    "y = (\"orange\",)\n",
    "x += y\n",
    "print(x)"
   ]
  },
  {
   "cell_type": "markdown",
   "id": "8dcd6239",
   "metadata": {},
   "source": [
    "# remove items\n",
    "\n",
    "tuples are unchangeable so you cannot remove items from,it but you can use the same workaroung as we used for changing and adding tuple items:\n",
    "\n"
   ]
  },
  {
   "cell_type": "code",
   "execution_count": 58,
   "id": "8918ee77",
   "metadata": {},
   "outputs": [
    {
     "name": "stdout",
     "output_type": "stream",
     "text": [
      "('banana', 'cherry')\n"
     ]
    }
   ],
   "source": [
    "# removing tuple\n",
    "thistuple = (\"apple\", \"banana\", \"cherry\")\n",
    "y = list(thistuple)\n",
    "y.remove(\"apple\")\n",
    "thistuple = tuple(y)\n",
    "print(thistuple)\n",
    "\n",
    "#del keyword can delete tuple completely\n",
    "thistuple = (\"apple\", \"banana\", \"cherry\")\n",
    "del thistuple\n",
    "#print(thistuple) #this will raise an error because the tuple no longer exists"
   ]
  },
  {
   "cell_type": "markdown",
   "id": "d30e6383",
   "metadata": {},
   "source": [
    "# unpack tuples\n",
    "\n",
    "When we create a tuple, we normally assign values to it. This is called \"packing\" a tuple:\n",
    "\n",
    "\n"
   ]
  },
  {
   "cell_type": "code",
   "execution_count": 1,
   "id": "9bd57e8d",
   "metadata": {},
   "outputs": [
    {
     "name": "stdout",
     "output_type": "stream",
     "text": [
      "('apple', 'banana', 'cherry')\n"
     ]
    }
   ],
   "source": [
    "#packing tuples\n",
    "\n",
    "fruits = (\"apple\",\"banana\",\"cherry\")\n",
    "print(fruits)"
   ]
  },
  {
   "cell_type": "code",
   "execution_count": 2,
   "id": "d44bf9e5",
   "metadata": {},
   "outputs": [
    {
     "name": "stdout",
     "output_type": "stream",
     "text": [
      "kiwi\n",
      "mango\n",
      "orange\n",
      "pappaya\n"
     ]
    }
   ],
   "source": [
    "#unpacking a tuple\n",
    "\n",
    "fruits = (\"mango\",\"orange\",\"pappaya\",\"kiwi\")\n",
    "(x,y,z,w) = fruits\n",
    "print(w)\n",
    "print(x)\n",
    "print(y)\n",
    "print(z)"
   ]
  },
  {
   "cell_type": "markdown",
   "id": "adf07ff7",
   "metadata": {},
   "source": [
    "# using Asteriks\n",
    "\n",
    "If the number of variables is less than the number of values, you can add an * to the variable name and the values will be assigned to the variable as a list:"
   ]
  },
  {
   "cell_type": "code",
   "execution_count": 4,
   "id": "64198076",
   "metadata": {},
   "outputs": [
    {
     "name": "stdout",
     "output_type": "stream",
     "text": [
      "mango\n",
      "orange\n",
      "['pappaya', 'kiwi']\n",
      "mango\n",
      "['orange', 'pappaya']\n",
      "kiwi\n"
     ]
    }
   ],
   "source": [
    "#assing the rest of the values as  a list called z using *\n",
    "fruits = (\"mango\",\"orange\",\"pappaya\",\"kiwi\")\n",
    "(x,y,*z) = fruits\n",
    "\n",
    "\n",
    "print(x)\n",
    "print(y)\n",
    "print(z)\n",
    "\n",
    "#assing a values to y\n",
    "\n",
    "(x,*y,z) = fruits\n",
    "\n",
    "\n",
    "print(x)\n",
    "print(y)\n",
    "print(z)\n"
   ]
  },
  {
   "cell_type": "markdown",
   "id": "eff1b818",
   "metadata": {},
   "source": [
    "# loop tuples\n",
    "\n",
    "## Loop Through a Tuple\n",
    "You can loop through the tuple items by using a for loop."
   ]
  },
  {
   "cell_type": "code",
   "execution_count": 5,
   "id": "7ad8e1db",
   "metadata": {},
   "outputs": [
    {
     "name": "stdout",
     "output_type": "stream",
     "text": [
      "apple\n",
      "banana\n",
      "cherry\n",
      "apple\n",
      "banana\n",
      "cherry\n"
     ]
    }
   ],
   "source": [
    "thistuple = (\"apple\", \"banana\", \"cherry\")\n",
    "for x in thistuple:\n",
    "  print(x)\n",
    "\n",
    "#loop through the index numbers\n",
    "#use range() and len()  function to create a suitabl iterable.\n",
    "\n",
    "for i in range(len(thistuple)):\n",
    "  print(thistuple[i])\n"
   ]
  },
  {
   "cell_type": "markdown",
   "id": "cd1014f8",
   "metadata": {},
   "source": [
    "# using while loop\n",
    "\n",
    "You can loop through the tuple items by using a while loop.\n",
    "\n",
    "Use the len() function to determine the length of the tuple, then start at 0 and loop your way through the tuple items by referring to their indexes.\n",
    "\n",
    "Remember to increase the index by 1 after each iteration."
   ]
  },
  {
   "cell_type": "code",
   "execution_count": 6,
   "id": "26ce344f",
   "metadata": {},
   "outputs": [
    {
     "name": "stdout",
     "output_type": "stream",
     "text": [
      "apple\n",
      "banana\n",
      "cherry\n"
     ]
    }
   ],
   "source": [
    "thistuple = (\"apple\", \"banana\", \"cherry\")\n",
    "i = 0\n",
    "while i < len(thistuple):\n",
    "  print(thistuple[i])\n",
    "  i = i + 1"
   ]
  },
  {
   "cell_type": "markdown",
   "id": "a6d3ba1e",
   "metadata": {},
   "source": [
    "# join tuples\n",
    "\n",
    "## join two tuples\n",
    "\n",
    "to join two or more tuples you can use the + operator\n",
    "\n"
   ]
  },
  {
   "cell_type": "code",
   "execution_count": 9,
   "id": "077c210f",
   "metadata": {},
   "outputs": [
    {
     "name": "stdout",
     "output_type": "stream",
     "text": [
      "('a', 'b', 'c', 1, 2, 3)\n",
      "('apple', 'banana', 'cherry', 'apple', 'banana', 'cherry')\n"
     ]
    }
   ],
   "source": [
    "#join two tuples\n",
    "tuple1 = (\"a\", \"b\" , \"c\")\n",
    "tuple2 = (1, 2, 3)\n",
    "\n",
    "\n",
    "tuple3 = tuple1 + tuple2\n",
    "print(tuple3)\n",
    "\n",
    "#multiply tuples\n",
    "#if you want to multiply the content of a tuple a given number of times you can use the * operator:\n",
    "\n",
    "fruits = (\"apple\", \"banana\", \"cherry\")\n",
    "mytuple = fruits * 2\n",
    "\n",
    "print(mytuple)\n"
   ]
  },
  {
   "cell_type": "markdown",
   "id": "a0218e06",
   "metadata": {},
   "source": [
    "# sets\n",
    "\n",
    "sets are used to store multiple items in a single variable.\n",
    "\n",
    "Set is one of 4 built-in data types in Python used to store collections of data, the other 3 are List, Tuple, and Dictionary, all with different qualities and usage.\n",
    "\n",
    "A set is a collection which is unordered, unchangeable*, and unindexed.\n",
    "\n",
    "*set items are unchangeable, but you can remove items and add new items.\n",
    "\n",
    "### sets are written with curly brackets."
   ]
  },
  {
   "cell_type": "code",
   "execution_count": 11,
   "id": "ace8fb96",
   "metadata": {},
   "outputs": [
    {
     "name": "stdout",
     "output_type": "stream",
     "text": [
      "{'cherry', 'apple', 'banana'}\n"
     ]
    }
   ],
   "source": [
    "thisset = {\"apple\", \"banana\", \"cherry\"}\n",
    "print(thisset)\n"
   ]
  },
  {
   "cell_type": "markdown",
   "id": "d7050c1e",
   "metadata": {},
   "source": [
    "# Set Items\n",
    "Set items are unordered, unchangeable, and do not allow duplicate values.\n",
    "\n",
    "# Unordered\n",
    "Unordered means that the items in a set do not have a defined order.\n",
    "\n",
    "Set items can appear in a different order every time you use them, and cannot be referred to by index or key.\n",
    "\n",
    "# Unchangeable\n",
    "Set items are unchangeable, meaning that we cannot change the items after the set has been created.\n",
    "\n",
    "Once a set is created, you cannot change its items, but you can remove items and add new items.\n",
    "\n",
    "# Duplicates Not Allowed\n",
    "Sets cannot have two items with the same value."
   ]
  },
  {
   "cell_type": "code",
   "execution_count": 15,
   "id": "cf28fc7c",
   "metadata": {},
   "outputs": [
    {
     "name": "stdout",
     "output_type": "stream",
     "text": [
      "{'cherry', 'apple', 'banana'}\n",
      "{True, 2, 'apple', 'banana', 'cherry'}\n",
      "{False, True, 'apple', 'banana', 'cherry'}\n",
      "5\n"
     ]
    }
   ],
   "source": [
    "#duplicate value will be ignored\n",
    "\n",
    "thisset = {\"apple\", \"banana\", \"cherry\", \"apple\"}\n",
    "\n",
    "print(thisset)\n",
    "\n",
    "\n",
    "# The values True and 1 are considered the same value in sets, and are treated as duplicates:\n",
    "thisset = {\"apple\", \"banana\", \"cherry\", True, 1, 2}\n",
    "\n",
    "print(thisset)\n",
    "\n",
    "#The values False and 0 are considered the same value in sets, and are treated as duplicates:\n",
    "thisset = {\"apple\", \"banana\", \"cherry\", False, True, 0}\n",
    "\n",
    "print(thisset)\n",
    "\n",
    "#get the length of the set\n",
    "print(len(thisset))\n"
   ]
  },
  {
   "cell_type": "markdown",
   "id": "12bf59fc",
   "metadata": {},
   "source": [
    "# Access set items\n",
    "\n",
    "## Access Items\n",
    "You cannot access items in a set by referring to an index or a key.\n",
    "\n",
    "But you can loop through the set items using a for loop, or ask if a specified value is present in a set, by using the in keyword\n",
    "\n"
   ]
  },
  {
   "cell_type": "code",
   "execution_count": 16,
   "id": "a3902433",
   "metadata": {},
   "outputs": [
    {
     "name": "stdout",
     "output_type": "stream",
     "text": [
      "cherry\n",
      "apple\n",
      "banana\n",
      "True\n"
     ]
    }
   ],
   "source": [
    "#loop through the set and print the values\n",
    "thisset = {\"apple\", \"banana\", \"cherry\"}\n",
    "\n",
    "for x in thisset:\n",
    "  print(x)\n",
    "\n",
    "#to check banana is present\n",
    "print(\"banana\" in thisset)"
   ]
  },
  {
   "cell_type": "markdown",
   "id": "a7b04de4",
   "metadata": {},
   "source": [
    "# Add items\n",
    "\n",
    "once you created a set ,you cannot change its items, but you can add new items.\n",
    "\n",
    "to add one item to set use the add() method"
   ]
  },
  {
   "cell_type": "code",
   "execution_count": 17,
   "id": "8afe8781",
   "metadata": {},
   "outputs": [
    {
     "name": "stdout",
     "output_type": "stream",
     "text": [
      "{'cherry', 'apple', 'orange', 'banana'}\n"
     ]
    }
   ],
   "source": [
    "# add an item to a set using the add() method.\n",
    "thisset = {\"apple\", \"banana\", \"cherry\"}\n",
    "\n",
    "thisset.add(\"orange\")\n",
    "\n",
    "print(thisset)\n"
   ]
  },
  {
   "cell_type": "markdown",
   "id": "e949a230",
   "metadata": {},
   "source": [
    "# Add sets \n",
    "to add items from another set into the current set, use the update() method"
   ]
  },
  {
   "cell_type": "code",
   "execution_count": 18,
   "id": "657e8160",
   "metadata": {},
   "outputs": [
    {
     "name": "stdout",
     "output_type": "stream",
     "text": [
      "{'apple', 'banana', 'pineapple', 'cherry', 'mango', 'papaya'}\n"
     ]
    }
   ],
   "source": [
    "#add elements from tropical into thisset\n",
    "thisset = {\"apple\", \"banana\", \"cherry\"}\n",
    "tropical = {\"pineapple\", \"mango\", \"papaya\"}\n",
    "\n",
    "thisset.update(tropical)\n",
    "\n",
    "print(thisset)"
   ]
  },
  {
   "cell_type": "markdown",
   "id": "08671b4e",
   "metadata": {},
   "source": [
    "# Add Any Iterable\n",
    "The object in the update() method does not have to be a set, it can be any iterable object (tuples, lists, dictionaries etc.)."
   ]
  },
  {
   "cell_type": "code",
   "execution_count": 19,
   "id": "42e8ac1d",
   "metadata": {},
   "outputs": [
    {
     "name": "stdout",
     "output_type": "stream",
     "text": [
      "{'apple', 'orange', 'banana', 'cherry', 'kiwi'}\n",
      "{'apple', 'orange', 'elango', 'banana', 'cherry', 'kiwi'}\n"
     ]
    }
   ],
   "source": [
    "#add set to tuple\n",
    "thisset = {\"apple\", \"banana\", \"cherry\"}\n",
    "mylist = [\"kiwi\", \"orange\"]\n",
    "tuple1 = (\"elango\",)\n",
    "\n",
    "thisset.update(mylist)\n",
    "\n",
    "print(thisset)\n",
    "\n",
    "thisset.update(tuple1)\n",
    "print(thisset)"
   ]
  },
  {
   "cell_type": "markdown",
   "id": "63023d1f",
   "metadata": {},
   "source": [
    "# remove set items\n",
    "\n",
    "## remove item\n",
    "\n",
    "to remove an item in a set, use the remove(), or discard() method."
   ]
  },
  {
   "cell_type": "code",
   "execution_count": 21,
   "id": "6896538a",
   "metadata": {},
   "outputs": [
    {
     "name": "stdout",
     "output_type": "stream",
     "text": [
      "{'cherry', 'apple'}\n",
      "None\n",
      "{'cherry', 'apple'}\n",
      "None\n"
     ]
    }
   ],
   "source": [
    "# remove sets\n",
    "\n",
    "thisset = {\"apple\", \"banana\", \"cherry\"}\n",
    "\n",
    "x = thisset.remove(\"banana\")\n",
    "\n",
    "print(thisset)\n",
    "print(x)\n",
    "\n",
    "\n",
    "#discard set\n",
    "\n",
    "thisset = {\"apple\", \"banana\", \"cherry\"}\n",
    "\n",
    "x = thisset.discard(\"banana\")\n",
    "\n",
    "print(thisset)\n",
    "print(x)\n",
    "\n",
    "\n",
    "\n"
   ]
  },
  {
   "cell_type": "markdown",
   "id": "f3668ea0",
   "metadata": {},
   "source": [
    "### You can also use the pop() method to remove an item, but this method will remove a random item, so you cannot be sure what item that gets removed.\n",
    "\n",
    "The return value of the pop() method is the removed item."
   ]
  },
  {
   "cell_type": "code",
   "execution_count": 22,
   "id": "bba783d3",
   "metadata": {},
   "outputs": [
    {
     "name": "stdout",
     "output_type": "stream",
     "text": [
      "cherry\n",
      "{'apple', 'banana'}\n"
     ]
    }
   ],
   "source": [
    "# removing random item by using the pop() method.\n",
    "\n",
    "thisset = {\"apple\", \"banana\", \"cherry\"}\n",
    "\n",
    "x = thisset.pop()\n",
    "\n",
    "print(x)\n",
    "\n",
    "print(thisset)#Sets are unordered, so when using the pop() method, you do not know which item that gets removed."
   ]
  },
  {
   "cell_type": "code",
   "execution_count": 23,
   "id": "607b4701",
   "metadata": {},
   "outputs": [
    {
     "name": "stdout",
     "output_type": "stream",
     "text": [
      "set()\n"
     ]
    },
    {
     "ename": "NameError",
     "evalue": "name 'thisset' is not defined",
     "output_type": "error",
     "traceback": [
      "\u001b[1;31m---------------------------------------------------------------------------\u001b[0m",
      "\u001b[1;31mNameError\u001b[0m                                 Traceback (most recent call last)",
      "\u001b[1;32m<ipython-input-23-2bcacf05af67>\u001b[0m in \u001b[0;36m<module>\u001b[1;34m\u001b[0m\n\u001b[0;32m     12\u001b[0m \u001b[1;32mdel\u001b[0m \u001b[0mthisset\u001b[0m\u001b[1;33m\u001b[0m\u001b[1;33m\u001b[0m\u001b[0m\n\u001b[0;32m     13\u001b[0m \u001b[1;33m\u001b[0m\u001b[0m\n\u001b[1;32m---> 14\u001b[1;33m \u001b[0mprint\u001b[0m\u001b[1;33m(\u001b[0m\u001b[0mthisset\u001b[0m\u001b[1;33m)\u001b[0m\u001b[1;33m\u001b[0m\u001b[1;33m\u001b[0m\u001b[0m\n\u001b[0m\u001b[0;32m     15\u001b[0m \u001b[1;33m\u001b[0m\u001b[0m\n\u001b[0;32m     16\u001b[0m \u001b[1;33m\u001b[0m\u001b[0m\n",
      "\u001b[1;31mNameError\u001b[0m: name 'thisset' is not defined"
     ]
    }
   ],
   "source": [
    "# clear method this method makes the set empty\n",
    "thisset = {\"apple\", \"banana\", \"cherry\"}\n",
    "\n",
    "thisset.clear()\n",
    "\n",
    "print(thisset)\n",
    "\n",
    "#del keyword will delete the set compelety\n",
    "\n",
    "thisset = {\"apple\", \"banana\", \"cherry\"}\n",
    "\n",
    "del thisset\n",
    "\n",
    "print(thisset)# this will throw an error\n",
    "\n",
    "\n"
   ]
  },
  {
   "cell_type": "markdown",
   "id": "30f801d8",
   "metadata": {},
   "source": [
    "# loop sets\n",
    "\n",
    "### loop items \n",
    "\n",
    "#### you can loop through the set items by using a for loop\n",
    "\n"
   ]
  },
  {
   "cell_type": "code",
   "execution_count": 24,
   "id": "5300c343",
   "metadata": {},
   "outputs": [
    {
     "name": "stdout",
     "output_type": "stream",
     "text": [
      "cherry\n",
      "apple\n",
      "banana\n"
     ]
    }
   ],
   "source": [
    "thisset = {\"apple\", \"banana\", \"cherry\"}\n",
    "\n",
    "for x in thisset:\n",
    "  print(x)# this also print the value in unordered"
   ]
  },
  {
   "cell_type": "markdown",
   "id": "a695babe",
   "metadata": {},
   "source": [
    "# join sets\n",
    "\n",
    "\n",
    "## Join Two Sets\n",
    "There are several ways to join two or more sets in Python.\n",
    "\n",
    "You can use the union() method that returns a new set containing all items from both sets, or the update() method that inserts all the items from one set into another:\n",
    "\n"
   ]
  },
  {
   "cell_type": "code",
   "execution_count": 28,
   "id": "737bc072",
   "metadata": {},
   "outputs": [
    {
     "name": "stdout",
     "output_type": "stream",
     "text": [
      "{1, 2, 3, 5, 'b', 'c'}\n",
      "{1, 2, 3, 'a', 'b', 'c'}\n"
     ]
    }
   ],
   "source": [
    "# the union() method returns a new set with all items from both sets:\n",
    "\n",
    "set1 = {1, \"b\" , \"c\",5}\n",
    "set2 = {1, 2, 3}\n",
    "\n",
    "set3 = set1.union(set2)\n",
    "print(set3)# this will print ordered\n",
    "\n",
    "\n",
    "#The update() method inserts the items in set2 into set1:\n",
    "\n",
    "set1 = {\"a\", \"b\" , \"c\"}\n",
    "set2 = {1, 2, 3}\n",
    "\n",
    "set1.update(set2)\n",
    "print(set1)\n",
    "\n"
   ]
  },
  {
   "cell_type": "markdown",
   "id": "5787ff1d",
   "metadata": {},
   "source": [
    "# keeps only the duplicates in the sets\n",
    "\n",
    "The intersection_update() method will keep only the items that are present in both sets.\n",
    "\n"
   ]
  },
  {
   "cell_type": "code",
   "execution_count": 31,
   "id": "0eb70dc4",
   "metadata": {},
   "outputs": [
    {
     "name": "stdout",
     "output_type": "stream",
     "text": [
      "{'apple'}\n",
      "{'apple'}\n"
     ]
    }
   ],
   "source": [
    "#keep the items that exist in the both set x, and set y\n",
    "x = {\"apple\", \"banana\", \"cherry\"}\n",
    "y = {\"google\", \"microsoft\", \"apple\"}\n",
    "\n",
    "z = x.intersection_update(y)\n",
    "z = x.intersection(y)\n",
    "\n",
    "print(x)\n",
    "print(z)"
   ]
  },
  {
   "cell_type": "markdown",
   "id": "26fa7807",
   "metadata": {},
   "source": [
    "# Keep All, But NOT the Duplicates\n",
    "\n",
    "The symmetric_difference_update() method will keep only the elements that are NOT present in both sets"
   ]
  },
  {
   "cell_type": "code",
   "execution_count": 39,
   "id": "524f3d1c",
   "metadata": {},
   "outputs": [
    {
     "name": "stdout",
     "output_type": "stream",
     "text": [
      "{'microsoft', 'banana', 'google', 'cherry'}\n"
     ]
    }
   ],
   "source": [
    "x = {\"apple\", \"banana\", \"cherry\"}\n",
    "y = {\"google\", \"microsoft\", \"apple\"}\n",
    "\n",
    "x.symmetric_difference_update(y)\n",
    "\n",
    "\n",
    "\n",
    "print(x)\n"
   ]
  },
  {
   "cell_type": "code",
   "execution_count": 36,
   "id": "4774d39c",
   "metadata": {},
   "outputs": [
    {
     "name": "stdout",
     "output_type": "stream",
     "text": [
      "{'google', 'cherry', 'banana', 'microsoft'}\n"
     ]
    }
   ],
   "source": [
    "#symmetric_difference()\n",
    "x = {\"apple\", \"banana\", \"cherry\"}\n",
    "y = {\"google\", \"microsoft\", \"apple\"}\n",
    "\n",
    "z = x.symmetric_difference(y)\n",
    "\n",
    "print(z)"
   ]
  },
  {
   "cell_type": "markdown",
   "id": "ec2f8dcc",
   "metadata": {},
   "source": [
    "# python dictionaries\n",
    "\n",
    "## Dictionary \n",
    "\n",
    "dictionaries are used to store data values in key: value pairs.\n",
    "\n",
    "\n",
    "A dictionary is a collection which is ordered*, changeable and do not allow duplicates,\n",
    "\n",
    "Dictionaries are written with curly brackets, and have keys and values"
   ]
  },
  {
   "cell_type": "code",
   "execution_count": 38,
   "id": "de7c5b42",
   "metadata": {},
   "outputs": [
    {
     "name": "stdout",
     "output_type": "stream",
     "text": [
      "{'brand': 'Ford', 'model': 'Mustang', 'year': 1964}\n"
     ]
    }
   ],
   "source": [
    "#create and print a dictionary\n",
    "\n",
    "thisdict = {\n",
    "  \"brand\": \"Ford\",\n",
    "  \"model\": \"Mustang\",\n",
    "  \"year\": 1964\n",
    "}\n",
    "print(thisdict)"
   ]
  },
  {
   "cell_type": "markdown",
   "id": "d3ac6742",
   "metadata": {},
   "source": [
    "# Dictionary Items\n",
    "Dictionary items are ordered, changeable, and do not allow duplicates.\n",
    "\n",
    "Dictionary items are presented in key:value pairs, and can be referred to by using the key name."
   ]
  },
  {
   "cell_type": "code",
   "execution_count": 40,
   "id": "6f4c23fa",
   "metadata": {},
   "outputs": [
    {
     "name": "stdout",
     "output_type": "stream",
     "text": [
      "Mustang\n"
     ]
    }
   ],
   "source": [
    "# print the values of dictionary using keyword\n",
    "\n",
    "thisdict = {\n",
    "    \"brand\" : \"ford\",\n",
    "    \"model\" : \"Mustang\",\n",
    "    \"year\"  : 1978\n",
    "    \n",
    "}\n",
    "print(thisdict[\"model\"])"
   ]
  },
  {
   "cell_type": "markdown",
   "id": "3cf310c0",
   "metadata": {},
   "source": [
    "# duplicates not allowed\n",
    "\n",
    "dictionaries cannot have two items with the same key:"
   ]
  },
  {
   "cell_type": "code",
   "execution_count": 42,
   "id": "75306eb5",
   "metadata": {},
   "outputs": [
    {
     "name": "stdout",
     "output_type": "stream",
     "text": [
      "{'brand': 'Ford', 'model': 'Mustang', 'year': 2020}\n",
      "3\n"
     ]
    }
   ],
   "source": [
    "thisdict = {\n",
    "  \"brand\": \"Ford\",\n",
    "  \"model\": \"Mustang\",\n",
    "  \"year\": 1964,\n",
    "  \"year\": 2020\n",
    "}\n",
    "print(thisdict)\n",
    "\n",
    "#dictionary length\n",
    "print(len(thisdict))"
   ]
  },
  {
   "cell_type": "code",
   "execution_count": 43,
   "id": "8fda689e",
   "metadata": {},
   "outputs": [
    {
     "name": "stdout",
     "output_type": "stream",
     "text": [
      "{'name': 'John', 'age': 36, 'country': 'Norway'}\n"
     ]
    }
   ],
   "source": [
    "#dict constructor \n",
    "# it is also possible to use the dict() constructor to make dictionary\n",
    "\n",
    "thisdict = dict(name = \"John\", age = 36, country = \"Norway\")\n",
    "print(thisdict)"
   ]
  },
  {
   "cell_type": "markdown",
   "id": "66982e46",
   "metadata": {},
   "source": [
    "# Access Dictionary items\n",
    "\n",
    "## Accessing items \n",
    "\n",
    "you can acces the items of a dictionary by referring to its key name, inside square brackets"
   ]
  },
  {
   "cell_type": "code",
   "execution_count": 48,
   "id": "c316f4d3",
   "metadata": {},
   "outputs": [
    {
     "name": "stdout",
     "output_type": "stream",
     "text": [
      "Mustang\n",
      "Mustang\n",
      "dict_keys(['brand', 'model', 'year'])\n"
     ]
    }
   ],
   "source": [
    "thisdict = {\n",
    "  \"brand\": \"Ford\",\n",
    "  \"model\": \"Mustang\",\n",
    "  \"year\": 1964\n",
    "}\n",
    "x = thisdict[\"model\"]\n",
    "print(x)\n",
    "\n",
    "# there is also a method call get() that will give you the same result\n",
    "\n",
    "x = thisdict.get(\"model\")\n",
    "print(x)\n",
    "\n",
    "# the key() method will return a lis of all keys in the dictionary\n",
    "x = thisdict.keys()\n",
    "print(x)\n",
    "\n",
    "#adding the "
   ]
  },
  {
   "cell_type": "code",
   "execution_count": null,
   "id": "1ec75263",
   "metadata": {},
   "outputs": [],
   "source": []
  },
  {
   "cell_type": "code",
   "execution_count": null,
   "id": "b36ea225",
   "metadata": {},
   "outputs": [],
   "source": []
  }
 ],
 "metadata": {
  "kernelspec": {
   "display_name": "Python 3",
   "language": "python",
   "name": "python3"
  },
  "language_info": {
   "codemirror_mode": {
    "name": "ipython",
    "version": 3
   },
   "file_extension": ".py",
   "mimetype": "text/x-python",
   "name": "python",
   "nbconvert_exporter": "python",
   "pygments_lexer": "ipython3",
   "version": "3.8.8"
  }
 },
 "nbformat": 4,
 "nbformat_minor": 5
}
